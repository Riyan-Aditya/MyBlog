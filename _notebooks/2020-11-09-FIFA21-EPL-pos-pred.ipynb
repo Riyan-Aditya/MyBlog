{
 "cells": [
  {
   "cell_type": "markdown",
   "metadata": {},
   "source": [
    "# \"FIFA21 EPL analysis\"\n",
    "> \"Unsupervised learning - prediction of FIFA21 players' position\"\n",
    "\n",
    "- toc: True\n",
    "- branch: master\n",
    "- badges: true\n",
    "- categories: ['Web scrap', 'Data Viz', 'ML']\n",
    "- hide: false\n",
    "- search_exclude: true\n",
    "- metadata_key1: metadata_value1\n",
    "- metadata_key2: metadata_value2"
   ]
  },
  {
   "cell_type": "markdown",
   "metadata": {},
   "source": [
    "Objective of this notebook:\n",
    "* Apply webscrap by myself\n",
    "* Visualise FIFA21 player data\n",
    "* Unsupervised learning to predict players' position"
   ]
  },
  {
   "cell_type": "markdown",
   "metadata": {},
   "source": [
    "Note book summary:\n",
    "* Create python script (BeautifulSoup) to scrap FIFA21 EPL players data from https://sofifa.com/ \n",
    "* Clean data\n",
    "* Gained information from the data\n",
    "* Simplify position\n",
    "* Train test split via stratified sampling\n",
    "* Predict position => **90% accuracy and F1 score for the test set via SVM**\n",
    "* Midfielders are the position that are hardest to predict"
   ]
  },
  {
   "cell_type": "markdown",
   "metadata": {},
   "source": [
    "Inspired by this analysis from Kaggle: https://www.kaggle.com/younessennadj/fifa19-analytics-predict-position#4.Divide-the-data-to-train-and-test-datasets"
   ]
  },
  {
   "cell_type": "markdown",
   "metadata": {},
   "source": [
    "# Import python module"
   ]
  },
  {
   "cell_type": "code",
   "execution_count": 2,
   "metadata": {
    "ExecuteTime": {
     "end_time": "2020-11-19T07:12:02.647432Z",
     "start_time": "2020-11-19T07:12:02.641449Z"
    },
    "code_folding": [
     0
    ]
   },
   "outputs": [],
   "source": [
    "# collapse\n",
    "import pandas as pd\n",
    "import numpy as np\n",
    "import requests\n",
    "from bs4 import BeautifulSoup as bs\n",
    "\n",
    "import time\n",
    "import re\n",
    "\n",
    "from random import randrange\n",
    "\n",
    "import matplotlib.pyplot as plt\n",
    "%matplotlib inline\n",
    "import seaborn as sns"
   ]
  },
  {
   "cell_type": "markdown",
   "metadata": {},
   "source": [
    "# Webscrap FIFA21 EPL players' stats"
   ]
  },
  {
   "cell_type": "markdown",
   "metadata": {},
   "source": [
    "First, check if you can webscrap. sofifa.com indicate you can webscrap through their robots.txt"
   ]
  },
  {
   "cell_type": "markdown",
   "metadata": {},
   "source": [
    "Webscrap procedure:\n",
    "* Search prem players in Fifa21\n",
    "* Results are stored in table, 60 per page. up to 600\n",
    "* open each pages, grab the link to pages for individual players\n",
    "\n",
    "Note: scrap responsibly. Add a random 2-6 seconds delay in between access to webpages"
   ]
  },
  {
   "cell_type": "markdown",
   "metadata": {},
   "source": [
    "## Grab list of EPL players"
   ]
  },
  {
   "cell_type": "code",
   "execution_count": 3,
   "metadata": {
    "ExecuteTime": {
     "end_time": "2020-11-19T07:12:07.659013Z",
     "start_time": "2020-11-19T07:12:02.648430Z"
    },
    "code_folding": [
     0
    ]
   },
   "outputs": [
    {
     "name": "stdout",
     "output_type": "stream",
     "text": [
      "Page 0 done\n"
     ]
    }
   ],
   "source": [
    "# collapse\n",
    "links = []\n",
    "\n",
    "for x in range(1):\n",
    "    \n",
    "    # make a search and scrap the webpage --------------------------------------------------\n",
    "    base_url = 'https://sofifa.com/players?type=all&lg%5B%5D=13'\n",
    "    \n",
    "    \n",
    "    if x > 0:\n",
    "        add_url ='&offset='+str(x*60)\n",
    "    else:\n",
    "        add_url=''\n",
    "\n",
    "    r = requests.get(base_url+add_url)\n",
    "    \n",
    "    # call the soup function to make the html readable --------------------------------------\n",
    "    webpage = bs(r.content)\n",
    "    table = webpage.find('table')\n",
    "    rows = table.find_all('tr')\n",
    "    \n",
    "    for row in rows[1::]:\n",
    "        link = row.find_all(\"a\",{\"class\":\"tooltip\"})[0]\n",
    "        links.append(link['href'])\n",
    "    \n",
    "    # print progress on scrapping link\n",
    "    print(\"Page\",x,\"done\")\n",
    "    \n",
    "    #Be sure to pause\n",
    "    time.sleep(randrange(2,6))"
   ]
  },
  {
   "cell_type": "markdown",
   "metadata": {},
   "source": [
    "Number of players in EPL:"
   ]
  },
  {
   "cell_type": "code",
   "execution_count": 4,
   "metadata": {
    "ExecuteTime": {
     "end_time": "2020-11-19T07:12:07.674371Z",
     "start_time": "2020-11-19T07:12:07.659013Z"
    },
    "code_folding": [
     0
    ]
   },
   "outputs": [
    {
     "data": {
      "text/plain": [
       "60"
      ]
     },
     "execution_count": 4,
     "metadata": {},
     "output_type": "execute_result"
    }
   ],
   "source": [
    "# collapse\n",
    "len(links)"
   ]
  },
  {
   "cell_type": "markdown",
   "metadata": {},
   "source": [
    "The top 10 players, sorted by overall rating:"
   ]
  },
  {
   "cell_type": "code",
   "execution_count": 5,
   "metadata": {
    "ExecuteTime": {
     "end_time": "2020-11-19T07:12:07.690581Z",
     "start_time": "2020-11-19T07:12:07.676322Z"
    },
    "code_folding": [
     0
    ]
   },
   "outputs": [
    {
     "data": {
      "text/plain": [
       "['/player/192985/kevin-de-bruyne/210012/',\n",
       " '/player/212831/alisson-ramses-becker/210012/',\n",
       " '/player/209331/mohamed-salah/210012/',\n",
       " '/player/208722/sadio-mane/210012/',\n",
       " '/player/203376/virgil-van-dijk/210012/',\n",
       " '/player/153079/sergio-aguero/210012/',\n",
       " '/player/202126/harry-kane/210012/',\n",
       " '/player/215914/ngolo-kante/210012/',\n",
       " '/player/210257/ederson-santana-de-moraes/210012/',\n",
       " '/player/202652/raheem-sterling/210012/']"
      ]
     },
     "execution_count": 5,
     "metadata": {},
     "output_type": "execute_result"
    }
   ],
   "source": [
    "# collapse\n",
    "links[:10]"
   ]
  },
  {
   "cell_type": "markdown",
   "metadata": {},
   "source": [
    "Ok, we have 644 players registered in EPL in the FIFA21 game. That is 32 players per club which is about right"
   ]
  },
  {
   "cell_type": "markdown",
   "metadata": {},
   "source": [
    "## Scrap individual player stats"
   ]
  },
  {
   "cell_type": "markdown",
   "metadata": {},
   "source": [
    "Note: I have scrapped them before using the same function below. For for this demo, I will only scrap the first 10 players"
   ]
  },
  {
   "cell_type": "code",
   "execution_count": 6,
   "metadata": {
    "ExecuteTime": {
     "end_time": "2020-11-19T07:12:07.705581Z",
     "start_time": "2020-11-19T07:12:07.691578Z"
    },
    "code_folding": []
   },
   "outputs": [],
   "source": [
    "links3 = links[:10]"
   ]
  },
  {
   "cell_type": "markdown",
   "metadata": {},
   "source": [
    "Players to scrap (show first 5):"
   ]
  },
  {
   "cell_type": "code",
   "execution_count": 7,
   "metadata": {
    "ExecuteTime": {
     "end_time": "2020-11-19T07:12:07.720500Z",
     "start_time": "2020-11-19T07:12:07.706538Z"
    },
    "code_folding": [
     0
    ]
   },
   "outputs": [
    {
     "data": {
      "text/plain": [
       "['/player/192985/kevin-de-bruyne/210012/',\n",
       " '/player/212831/alisson-ramses-becker/210012/',\n",
       " '/player/209331/mohamed-salah/210012/',\n",
       " '/player/208722/sadio-mane/210012/',\n",
       " '/player/203376/virgil-van-dijk/210012/']"
      ]
     },
     "execution_count": 7,
     "metadata": {},
     "output_type": "execute_result"
    }
   ],
   "source": [
    "# collapse\n",
    "links3[:5]"
   ]
  },
  {
   "cell_type": "markdown",
   "metadata": {},
   "source": [
    "Use function to scrap"
   ]
  },
  {
   "cell_type": "code",
   "execution_count": 8,
   "metadata": {
    "ExecuteTime": {
     "end_time": "2020-11-19T07:12:46.115832Z",
     "start_time": "2020-11-19T07:12:07.722496Z"
    },
    "code_folding": [
     0,
     3,
     6,
     9,
     18,
     26,
     31
    ]
   },
   "outputs": [
    {
     "name": "stdout",
     "output_type": "stream",
     "text": [
      "0\n"
     ]
    }
   ],
   "source": [
    "# collapse\n",
    "list_stats_top10 = []\n",
    "\n",
    "def player_name(weblink):\n",
    "    return weblink.find('h1').text\n",
    "\n",
    "def nat(weblink):\n",
    "    return weblink.find('div',{\"class\":\"meta bp3-text-overflow-ellipsis\"}).a['title']\n",
    "    \n",
    "def dob_wh(weblink):\n",
    "    stuff = weblink.find('div',{\"class\":\"meta bp3-text-overflow-ellipsis\"}).text\n",
    "    temp = stuff.split(\"(\")[1]\n",
    "    dob = temp.split(\")\")[0]\n",
    "    temp2 = temp.split(\")\")[1].split(\" \")\n",
    "    height = temp2[1]\n",
    "    weight = temp2[2]\n",
    "    return dob, height, weight\n",
    "\n",
    "def club_info(weblink):\n",
    "    club = weblink.find(text = re.compile('Player Specialities')).parent.findNext('h5').text\n",
    "    jersey = weblink.find(text = re.compile('Jersey Number')).next\n",
    "    c_valid = weblink.find(text = re.compile('Contract Valid Until')).next\n",
    "    c_value = weblink.find('section',{\"class\":\"card spacing\"}).find(text = re.compile('Value')).previous.previous\n",
    "    wage = weblink.find('section',{\"class\":\"card spacing\"}).find(text = re.compile('Wage')).previous.previous\n",
    "    return club, jersey, c_valid, c_value, wage\n",
    "\n",
    "def player_stats(weblink):\n",
    "    best_pos = weblink.find(text = re.compile('Best Position')).next.text\n",
    "    best_rating = weblink.find(text = re.compile('Best Overall Rating')).next.text\n",
    "    return best_pos, best_rating\n",
    "    \n",
    "def player_stats_detail(weblink):\n",
    "    \n",
    "    # Attacking stats\n",
    "    temp = weblink.find(text = re.compile('Attacking')).parent.parent.find_all(\"li\")\n",
    "    keys = ['Crossing','Finishing','Heading Accuracy','Short Passing','Volleys']\n",
    "    for index,attrs in enumerate(temp):\n",
    "        temp2 = attrs.find_all('span')\n",
    "        stats[keys[index]] = temp2[0].text\n",
    "    \n",
    "    # skill stats\n",
    "    temp = weblink.find(text = re.compile('Attacking')).parent.parent.parent.find_next_sibling(\"div\").find_all(\"li\")\n",
    "    keys = ['Dribbling','Curve','FK Accuracy','Long Passing','Ball Control']\n",
    "    for index,attrs in enumerate(temp):\n",
    "        temp2 = attrs.find_all('span')\n",
    "        stats[keys[index]] = temp2[0].text\n",
    "    \n",
    "    # movement stats\n",
    "    temp = weblink.find(text = re.compile('Movement')).parent.parent.find_all(\"li\")\n",
    "    keys = ['Acceleration','Spring Speed','Agility','Reactions','Balance']\n",
    "    for index,attrs in enumerate(temp):\n",
    "        temp2 = attrs.find_all('span')\n",
    "        stats[keys[index]] = temp2[0].text\n",
    "\n",
    "    # power stats\n",
    "    temp = weblink.find(text = re.compile('Power')).parent.parent.find_all(\"li\")\n",
    "    keys = ['Shot Power','Jumping','Stamina','Strength','Long Shots']\n",
    "    for index,attrs in enumerate(temp):\n",
    "        temp2 = attrs.find_all('span')\n",
    "        stats[keys[index]] = temp2[0].text\n",
    "    \n",
    "    \n",
    "    # mentality stats\n",
    "    temp = weblink.find(text = re.compile('Mentality')).parent.parent.find_all(\"li\")\n",
    "    keys = ['Aggression','Interceptions','Positioning','Vision','Penalties','Composure']\n",
    "    for index,attrs in enumerate(temp):\n",
    "        temp2 = attrs.find_all('span')\n",
    "        stats[keys[index]] = temp2[0].text\n",
    "    \n",
    "    # defending stats\n",
    "    temp = weblink.find(text = re.compile('Defending')).parent.parent.find_all(\"li\")\n",
    "    keys = ['Defensive Awareness','Standing Tackle','Sliding Tackle']\n",
    "    for index,attrs in enumerate(temp):\n",
    "        temp2 = attrs.find_all('span')\n",
    "        stats[keys[index]] = temp2[0].text\n",
    "    \n",
    "    # goalkeeping stats\n",
    "    temp = weblink.find(text = re.compile('Goalkeeping')).parent.parent.find_all(\"li\")\n",
    "    keys = ['GK Diving','GK Handling','GK Kicking','GK Positioning','GK Reflexes']\n",
    "    for index,attrs in enumerate(temp):\n",
    "        temp2 = attrs.find_all('span')\n",
    "        stats[keys[index]] = temp2[0].text\n",
    "    \n",
    "    # traits stats\n",
    "    try:\n",
    "        temp = weblink.find(text = re.compile('Traits')).parent.parent.find_all(\"li\")\n",
    "        for attrs in temp:\n",
    "            if 'Traits' in stats:\n",
    "                stats['Traits'].append(attrs.text)\n",
    "            else:\n",
    "                stats['Traits'] = [attrs.text]\n",
    "    except:\n",
    "        stats['Traits'] = None\n",
    "    \n",
    "for index,link in enumerate(links3):\n",
    "    # make a search and scrap the webpage --------------------------------------------------\n",
    "    base_url = 'https://sofifa.com/'\n",
    "    add_url = link\n",
    "    r = requests.get(base_url+add_url)\n",
    "    weblink = bs(r.content)\n",
    "    \n",
    "    stats={}\n",
    "    \n",
    "    # get player name\n",
    "    name = player_name(weblink)\n",
    "    stats['Player_name'] = name\n",
    "    \n",
    "    # get nationality\n",
    "    nationality = nat(weblink)\n",
    "    stats['Nationality'] = nationality\n",
    "    \n",
    "    # get dob, weight, height\n",
    "    dob, height, weight = dob_wh(weblink)\n",
    "    stats['dob'] = dob\n",
    "    stats['height'] = height\n",
    "    stats['weight'] = weight\n",
    "    \n",
    "    # get club info\n",
    "    club, jersey, c_valid, c_value, wage = club_info(weblink)\n",
    "    stats['club'] = club\n",
    "    stats['jersey'] = jersey\n",
    "    stats['c_valid'] = c_valid\n",
    "    stats['c_value'] = c_value\n",
    "    stats['wage'] = wage\n",
    "    \n",
    "    # add general player stats\n",
    "    pos, rating = player_stats(weblink)\n",
    "    stats['pos'] = pos\n",
    "    stats['rating'] = rating\n",
    "    \n",
    "    # add player stats detail\n",
    "    player_stats_detail(weblink)\n",
    "    \n",
    "    \n",
    "    # print progress --------------------------\n",
    "    list_stats_top10.append(stats)\n",
    "    \n",
    "    if index % 10 ==0:\n",
    "        print(index)\n",
    "    \n",
    "    #Be sure to pause between accessing pages\n",
    "    time.sleep(randrange(2,6))\n",
    "    "
   ]
  },
  {
   "cell_type": "markdown",
   "metadata": {
    "ExecuteTime": {
     "end_time": "2020-11-09T01:38:37.004093Z",
     "start_time": "2020-11-09T01:38:36.987139Z"
    }
   },
   "source": [
    "## Save JSON data of FIFA21 EPL players"
   ]
  },
  {
   "cell_type": "code",
   "execution_count": 9,
   "metadata": {
    "ExecuteTime": {
     "end_time": "2020-11-19T07:12:46.131339Z",
     "start_time": "2020-11-19T07:12:46.123266Z"
    },
    "code_folding": [
     0,
     3,
     7
    ]
   },
   "outputs": [],
   "source": [
    "# collapse\n",
    "import json\n",
    "\n",
    "def save_data(title,data):\n",
    "    with open(title, 'w', encoding ='utf-8') as f:\n",
    "        json.dump(data, f, ensure_ascii=False, indent = 2)\n",
    "    \n",
    "def load_data(title):\n",
    "    with open(title, encoding ='utf-8') as f:\n",
    "        return json.load(f)"
   ]
  },
  {
   "cell_type": "code",
   "execution_count": 10,
   "metadata": {
    "ExecuteTime": {
     "end_time": "2020-11-19T07:12:46.146807Z",
     "start_time": "2020-11-19T07:12:46.132844Z"
    }
   },
   "outputs": [],
   "source": [
    "#save_data('FIFA21_EPL.json', list_stats)\n",
    "#save_data('FIFA21_EPL_top10.json', list_stats_top10)"
   ]
  },
  {
   "cell_type": "markdown",
   "metadata": {},
   "source": [
    "## Load data for later use"
   ]
  },
  {
   "cell_type": "code",
   "execution_count": 13,
   "metadata": {
    "ExecuteTime": {
     "end_time": "2020-11-19T07:14:25.946377Z",
     "start_time": "2020-11-19T07:14:25.919328Z"
    },
    "code_folding": [
     0
    ]
   },
   "outputs": [],
   "source": [
    "# collapse\n",
    "import os\n",
    "os.chdir(\"C:/Users/Riyan Aditya/Desktop/ML_learning/Project6_EPL_20192020\")\n",
    "FIFA21_data = load_data('FIFA21_EPL.json')"
   ]
  },
  {
   "cell_type": "markdown",
   "metadata": {},
   "source": [
    "Lets see the first data, Kevin De Bruyne"
   ]
  },
  {
   "cell_type": "code",
   "execution_count": 14,
   "metadata": {
    "ExecuteTime": {
     "end_time": "2020-11-19T07:14:29.986362Z",
     "start_time": "2020-11-19T07:14:29.968444Z"
    }
   },
   "outputs": [
    {
     "data": {
      "text/plain": [
       "{'Player_name': 'K. De Bruyne',\n",
       " 'Nationality': 'Belgium',\n",
       " 'dob': 'Jun 28, 1991',\n",
       " 'height': '5\\'11\"',\n",
       " 'weight': '154lbs',\n",
       " 'club': 'Manchester City',\n",
       " 'jersey': '17',\n",
       " 'c_valid': '2023',\n",
       " 'c_value': '€129M',\n",
       " 'wage': '€370K',\n",
       " 'pos': 'CAM',\n",
       " 'rating': '91',\n",
       " 'Crossing': '94',\n",
       " 'Finishing': '82',\n",
       " 'Heading Accuracy': '55',\n",
       " 'Short Passing': '94',\n",
       " 'Volleys': '82',\n",
       " 'Dribbling': '88',\n",
       " 'Curve': '85',\n",
       " 'FK Accuracy': '83',\n",
       " 'Long Passing': '93',\n",
       " 'Ball Control': '92',\n",
       " 'Acceleration': '77',\n",
       " 'Spring Speed': '76',\n",
       " 'Agility': '78',\n",
       " 'Reactions': '91',\n",
       " 'Balance': '76',\n",
       " 'Shot Power': '91',\n",
       " 'Jumping': '63',\n",
       " 'Stamina': '89',\n",
       " 'Strength': '74',\n",
       " 'Long Shots': '91',\n",
       " 'Aggression': '76',\n",
       " 'Interceptions': '66',\n",
       " 'Positioning': '88',\n",
       " 'Vision': '94',\n",
       " 'Penalties': '84',\n",
       " 'Composure': '91',\n",
       " 'Defensive Awareness': '68',\n",
       " 'Standing Tackle': '65',\n",
       " 'Sliding Tackle': '53',\n",
       " 'GK Diving': '15',\n",
       " 'GK Handling': '13',\n",
       " 'GK Kicking': '5',\n",
       " 'GK Positioning': '10',\n",
       " 'GK Reflexes': '13',\n",
       " 'Traits': ['Injury Prone',\n",
       "  'Leadership',\n",
       "  'Early Crosser',\n",
       "  'Long Passer (AI)',\n",
       "  'Long Shot Taker (AI)',\n",
       "  'Playmaker (AI)',\n",
       "  'Outside Foot Shot']}"
      ]
     },
     "execution_count": 14,
     "metadata": {},
     "output_type": "execute_result"
    }
   ],
   "source": [
    "FIFA21_data[0]"
   ]
  },
  {
   "cell_type": "markdown",
   "metadata": {},
   "source": [
    "# Data cleaning"
   ]
  },
  {
   "cell_type": "code",
   "execution_count": 15,
   "metadata": {
    "ExecuteTime": {
     "end_time": "2020-11-19T07:14:30.002000Z",
     "start_time": "2020-11-19T07:14:29.987360Z"
    }
   },
   "outputs": [],
   "source": [
    "df = pd.DataFrame(FIFA21_data)"
   ]
  },
  {
   "cell_type": "markdown",
   "metadata": {},
   "source": [
    "Few things to do:\n",
    "* Everything is string. Convert to numeric when needed to be, especially the individual stats\n",
    "* Convert DOB to datetime\n",
    "* Convert height and weight to the SI unit\n",
    "* Convert value and wages to the right unit (eg: no M and no K)\n",
    "* What to do with traits in players? Perhaps ignore for now"
   ]
  },
  {
   "cell_type": "markdown",
   "metadata": {},
   "source": [
    "## Traits"
   ]
  },
  {
   "cell_type": "markdown",
   "metadata": {},
   "source": [
    "First, lets look at the traits\n",
    "* How many unique traits are there?\n",
    "* Proportion of players that have traits?\n",
    "* Is it worth keeping?"
   ]
  },
  {
   "cell_type": "markdown",
   "metadata": {},
   "source": [
    "**Players with no traits**:"
   ]
  },
  {
   "cell_type": "code",
   "execution_count": 16,
   "metadata": {
    "ExecuteTime": {
     "end_time": "2020-11-19T07:14:30.017990Z",
     "start_time": "2020-11-19T07:14:30.002998Z"
    },
    "code_folding": [
     0
    ]
   },
   "outputs": [
    {
     "data": {
      "text/plain": [
       "197"
      ]
     },
     "execution_count": 16,
     "metadata": {},
     "output_type": "execute_result"
    }
   ],
   "source": [
    "# collapse\n",
    "df['Traits'].isnull().values.ravel().sum()"
   ]
  },
  {
   "cell_type": "markdown",
   "metadata": {},
   "source": [
    "199 from 644 players (~30%) do not have any traits"
   ]
  },
  {
   "cell_type": "markdown",
   "metadata": {},
   "source": [
    "Top 5 players that have no traits:"
   ]
  },
  {
   "cell_type": "code",
   "execution_count": 17,
   "metadata": {
    "ExecuteTime": {
     "end_time": "2020-11-19T07:14:30.033956Z",
     "start_time": "2020-11-19T07:14:30.018955Z"
    },
    "code_folding": [
     0
    ]
   },
   "outputs": [
    {
     "data": {
      "text/plain": [
       "6        N. Kanté\n",
       "32          Rodri\n",
       "94     D. Sánchez\n",
       "115      N. Matić\n",
       "124      J. Evans\n",
       "Name: Player_name, dtype: object"
      ]
     },
     "execution_count": 17,
     "metadata": {},
     "output_type": "execute_result"
    }
   ],
   "source": [
    "# collapse\n",
    "df[df['Traits'].isnull()][:5].Player_name"
   ]
  },
  {
   "cell_type": "markdown",
   "metadata": {},
   "source": [
    "Wow. Kante doesnt have any traits? This could be a mistake from Fifa21 database"
   ]
  },
  {
   "cell_type": "markdown",
   "metadata": {},
   "source": [
    "**Unique traits**:"
   ]
  },
  {
   "cell_type": "code",
   "execution_count": 18,
   "metadata": {
    "ExecuteTime": {
     "end_time": "2020-11-19T07:14:30.049873Z",
     "start_time": "2020-11-19T07:14:30.034912Z"
    },
    "code_folding": [
     0
    ]
   },
   "outputs": [
    {
     "data": {
      "text/plain": [
       "array(['Injury Prone', 'Leadership', 'Early Crosser', 'Long Passer (AI)',\n",
       "       'Long Shot Taker (AI)', 'Playmaker (AI)', 'Outside Foot Shot',\n",
       "       'GK Long Throw', 'Rushes Out Of Goal', 'Finesse Shot',\n",
       "       'Speed Dribbler (AI)', 'Chip Shot (AI)', 'Flair', 'Solid Player',\n",
       "       'Power Header', None, 'Comes For Crosses', 'Team Player',\n",
       "       'Dives Into Tackles (AI)', 'Technical Dribbler (AI)',\n",
       "       'Cautious With Crosses', 'Saves with Feet', 'Long Throw-in',\n",
       "       'Power Free-Kick', 'Giant Throw-in', nan], dtype=object)"
      ]
     },
     "execution_count": 18,
     "metadata": {},
     "output_type": "execute_result"
    }
   ],
   "source": [
    "# collapse\n",
    "df.Traits.explode().unique() "
   ]
  },
  {
   "cell_type": "code",
   "execution_count": 19,
   "metadata": {
    "ExecuteTime": {
     "end_time": "2020-11-19T07:14:30.065829Z",
     "start_time": "2020-11-19T07:14:30.050869Z"
    },
    "code_folding": [
     0
    ]
   },
   "outputs": [
    {
     "name": "stdout",
     "output_type": "stream",
     "text": [
      "number of unique traits : 26\n"
     ]
    }
   ],
   "source": [
    "# collapse\n",
    "print(\"number of unique traits :\",len(df.Traits.explode().unique()))"
   ]
  },
  {
   "cell_type": "markdown",
   "metadata": {},
   "source": [
    "26 unique traits. Probably too long if I expand the column similar to how a OHE works"
   ]
  },
  {
   "cell_type": "markdown",
   "metadata": {},
   "source": [
    "**Is it worth keeping?**"
   ]
  },
  {
   "cell_type": "markdown",
   "metadata": {},
   "source": [
    "Probably not. Remove them for now"
   ]
  },
  {
   "cell_type": "code",
   "execution_count": 20,
   "metadata": {
    "ExecuteTime": {
     "end_time": "2020-11-19T07:14:30.081786Z",
     "start_time": "2020-11-19T07:14:30.066827Z"
    },
    "code_folding": [
     0
    ]
   },
   "outputs": [],
   "source": [
    "# collapse\n",
    "df2 = df.copy()\n",
    "df2 = df2.drop(labels='Traits', axis=1)"
   ]
  },
  {
   "cell_type": "code",
   "execution_count": 21,
   "metadata": {
    "ExecuteTime": {
     "end_time": "2020-11-19T07:14:30.097744Z",
     "start_time": "2020-11-19T07:14:30.083781Z"
    },
    "code_folding": [
     0
    ]
   },
   "outputs": [
    {
     "data": {
      "text/plain": [
       "Index(['Player_name', 'Nationality', 'dob', 'height', 'weight', 'club',\n",
       "       'jersey', 'c_valid', 'c_value', 'wage', 'pos', 'rating', 'Crossing',\n",
       "       'Finishing', 'Heading Accuracy', 'Short Passing', 'Volleys',\n",
       "       'Dribbling', 'Curve', 'FK Accuracy', 'Long Passing', 'Ball Control',\n",
       "       'Acceleration', 'Spring Speed', 'Agility', 'Reactions', 'Balance',\n",
       "       'Shot Power', 'Jumping', 'Stamina', 'Strength', 'Long Shots',\n",
       "       'Aggression', 'Interceptions', 'Positioning', 'Vision', 'Penalties',\n",
       "       'Composure', 'Defensive Awareness', 'Standing Tackle', 'Sliding Tackle',\n",
       "       'GK Diving', 'GK Handling', 'GK Kicking', 'GK Positioning',\n",
       "       'GK Reflexes'],\n",
       "      dtype='object')"
      ]
     },
     "execution_count": 21,
     "metadata": {},
     "output_type": "execute_result"
    }
   ],
   "source": [
    "# collapse\n",
    "df2.columns"
   ]
  },
  {
   "cell_type": "code",
   "execution_count": 22,
   "metadata": {
    "ExecuteTime": {
     "end_time": "2020-11-19T07:14:30.112917Z",
     "start_time": "2020-11-19T07:14:30.098741Z"
    },
    "code_folding": [
     0
    ]
   },
   "outputs": [],
   "source": [
    "# collapse\n",
    "# fix mistake with column name\n",
    "df2.rename(columns={'Spring Speed':'Sprint Speed'}, inplace=True)"
   ]
  },
  {
   "cell_type": "markdown",
   "metadata": {},
   "source": [
    "## Convert to numeric"
   ]
  },
  {
   "cell_type": "markdown",
   "metadata": {},
   "source": [
    "*DOB to datetime*"
   ]
  },
  {
   "cell_type": "code",
   "execution_count": 23,
   "metadata": {
    "ExecuteTime": {
     "end_time": "2020-11-19T07:14:30.190709Z",
     "start_time": "2020-11-19T07:14:30.113915Z"
    },
    "code_folding": [
     0
    ]
   },
   "outputs": [],
   "source": [
    "# collapse\n",
    "df2['dob'] = pd.to_datetime(df2['dob'])"
   ]
  },
  {
   "cell_type": "code",
   "execution_count": 24,
   "metadata": {
    "ExecuteTime": {
     "end_time": "2020-11-19T07:14:30.205702Z",
     "start_time": "2020-11-19T07:14:30.191706Z"
    }
   },
   "outputs": [
    {
     "data": {
      "text/plain": [
       "dtype('<M8[ns]')"
      ]
     },
     "execution_count": 24,
     "metadata": {},
     "output_type": "execute_result"
    }
   ],
   "source": [
    "df2.dob.dtype"
   ]
  },
  {
   "cell_type": "markdown",
   "metadata": {},
   "source": [
    "*Height to numeric & SI*"
   ]
  },
  {
   "cell_type": "code",
   "execution_count": 25,
   "metadata": {
    "ExecuteTime": {
     "end_time": "2020-11-19T07:14:30.221627Z",
     "start_time": "2020-11-19T07:14:30.206667Z"
    },
    "code_folding": [
     0
    ]
   },
   "outputs": [],
   "source": [
    "# collapse\n",
    "def height_conversion(ht):\n",
    "    # current format is x'x\"\n",
    "    ht2 = ht.split(\"'\")\n",
    "    ft = float(ht2[0])\n",
    "    inc = float(ht2[1].replace(\"\\\"\",\"\"))   # \" is a special character\n",
    "    return round(((12*ft)+inc)*2.54,0)\n",
    "\n",
    "df2['height'] = df2['height'].apply(lambda x:height_conversion(x))"
   ]
  },
  {
   "cell_type": "code",
   "execution_count": 26,
   "metadata": {
    "ExecuteTime": {
     "end_time": "2020-11-19T07:14:30.237584Z",
     "start_time": "2020-11-19T07:14:30.222623Z"
    },
    "code_folding": [
     0
    ]
   },
   "outputs": [
    {
     "data": {
      "text/plain": [
       "dtype('float64')"
      ]
     },
     "execution_count": 26,
     "metadata": {},
     "output_type": "execute_result"
    }
   ],
   "source": [
    "# collapse\n",
    "df2.height.dtype"
   ]
  },
  {
   "cell_type": "markdown",
   "metadata": {},
   "source": [
    "*Weight to numeric & SI*"
   ]
  },
  {
   "cell_type": "code",
   "execution_count": 27,
   "metadata": {
    "ExecuteTime": {
     "end_time": "2020-11-19T07:14:30.253541Z",
     "start_time": "2020-11-19T07:14:30.238581Z"
    },
    "code_folding": [
     0
    ]
   },
   "outputs": [],
   "source": [
    "# collapse\n",
    "def weight_conversion(wt):\n",
    "    # current format is xxxlbs\n",
    "    wt2 = wt.split('lbs')\n",
    "    return round(float(wt2[0])*0.453592,0)\n",
    "\n",
    "df2['weight'] = df2['weight'].apply(lambda x:weight_conversion(x))"
   ]
  },
  {
   "cell_type": "code",
   "execution_count": 28,
   "metadata": {
    "ExecuteTime": {
     "end_time": "2020-11-19T07:14:30.269498Z",
     "start_time": "2020-11-19T07:14:30.254539Z"
    },
    "code_folding": []
   },
   "outputs": [
    {
     "data": {
      "text/plain": [
       "dtype('float64')"
      ]
     },
     "execution_count": 28,
     "metadata": {},
     "output_type": "execute_result"
    }
   ],
   "source": [
    "# collapse\n",
    "df2.weight.dtype"
   ]
  },
  {
   "cell_type": "markdown",
   "metadata": {},
   "source": [
    "*Contract value and wage to numeric*"
   ]
  },
  {
   "cell_type": "code",
   "execution_count": 29,
   "metadata": {
    "ExecuteTime": {
     "end_time": "2020-11-19T07:14:30.284780Z",
     "start_time": "2020-11-19T07:14:30.270496Z"
    },
    "code_folding": [
     0
    ]
   },
   "outputs": [],
   "source": [
    "# collapse\n",
    "value_dict = {\"K\":1000, \"M\":1000000 }\n",
    "\n",
    "def money_conversion(money):\n",
    "    # current format is €xxxxK\n",
    "    money = money.replace('€','')\n",
    "    \n",
    "    if money[-1] in value_dict:\n",
    "        num, values = money[:-1], money[-1]\n",
    "        return (float(num)* value_dict[values])\n",
    "\n",
    "df2['c_value'] = df2['c_value'].apply(lambda x:money_conversion(x))\n",
    "df2['wage'] = df2['wage'].apply(lambda x:money_conversion(x))"
   ]
  },
  {
   "cell_type": "code",
   "execution_count": 30,
   "metadata": {
    "ExecuteTime": {
     "end_time": "2020-11-19T07:14:30.300738Z",
     "start_time": "2020-11-19T07:14:30.285778Z"
    },
    "code_folding": [
     0
    ]
   },
   "outputs": [
    {
     "data": {
      "text/plain": [
       "(dtype('float64'), dtype('float64'))"
      ]
     },
     "execution_count": 30,
     "metadata": {},
     "output_type": "execute_result"
    }
   ],
   "source": [
    "# collapse\n",
    "df2.c_value.dtype,  df2.wage.dtype"
   ]
  },
  {
   "cell_type": "markdown",
   "metadata": {},
   "source": [
    "*Convert jersey, rating and individual stats attributes to numeric*"
   ]
  },
  {
   "cell_type": "code",
   "execution_count": 31,
   "metadata": {
    "ExecuteTime": {
     "end_time": "2020-11-19T07:14:30.331655Z",
     "start_time": "2020-11-19T07:14:30.301735Z"
    },
    "code_folding": [
     0
    ]
   },
   "outputs": [],
   "source": [
    "# collapse\n",
    "df2['jersey'] = pd.to_numeric(df2['jersey'], errors='coerce')\n",
    "df2['rating'] = pd.to_numeric(df2['rating'], errors='coerce')\n",
    "\n",
    "for col in  df2.columns[12::]:\n",
    "    df2[col] = pd.to_numeric(df2[col], errors='coerce')"
   ]
  },
  {
   "cell_type": "code",
   "execution_count": 32,
   "metadata": {
    "ExecuteTime": {
     "end_time": "2020-11-19T07:14:30.347612Z",
     "start_time": "2020-11-19T07:14:30.332652Z"
    }
   },
   "outputs": [],
   "source": [
    "# collapse\n",
    "df3 = df2.copy()"
   ]
  },
  {
   "cell_type": "markdown",
   "metadata": {},
   "source": [
    "# Top players of Fifa21 "
   ]
  },
  {
   "cell_type": "markdown",
   "metadata": {},
   "source": [
    "**Top rated players from each club**"
   ]
  },
  {
   "cell_type": "markdown",
   "metadata": {},
   "source": [
    "Note that there can be multiple top rated players per club"
   ]
  },
  {
   "cell_type": "code",
   "execution_count": 33,
   "metadata": {
    "ExecuteTime": {
     "end_time": "2020-11-19T07:14:30.378531Z",
     "start_time": "2020-11-19T07:14:30.348609Z"
    },
    "code_folding": [
     0
    ]
   },
   "outputs": [
    {
     "data": {
      "text/html": [
       "<div>\n",
       "<style scoped>\n",
       "    .dataframe tbody tr th:only-of-type {\n",
       "        vertical-align: middle;\n",
       "    }\n",
       "\n",
       "    .dataframe tbody tr th {\n",
       "        vertical-align: top;\n",
       "    }\n",
       "\n",
       "    .dataframe thead th {\n",
       "        text-align: right;\n",
       "    }\n",
       "</style>\n",
       "<table border=\"1\" class=\"dataframe\">\n",
       "  <thead>\n",
       "    <tr style=\"text-align: right;\">\n",
       "      <th></th>\n",
       "      <th>club</th>\n",
       "      <th>Player_name</th>\n",
       "      <th>pos</th>\n",
       "      <th>rating</th>\n",
       "    </tr>\n",
       "  </thead>\n",
       "  <tbody>\n",
       "    <tr>\n",
       "      <td>11</td>\n",
       "      <td>Arsenal</td>\n",
       "      <td>P. Aubameyang</td>\n",
       "      <td>ST</td>\n",
       "      <td>87</td>\n",
       "    </tr>\n",
       "    <tr>\n",
       "      <td>105</td>\n",
       "      <td>Aston Villa</td>\n",
       "      <td>J. Grealish</td>\n",
       "      <td>CAM</td>\n",
       "      <td>83</td>\n",
       "    </tr>\n",
       "    <tr>\n",
       "      <td>194</td>\n",
       "      <td>Brighton &amp; Hove Albion</td>\n",
       "      <td>L. Trossard</td>\n",
       "      <td>CAM</td>\n",
       "      <td>80</td>\n",
       "    </tr>\n",
       "    <tr>\n",
       "      <td>129</td>\n",
       "      <td>Brighton &amp; Hove Albion</td>\n",
       "      <td>M. Ryan</td>\n",
       "      <td>GK</td>\n",
       "      <td>80</td>\n",
       "    </tr>\n",
       "    <tr>\n",
       "      <td>193</td>\n",
       "      <td>Brighton &amp; Hove Albion</td>\n",
       "      <td>L. Dunk</td>\n",
       "      <td>CB</td>\n",
       "      <td>80</td>\n",
       "    </tr>\n",
       "    <tr>\n",
       "      <td>77</td>\n",
       "      <td>Burnley</td>\n",
       "      <td>N. Pope</td>\n",
       "      <td>GK</td>\n",
       "      <td>82</td>\n",
       "    </tr>\n",
       "    <tr>\n",
       "      <td>6</td>\n",
       "      <td>Chelsea</td>\n",
       "      <td>N. Kanté</td>\n",
       "      <td>CDM</td>\n",
       "      <td>88</td>\n",
       "    </tr>\n",
       "    <tr>\n",
       "      <td>63</td>\n",
       "      <td>Crystal Palace</td>\n",
       "      <td>W. Zaha</td>\n",
       "      <td>CF</td>\n",
       "      <td>83</td>\n",
       "    </tr>\n",
       "    <tr>\n",
       "      <td>51</td>\n",
       "      <td>Everton</td>\n",
       "      <td>Allan</td>\n",
       "      <td>CDM</td>\n",
       "      <td>85</td>\n",
       "    </tr>\n",
       "    <tr>\n",
       "      <td>76</td>\n",
       "      <td>Fulham</td>\n",
       "      <td>A. Areola</td>\n",
       "      <td>GK</td>\n",
       "      <td>82</td>\n",
       "    </tr>\n",
       "    <tr>\n",
       "      <td>84</td>\n",
       "      <td>Leeds United</td>\n",
       "      <td>Raphinha</td>\n",
       "      <td>LM</td>\n",
       "      <td>82</td>\n",
       "    </tr>\n",
       "    <tr>\n",
       "      <td>68</td>\n",
       "      <td>Leeds United</td>\n",
       "      <td>Rodrigo</td>\n",
       "      <td>ST</td>\n",
       "      <td>82</td>\n",
       "    </tr>\n",
       "    <tr>\n",
       "      <td>20</td>\n",
       "      <td>Leicester City</td>\n",
       "      <td>J. Vardy</td>\n",
       "      <td>ST</td>\n",
       "      <td>87</td>\n",
       "    </tr>\n",
       "    <tr>\n",
       "      <td>45</td>\n",
       "      <td>Leicester City</td>\n",
       "      <td>W. Ndidi</td>\n",
       "      <td>CB</td>\n",
       "      <td>87</td>\n",
       "    </tr>\n",
       "    <tr>\n",
       "      <td>1</td>\n",
       "      <td>Liverpool</td>\n",
       "      <td>Alisson</td>\n",
       "      <td>GK</td>\n",
       "      <td>90</td>\n",
       "    </tr>\n",
       "    <tr>\n",
       "      <td>2</td>\n",
       "      <td>Liverpool</td>\n",
       "      <td>M. Salah</td>\n",
       "      <td>RW</td>\n",
       "      <td>90</td>\n",
       "    </tr>\n",
       "    <tr>\n",
       "      <td>3</td>\n",
       "      <td>Liverpool</td>\n",
       "      <td>S. Mané</td>\n",
       "      <td>LW</td>\n",
       "      <td>90</td>\n",
       "    </tr>\n",
       "    <tr>\n",
       "      <td>4</td>\n",
       "      <td>Liverpool</td>\n",
       "      <td>V. van Dijk</td>\n",
       "      <td>CB</td>\n",
       "      <td>90</td>\n",
       "    </tr>\n",
       "    <tr>\n",
       "      <td>0</td>\n",
       "      <td>Manchester City</td>\n",
       "      <td>K. De Bruyne</td>\n",
       "      <td>CAM</td>\n",
       "      <td>91</td>\n",
       "    </tr>\n",
       "    <tr>\n",
       "      <td>18</td>\n",
       "      <td>Manchester United</td>\n",
       "      <td>Bruno Fernandes</td>\n",
       "      <td>CAM</td>\n",
       "      <td>88</td>\n",
       "    </tr>\n",
       "    <tr>\n",
       "      <td>59</td>\n",
       "      <td>Newcastle United</td>\n",
       "      <td>M. Dúbravka</td>\n",
       "      <td>GK</td>\n",
       "      <td>83</td>\n",
       "    </tr>\n",
       "    <tr>\n",
       "      <td>156</td>\n",
       "      <td>Sheffield United</td>\n",
       "      <td>S. Berge</td>\n",
       "      <td>CDM</td>\n",
       "      <td>80</td>\n",
       "    </tr>\n",
       "    <tr>\n",
       "      <td>187</td>\n",
       "      <td>Sheffield United</td>\n",
       "      <td>J. Egan</td>\n",
       "      <td>CB</td>\n",
       "      <td>80</td>\n",
       "    </tr>\n",
       "    <tr>\n",
       "      <td>189</td>\n",
       "      <td>Sheffield United</td>\n",
       "      <td>J. O'Connell</td>\n",
       "      <td>CB</td>\n",
       "      <td>80</td>\n",
       "    </tr>\n",
       "    <tr>\n",
       "      <td>92</td>\n",
       "      <td>Southampton</td>\n",
       "      <td>D. Ings</td>\n",
       "      <td>ST</td>\n",
       "      <td>81</td>\n",
       "    </tr>\n",
       "    <tr>\n",
       "      <td>145</td>\n",
       "      <td>Southampton</td>\n",
       "      <td>J. Ward-Prowse</td>\n",
       "      <td>CM</td>\n",
       "      <td>81</td>\n",
       "    </tr>\n",
       "    <tr>\n",
       "      <td>10</td>\n",
       "      <td>Tottenham Hotspur</td>\n",
       "      <td>H. Kane</td>\n",
       "      <td>ST</td>\n",
       "      <td>88</td>\n",
       "    </tr>\n",
       "    <tr>\n",
       "      <td>9</td>\n",
       "      <td>Tottenham Hotspur</td>\n",
       "      <td>H. Son</td>\n",
       "      <td>LM</td>\n",
       "      <td>88</td>\n",
       "    </tr>\n",
       "    <tr>\n",
       "      <td>153</td>\n",
       "      <td>West Bromwich Albion</td>\n",
       "      <td>B. Ivanović</td>\n",
       "      <td>CB</td>\n",
       "      <td>79</td>\n",
       "    </tr>\n",
       "    <tr>\n",
       "      <td>96</td>\n",
       "      <td>West Ham United</td>\n",
       "      <td>T. Souček</td>\n",
       "      <td>CDM</td>\n",
       "      <td>82</td>\n",
       "    </tr>\n",
       "    <tr>\n",
       "      <td>97</td>\n",
       "      <td>West Ham United</td>\n",
       "      <td>S. Haller</td>\n",
       "      <td>ST</td>\n",
       "      <td>82</td>\n",
       "    </tr>\n",
       "    <tr>\n",
       "      <td>47</td>\n",
       "      <td>Wolverhampton Wanderers</td>\n",
       "      <td>R. Jiménez</td>\n",
       "      <td>ST</td>\n",
       "      <td>84</td>\n",
       "    </tr>\n",
       "    <tr>\n",
       "      <td>46</td>\n",
       "      <td>Wolverhampton Wanderers</td>\n",
       "      <td>Rui Patrício</td>\n",
       "      <td>GK</td>\n",
       "      <td>84</td>\n",
       "    </tr>\n",
       "  </tbody>\n",
       "</table>\n",
       "</div>"
      ],
      "text/plain": [
       "                        club      Player_name  pos  rating\n",
       "11                   Arsenal    P. Aubameyang   ST      87\n",
       "105              Aston Villa      J. Grealish  CAM      83\n",
       "194   Brighton & Hove Albion      L. Trossard  CAM      80\n",
       "129   Brighton & Hove Albion          M. Ryan   GK      80\n",
       "193   Brighton & Hove Albion          L. Dunk   CB      80\n",
       "77                   Burnley          N. Pope   GK      82\n",
       "6                    Chelsea         N. Kanté  CDM      88\n",
       "63            Crystal Palace          W. Zaha   CF      83\n",
       "51                   Everton            Allan  CDM      85\n",
       "76                    Fulham        A. Areola   GK      82\n",
       "84              Leeds United         Raphinha   LM      82\n",
       "68              Leeds United          Rodrigo   ST      82\n",
       "20            Leicester City         J. Vardy   ST      87\n",
       "45            Leicester City         W. Ndidi   CB      87\n",
       "1                  Liverpool          Alisson   GK      90\n",
       "2                  Liverpool         M. Salah   RW      90\n",
       "3                  Liverpool          S. Mané   LW      90\n",
       "4                  Liverpool      V. van Dijk   CB      90\n",
       "0            Manchester City     K. De Bruyne  CAM      91\n",
       "18         Manchester United  Bruno Fernandes  CAM      88\n",
       "59          Newcastle United      M. Dúbravka   GK      83\n",
       "156         Sheffield United         S. Berge  CDM      80\n",
       "187         Sheffield United          J. Egan   CB      80\n",
       "189         Sheffield United     J. O'Connell   CB      80\n",
       "92               Southampton          D. Ings   ST      81\n",
       "145              Southampton   J. Ward-Prowse   CM      81\n",
       "10         Tottenham Hotspur          H. Kane   ST      88\n",
       "9          Tottenham Hotspur           H. Son   LM      88\n",
       "153     West Bromwich Albion      B. Ivanović   CB      79\n",
       "96           West Ham United        T. Souček  CDM      82\n",
       "97           West Ham United        S. Haller   ST      82\n",
       "47   Wolverhampton Wanderers       R. Jiménez   ST      84\n",
       "46   Wolverhampton Wanderers     Rui Patrício   GK      84"
      ]
     },
     "execution_count": 33,
     "metadata": {},
     "output_type": "execute_result"
    }
   ],
   "source": [
    "# collapse\n",
    "idx = df3.groupby(['club'])['rating'].transform(max) == df3['rating']\n",
    "top_rated = df3[idx][['club','Player_name','pos','rating']]\n",
    "top_rated.sort_values('club')"
   ]
  },
  {
   "cell_type": "markdown",
   "metadata": {},
   "source": [
    "**Top rated players per pos**"
   ]
  },
  {
   "cell_type": "markdown",
   "metadata": {},
   "source": [
    "These positions are based on what FIFA21 recommend as \"Best Position\""
   ]
  },
  {
   "cell_type": "code",
   "execution_count": 34,
   "metadata": {
    "ExecuteTime": {
     "end_time": "2020-11-19T07:14:30.393496Z",
     "start_time": "2020-11-19T07:14:30.379527Z"
    },
    "code_folding": [
     0
    ]
   },
   "outputs": [
    {
     "data": {
      "text/html": [
       "<div>\n",
       "<style scoped>\n",
       "    .dataframe tbody tr th:only-of-type {\n",
       "        vertical-align: middle;\n",
       "    }\n",
       "\n",
       "    .dataframe tbody tr th {\n",
       "        vertical-align: top;\n",
       "    }\n",
       "\n",
       "    .dataframe thead th {\n",
       "        text-align: right;\n",
       "    }\n",
       "</style>\n",
       "<table border=\"1\" class=\"dataframe\">\n",
       "  <thead>\n",
       "    <tr style=\"text-align: right;\">\n",
       "      <th></th>\n",
       "      <th>pos</th>\n",
       "      <th>club</th>\n",
       "      <th>Player_name</th>\n",
       "      <th>rating</th>\n",
       "    </tr>\n",
       "  </thead>\n",
       "  <tbody>\n",
       "    <tr>\n",
       "      <td>1</td>\n",
       "      <td>GK</td>\n",
       "      <td>Liverpool</td>\n",
       "      <td>Alisson</td>\n",
       "      <td>90</td>\n",
       "    </tr>\n",
       "    <tr>\n",
       "      <td>4</td>\n",
       "      <td>CB</td>\n",
       "      <td>Liverpool</td>\n",
       "      <td>V. van Dijk</td>\n",
       "      <td>90</td>\n",
       "    </tr>\n",
       "    <tr>\n",
       "      <td>13</td>\n",
       "      <td>LB</td>\n",
       "      <td>Liverpool</td>\n",
       "      <td>A. Robertson</td>\n",
       "      <td>87</td>\n",
       "    </tr>\n",
       "    <tr>\n",
       "      <td>12</td>\n",
       "      <td>RB</td>\n",
       "      <td>Liverpool</td>\n",
       "      <td>T. Alexander-Arnold</td>\n",
       "      <td>87</td>\n",
       "    </tr>\n",
       "    <tr>\n",
       "      <td>89</td>\n",
       "      <td>LWB</td>\n",
       "      <td>Manchester City</td>\n",
       "      <td>B. Mendy</td>\n",
       "      <td>82</td>\n",
       "    </tr>\n",
       "    <tr>\n",
       "      <td>54</td>\n",
       "      <td>RWB</td>\n",
       "      <td>Manchester City</td>\n",
       "      <td>João Cancelo</td>\n",
       "      <td>84</td>\n",
       "    </tr>\n",
       "    <tr>\n",
       "      <td>6</td>\n",
       "      <td>CDM</td>\n",
       "      <td>Chelsea</td>\n",
       "      <td>N. Kanté</td>\n",
       "      <td>88</td>\n",
       "    </tr>\n",
       "    <tr>\n",
       "      <td>23</td>\n",
       "      <td>CM</td>\n",
       "      <td>Manchester United</td>\n",
       "      <td>P. Pogba</td>\n",
       "      <td>86</td>\n",
       "    </tr>\n",
       "    <tr>\n",
       "      <td>50</td>\n",
       "      <td>CM</td>\n",
       "      <td>Chelsea</td>\n",
       "      <td>M. Kovačić</td>\n",
       "      <td>86</td>\n",
       "    </tr>\n",
       "    <tr>\n",
       "      <td>0</td>\n",
       "      <td>CAM</td>\n",
       "      <td>Manchester City</td>\n",
       "      <td>K. De Bruyne</td>\n",
       "      <td>91</td>\n",
       "    </tr>\n",
       "    <tr>\n",
       "      <td>34</td>\n",
       "      <td>RM</td>\n",
       "      <td>Manchester United</td>\n",
       "      <td>M. Rashford</td>\n",
       "      <td>86</td>\n",
       "    </tr>\n",
       "    <tr>\n",
       "      <td>9</td>\n",
       "      <td>LM</td>\n",
       "      <td>Tottenham Hotspur</td>\n",
       "      <td>H. Son</td>\n",
       "      <td>88</td>\n",
       "    </tr>\n",
       "    <tr>\n",
       "      <td>2</td>\n",
       "      <td>RW</td>\n",
       "      <td>Liverpool</td>\n",
       "      <td>M. Salah</td>\n",
       "      <td>90</td>\n",
       "    </tr>\n",
       "    <tr>\n",
       "      <td>3</td>\n",
       "      <td>LW</td>\n",
       "      <td>Liverpool</td>\n",
       "      <td>S. Mané</td>\n",
       "      <td>90</td>\n",
       "    </tr>\n",
       "    <tr>\n",
       "      <td>15</td>\n",
       "      <td>CF</td>\n",
       "      <td>Liverpool</td>\n",
       "      <td>Roberto Firmino</td>\n",
       "      <td>87</td>\n",
       "    </tr>\n",
       "    <tr>\n",
       "      <td>5</td>\n",
       "      <td>ST</td>\n",
       "      <td>Manchester City</td>\n",
       "      <td>S. Agüero</td>\n",
       "      <td>89</td>\n",
       "    </tr>\n",
       "  </tbody>\n",
       "</table>\n",
       "</div>"
      ],
      "text/plain": [
       "    pos               club          Player_name  rating\n",
       "1    GK          Liverpool              Alisson      90\n",
       "4    CB          Liverpool          V. van Dijk      90\n",
       "13   LB          Liverpool         A. Robertson      87\n",
       "12   RB          Liverpool  T. Alexander-Arnold      87\n",
       "89  LWB    Manchester City             B. Mendy      82\n",
       "54  RWB    Manchester City         João Cancelo      84\n",
       "6   CDM            Chelsea             N. Kanté      88\n",
       "23   CM  Manchester United             P. Pogba      86\n",
       "50   CM            Chelsea           M. Kovačić      86\n",
       "0   CAM    Manchester City         K. De Bruyne      91\n",
       "34   RM  Manchester United          M. Rashford      86\n",
       "9    LM  Tottenham Hotspur               H. Son      88\n",
       "2    RW          Liverpool             M. Salah      90\n",
       "3    LW          Liverpool              S. Mané      90\n",
       "15   CF          Liverpool      Roberto Firmino      87\n",
       "5    ST    Manchester City            S. Agüero      89"
      ]
     },
     "execution_count": 34,
     "metadata": {},
     "output_type": "execute_result"
    }
   ],
   "source": [
    "# collapse\n",
    "idx = df3.groupby(['pos'])['rating'].transform(max) == df3['rating']\n",
    "top_rated = df3[idx][['pos','club','Player_name','rating']]\n",
    "\n",
    "# create custom sort so this makes positional sense\n",
    "custom_dict = {'GK':0, 'CB':1, 'LB':2, 'RB':3, 'LWB':4, 'RWB':5, 'CDM':6, 'CM':7, 'CAM':8, 'RM':9, 'LM':10,\n",
    "              'RW':11, 'LW':12, 'CF':13, 'ST':14}\n",
    "top_rated['rank'] = top_rated['pos'].map(custom_dict)\n",
    "top_pos = top_rated.sort_values('rank')\n",
    "top_pos.drop(labels=['rank'], axis=1)"
   ]
  },
  {
   "cell_type": "markdown",
   "metadata": {},
   "source": [
    "Some weird result here. Right forward maybe, but I would not put Rasford as a Right milfielder"
   ]
  },
  {
   "cell_type": "markdown",
   "metadata": {},
   "source": [
    "**Top rated players per original country**"
   ]
  },
  {
   "cell_type": "markdown",
   "metadata": {},
   "source": [
    "Unique nationalities of Prem players"
   ]
  },
  {
   "cell_type": "code",
   "execution_count": 35,
   "metadata": {
    "ExecuteTime": {
     "end_time": "2020-11-19T07:14:30.409446Z",
     "start_time": "2020-11-19T07:14:30.394487Z"
    },
    "code_folding": [
     0
    ]
   },
   "outputs": [
    {
     "data": {
      "text/plain": [
       "(60,)"
      ]
     },
     "execution_count": 35,
     "metadata": {},
     "output_type": "execute_result"
    }
   ],
   "source": [
    "# Collapse\n",
    "df3.Nationality.unique().shape"
   ]
  },
  {
   "cell_type": "markdown",
   "metadata": {},
   "source": [
    "List of top players per nationality of origin:"
   ]
  },
  {
   "cell_type": "code",
   "execution_count": 36,
   "metadata": {
    "ExecuteTime": {
     "end_time": "2020-11-19T07:14:30.425404Z",
     "start_time": "2020-11-19T07:14:30.412439Z"
    },
    "code_folding": [
     0
    ]
   },
   "outputs": [
    {
     "data": {
      "text/html": [
       "<div>\n",
       "<style scoped>\n",
       "    .dataframe tbody tr th:only-of-type {\n",
       "        vertical-align: middle;\n",
       "    }\n",
       "\n",
       "    .dataframe tbody tr th {\n",
       "        vertical-align: top;\n",
       "    }\n",
       "\n",
       "    .dataframe thead th {\n",
       "        text-align: right;\n",
       "    }\n",
       "</style>\n",
       "<table border=\"1\" class=\"dataframe\">\n",
       "  <thead>\n",
       "    <tr style=\"text-align: right;\">\n",
       "      <th></th>\n",
       "      <th>Nationality</th>\n",
       "      <th>club</th>\n",
       "      <th>Player_name</th>\n",
       "      <th>pos</th>\n",
       "      <th>rating</th>\n",
       "    </tr>\n",
       "  </thead>\n",
       "  <tbody>\n",
       "    <tr>\n",
       "      <td>33</td>\n",
       "      <td>Algeria</td>\n",
       "      <td>Manchester City</td>\n",
       "      <td>R. Mahrez</td>\n",
       "      <td>RW</td>\n",
       "      <td>85</td>\n",
       "    </tr>\n",
       "    <tr>\n",
       "      <td>5</td>\n",
       "      <td>Argentina</td>\n",
       "      <td>Manchester City</td>\n",
       "      <td>S. Agüero</td>\n",
       "      <td>ST</td>\n",
       "      <td>89</td>\n",
       "    </tr>\n",
       "    <tr>\n",
       "      <td>129</td>\n",
       "      <td>Australia</td>\n",
       "      <td>Brighton &amp; Hove Albion</td>\n",
       "      <td>M. Ryan</td>\n",
       "      <td>GK</td>\n",
       "      <td>80</td>\n",
       "    </tr>\n",
       "    <tr>\n",
       "      <td>390</td>\n",
       "      <td>Austria</td>\n",
       "      <td>Leicester City</td>\n",
       "      <td>C. Fuchs</td>\n",
       "      <td>CDM</td>\n",
       "      <td>74</td>\n",
       "    </tr>\n",
       "    <tr>\n",
       "      <td>0</td>\n",
       "      <td>Belgium</td>\n",
       "      <td>Manchester City</td>\n",
       "      <td>K. De Bruyne</td>\n",
       "      <td>CAM</td>\n",
       "      <td>91</td>\n",
       "    </tr>\n",
       "    <tr>\n",
       "      <td>...</td>\n",
       "      <td>...</td>\n",
       "      <td>...</td>\n",
       "      <td>...</td>\n",
       "      <td>...</td>\n",
       "      <td>...</td>\n",
       "    </tr>\n",
       "    <tr>\n",
       "      <td>112</td>\n",
       "      <td>Ukraine</td>\n",
       "      <td>Manchester City</td>\n",
       "      <td>O. Zinchenko</td>\n",
       "      <td>CM</td>\n",
       "      <td>81</td>\n",
       "    </tr>\n",
       "    <tr>\n",
       "      <td>80</td>\n",
       "      <td>United States</td>\n",
       "      <td>Chelsea</td>\n",
       "      <td>C. Pulisic</td>\n",
       "      <td>CAM</td>\n",
       "      <td>82</td>\n",
       "    </tr>\n",
       "    <tr>\n",
       "      <td>43</td>\n",
       "      <td>Uruguay</td>\n",
       "      <td>Manchester United</td>\n",
       "      <td>E. Cavani</td>\n",
       "      <td>ST</td>\n",
       "      <td>84</td>\n",
       "    </tr>\n",
       "    <tr>\n",
       "      <td>60</td>\n",
       "      <td>Wales</td>\n",
       "      <td>Tottenham Hotspur</td>\n",
       "      <td>G. Bale</td>\n",
       "      <td>RW</td>\n",
       "      <td>83</td>\n",
       "    </tr>\n",
       "    <tr>\n",
       "      <td>297</td>\n",
       "      <td>Zimbabwe</td>\n",
       "      <td>Aston Villa</td>\n",
       "      <td>M. Nakamba</td>\n",
       "      <td>CDM</td>\n",
       "      <td>76</td>\n",
       "    </tr>\n",
       "  </tbody>\n",
       "</table>\n",
       "<p>64 rows × 5 columns</p>\n",
       "</div>"
      ],
      "text/plain": [
       "       Nationality                    club   Player_name  pos  rating\n",
       "33         Algeria         Manchester City     R. Mahrez   RW      85\n",
       "5        Argentina         Manchester City     S. Agüero   ST      89\n",
       "129      Australia  Brighton & Hove Albion       M. Ryan   GK      80\n",
       "390        Austria          Leicester City      C. Fuchs  CDM      74\n",
       "0          Belgium         Manchester City  K. De Bruyne  CAM      91\n",
       "..             ...                     ...           ...  ...     ...\n",
       "112        Ukraine         Manchester City  O. Zinchenko   CM      81\n",
       "80   United States                 Chelsea    C. Pulisic  CAM      82\n",
       "43         Uruguay       Manchester United     E. Cavani   ST      84\n",
       "60           Wales       Tottenham Hotspur       G. Bale   RW      83\n",
       "297       Zimbabwe             Aston Villa    M. Nakamba  CDM      76\n",
       "\n",
       "[64 rows x 5 columns]"
      ]
     },
     "execution_count": 36,
     "metadata": {},
     "output_type": "execute_result"
    }
   ],
   "source": [
    "# collapse\n",
    "idx = df3.groupby(['Nationality'])['rating'].transform(max) == df3['rating']\n",
    "top_rated = df3[idx][['Nationality','club','Player_name','pos','rating']]\n",
    "top_rated.sort_values('Nationality')"
   ]
  },
  {
   "cell_type": "markdown",
   "metadata": {},
   "source": [
    "**Top player based on some stats**"
   ]
  },
  {
   "cell_type": "markdown",
   "metadata": {},
   "source": [
    "Best crosser"
   ]
  },
  {
   "cell_type": "code",
   "execution_count": 37,
   "metadata": {
    "ExecuteTime": {
     "end_time": "2020-11-19T07:14:30.441362Z",
     "start_time": "2020-11-19T07:14:30.427399Z"
    },
    "code_folding": [
     0
    ]
   },
   "outputs": [
    {
     "data": {
      "text/plain": [
       "Player_name       K. De Bruyne\n",
       "club           Manchester City\n",
       "pos                        CAM\n",
       "Crossing                    94\n",
       "Name: 0, dtype: object"
      ]
     },
     "execution_count": 37,
     "metadata": {},
     "output_type": "execute_result"
    }
   ],
   "source": [
    "# collapse\n",
    "df3[['Player_name','club','pos','Crossing']].loc[df3['Crossing'].idxmax()]"
   ]
  },
  {
   "cell_type": "markdown",
   "metadata": {},
   "source": [
    "Best short passer"
   ]
  },
  {
   "cell_type": "code",
   "execution_count": 38,
   "metadata": {
    "ExecuteTime": {
     "end_time": "2020-11-19T07:14:30.473276Z",
     "start_time": "2020-11-19T07:14:30.442360Z"
    }
   },
   "outputs": [
    {
     "data": {
      "text/plain": [
       "Player_name         K. De Bruyne\n",
       "club             Manchester City\n",
       "pos                          CAM\n",
       "Short Passing                 94\n",
       "Name: 0, dtype: object"
      ]
     },
     "execution_count": 38,
     "metadata": {},
     "output_type": "execute_result"
    }
   ],
   "source": [
    "# collapse\n",
    "df3[['Player_name','club','pos','Short Passing']].loc[df3['Short Passing'].idxmax()]"
   ]
  },
  {
   "cell_type": "markdown",
   "metadata": {},
   "source": [
    "Best long passer"
   ]
  },
  {
   "cell_type": "code",
   "execution_count": 39,
   "metadata": {
    "ExecuteTime": {
     "end_time": "2020-11-19T07:14:30.489234Z",
     "start_time": "2020-11-19T07:14:30.474273Z"
    },
    "code_folding": [
     0
    ]
   },
   "outputs": [
    {
     "data": {
      "text/plain": [
       "Player_name        K. De Bruyne\n",
       "club            Manchester City\n",
       "pos                         CAM\n",
       "Long Passing                 93\n",
       "Name: 0, dtype: object"
      ]
     },
     "execution_count": 39,
     "metadata": {},
     "output_type": "execute_result"
    }
   ],
   "source": [
    "# collapse\n",
    "df3[['Player_name','club','pos','Long Passing']].loc[df3['Long Passing'].idxmax()]"
   ]
  },
  {
   "cell_type": "markdown",
   "metadata": {},
   "source": [
    "Best header"
   ]
  },
  {
   "cell_type": "code",
   "execution_count": 40,
   "metadata": {
    "ExecuteTime": {
     "end_time": "2020-11-19T07:14:30.505191Z",
     "start_time": "2020-11-19T07:14:30.490231Z"
    },
    "code_folding": [
     0
    ]
   },
   "outputs": [
    {
     "data": {
      "text/plain": [
       "Player_name         O. Giroud\n",
       "club                  Chelsea\n",
       "pos                        ST\n",
       "Heading Accuracy           90\n",
       "Name: 130, dtype: object"
      ]
     },
     "execution_count": 40,
     "metadata": {},
     "output_type": "execute_result"
    }
   ],
   "source": [
    "# collapse\n",
    "df3[['Player_name','club','pos','Heading Accuracy']].loc[df3['Heading Accuracy'].idxmax()]"
   ]
  },
  {
   "cell_type": "markdown",
   "metadata": {},
   "source": [
    "Best finisher"
   ]
  },
  {
   "cell_type": "code",
   "execution_count": 41,
   "metadata": {
    "ExecuteTime": {
     "end_time": "2020-11-19T07:14:30.521148Z",
     "start_time": "2020-11-19T07:14:30.506188Z"
    },
    "code_folding": [
     0
    ]
   },
   "outputs": [
    {
     "data": {
      "text/plain": [
       "Player_name          S. Agüero\n",
       "club           Manchester City\n",
       "pos                         ST\n",
       "Finishing                   94\n",
       "Name: 5, dtype: object"
      ]
     },
     "execution_count": 41,
     "metadata": {},
     "output_type": "execute_result"
    }
   ],
   "source": [
    "# collapse\n",
    "df3[['Player_name','club','pos','Finishing']].loc[df3['Finishing'].idxmax()]"
   ]
  },
  {
   "cell_type": "markdown",
   "metadata": {},
   "source": [
    "Best FK taker"
   ]
  },
  {
   "cell_type": "code",
   "execution_count": 42,
   "metadata": {
    "ExecuteTime": {
     "end_time": "2020-11-19T07:14:30.536153Z",
     "start_time": "2020-11-19T07:14:30.522146Z"
    },
    "code_folding": [
     0
    ]
   },
   "outputs": [
    {
     "data": {
      "text/plain": [
       "Player_name    J. Ward-Prowse\n",
       "club              Southampton\n",
       "pos                        CM\n",
       "FK Accuracy                91\n",
       "Name: 145, dtype: object"
      ]
     },
     "execution_count": 42,
     "metadata": {},
     "output_type": "execute_result"
    }
   ],
   "source": [
    "# collapse\n",
    "df3[['Player_name','club','pos','FK Accuracy']].loc[df3['FK Accuracy'].idxmax()]"
   ]
  },
  {
   "cell_type": "markdown",
   "metadata": {},
   "source": [
    "Best PK taker"
   ]
  },
  {
   "cell_type": "code",
   "execution_count": 43,
   "metadata": {
    "ExecuteTime": {
     "end_time": "2020-11-19T07:14:30.552066Z",
     "start_time": "2020-11-19T07:14:30.537105Z"
    },
    "code_folding": [
     0
    ]
   },
   "outputs": [
    {
     "data": {
      "text/plain": [
       "Player_name                 R. Jiménez\n",
       "club           Wolverhampton Wanderers\n",
       "pos                                 ST\n",
       "Penalties                           92\n",
       "Name: 47, dtype: object"
      ]
     },
     "execution_count": 43,
     "metadata": {},
     "output_type": "execute_result"
    }
   ],
   "source": [
    "# collapse\n",
    "df3[['Player_name','club','pos','Penalties']].loc[df3['Penalties'].idxmax()]"
   ]
  },
  {
   "cell_type": "markdown",
   "metadata": {},
   "source": [
    "Best volleyer"
   ]
  },
  {
   "cell_type": "code",
   "execution_count": 44,
   "metadata": {
    "ExecuteTime": {
     "end_time": "2020-11-19T07:14:30.567056Z",
     "start_time": "2020-11-19T07:14:30.553063Z"
    },
    "code_folding": [
     0
    ]
   },
   "outputs": [
    {
     "data": {
      "text/plain": [
       "Player_name    J. Rodríguez\n",
       "club                Everton\n",
       "pos                     CAM\n",
       "Volleys                  90\n",
       "Name: 67, dtype: object"
      ]
     },
     "execution_count": 44,
     "metadata": {},
     "output_type": "execute_result"
    }
   ],
   "source": [
    "# collapse\n",
    "df3[['Player_name','club','pos','Volleys']].loc[df3['Volleys'].idxmax()]"
   ]
  },
  {
   "cell_type": "markdown",
   "metadata": {},
   "source": [
    "Highest shot power"
   ]
  },
  {
   "cell_type": "code",
   "execution_count": 45,
   "metadata": {
    "ExecuteTime": {
     "end_time": "2020-11-19T07:14:30.583015Z",
     "start_time": "2020-11-19T07:14:30.568022Z"
    },
    "code_folding": [
     0
    ]
   },
   "outputs": [
    {
     "data": {
      "text/plain": [
       "Player_name       K. De Bruyne\n",
       "club           Manchester City\n",
       "pos                        CAM\n",
       "Shot Power                  91\n",
       "Name: 0, dtype: object"
      ]
     },
     "execution_count": 45,
     "metadata": {},
     "output_type": "execute_result"
    }
   ],
   "source": [
    "# collapse\n",
    "df3[['Player_name','club','pos','Shot Power']].loc[df3['Shot Power'].idxmax()]"
   ]
  },
  {
   "cell_type": "markdown",
   "metadata": {},
   "source": [
    "Speed merchant and acceleration"
   ]
  },
  {
   "cell_type": "code",
   "execution_count": 46,
   "metadata": {
    "ExecuteTime": {
     "end_time": "2020-11-19T07:14:30.598940Z",
     "start_time": "2020-11-19T07:14:30.583980Z"
    },
    "code_folding": [
     0
    ]
   },
   "outputs": [
    {
     "data": {
      "text/plain": [
       "Player_name                Adama Traoré\n",
       "club            Wolverhampton Wanderers\n",
       "pos                                  RM\n",
       "Sprint Speed                         96\n",
       "Name: 155, dtype: object"
      ]
     },
     "execution_count": 46,
     "metadata": {},
     "output_type": "execute_result"
    }
   ],
   "source": [
    "# collapse\n",
    "df3[['Player_name','club','pos','Sprint Speed']].loc[df3['Sprint Speed'].idxmax()]"
   ]
  },
  {
   "cell_type": "code",
   "execution_count": 47,
   "metadata": {
    "ExecuteTime": {
     "end_time": "2020-11-19T07:14:30.613900Z",
     "start_time": "2020-11-19T07:14:30.599938Z"
    },
    "code_folding": [
     0
    ]
   },
   "outputs": [
    {
     "data": {
      "text/plain": [
       "Player_name                Adama Traoré\n",
       "club            Wolverhampton Wanderers\n",
       "pos                                  RM\n",
       "Acceleration                         97\n",
       "Name: 155, dtype: object"
      ]
     },
     "execution_count": 47,
     "metadata": {},
     "output_type": "execute_result"
    }
   ],
   "source": [
    "# collapse\n",
    "df3[['Player_name','club','pos','Acceleration']].loc[df3['Acceleration'].idxmax()]"
   ]
  },
  {
   "cell_type": "markdown",
   "metadata": {},
   "source": [
    "Dribbler"
   ]
  },
  {
   "cell_type": "code",
   "execution_count": 48,
   "metadata": {
    "ExecuteTime": {
     "end_time": "2020-11-19T07:14:30.628891Z",
     "start_time": "2020-11-19T07:14:30.614898Z"
    },
    "code_folding": [
     0
    ]
   },
   "outputs": [
    {
     "data": {
      "text/plain": [
       "Player_name     Bernardo Silva\n",
       "club           Manchester City\n",
       "pos                         RW\n",
       "Dribbling                   92\n",
       "Name: 17, dtype: object"
      ]
     },
     "execution_count": 48,
     "metadata": {},
     "output_type": "execute_result"
    }
   ],
   "source": [
    "# collapse\n",
    "df3[['Player_name','club','pos','Dribbling']].loc[df3['Dribbling'].idxmax()]"
   ]
  },
  {
   "cell_type": "code",
   "execution_count": 49,
   "metadata": {
    "ExecuteTime": {
     "end_time": "2020-11-19T07:14:30.644817Z",
     "start_time": "2020-11-19T07:14:30.629858Z"
    },
    "code_folding": [
     0
    ]
   },
   "outputs": [
    {
     "data": {
      "text/plain": [
       "Player_name        K. De Bruyne\n",
       "club            Manchester City\n",
       "pos                         CAM\n",
       "Ball Control                 92\n",
       "Name: 0, dtype: object"
      ]
     },
     "execution_count": 49,
     "metadata": {},
     "output_type": "execute_result"
    }
   ],
   "source": [
    "# collapse\n",
    "df3[['Player_name','club','pos','Ball Control']].loc[df3['Ball Control'].idxmax()]"
   ]
  },
  {
   "cell_type": "markdown",
   "metadata": {},
   "source": [
    "Best stamina"
   ]
  },
  {
   "cell_type": "code",
   "execution_count": 50,
   "metadata": {
    "ExecuteTime": {
     "end_time": "2020-11-19T07:14:30.660808Z",
     "start_time": "2020-11-19T07:14:30.645814Z"
    },
    "code_folding": [
     0
    ]
   },
   "outputs": [
    {
     "data": {
      "text/plain": [
       "Player_name    N. Kanté\n",
       "club            Chelsea\n",
       "pos                 CDM\n",
       "Stamina              96\n",
       "Name: 6, dtype: object"
      ]
     },
     "execution_count": 50,
     "metadata": {},
     "output_type": "execute_result"
    }
   ],
   "source": [
    "# collapse\n",
    "df3[['Player_name','club','pos','Stamina']].loc[df3['Stamina'].idxmax()]"
   ]
  },
  {
   "cell_type": "markdown",
   "metadata": {},
   "source": [
    "Best strength"
   ]
  },
  {
   "cell_type": "code",
   "execution_count": 51,
   "metadata": {
    "ExecuteTime": {
     "end_time": "2020-11-19T07:14:30.676773Z",
     "start_time": "2020-11-19T07:14:30.661772Z"
    },
    "code_folding": [
     0
    ]
   },
   "outputs": [
    {
     "data": {
      "text/plain": [
       "Player_name                    W. Boly\n",
       "club           Wolverhampton Wanderers\n",
       "pos                                 CB\n",
       "Strength                            93\n",
       "Name: 126, dtype: object"
      ]
     },
     "execution_count": 51,
     "metadata": {},
     "output_type": "execute_result"
    }
   ],
   "source": [
    "# collapse\n",
    "df3[['Player_name','club','pos','Strength']].loc[df3['Strength'].idxmax()]"
   ]
  },
  {
   "cell_type": "markdown",
   "metadata": {},
   "source": [
    "Best positioning"
   ]
  },
  {
   "cell_type": "code",
   "execution_count": 52,
   "metadata": {
    "ExecuteTime": {
     "end_time": "2020-11-19T07:14:30.692722Z",
     "start_time": "2020-11-19T07:14:30.677729Z"
    },
    "code_folding": [
     0
    ]
   },
   "outputs": [
    {
     "data": {
      "text/plain": [
       "Player_name          S. Agüero\n",
       "club           Manchester City\n",
       "pos                         ST\n",
       "Positioning                 94\n",
       "Name: 5, dtype: object"
      ]
     },
     "execution_count": 52,
     "metadata": {},
     "output_type": "execute_result"
    }
   ],
   "source": [
    "# collapse\n",
    "df3[['Player_name','club','pos','Positioning']].loc[df3['Positioning'].idxmax()]"
   ]
  },
  {
   "cell_type": "markdown",
   "metadata": {},
   "source": [
    "Best vision"
   ]
  },
  {
   "cell_type": "code",
   "execution_count": 53,
   "metadata": {
    "ExecuteTime": {
     "end_time": "2020-11-19T07:14:30.708688Z",
     "start_time": "2020-11-19T07:14:30.693686Z"
    },
    "code_folding": [
     0
    ]
   },
   "outputs": [
    {
     "data": {
      "text/plain": [
       "Player_name       K. De Bruyne\n",
       "club           Manchester City\n",
       "pos                        CAM\n",
       "Vision                      94\n",
       "Name: 0, dtype: object"
      ]
     },
     "execution_count": 53,
     "metadata": {},
     "output_type": "execute_result"
    }
   ],
   "source": [
    "# collapse\n",
    "df3[['Player_name','club','pos','Vision']].loc[df3['Vision'].idxmax()]"
   ]
  },
  {
   "cell_type": "markdown",
   "metadata": {},
   "source": [
    "Best composure"
   ]
  },
  {
   "cell_type": "code",
   "execution_count": 54,
   "metadata": {
    "ExecuteTime": {
     "end_time": "2020-11-19T07:14:30.724605Z",
     "start_time": "2020-11-19T07:14:30.709644Z"
    },
    "code_folding": [
     0
    ]
   },
   "outputs": [
    {
     "data": {
      "text/plain": [
       "Player_name       K. De Bruyne\n",
       "club           Manchester City\n",
       "pos                        CAM\n",
       "Composure                   91\n",
       "Name: 0, dtype: object"
      ]
     },
     "execution_count": 54,
     "metadata": {},
     "output_type": "execute_result"
    }
   ],
   "source": [
    "# collapse\n",
    "df3[['Player_name','club','pos','Composure']].loc[df3['Composure'].idxmax()]"
   ]
  },
  {
   "cell_type": "markdown",
   "metadata": {},
   "source": [
    "Best defensive awareness"
   ]
  },
  {
   "cell_type": "code",
   "execution_count": 55,
   "metadata": {
    "ExecuteTime": {
     "end_time": "2020-11-19T07:14:30.740562Z",
     "start_time": "2020-11-19T07:14:30.725603Z"
    },
    "code_folding": [
     0
    ]
   },
   "outputs": [
    {
     "data": {
      "text/plain": [
       "Player_name            V. van Dijk\n",
       "club                     Liverpool\n",
       "pos                             CB\n",
       "Defensive Awareness             93\n",
       "Name: 4, dtype: object"
      ]
     },
     "execution_count": 55,
     "metadata": {},
     "output_type": "execute_result"
    }
   ],
   "source": [
    "# collapse\n",
    "df3[['Player_name','club','pos','Defensive Awareness']].loc[df3['Defensive Awareness'].idxmax()]"
   ]
  },
  {
   "cell_type": "markdown",
   "metadata": {},
   "source": [
    "Interceptions"
   ]
  },
  {
   "cell_type": "code",
   "execution_count": 56,
   "metadata": {
    "ExecuteTime": {
     "end_time": "2020-11-19T07:14:30.756569Z",
     "start_time": "2020-11-19T07:14:30.741561Z"
    },
    "code_folding": [
     0
    ]
   },
   "outputs": [
    {
     "data": {
      "text/plain": [
       "Player_name      N. Kanté\n",
       "club              Chelsea\n",
       "pos                   CDM\n",
       "Interceptions          91\n",
       "Name: 6, dtype: object"
      ]
     },
     "execution_count": 56,
     "metadata": {},
     "output_type": "execute_result"
    }
   ],
   "source": [
    "# collapse\n",
    "df3[['Player_name','club','pos','Interceptions']].loc[df3['Interceptions'].idxmax()]"
   ]
  },
  {
   "cell_type": "markdown",
   "metadata": {},
   "source": [
    "Best sliding tackle"
   ]
  },
  {
   "cell_type": "code",
   "execution_count": 57,
   "metadata": {
    "ExecuteTime": {
     "end_time": "2020-11-19T07:14:30.772509Z",
     "start_time": "2020-11-19T07:14:30.757516Z"
    },
    "code_folding": [
     0
    ]
   },
   "outputs": [
    {
     "data": {
      "text/plain": [
       "Player_name          A. Wan-Bissaka\n",
       "club              Manchester United\n",
       "pos                              RB\n",
       "Sliding Tackle                   90\n",
       "Name: 57, dtype: object"
      ]
     },
     "execution_count": 57,
     "metadata": {},
     "output_type": "execute_result"
    }
   ],
   "source": [
    "# collapse\n",
    "df3[['Player_name','club','pos','Sliding Tackle']].loc[df3['Sliding Tackle'].idxmax()]"
   ]
  },
  {
   "cell_type": "markdown",
   "metadata": {},
   "source": [
    "Best GK reflexes"
   ]
  },
  {
   "cell_type": "code",
   "execution_count": 58,
   "metadata": {
    "ExecuteTime": {
     "end_time": "2020-11-19T07:14:30.788433Z",
     "start_time": "2020-11-19T07:14:30.773474Z"
    },
    "code_folding": [
     0
    ]
   },
   "outputs": [
    {
     "data": {
      "text/plain": [
       "Player_name            H. Lloris\n",
       "club           Tottenham Hotspur\n",
       "pos                           GK\n",
       "GK Reflexes                   90\n",
       "Name: 19, dtype: object"
      ]
     },
     "execution_count": 58,
     "metadata": {},
     "output_type": "execute_result"
    }
   ],
   "source": [
    "# collapse\n",
    "df3[['Player_name','club','pos','GK Reflexes']].loc[df3['GK Reflexes'].idxmax()]"
   ]
  },
  {
   "cell_type": "markdown",
   "metadata": {},
   "source": [
    "Best GK kicking"
   ]
  },
  {
   "cell_type": "code",
   "execution_count": 59,
   "metadata": {
    "ExecuteTime": {
     "end_time": "2020-11-19T07:14:30.804436Z",
     "start_time": "2020-11-19T07:14:30.789430Z"
    },
    "code_folding": [
     0
    ]
   },
   "outputs": [
    {
     "data": {
      "text/plain": [
       "Player_name            Ederson\n",
       "club           Manchester City\n",
       "pos                         GK\n",
       "GK Kicking                  93\n",
       "Name: 7, dtype: object"
      ]
     },
     "execution_count": 59,
     "metadata": {},
     "output_type": "execute_result"
    }
   ],
   "source": [
    "# collapse\n",
    "df3[['Player_name','club','pos','GK Kicking']].loc[df3['GK Kicking'].idxmax()]"
   ]
  },
  {
   "cell_type": "markdown",
   "metadata": {},
   "source": [
    "Tallest player (in cm)"
   ]
  },
  {
   "cell_type": "code",
   "execution_count": 60,
   "metadata": {
    "ExecuteTime": {
     "end_time": "2020-11-19T07:14:30.820381Z",
     "start_time": "2020-11-19T07:14:30.805388Z"
    },
    "code_folding": [
     0
    ]
   },
   "outputs": [
    {
     "data": {
      "text/plain": [
       "Player_name    N. Pope\n",
       "club           Burnley\n",
       "pos                 GK\n",
       "height             201\n",
       "Name: 77, dtype: object"
      ]
     },
     "execution_count": 60,
     "metadata": {},
     "output_type": "execute_result"
    }
   ],
   "source": [
    "# collapse\n",
    "df3[['Player_name','club','pos','height']].loc[df3['height'].idxmax()]"
   ]
  },
  {
   "cell_type": "markdown",
   "metadata": {},
   "source": [
    "Heaviest player (kg)"
   ]
  },
  {
   "cell_type": "code",
   "execution_count": 61,
   "metadata": {
    "ExecuteTime": {
     "end_time": "2020-11-19T07:14:30.836336Z",
     "start_time": "2020-11-19T07:14:30.821346Z"
    },
    "code_folding": [
     0
    ]
   },
   "outputs": [
    {
     "data": {
      "text/plain": [
       "Player_name         W. Morgan\n",
       "club           Leicester City\n",
       "pos                        CB\n",
       "weight                    101\n",
       "Name: 389, dtype: object"
      ]
     },
     "execution_count": 61,
     "metadata": {},
     "output_type": "execute_result"
    }
   ],
   "source": [
    "# collapse\n",
    "df3[['Player_name','club','pos','weight']].loc[df3['weight'].idxmax()]"
   ]
  },
  {
   "cell_type": "markdown",
   "metadata": {},
   "source": [
    "**Top player based on wages and salaries**"
   ]
  },
  {
   "cell_type": "markdown",
   "metadata": {},
   "source": [
    "Highest wages"
   ]
  },
  {
   "cell_type": "code",
   "execution_count": 62,
   "metadata": {
    "ExecuteTime": {
     "end_time": "2020-11-19T07:14:30.851617Z",
     "start_time": "2020-11-19T07:14:30.837302Z"
    },
    "code_folding": [
     0
    ]
   },
   "outputs": [
    {
     "data": {
      "text/plain": [
       "Player_name       K. De Bruyne\n",
       "club           Manchester City\n",
       "pos                        CAM\n",
       "wage                    370000\n",
       "Name: 0, dtype: object"
      ]
     },
     "execution_count": 62,
     "metadata": {},
     "output_type": "execute_result"
    }
   ],
   "source": [
    "# collapse\n",
    "df3[['Player_name','club','pos','wage']].loc[df3['wage'].idxmax()]"
   ]
  },
  {
   "cell_type": "markdown",
   "metadata": {},
   "source": [
    "Highest contract values"
   ]
  },
  {
   "cell_type": "code",
   "execution_count": 63,
   "metadata": {
    "ExecuteTime": {
     "end_time": "2020-11-19T07:14:30.867563Z",
     "start_time": "2020-11-19T07:14:30.852571Z"
    },
    "code_folding": [
     0
    ]
   },
   "outputs": [
    {
     "data": {
      "text/plain": [
       "Player_name       K. De Bruyne\n",
       "club           Manchester City\n",
       "pos                        CAM\n",
       "c_value               1.29e+08\n",
       "Name: 0, dtype: object"
      ]
     },
     "execution_count": 63,
     "metadata": {},
     "output_type": "execute_result"
    }
   ],
   "source": [
    "# collapse\n",
    "df3[['Player_name','club','pos','c_value']].loc[df3['c_value'].idxmax()]"
   ]
  },
  {
   "cell_type": "markdown",
   "metadata": {},
   "source": [
    "**Top earner per club**"
   ]
  },
  {
   "cell_type": "code",
   "execution_count": 64,
   "metadata": {
    "ExecuteTime": {
     "end_time": "2020-11-19T07:14:30.882491Z",
     "start_time": "2020-11-19T07:14:30.868528Z"
    },
    "code_folding": [
     0
    ]
   },
   "outputs": [
    {
     "data": {
      "text/html": [
       "<div>\n",
       "<style scoped>\n",
       "    .dataframe tbody tr th:only-of-type {\n",
       "        vertical-align: middle;\n",
       "    }\n",
       "\n",
       "    .dataframe tbody tr th {\n",
       "        vertical-align: top;\n",
       "    }\n",
       "\n",
       "    .dataframe thead th {\n",
       "        text-align: right;\n",
       "    }\n",
       "</style>\n",
       "<table border=\"1\" class=\"dataframe\">\n",
       "  <thead>\n",
       "    <tr style=\"text-align: right;\">\n",
       "      <th></th>\n",
       "      <th>club</th>\n",
       "      <th>Player_name</th>\n",
       "      <th>pos</th>\n",
       "      <th>rating</th>\n",
       "      <th>wage</th>\n",
       "    </tr>\n",
       "  </thead>\n",
       "  <tbody>\n",
       "    <tr>\n",
       "      <td>11</td>\n",
       "      <td>Arsenal</td>\n",
       "      <td>P. Aubameyang</td>\n",
       "      <td>ST</td>\n",
       "      <td>87</td>\n",
       "      <td>170000.0</td>\n",
       "    </tr>\n",
       "    <tr>\n",
       "      <td>165</td>\n",
       "      <td>Aston Villa</td>\n",
       "      <td>R. Barkley</td>\n",
       "      <td>CAM</td>\n",
       "      <td>81</td>\n",
       "      <td>81000.0</td>\n",
       "    </tr>\n",
       "    <tr>\n",
       "      <td>194</td>\n",
       "      <td>Brighton &amp; Hove Albion</td>\n",
       "      <td>L. Trossard</td>\n",
       "      <td>CAM</td>\n",
       "      <td>80</td>\n",
       "      <td>56000.0</td>\n",
       "    </tr>\n",
       "    <tr>\n",
       "      <td>193</td>\n",
       "      <td>Brighton &amp; Hove Albion</td>\n",
       "      <td>L. Dunk</td>\n",
       "      <td>CB</td>\n",
       "      <td>80</td>\n",
       "      <td>56000.0</td>\n",
       "    </tr>\n",
       "    <tr>\n",
       "      <td>192</td>\n",
       "      <td>Burnley</td>\n",
       "      <td>C. Wood</td>\n",
       "      <td>ST</td>\n",
       "      <td>78</td>\n",
       "      <td>63000.0</td>\n",
       "    </tr>\n",
       "    <tr>\n",
       "      <td>6</td>\n",
       "      <td>Chelsea</td>\n",
       "      <td>N. Kanté</td>\n",
       "      <td>CDM</td>\n",
       "      <td>88</td>\n",
       "      <td>190000.0</td>\n",
       "    </tr>\n",
       "    <tr>\n",
       "      <td>63</td>\n",
       "      <td>Crystal Palace</td>\n",
       "      <td>W. Zaha</td>\n",
       "      <td>CF</td>\n",
       "      <td>83</td>\n",
       "      <td>89000.0</td>\n",
       "    </tr>\n",
       "    <tr>\n",
       "      <td>51</td>\n",
       "      <td>Everton</td>\n",
       "      <td>Allan</td>\n",
       "      <td>CDM</td>\n",
       "      <td>85</td>\n",
       "      <td>115000.0</td>\n",
       "    </tr>\n",
       "    <tr>\n",
       "      <td>226</td>\n",
       "      <td>Fulham</td>\n",
       "      <td>A. Mitrović</td>\n",
       "      <td>ST</td>\n",
       "      <td>79</td>\n",
       "      <td>90000.0</td>\n",
       "    </tr>\n",
       "    <tr>\n",
       "      <td>68</td>\n",
       "      <td>Leeds United</td>\n",
       "      <td>Rodrigo</td>\n",
       "      <td>ST</td>\n",
       "      <td>82</td>\n",
       "      <td>140000.0</td>\n",
       "    </tr>\n",
       "    <tr>\n",
       "      <td>20</td>\n",
       "      <td>Leicester City</td>\n",
       "      <td>J. Vardy</td>\n",
       "      <td>ST</td>\n",
       "      <td>87</td>\n",
       "      <td>170000.0</td>\n",
       "    </tr>\n",
       "    <tr>\n",
       "      <td>2</td>\n",
       "      <td>Liverpool</td>\n",
       "      <td>M. Salah</td>\n",
       "      <td>RW</td>\n",
       "      <td>90</td>\n",
       "      <td>250000.0</td>\n",
       "    </tr>\n",
       "    <tr>\n",
       "      <td>3</td>\n",
       "      <td>Liverpool</td>\n",
       "      <td>S. Mané</td>\n",
       "      <td>LW</td>\n",
       "      <td>90</td>\n",
       "      <td>250000.0</td>\n",
       "    </tr>\n",
       "    <tr>\n",
       "      <td>0</td>\n",
       "      <td>Manchester City</td>\n",
       "      <td>K. De Bruyne</td>\n",
       "      <td>CAM</td>\n",
       "      <td>91</td>\n",
       "      <td>370000.0</td>\n",
       "    </tr>\n",
       "    <tr>\n",
       "      <td>18</td>\n",
       "      <td>Manchester United</td>\n",
       "      <td>Bruno Fernandes</td>\n",
       "      <td>CAM</td>\n",
       "      <td>88</td>\n",
       "      <td>195000.0</td>\n",
       "    </tr>\n",
       "    <tr>\n",
       "      <td>173</td>\n",
       "      <td>Newcastle United</td>\n",
       "      <td>C. Wilson</td>\n",
       "      <td>ST</td>\n",
       "      <td>78</td>\n",
       "      <td>48000.0</td>\n",
       "    </tr>\n",
       "    <tr>\n",
       "      <td>231</td>\n",
       "      <td>Sheffield United</td>\n",
       "      <td>J. Fleck</td>\n",
       "      <td>CM</td>\n",
       "      <td>77</td>\n",
       "      <td>38000.0</td>\n",
       "    </tr>\n",
       "    <tr>\n",
       "      <td>230</td>\n",
       "      <td>Sheffield United</td>\n",
       "      <td>O. Norwood</td>\n",
       "      <td>CM</td>\n",
       "      <td>77</td>\n",
       "      <td>38000.0</td>\n",
       "    </tr>\n",
       "    <tr>\n",
       "      <td>92</td>\n",
       "      <td>Southampton</td>\n",
       "      <td>D. Ings</td>\n",
       "      <td>ST</td>\n",
       "      <td>81</td>\n",
       "      <td>75000.0</td>\n",
       "    </tr>\n",
       "    <tr>\n",
       "      <td>10</td>\n",
       "      <td>Tottenham Hotspur</td>\n",
       "      <td>H. Kane</td>\n",
       "      <td>ST</td>\n",
       "      <td>88</td>\n",
       "      <td>220000.0</td>\n",
       "    </tr>\n",
       "    <tr>\n",
       "      <td>365</td>\n",
       "      <td>West Bromwich Albion</td>\n",
       "      <td>M. Phillips</td>\n",
       "      <td>RM</td>\n",
       "      <td>74</td>\n",
       "      <td>65000.0</td>\n",
       "    </tr>\n",
       "    <tr>\n",
       "      <td>97</td>\n",
       "      <td>West Ham United</td>\n",
       "      <td>S. Haller</td>\n",
       "      <td>ST</td>\n",
       "      <td>82</td>\n",
       "      <td>58000.0</td>\n",
       "    </tr>\n",
       "    <tr>\n",
       "      <td>47</td>\n",
       "      <td>Wolverhampton Wanderers</td>\n",
       "      <td>R. Jiménez</td>\n",
       "      <td>ST</td>\n",
       "      <td>84</td>\n",
       "      <td>140000.0</td>\n",
       "    </tr>\n",
       "  </tbody>\n",
       "</table>\n",
       "</div>"
      ],
      "text/plain": [
       "                        club      Player_name  pos  rating      wage\n",
       "11                   Arsenal    P. Aubameyang   ST      87  170000.0\n",
       "165              Aston Villa       R. Barkley  CAM      81   81000.0\n",
       "194   Brighton & Hove Albion      L. Trossard  CAM      80   56000.0\n",
       "193   Brighton & Hove Albion          L. Dunk   CB      80   56000.0\n",
       "192                  Burnley          C. Wood   ST      78   63000.0\n",
       "6                    Chelsea         N. Kanté  CDM      88  190000.0\n",
       "63            Crystal Palace          W. Zaha   CF      83   89000.0\n",
       "51                   Everton            Allan  CDM      85  115000.0\n",
       "226                   Fulham      A. Mitrović   ST      79   90000.0\n",
       "68              Leeds United          Rodrigo   ST      82  140000.0\n",
       "20            Leicester City         J. Vardy   ST      87  170000.0\n",
       "2                  Liverpool         M. Salah   RW      90  250000.0\n",
       "3                  Liverpool          S. Mané   LW      90  250000.0\n",
       "0            Manchester City     K. De Bruyne  CAM      91  370000.0\n",
       "18         Manchester United  Bruno Fernandes  CAM      88  195000.0\n",
       "173         Newcastle United        C. Wilson   ST      78   48000.0\n",
       "231         Sheffield United         J. Fleck   CM      77   38000.0\n",
       "230         Sheffield United       O. Norwood   CM      77   38000.0\n",
       "92               Southampton          D. Ings   ST      81   75000.0\n",
       "10         Tottenham Hotspur          H. Kane   ST      88  220000.0\n",
       "365     West Bromwich Albion      M. Phillips   RM      74   65000.0\n",
       "97           West Ham United        S. Haller   ST      82   58000.0\n",
       "47   Wolverhampton Wanderers       R. Jiménez   ST      84  140000.0"
      ]
     },
     "execution_count": 64,
     "metadata": {},
     "output_type": "execute_result"
    }
   ],
   "source": [
    "# collapse\n",
    "idx = df3.groupby(['club'])['wage'].transform(max) == df3['wage']\n",
    "top_rated = df3[idx][['club','Player_name','pos','rating','wage']]\n",
    "top_rated.sort_values('club')"
   ]
  },
  {
   "cell_type": "markdown",
   "metadata": {},
   "source": [
    "**Total wages per club**"
   ]
  },
  {
   "cell_type": "code",
   "execution_count": 65,
   "metadata": {
    "ExecuteTime": {
     "end_time": "2020-11-19T07:14:30.898448Z",
     "start_time": "2020-11-19T07:14:30.883488Z"
    },
    "code_folding": [
     0
    ]
   },
   "outputs": [
    {
     "data": {
      "text/html": [
       "<div>\n",
       "<style scoped>\n",
       "    .dataframe tbody tr th:only-of-type {\n",
       "        vertical-align: middle;\n",
       "    }\n",
       "\n",
       "    .dataframe tbody tr th {\n",
       "        vertical-align: top;\n",
       "    }\n",
       "\n",
       "    .dataframe thead th {\n",
       "        text-align: right;\n",
       "    }\n",
       "</style>\n",
       "<table border=\"1\" class=\"dataframe\">\n",
       "  <thead>\n",
       "    <tr style=\"text-align: right;\">\n",
       "      <th></th>\n",
       "      <th>club</th>\n",
       "      <th>wage</th>\n",
       "    </tr>\n",
       "  </thead>\n",
       "  <tbody>\n",
       "    <tr>\n",
       "      <td>11</td>\n",
       "      <td>Manchester City</td>\n",
       "      <td>3552000.0</td>\n",
       "    </tr>\n",
       "    <tr>\n",
       "      <td>12</td>\n",
       "      <td>Manchester United</td>\n",
       "      <td>2984000.0</td>\n",
       "    </tr>\n",
       "    <tr>\n",
       "      <td>10</td>\n",
       "      <td>Liverpool</td>\n",
       "      <td>2964000.0</td>\n",
       "    </tr>\n",
       "    <tr>\n",
       "      <td>16</td>\n",
       "      <td>Tottenham Hotspur</td>\n",
       "      <td>2503000.0</td>\n",
       "    </tr>\n",
       "    <tr>\n",
       "      <td>4</td>\n",
       "      <td>Chelsea</td>\n",
       "      <td>2371000.0</td>\n",
       "    </tr>\n",
       "    <tr>\n",
       "      <td>0</td>\n",
       "      <td>Arsenal</td>\n",
       "      <td>2116000.0</td>\n",
       "    </tr>\n",
       "    <tr>\n",
       "      <td>6</td>\n",
       "      <td>Everton</td>\n",
       "      <td>1835000.0</td>\n",
       "    </tr>\n",
       "    <tr>\n",
       "      <td>9</td>\n",
       "      <td>Leicester City</td>\n",
       "      <td>1817000.0</td>\n",
       "    </tr>\n",
       "    <tr>\n",
       "      <td>7</td>\n",
       "      <td>Fulham</td>\n",
       "      <td>1642000.0</td>\n",
       "    </tr>\n",
       "    <tr>\n",
       "      <td>8</td>\n",
       "      <td>Leeds United</td>\n",
       "      <td>1375000.0</td>\n",
       "    </tr>\n",
       "    <tr>\n",
       "      <td>19</td>\n",
       "      <td>Wolverhampton Wanderers</td>\n",
       "      <td>1299000.0</td>\n",
       "    </tr>\n",
       "    <tr>\n",
       "      <td>5</td>\n",
       "      <td>Crystal Palace</td>\n",
       "      <td>1212000.0</td>\n",
       "    </tr>\n",
       "    <tr>\n",
       "      <td>17</td>\n",
       "      <td>West Bromwich Albion</td>\n",
       "      <td>1103000.0</td>\n",
       "    </tr>\n",
       "    <tr>\n",
       "      <td>1</td>\n",
       "      <td>Aston Villa</td>\n",
       "      <td>1102000.0</td>\n",
       "    </tr>\n",
       "    <tr>\n",
       "      <td>2</td>\n",
       "      <td>Brighton &amp; Hove Albion</td>\n",
       "      <td>1049000.0</td>\n",
       "    </tr>\n",
       "    <tr>\n",
       "      <td>3</td>\n",
       "      <td>Burnley</td>\n",
       "      <td>982000.0</td>\n",
       "    </tr>\n",
       "    <tr>\n",
       "      <td>13</td>\n",
       "      <td>Newcastle United</td>\n",
       "      <td>978000.0</td>\n",
       "    </tr>\n",
       "    <tr>\n",
       "      <td>15</td>\n",
       "      <td>Southampton</td>\n",
       "      <td>918000.0</td>\n",
       "    </tr>\n",
       "    <tr>\n",
       "      <td>18</td>\n",
       "      <td>West Ham United</td>\n",
       "      <td>833000.0</td>\n",
       "    </tr>\n",
       "    <tr>\n",
       "      <td>14</td>\n",
       "      <td>Sheffield United</td>\n",
       "      <td>652000.0</td>\n",
       "    </tr>\n",
       "  </tbody>\n",
       "</table>\n",
       "</div>"
      ],
      "text/plain": [
       "                       club       wage\n",
       "11          Manchester City  3552000.0\n",
       "12        Manchester United  2984000.0\n",
       "10                Liverpool  2964000.0\n",
       "16        Tottenham Hotspur  2503000.0\n",
       "4                   Chelsea  2371000.0\n",
       "0                   Arsenal  2116000.0\n",
       "6                   Everton  1835000.0\n",
       "9            Leicester City  1817000.0\n",
       "7                    Fulham  1642000.0\n",
       "8              Leeds United  1375000.0\n",
       "19  Wolverhampton Wanderers  1299000.0\n",
       "5            Crystal Palace  1212000.0\n",
       "17     West Bromwich Albion  1103000.0\n",
       "1               Aston Villa  1102000.0\n",
       "2    Brighton & Hove Albion  1049000.0\n",
       "3                   Burnley   982000.0\n",
       "13         Newcastle United   978000.0\n",
       "15              Southampton   918000.0\n",
       "18          West Ham United   833000.0\n",
       "14         Sheffield United   652000.0"
      ]
     },
     "execution_count": 65,
     "metadata": {},
     "output_type": "execute_result"
    }
   ],
   "source": [
    "# collapse\n",
    "grouped = df3.groupby('club')['wage'].sum().reset_index()\n",
    "grouped.sort_values('wage', ascending=False)\n"
   ]
  },
  {
   "cell_type": "markdown",
   "metadata": {},
   "source": [
    "I am not sure the wages in FIFA21 reflect the real wages of these players"
   ]
  },
  {
   "cell_type": "markdown",
   "metadata": {},
   "source": [
    "# Feature engineering"
   ]
  },
  {
   "cell_type": "markdown",
   "metadata": {},
   "source": [
    "We have 16 different positions. We need to simplify this.\n",
    "\n",
    "Let's simplify those to the 4 traditional positions: Goalkeeper, Defender, Midfielder, Forward. For simplicity:\n",
    "* GK: GK\n",
    "* DF: CB, LB, RB, LWB, RWB\n",
    "* MF: CDM, CM, CAM, RM, LM,  \n",
    "* FW: RW, LW, CF, ST"
   ]
  },
  {
   "cell_type": "markdown",
   "metadata": {
    "ExecuteTime": {
     "end_time": "2020-11-09T08:07:55.448265Z",
     "start_time": "2020-11-09T08:07:55.439259Z"
    }
   },
   "source": [
    "## Simplify position"
   ]
  },
  {
   "cell_type": "code",
   "execution_count": 120,
   "metadata": {
    "ExecuteTime": {
     "end_time": "2020-11-19T07:33:06.201105Z",
     "start_time": "2020-11-19T07:33:06.149246Z"
    },
    "code_folding": [
     0
    ]
   },
   "outputs": [],
   "source": [
    "# collapse\n",
    "def repos(pos):\n",
    "    if pos == 'GK':\n",
    "        return 'GK'\n",
    "    elif pos[-1] == 'B':\n",
    "        return 'DF'\n",
    "    elif pos[-1] == 'M':\n",
    "        return 'MF'\n",
    "    else:\n",
    "        return 'FW'\n",
    "\n",
    "df3['pos2'] = df3.apply(lambda x: repos(x['pos']), axis=1)\n",
    "        "
   ]
  },
  {
   "cell_type": "code",
   "execution_count": 121,
   "metadata": {
    "ExecuteTime": {
     "end_time": "2020-11-19T07:33:06.216065Z",
     "start_time": "2020-11-19T07:33:06.202103Z"
    },
    "code_folding": [
     0
    ]
   },
   "outputs": [
    {
     "data": {
      "text/plain": [
       "MF    240\n",
       "DF    232\n",
       "FW    104\n",
       "GK     67\n",
       "Name: pos2, dtype: int64"
      ]
     },
     "execution_count": 121,
     "metadata": {},
     "output_type": "execute_result"
    }
   ],
   "source": [
    "# collapse\n",
    "pos_count = df3['pos2'].value_counts()\n",
    "pos_count"
   ]
  },
  {
   "cell_type": "code",
   "execution_count": 136,
   "metadata": {
    "ExecuteTime": {
     "end_time": "2020-11-19T07:33:31.340582Z",
     "start_time": "2020-11-19T07:33:31.293362Z"
    },
    "code_folding": [
     0
    ]
   },
   "outputs": [
    {
     "data": {
      "text/html": [
       "<html>\n",
       "<head><meta charset=\"utf-8\" /></head>\n",
       "<body>\n",
       "    <div>\n",
       "        \n",
       "                <script type=\"text/javascript\">window.PlotlyConfig = {MathJaxConfig: 'local'};</script>\n",
       "        <script src=\"https://cdn.plot.ly/plotly-latest.min.js\"></script>    \n",
       "            <div id=\"fcd6e0e6-1ee1-4394-a438-97ed2f4b88a4\" class=\"plotly-graph-div\" style=\"height:100%; width:100%;\"></div>\n",
       "            <script type=\"text/javascript\">\n",
       "                \n",
       "                    window.PLOTLYENV=window.PLOTLYENV || {};\n",
       "                    \n",
       "                if (document.getElementById(\"fcd6e0e6-1ee1-4394-a438-97ed2f4b88a4\")) {\n",
       "                    Plotly.newPlot(\n",
       "                        'fcd6e0e6-1ee1-4394-a438-97ed2f4b88a4',\n",
       "                        [{\"alignmentgroup\": \"True\", \"hovertemplate\": \"variable=pos2<br>index=%{x}<br>value=%{y}<extra></extra>\", \"legendgroup\": \"pos2\", \"marker\": {\"color\": \"#636efa\"}, \"name\": \"pos2\", \"offsetgroup\": \"pos2\", \"orientation\": \"v\", \"showlegend\": true, \"textposition\": \"auto\", \"type\": \"bar\", \"x\": [\"GK\", \"DF\", \"MF\", \"FW\"], \"xaxis\": \"x\", \"y\": [67, 232, 240, 104], \"yaxis\": \"y\"}],\n",
       "                        {\"barmode\": \"relative\", \"legend\": {\"title\": {\"text\": \"variable\"}, \"tracegroupgap\": 0}, \"margin\": {\"t\": 60}, \"showlegend\": false, \"template\": {\"data\": {\"bar\": [{\"error_x\": {\"color\": \"#2a3f5f\"}, \"error_y\": {\"color\": \"#2a3f5f\"}, \"marker\": {\"line\": {\"color\": \"#E5ECF6\", \"width\": 0.5}}, \"type\": \"bar\"}], \"barpolar\": [{\"marker\": {\"line\": {\"color\": \"#E5ECF6\", \"width\": 0.5}}, \"type\": \"barpolar\"}], \"carpet\": [{\"aaxis\": {\"endlinecolor\": \"#2a3f5f\", \"gridcolor\": \"white\", \"linecolor\": \"white\", \"minorgridcolor\": \"white\", \"startlinecolor\": \"#2a3f5f\"}, \"baxis\": {\"endlinecolor\": \"#2a3f5f\", \"gridcolor\": \"white\", \"linecolor\": \"white\", \"minorgridcolor\": \"white\", \"startlinecolor\": \"#2a3f5f\"}, \"type\": \"carpet\"}], \"choropleth\": [{\"colorbar\": {\"outlinewidth\": 0, \"ticks\": \"\"}, \"type\": \"choropleth\"}], \"contour\": [{\"colorbar\": {\"outlinewidth\": 0, \"ticks\": \"\"}, \"colorscale\": [[0.0, \"#0d0887\"], [0.1111111111111111, \"#46039f\"], [0.2222222222222222, \"#7201a8\"], [0.3333333333333333, \"#9c179e\"], [0.4444444444444444, \"#bd3786\"], [0.5555555555555556, \"#d8576b\"], [0.6666666666666666, \"#ed7953\"], [0.7777777777777778, \"#fb9f3a\"], [0.8888888888888888, \"#fdca26\"], [1.0, \"#f0f921\"]], \"type\": \"contour\"}], \"contourcarpet\": [{\"colorbar\": {\"outlinewidth\": 0, \"ticks\": \"\"}, \"type\": \"contourcarpet\"}], \"heatmap\": [{\"colorbar\": {\"outlinewidth\": 0, \"ticks\": \"\"}, \"colorscale\": [[0.0, \"#0d0887\"], [0.1111111111111111, \"#46039f\"], [0.2222222222222222, \"#7201a8\"], [0.3333333333333333, \"#9c179e\"], [0.4444444444444444, \"#bd3786\"], [0.5555555555555556, \"#d8576b\"], [0.6666666666666666, \"#ed7953\"], [0.7777777777777778, \"#fb9f3a\"], [0.8888888888888888, \"#fdca26\"], [1.0, \"#f0f921\"]], \"type\": \"heatmap\"}], \"heatmapgl\": [{\"colorbar\": {\"outlinewidth\": 0, \"ticks\": \"\"}, \"colorscale\": [[0.0, \"#0d0887\"], [0.1111111111111111, \"#46039f\"], [0.2222222222222222, \"#7201a8\"], [0.3333333333333333, \"#9c179e\"], [0.4444444444444444, \"#bd3786\"], [0.5555555555555556, \"#d8576b\"], [0.6666666666666666, \"#ed7953\"], [0.7777777777777778, \"#fb9f3a\"], [0.8888888888888888, \"#fdca26\"], [1.0, \"#f0f921\"]], \"type\": \"heatmapgl\"}], \"histogram\": [{\"marker\": {\"colorbar\": {\"outlinewidth\": 0, \"ticks\": \"\"}}, \"type\": \"histogram\"}], \"histogram2d\": [{\"colorbar\": {\"outlinewidth\": 0, \"ticks\": \"\"}, \"colorscale\": [[0.0, \"#0d0887\"], [0.1111111111111111, \"#46039f\"], [0.2222222222222222, \"#7201a8\"], [0.3333333333333333, \"#9c179e\"], [0.4444444444444444, \"#bd3786\"], [0.5555555555555556, \"#d8576b\"], [0.6666666666666666, \"#ed7953\"], [0.7777777777777778, \"#fb9f3a\"], [0.8888888888888888, \"#fdca26\"], [1.0, \"#f0f921\"]], \"type\": \"histogram2d\"}], \"histogram2dcontour\": [{\"colorbar\": {\"outlinewidth\": 0, \"ticks\": \"\"}, \"colorscale\": [[0.0, \"#0d0887\"], [0.1111111111111111, \"#46039f\"], [0.2222222222222222, \"#7201a8\"], [0.3333333333333333, \"#9c179e\"], [0.4444444444444444, \"#bd3786\"], [0.5555555555555556, \"#d8576b\"], [0.6666666666666666, \"#ed7953\"], [0.7777777777777778, \"#fb9f3a\"], [0.8888888888888888, \"#fdca26\"], [1.0, \"#f0f921\"]], \"type\": \"histogram2dcontour\"}], \"mesh3d\": [{\"colorbar\": {\"outlinewidth\": 0, \"ticks\": \"\"}, \"type\": \"mesh3d\"}], \"parcoords\": [{\"line\": {\"colorbar\": {\"outlinewidth\": 0, \"ticks\": \"\"}}, \"type\": \"parcoords\"}], \"pie\": [{\"automargin\": true, \"type\": \"pie\"}], \"scatter\": [{\"marker\": {\"colorbar\": {\"outlinewidth\": 0, \"ticks\": \"\"}}, \"type\": \"scatter\"}], \"scatter3d\": [{\"line\": {\"colorbar\": {\"outlinewidth\": 0, \"ticks\": \"\"}}, \"marker\": {\"colorbar\": {\"outlinewidth\": 0, \"ticks\": \"\"}}, \"type\": \"scatter3d\"}], \"scattercarpet\": [{\"marker\": {\"colorbar\": {\"outlinewidth\": 0, \"ticks\": \"\"}}, \"type\": \"scattercarpet\"}], \"scattergeo\": [{\"marker\": {\"colorbar\": {\"outlinewidth\": 0, \"ticks\": \"\"}}, \"type\": \"scattergeo\"}], \"scattergl\": [{\"marker\": {\"colorbar\": {\"outlinewidth\": 0, \"ticks\": \"\"}}, \"type\": \"scattergl\"}], \"scattermapbox\": [{\"marker\": {\"colorbar\": {\"outlinewidth\": 0, \"ticks\": \"\"}}, \"type\": \"scattermapbox\"}], \"scatterpolar\": [{\"marker\": {\"colorbar\": {\"outlinewidth\": 0, \"ticks\": \"\"}}, \"type\": \"scatterpolar\"}], \"scatterpolargl\": [{\"marker\": {\"colorbar\": {\"outlinewidth\": 0, \"ticks\": \"\"}}, \"type\": \"scatterpolargl\"}], \"scatterternary\": [{\"marker\": {\"colorbar\": {\"outlinewidth\": 0, \"ticks\": \"\"}}, \"type\": \"scatterternary\"}], \"surface\": [{\"colorbar\": {\"outlinewidth\": 0, \"ticks\": \"\"}, \"colorscale\": [[0.0, \"#0d0887\"], [0.1111111111111111, \"#46039f\"], [0.2222222222222222, \"#7201a8\"], [0.3333333333333333, \"#9c179e\"], [0.4444444444444444, \"#bd3786\"], [0.5555555555555556, \"#d8576b\"], [0.6666666666666666, \"#ed7953\"], [0.7777777777777778, \"#fb9f3a\"], [0.8888888888888888, \"#fdca26\"], [1.0, \"#f0f921\"]], \"type\": \"surface\"}], \"table\": [{\"cells\": {\"fill\": {\"color\": \"#EBF0F8\"}, \"line\": {\"color\": \"white\"}}, \"header\": {\"fill\": {\"color\": \"#C8D4E3\"}, \"line\": {\"color\": \"white\"}}, \"type\": \"table\"}]}, \"layout\": {\"annotationdefaults\": {\"arrowcolor\": \"#2a3f5f\", \"arrowhead\": 0, \"arrowwidth\": 1}, \"coloraxis\": {\"colorbar\": {\"outlinewidth\": 0, \"ticks\": \"\"}}, \"colorscale\": {\"diverging\": [[0, \"#8e0152\"], [0.1, \"#c51b7d\"], [0.2, \"#de77ae\"], [0.3, \"#f1b6da\"], [0.4, \"#fde0ef\"], [0.5, \"#f7f7f7\"], [0.6, \"#e6f5d0\"], [0.7, \"#b8e186\"], [0.8, \"#7fbc41\"], [0.9, \"#4d9221\"], [1, \"#276419\"]], \"sequential\": [[0.0, \"#0d0887\"], [0.1111111111111111, \"#46039f\"], [0.2222222222222222, \"#7201a8\"], [0.3333333333333333, \"#9c179e\"], [0.4444444444444444, \"#bd3786\"], [0.5555555555555556, \"#d8576b\"], [0.6666666666666666, \"#ed7953\"], [0.7777777777777778, \"#fb9f3a\"], [0.8888888888888888, \"#fdca26\"], [1.0, \"#f0f921\"]], \"sequentialminus\": [[0.0, \"#0d0887\"], [0.1111111111111111, \"#46039f\"], [0.2222222222222222, \"#7201a8\"], [0.3333333333333333, \"#9c179e\"], [0.4444444444444444, \"#bd3786\"], [0.5555555555555556, \"#d8576b\"], [0.6666666666666666, \"#ed7953\"], [0.7777777777777778, \"#fb9f3a\"], [0.8888888888888888, \"#fdca26\"], [1.0, \"#f0f921\"]]}, \"colorway\": [\"#636efa\", \"#EF553B\", \"#00cc96\", \"#ab63fa\", \"#FFA15A\", \"#19d3f3\", \"#FF6692\", \"#B6E880\", \"#FF97FF\", \"#FECB52\"], \"font\": {\"color\": \"#2a3f5f\"}, \"geo\": {\"bgcolor\": \"white\", \"lakecolor\": \"white\", \"landcolor\": \"#E5ECF6\", \"showlakes\": true, \"showland\": true, \"subunitcolor\": \"white\"}, \"hoverlabel\": {\"align\": \"left\"}, \"hovermode\": \"closest\", \"mapbox\": {\"style\": \"light\"}, \"paper_bgcolor\": \"white\", \"plot_bgcolor\": \"#E5ECF6\", \"polar\": {\"angularaxis\": {\"gridcolor\": \"white\", \"linecolor\": \"white\", \"ticks\": \"\"}, \"bgcolor\": \"#E5ECF6\", \"radialaxis\": {\"gridcolor\": \"white\", \"linecolor\": \"white\", \"ticks\": \"\"}}, \"scene\": {\"xaxis\": {\"backgroundcolor\": \"#E5ECF6\", \"gridcolor\": \"white\", \"gridwidth\": 2, \"linecolor\": \"white\", \"showbackground\": true, \"ticks\": \"\", \"zerolinecolor\": \"white\"}, \"yaxis\": {\"backgroundcolor\": \"#E5ECF6\", \"gridcolor\": \"white\", \"gridwidth\": 2, \"linecolor\": \"white\", \"showbackground\": true, \"ticks\": \"\", \"zerolinecolor\": \"white\"}, \"zaxis\": {\"backgroundcolor\": \"#E5ECF6\", \"gridcolor\": \"white\", \"gridwidth\": 2, \"linecolor\": \"white\", \"showbackground\": true, \"ticks\": \"\", \"zerolinecolor\": \"white\"}}, \"shapedefaults\": {\"line\": {\"color\": \"#2a3f5f\"}}, \"ternary\": {\"aaxis\": {\"gridcolor\": \"white\", \"linecolor\": \"white\", \"ticks\": \"\"}, \"baxis\": {\"gridcolor\": \"white\", \"linecolor\": \"white\", \"ticks\": \"\"}, \"bgcolor\": \"#E5ECF6\", \"caxis\": {\"gridcolor\": \"white\", \"linecolor\": \"white\", \"ticks\": \"\"}}, \"title\": {\"x\": 0.05}, \"xaxis\": {\"automargin\": true, \"gridcolor\": \"white\", \"linecolor\": \"white\", \"ticks\": \"\", \"title\": {\"standoff\": 15}, \"zerolinecolor\": \"white\", \"zerolinewidth\": 2}, \"yaxis\": {\"automargin\": true, \"gridcolor\": \"white\", \"linecolor\": \"white\", \"ticks\": \"\", \"title\": {\"standoff\": 15}, \"zerolinecolor\": \"white\", \"zerolinewidth\": 2}}}, \"xaxis\": {\"anchor\": \"y\", \"domain\": [0.0, 1.0], \"title\": {\"text\": \"Position\"}}, \"yaxis\": {\"anchor\": \"x\", \"domain\": [0.0, 1.0], \"title\": {\"text\": \"Count\"}}},\n",
       "                        {\"responsive\": true}\n",
       "                    )\n",
       "                };\n",
       "                \n",
       "            </script>\n",
       "        </div>\n",
       "</body>\n",
       "</html>"
      ],
      "text/plain": [
       "<IPython.core.display.HTML object>"
      ]
     },
     "execution_count": 136,
     "metadata": {},
     "output_type": "execute_result"
    }
   ],
   "source": [
    "# collapse\n",
    "import plotly.express as px\n",
    "from IPython.display import HTML\n",
    "\n",
    "cat_order = ['GK','DF','MF','FW']\n",
    "fig = px.bar(pos_count.reindex(cat_order))\n",
    "fig.update_layout(yaxis_title=\"Count\")\n",
    "fig.update_layout(xaxis_title=\"Position\")\n",
    "fig.update_layout(showlegend=False)\n",
    "#fig.show()\n",
    "HTML(fig.to_html(include_plotlyjs='cdn'))"
   ]
  },
  {
   "cell_type": "markdown",
   "metadata": {},
   "source": []
  },
  {
   "cell_type": "markdown",
   "metadata": {},
   "source": [
    "## Plot of variables vs simpler position"
   ]
  },
  {
   "cell_type": "markdown",
   "metadata": {
    "ExecuteTime": {
     "end_time": "2020-11-09T10:13:38.185038Z",
     "start_time": "2020-11-09T10:13:38.180043Z"
    }
   },
   "source": [
    "**wage, rating per position**"
   ]
  },
  {
   "cell_type": "code",
   "execution_count": 143,
   "metadata": {
    "ExecuteTime": {
     "end_time": "2020-11-19T07:35:07.050417Z",
     "start_time": "2020-11-19T07:35:06.995511Z"
    },
    "code_folding": [
     0
    ]
   },
   "outputs": [
    {
     "data": {
      "text/html": [
       "<html>\n",
       "<head><meta charset=\"utf-8\" /></head>\n",
       "<body>\n",
       "    <div>\n",
       "        \n",
       "                <script type=\"text/javascript\">window.PlotlyConfig = {MathJaxConfig: 'local'};</script>\n",
       "        <script src=\"https://cdn.plot.ly/plotly-latest.min.js\"></script>    \n",
       "            <div id=\"1d24c5ef-bcf8-4062-a7a1-7e6919473cc0\" class=\"plotly-graph-div\" style=\"height:100%; width:100%;\"></div>\n",
       "            <script type=\"text/javascript\">\n",
       "                \n",
       "                    window.PLOTLYENV=window.PLOTLYENV || {};\n",
       "                    \n",
       "                if (document.getElementById(\"1d24c5ef-bcf8-4062-a7a1-7e6919473cc0\")) {\n",
       "                    Plotly.newPlot(\n",
       "                        '1d24c5ef-bcf8-4062-a7a1-7e6919473cc0',\n",
       "                        [{\"customdata\": [[\"K. De Bruyne\"], [\"N. Kant\\u00e9\"], [\"H. Son\"], [\"Fabinho\"], [\"Bruno Fernandes\"], [\"J. Henderson\"], [\"P. Pogba\"], [\"K. Havertz\"], [\"H. Ziyech\"], [\"G. Wijnaldum\"], [\"Thiago\"], [\"Rodri\"], [\"M. Rashford\"], [\"T. Partey\"], [\"Jorginho\"], [\"M. Kova\\u010di\\u0107\"], [\"Allan\"], [\"I. G\\u00fcndo\\u011fan\"], [\"D. van de Beek\"], [\"Jo\\u00e3o Moutinho\"], [\"N. P\\u00e9p\\u00e9\"], [\"M. \\u00d6zil\"], [\"J. Rodr\\u00edguez\"], [\"Lucas Moura\"], [\"G. Lo Celso\"], [\"D. Alli\"], [\"S. Bergwijn\"], [\"R\\u00faben Neves\"], [\"C. Pulisic\"], [\"Raphinha\"], [\"N. Ke\\u00efta\"], [\"X. Shaqiri\"], [\"Ferran Torres\"], [\"Fred\"], [\"T. Sou\\u010dek\"], [\"Y. Tielemans\"], [\"J. Maddison\"], [\"Dani Ceballos\"], [\"G. Xhaka\"], [\"J. Grealish\"], [\"M. Mount\"], [\"J. Milner\"], [\"Diogo Jota\"], [\"O. Zinchenko\"], [\"V. Lindel\\u00f6f\"], [\"N. Mati\\u0107\"], [\"A. Saint-Maximin\"], [\"P. H\\u00f8jbjerg\"], [\"T. Ndombele\"], [\"E. Lamela\"], [\"Andr\\u00e9 Gomes\"], [\"G. Sigur\\u00f0sson\"], [\"A. Oxlade-Chamberlain\"], [\"P. Foden\"], [\"S. McTominay\"], [\"Juan Mata\"], [\"R. Fraser\"], [\"J. Ward-Prowse\"], [\"M. Sissoko\"], [\"H. Winks\"], [\"D. Rice\"], [\"Pablo Fornals\"], [\"H. Barnes\"], [\"C. Coady\"], [\"Adama Traor\\u00e9\"], [\"S. Berge\"], [\"L. Milivojevi\\u0107\"], [\"R. Barkley\"], [\"A. Doucour\\u00e9\"], [\"Bernard\"], [\"M. Almir\\u00f3n\"], [\"N. Redmond\"], [\"M. Lanzini\"], [\"C. \\u00dcnder\"], [\"Daniel Podence\"], [\"R. Loftus-Cheek\"], [\"A. Westwood\"], [\"D. McNeil\"], [\"L. Trossard\"], [\"A. Iwobi\"], [\"K. Phillips\"], [\"T. Minamino\"], [\"M. Greenwood\"], [\"J. Lingard\"], [\"D. James\"], [\"I. Hayden\"], [\"J. Shelvey\"], [\"M. Ritchie\"], [\"J. Bowen\"], [\"R. Snodgrass\"], [\"S. Benrahma\"], [\"D. Praet\"], [\"M. Lemina\"], [\"O. Norwood\"], [\"J. Fleck\"], [\"J. Gu\\u00f0mundsson\"], [\"J. Cork\"], [\"A. Townsend\"], [\"A. Lallana\"], [\"M. Elneny\"], [\"J. McGinn\"], [\"B. Traor\\u00e9\"], [\"F. Delph\"], [\"S. Armstrong\"], [\"T. Walcott\"], [\"M. Albrighton\"], [\"N. Mendy\"], [\"Matheus Pereira\"], [\"T. Cairney\"], [\"A. Zambo Anguissa\"], [\"J. Seri\"], [\"J. Lundstram\"], [\"D. Stephens\"], [\"J. McCarthy\"], [\"M. Meyer\"], [\"P. Gro\\u00df\"], [\"D. Pr\\u00f6pper\"], [\"B. Saka\"], [\"Douglas Luiz\"], [\"Trezeguet\"], [\"C. Hourihane\"], [\"M. Nakamba\"], [\"T. Davies\"], [\"Pablo Hern\\u00e1ndez\"], [\"J. Hendrick\"], [\"Oriol Romeu\"], [\"M. Djenepo\"], [\"Gedson Fernandes\"], [\"M. Noble\"], [\"D. Gray\"], [\"R. Brady\"], [\"J. McArthur\"], [\"J. Schlupp\"], [\"E. Eze\"], [\"S. March\"], [\"Y. Bissouma\"], [\"A. Mac Allister\"], [\"C. Hudson-Odoi\"], [\"M. Klich\"], [\"J. Harrison\"], [\"J. Livermore\"], [\"M. Phillips\"], [\"D. McGoldrick\"], [\"D. Drinkwater\"], [\"C. Musonda\"], [\"H\\u00e9lder Costa\"], [\"S. Longstaff\"], [\"C. Atsu\"], [\"C. Fuchs\"], [\"R. Sawyers\"], [\"G. Diangana\"], [\"K. Grosicki\"], [\"H. Reed\"], [\"O. Aina\"], [\"J. Brownhill\"], [\"R. Nelson\"], [\"M. Longstaff\"], [\"J. Murphy\"], [\"I. Diallo\"], [\"F. Krovinovi\\u0107\"], [\"S. Johansen\"], [\"J. Willock\"], [\"B. Gilmour\"], [\"F. Pellistri\"], [\"M. Be\\u0161i\\u0107\"], [\"A. Forshaw\"], [\"C. Gallagher\"], [\"K. McDonald\"], [\"E. Smith Rowe\"], [\"H. Lansbury\"], [\"P. Sandler\"], [\"C. Summerville\"], [\"R. Aarons\"], [\"K. Edwards\"], [\"J. Onomah\"], [\"S. Alzate\"], [\"B. Baningime\"], [\"C. Jones\"], [\"R. Vilca\"], [\"J. Clarke\"], [\"R. Harper\"], [\"S. Field\"], [\"O. Burke\"], [\"E. Ampadu\"], [\"J. Molumby\"], [\"A. Gordon\"], [\"E. Laird\"], [\"V\\u00edtor Ferreira\"], [\"I. Poveda\"], [\"J. Shackleton\"], [\"C. Gomes\"], [\"W. Smallbone\"], [\"M. Kilman\"], [\"E. Galbraith\"], [\"F. Nmecha\"], [\"N. Tella\"], [\"G. Marsh\"], [\"M. Shabani\"], [\"J. Benson\"], [\"O. Bouy\"], [\"Adri\\u00e1n Bernab\\u00e9\"], [\"S. Jasper\"], [\"B. Pierrick\"], [\"T. Doyle\"], [\"C. Slattery\"], [\"H. White\"], [\"J. Bowden\"], [\"L. Ndukwu\"], [\"C. Wright\"], [\"M. Goodridge\"], [\"N. Kirby\"], [\"W. Ferry\"], [\"C. Coventry\"], [\"K. Leshabela\"], [\"T. Suengchitthawon\"], [\"Sidnei Tavares\"], [\"S. Diallo\"], [\"M. Sanders\"], [\"U. Eneme-Ella\"], [\"E. Anderson\"], [\"F. Carvalho\"], [\"P. Gwargis\"], [\"L. McCarron\"], [\"J. White\"], [\"A. Lewis\"], [\"C. Campbell\"], [\"T. Corbeanu\"], [\"T. Francois\"], [\"Z. Brunt\"], [\"G. McGregor\"], [\"C. Palmer\"], [\"W. Rickard\"], [\"J. Ramsey\"], [\"Bernardo Rosa\"], [\"T. Perry\"], [\"I. Diallo\"], [\"R. Richards\"], [\"L. Cundle\"], [\"L. Brunt\"], [\"C. Rowe\"]], \"hovertemplate\": \"pos2=MF<br>rating=%{x}<br>wage=%{y}<br>Player_name=%{customdata[0]}<extra></extra>\", \"legendgroup\": \"MF\", \"marker\": {\"color\": \"#636efa\", \"symbol\": \"circle\"}, \"mode\": \"markers\", \"name\": \"MF\", \"orientation\": \"v\", \"showlegend\": true, \"type\": \"scatter\", \"x\": [91, 88, 88, 87, 88, 86, 86, 87, 85, 85, 85, 85, 86, 86, 83, 86, 85, 83, 85, 83, 83, 82, 82, 82, 84, 85, 84, 83, 82, 82, 83, 81, 82, 82, 82, 83, 83, 82, 80, 83, 82, 81, 81, 81, 82, 80, 81, 81, 83, 80, 79, 79, 81, 81, 80, 79, 79, 81, 79, 81, 80, 81, 81, 81, 80, 80, 79, 81, 79, 78, 80, 78, 79, 79, 80, 80, 78, 79, 80, 79, 78, 78, 78, 77, 78, 78, 77, 77, 78, 77, 78, 79, 78, 77, 77, 77, 77, 77, 78, 76, 78, 77, 76, 76, 76, 76, 76, 78, 76, 79, 76, 78, 76, 76, 77, 76, 76, 76, 76, 76, 75, 76, 77, 75, 75, 75, 76, 77, 75, 76, 75, 77, 75, 77, 75, 77, 77, 75, 74, 75, 74, 74, 75, 73, 74, 73, 75, 73, 74, 73, 74, 73, 74, 75, 75, 74, 74, 73, 73, 75, 72, 73, 73, 72, 72, 71, 72, 70, 71, 69, 71, 69, 69, 69, 72, 71, 68, 71, 69, 68, 69, 68, 70, 69, 69, 68, 67, 69, 66, 69, 66, 68, 67, 65, 64, 63, 63, 64, 63, 65, 63, 62, 62, 62, 63, 63, 61, 61, 63, 62, 61, 61, 61, 61, 62, 61, 61, 61, 61, 60, 60, 59, 58, 61, 60, 60, 59, 61, 59, 59, 58, 58, 57, 57, 58, 58, 55, 57, 54, 54], \"xaxis\": \"x\", \"y\": [370000.0, 190000.0, 200000.0, 155000.0, 195000.0, 140000.0, 190000.0, 105000.0, 140000.0, 150000.0, 150000.0, 145000.0, 150000.0, 120000.0, 125000.0, 120000.0, 115000.0, 160000.0, 125000.0, 110000.0, 100000.0, 100000.0, 105000.0, 110000.0, 95000.0, 95000.0, 95000.0, 89000.0, 83000.0, 100000.0, 95000.0, 105000.0, 95000.0, 115000.0, 46000.0, 82000.0, 82000.0, 125000.0, 81000.0, 65000.0, 70000.0, 95000.0, 90000.0, 95000.0, 100000.0, 105000.0, 43000.0, 74000.0, 82000.0, 100000.0, 83000.0, 83000.0, 89000.0, 86000.0, 86000.0, 110000.0, 47000.0, 59000.0, 81000.0, 70000.0, 31000.0, 41000.0, 80000.0, 76000.0, 80000.0, 34000.0, 59000.0, 81000.0, 76000.0, 76000.0, 43000.0, 56000.0, 43000.0, 66000.0, 72000.0, 70000.0, 51000.0, 41000.0, 56000.0, 62000.0, 68000.0, 79000.0, 33000.0, 95000.0, 81000.0, 35000.0, 42000.0, 40000.0, 35000.0, 40000.0, 43000.0, 71000.0, 52000.0, 38000.0, 38000.0, 54000.0, 48000.0, 54000.0, 55000.0, 60000.0, 49000.0, 49000.0, 60000.0, 51000.0, 66000.0, 66000.0, 63000.0, 61000.0, 85000.0, 71000.0, 85000.0, 34000.0, 44000.0, 46000.0, 42000.0, 53000.0, 53000.0, 22000.0, 38000.0, 51000.0, 51000.0, 44000.0, 55000.0, 57000.0, 37000.0, 44000.0, 40000.0, 10000.0, 36000.0, 55000.0, 48000.0, 46000.0, 46000.0, 40000.0, 46000.0, 42000.0, 36000.0, 41000.0, 72000.0, 71000.0, 57000.0, 65000.0, 33000.0, 57000.0, 50000.0, 66000.0, 26000.0, 32000.0, 49000.0, 60000.0, 50000.0, 57000.0, 57000.0, 28000.0, 34000.0, 39000.0, 20000.0, 26000.0, 23000.0, 9000.0, 61000.0, 31000.0, 25000.0, 19000.0, 36000.0, 43000.0, 29000.0, 41000.0, 18000.0, 25000.0, 34000.0, 14000.0, 13000.0, 24000.0, 28000.0, 15000.0, 15000.0, 13000.0, 9000.0, 13000.0, 18000.0, 19000.0, 11000.0, 6000.0, 13000.0, 13000.0, 7000.0, 3000.0, 15000.0, 15000.0, 11000.0, 9000.0, 13000.0, 9000.0, 10000.0, 7000.0, 8000.0, 9000.0, 6000.0, 13000.0, 9000.0, 8000.0, 3000.0, 5000.0, 6000.0, 3000.0, 3000.0, 8000.0, 8000.0, 6000.0, 6000.0, 6000.0, 5000.0, 8000.0, 8000.0, 4000.0, 8000.0, 6000.0, 5000.0, null, 2000.0, 5000.0, 7000.0, null, 5000.0, 1000.0, 5000.0, 7000.0, 2000.0, 6000.0, 5000.0, 3000.0, 4000.0, 3000.0, 3000.0, 5000.0, 1000.0, 3000.0, 4000.0, 6000.0], \"yaxis\": \"y\"}, {\"customdata\": [[\"Alisson\"], [\"Ederson\"], [\"H. Lloris\"], [\"De Gea\"], [\"B. Leno\"], [\"K. Schmeichel\"], [\"Rui Patr\\u00edcio\"], [\"M. D\\u00fabravka\"], [\"A. Areola\"], [\"N. Pope\"], [\"Kepa\"], [\"J. Pickford\"], [\"L. Fabia\\u0144ski\"], [\"D. Henderson\"], [\"S. Romero\"], [\"Guaita\"], [\"M. Ryan\"], [\"E. Mendy\"], [\"E. Mart\\u00ednez\"], [\"R. Olsen\"], [\"T. Heaton\"], [\"A. McCarthy\"], [\"P. Gazzaniga\"], [\"Z. Steffen\"], [\"W. Caballero\"], [\"Adri\\u00e1n\"], [\"K. Darlow\"], [\"F. Forster\"], [\"J. Hart\"], [\"D. Randolph\"], [\"S. Johnstone\"], [\"A. Ramsdale\"], [\"W. Hennessey\"], [\"L. Kalini\\u0107\"], [\"D. Ward\"], [\"M. Rod\\u00e1k\"], [\"Fabricio\"], [\"J. L\\u00f6ssl\"], [\"Kiko Casilla\"], [\"J. Butland\"], [\"C. Walton\"], [\"M. Gillespie\"], [\"W. Foderingham\"], [\"R. R\\u00fanarsson\"], [\"J. Steer\"], [\"I. Meslier\"], [\"S. Carson\"], [\"L. Grant\"], [\"J. Ruddy\"], [\"M. Verrips\"], [\"B. Peacock-Farrell\"], [\"D. Button\"], [\"S. Moore\"], [\"J. Steele\"], [\"D. Martin\"], [\"E. Jakupovi\\u0107\"], [\"M. Macey\"], [\"W. Norris\"], [\"S. Henderson\"], [\"Jo\\u00e3o Virg\\u00ednia\"], [\"J. Bond\"], [\"Robert Sanchez\"], [\"A. Whiteman\"], [\"C. Kelleher\"], [\"N. Trott\"], [\"E. Caprile\"], [\"A. S\\u00f8ndergaard\"]], \"hovertemplate\": \"pos2=GK<br>rating=%{x}<br>wage=%{y}<br>Player_name=%{customdata[0]}<extra></extra>\", \"legendgroup\": \"GK\", \"marker\": {\"color\": \"#EF553B\", \"symbol\": \"circle\"}, \"mode\": \"markers\", \"name\": \"GK\", \"orientation\": \"v\", \"showlegend\": true, \"type\": \"scatter\", \"x\": [90, 88, 87, 86, 85, 84, 84, 83, 82, 82, 81, 81, 81, 80, 80, 80, 80, 79, 78, 78, 77, 77, 77, 76, 75, 75, 75, 75, 75, 75, 75, 75, 75, 74, 74, 74, 74, 73, 73, 73, 72, 71, 71, 70, 70, 70, 70, 70, 70, 69, 69, 68, 67, 67, 66, 66, 65, 65, 65, 64, 64, 64, 63, 61, 61, 60, 58], \"xaxis\": \"x\", \"y\": [160000.0, 195000.0, 125000.0, 150000.0, 105000.0, 90000.0, 90000.0, 47000.0, 71000.0, 59000.0, 70000.0, 70000.0, 26000.0, 70000.0, 86000.0, 48000.0, 53000.0, 70000.0, 43000.0, 56000.0, 40000.0, 39000.0, 59000.0, 64000.0, 32000.0, 50000.0, 28000.0, 34000.0, 50000.0, 26000.0, 50000.0, 20000.0, 34000.0, 33000.0, 43000.0, 44000.0, 53000.0, 40000.0, 49000.0, 29000.0, 22000.0, 19000.0, 17000.0, 25000.0, 21000.0, 22000.0, 12000.0, 23000.0, 27000.0, 10000.0, 14000.0, 21000.0, 9000.0, 13000.0, 8000.0, 9000.0, 12000.0, 9000.0, 9000.0, 7000.0, 12000.0, 7000.0, 7000.0, 6000.0, 3000.0, 1000.0, 3000.0], \"yaxis\": \"y\"}, {\"customdata\": [[\"M. Salah\"], [\"S. Man\\u00e9\"], [\"S. Ag\\u00fcero\"], [\"R. Sterling\"], [\"H. Kane\"], [\"P. Aubameyang\"], [\"Roberto Firmino\"], [\"Bernardo Silva\"], [\"J. Vardy\"], [\"T. Werner\"], [\"R. Mahrez\"], [\"A. Martial\"], [\"E. Cavani\"], [\"R. Jim\\u00e9nez\"], [\"A. Lacazette\"], [\"Gabriel Jesus\"], [\"G. Bale\"], [\"W. Zaha\"], [\"Willian\"], [\"Rodrigo\"], [\"Richarlison\"], [\"D. Ings\"], [\"S. Haller\"], [\"D. Calvert-Lewin\"], [\"O. Giroud\"], [\"Vin\\u00edcius\"], [\"T. Abraham\"], [\"C. Wilson\"], [\"M. Antonio\"], [\"Ayoze P\\u00e9rez\"], [\"C. Wood\"], [\"D. Origi\"], [\"A. Yarmolenko\"], [\"I. Slimani\"], [\"A. Mitrovi\\u0107\"], [\"A. Barnes\"], [\"J. Ayew\"], [\"M. Batshuayi\"], [\"N. Maupay\"], [\"O. Watkins\"], [\"Wesley\"], [\"O. Ighalo\"], [\"J. Rodriguez\"], [\"A. El Ghazi\"], [\"C. Tosun\"], [\"Joelinton\"], [\"Ivan Cavaleiro\"], [\"A. Lookman\"], [\"O. McBurnie\"], [\"Gabriel Martinelli\"], [\"Y. Bolasie\"], [\"A. Carroll\"], [\"D. Gayle\"], [\"S. Long\"], [\"C. Adams\"], [\"K. Iheanacho\"], [\"L. Mousset\"], [\"A. Jahanbakhsh\"], [\"J. Izquierdo\"], [\"F. Andone\"], [\"P. Bamford\"], [\"K. Grant\"], [\"B. Sharp\"], [\"M. Vydra\"], [\"D. Welbeck\"], [\"E. Nketiah\"], [\"C. Robinson\"], [\"C. Austin\"], [\"Pedro Neto\"], [\"B. Decordova-Reid\"], [\"A. Kamara\"], [\"C. Benteke\"], [\"T. Roberts\"], [\"H. Robson-Kanu\"], [\"N. Kebano\"], [\"R. Brewster\"], [\"A. Connolly\"], [\"M. Obafemi\"], [\"F\\u00e1bio Silva\"], [\"C. Wickham\"], [\"K. Davis\"], [\"A. Zeqiri\"], [\"H. Saivet\"], [\"J. Grot\"], [\"L. Millar\"], [\"N. Holland\"], [\"E. Simms\"], [\"J. Gelhardt\"], [\"L. Delap\"], [\"M. Thompson\"], [\"F. Balogun\"], [\"D. N'Lundulu\"], [\"A. Muskwe\"], [\"M. Taylor-Crossdale\"], [\"P. Glatzel\"], [\"D. Parkhouse\"], [\"S. Greenwood\"], [\"O. Afolayan\"], [\"M\\u00e9saque Dj\\u00fa\"], [\"Y. Tour\\u00e9\"], [\"J. Mumbongo\"], [\"R. Harker\"], [\"J. Hardy\"], [\"M. Tait\"]], \"hovertemplate\": \"pos2=FW<br>rating=%{x}<br>wage=%{y}<br>Player_name=%{customdata[0]}<extra></extra>\", \"legendgroup\": \"FW\", \"marker\": {\"color\": \"#00cc96\", \"symbol\": \"circle\"}, \"mode\": \"markers\", \"name\": \"FW\", \"orientation\": \"v\", \"showlegend\": true, \"type\": \"scatter\", \"x\": [90, 90, 89, 88, 88, 87, 87, 87, 87, 87, 85, 86, 84, 84, 83, 85, 83, 83, 82, 82, 83, 81, 82, 82, 79, 81, 80, 78, 78, 79, 78, 79, 79, 77, 79, 77, 77, 78, 79, 78, 78, 76, 76, 77, 75, 77, 75, 76, 76, 74, 74, 74, 74, 74, 76, 76, 76, 74, 75, 75, 74, 75, 73, 73, 73, 74, 74, 72, 72, 75, 73, 71, 72, 70, 70, 72, 72, 71, 71, 70, 70, 69, 66, 68, 65, 64, 65, 63, 63, 63, 62, 62, 62, 62, 61, 61, 60, 61, 61, 59, 59, 59, 57, 54], \"xaxis\": \"x\", \"y\": [250000.0, 250000.0, 300000.0, 270000.0, 220000.0, 170000.0, 190000.0, 230000.0, 170000.0, 135000.0, 210000.0, 155000.0, 175000.0, 140000.0, 125000.0, 150000.0, 200000.0, 89000.0, 110000.0, 140000.0, 90000.0, 75000.0, 58000.0, 84000.0, 95000.0, 18000.0, 77000.0, 48000.0, 46000.0, 82000.0, 63000.0, 79000.0, 40000.0, 77000.0, 90000.0, 57000.0, 59000.0, 82000.0, 52000.0, 49000.0, 49000.0, 19000.0, 53000.0, 51000.0, 71000.0, 34000.0, 84000.0, 36000.0, 31000.0, 38000.0, 63000.0, 36000.0, 37000.0, 47000.0, 41000.0, 56000.0, 29000.0, 49000.0, 45000.0, 49000.0, 72000.0, 50000.0, 30000.0, 44000.0, 47000.0, 39000.0, 53000.0, 55000.0, 39000.0, 63000.0, 54000.0, 35000.0, 33000.0, 42000.0, 50000.0, 16000.0, 23000.0, 15000.0, 7000.0, 25000.0, 19000.0, 12000.0, 10000.0, 18000.0, 13000.0, 8000.0, 9000.0, 6000.0, 3000.0, 4000.0, 5000.0, 6000.0, 9000.0, 11000.0, 7000.0, 5000.0, 6000.0, 6000.0, 5000.0, 4000.0, 6000.0, 6000.0, 9000.0, 5000.0], \"yaxis\": \"y\"}, {\"customdata\": [[\"V. van Dijk\"], [\"T. Alexander-Arnold\"], [\"A. Robertson\"], [\"A. Laporte\"], [\"Thiago Silva\"], [\"K. Walker\"], [\"T. Alderweireld\"], [\"Ricardo Pereira\"], [\"Azpilicueta\"], [\"L. Digne\"], [\"Fernandinho\"], [\"Alex Telles\"], [\"W. Ndidi\"], [\"J. Matip\"], [\"J. Gomez\"], [\"Jo\\u00e3o Cancelo\"], [\"A. Wan-Bissaka\"], [\"N\\u00e9lson Semedo\"], [\"H. Maguire\"], [\"Reguil\\u00f3n\"], [\"B. Chilwell\"], [\"A. R\\u00fcdiger\"], [\"R\\u00faben Dias\"], [\"B. Mendy\"], [\"L. Shaw\"], [\"M. Doherty\"], [\"D. S\\u00e1nchez\"], [\"Jonny\"], [\"H\\u00e9ctor Beller\\u00edn\"], [\"David Luiz\"], [\"K. Zouma\"], [\"Marcos Alonso\"], [\"J. Stones\"], [\"B. Davies\"], [\"S. Aurier\"], [\"J. Evans\"], [\"C. S\\u00f6y\\u00fcnc\\u00fc\"], [\"W. Boly\"], [\"J. Tarkowski\"], [\"A. Christensen\"], [\"Emerson\"], [\"S. Coleman\"], [\"M. Keane\"], [\"N. Ak\\u00e9\"], [\"E. Bailly\"], [\"E. Dier\"], [\"B. Ivanovi\\u0107\"], [\"B. Mee\"], [\"Gabriel\"], [\"K. Tierney\"], [\"S. Kola\\u0161inac\"], [\"S. Mustafi\"], [\"Sokratis\"], [\"Y. Mina\"], [\"J. Gbamin\"], [\"F. Sch\\u00e4r\"], [\"R. Bertrand\"], [\"D. Rose\"], [\"V. Coufal\"], [\"R. Sa\\u00efss\"], [\"L. Dendoncker\"], [\"J. Egan\"], [\"E. Stevens\"], [\"J. O'Connell\"], [\"L. Dunk\"], [\"R. James\"], [\"M. Holgate\"], [\"J. Lascelles\"], [\"F. Fern\\u00e1ndez\"], [\"J. Bednarek\"], [\"J. Vestergaard\"], [\"A. Ogbonna\"], [\"A. Cresswell\"], [\"A. Masuaku\"], [\"I. Diop\"], [\"T. Castagne\"], [\"K. Tete\"], [\"G. Baldock\"], [\"C. Basham\"], [\"C. Taylor\"], [\"C. Kouyat\\u00e9\"], [\"G. Cahill\"], [\"P. van Aanholt\"], [\"J. Veltman\"], [\"A. Maitland-Niles\"], [\"C\\u00e9dric\"], [\"M. Targett\"], [\"F. Guilbert\"], [\"F. Tomori\"], [\"J. Kenny\"], [\"R. Koch\"], [\"Diego Llorente\"], [\"K. Tsimikas\"], [\"Manquillo\"], [\"C. Clark\"], [\"K. Walker-Peters\"], [\"M. Salisu\"], [\"R. Fredericks\"], [\"Mar\\u00e7al\"], [\"J. Andersen\"], [\"J. Ward\"], [\"M. Sakho\"], [\"J. Tomkins\"], [\"N. Clyne\"], [\"R. Holding\"], [\"Pablo Mar\\u00ed\"], [\"C. Chambers\"], [\"M. Cash\"], [\"T. Mings\"], [\"A. Baba\"], [\"L. Ayling\"], [\"B. Williams\"], [\"P. Jones\"], [\"M. Rojo\"], [\"P. Dummett\"], [\"J. Stephens\"], [\"F. Balbuena\"], [\"K. Gibbs\"], [\"M. Lowton\"], [\"M. Kelly\"], [\"B. White\"], [\"A. Webster\"], [\"D. Burn\"], [\"W. Saliba\"], [\"B. Engels\"], [\"L. Cooper\"], [\"S. Dallas\"], [\"J. Lewis\"], [\"E. Krafth\"], [\"D. Yedlin\"], [\"C. Dawson\"], [\"J. Justin\"], [\"H. Choudhury\"], [\"J. Bryan\"], [\"B. Osborn\"], [\"E. Pieters\"], [\"Bernardo\"], [\"E. Konsa\"], [\"E. Alioski\"], [\"T. Fosu-Mensah\"], [\"A. Tuanzebe\"], [\"W. Morgan\"], [\"D. Amartey\"], [\"S. Ajayi\"], [\"A. Robinson\"], [\"P. Bardsley\"], [\"S. Dann\"], [\"K. Hause\"], [\"B. Godfrey\"], [\"Eric Garc\\u00eda\"], [\"J. Tanganga\"], [\"W. Fofana\"], [\"K. Bartley\"], [\"M. Hector\"], [\"J. Bogle\"], [\"M. Lowe\"], [\"P. Jagielka\"], [\"A. Elmohamady\"], [\"Y. Valery\"], [\"D. Furlong\"], [\"C. Townsend\"], [\"R. A\\u00eft Nouri\"], [\"D. Odoi\"], [\"T. Kongolo\"], [\"K. Long\"], [\"J. Riedewald\"], [\"N. Taylor\"], [\"G. Berardi\"], [\"J. Rodon\"], [\"T. Ream\"], [\"T. Adarabioyo\"], [\"M. Le Marchand\"], [\"J. Robinson\"], [\"L. Peltier\"], [\"Roderick Miranda\"], [\"N. Ferguson\"], [\"N. Phillips\"], [\"D. O'Shea\"], [\"C. Kipr\\u00e9\"], [\"D. Sterling\"], [\"M. Pennington\"], [\"N. Williams\"], [\"J. Rodwell\"], [\"J. Dunne\"], [\"T. Lamptey\"], [\"Gon\\u00e7alo Cardoso\"], [\"S. van den Berg\"], [\"T. Mengi\"], [\"S. McQueen\"], [\"T. Mitchell\"], [\"L. Davis\"], [\"P. Struijk\"], [\"J. Vokins\"], [\"B. Johnson\"], [\"L. Thomas\"], [\"K. Hoever\"], [\"K. Bryan\"], [\"K. John\"], [\"K. Ramsay\"], [\"N. Nkounkou\"], [\"J. Branthwaite\"], [\"C. Drameh\"], [\"Y. Larouci\"], [\"T. Harwood-Bellis\"], [\"D. Cirkin\"], [\"L. Matheson\"], [\"A. Glennon\"], [\"D. Boateng\"], [\"O. Rasmussen\"], [\"R. Yapi\"], [\"O. Casey\"], [\"J. Wakely\"], [\"H. Ashby\"], [\"Christian Marques\"], [\"B. Thomas\"], [\"B. Koumetio\"], [\"C. Cresswell\"], [\"R. Williams\"], [\"Y. Amankwah\"], [\"A. Alese\"], [\"O. Otasowie\"], [\"C. Barrett\"], [\"S. Woods\"], [\"D. Revan\"], [\"L. Dendoncker\"], [\"G. Harmon\"], [\"M. Elva-Fountaine\"], [\"T. Jenks\"], [\"L. Richards\"], [\"K. Gordon\"], [\"H. Boyes\"], [\"J. Belehouan\"]], \"hovertemplate\": \"pos2=DF<br>rating=%{x}<br>wage=%{y}<br>Player_name=%{customdata[0]}<extra></extra>\", \"legendgroup\": \"DF\", \"marker\": {\"color\": \"#ab63fa\", \"symbol\": \"circle\"}, \"mode\": \"markers\", \"name\": \"DF\", \"orientation\": \"v\", \"showlegend\": true, \"type\": \"scatter\", \"x\": [90, 87, 87, 88, 85, 85, 85, 85, 84, 84, 84, 84, 87, 84, 84, 84, 83, 83, 84, 82, 81, 83, 83, 82, 81, 81, 83, 81, 81, 80, 82, 80, 82, 80, 80, 80, 82, 80, 81, 81, 80, 79, 80, 81, 81, 81, 79, 79, 80, 79, 79, 79, 78, 80, 80, 80, 78, 78, 78, 78, 80, 80, 78, 80, 80, 77, 79, 79, 77, 79, 78, 77, 77, 78, 79, 80, 78, 77, 77, 77, 78, 77, 77, 79, 76, 76, 77, 77, 78, 76, 78, 78, 76, 76, 76, 76, 78, 76, 76, 78, 76, 76, 76, 76, 77, 77, 77, 76, 77, 75, 75, 75, 75, 75, 76, 77, 76, 75, 75, 75, 77, 77, 76, 76, 76, 75, 74, 74, 74, 74, 74, 74, 76, 74, 74, 74, 75, 75, 73, 74, 75, 73, 77, 75, 73, 74, 73, 74, 74, 74, 74, 74, 73, 74, 73, 72, 72, 71, 71, 71, 71, 71, 71, 73, 71, 73, 70, 70, 72, 70, 72, 70, 71, 70, 70, 69, 70, 70, 70, 67, 69, 68, 67, 69, 67, 68, 67, 67, 66, 65, 64, 65, 63, 63, 63, 63, 65, 62, 62, 61, 63, 61, 61, 63, 61, 62, 61, 61, 60, 60, 61, 60, 58, 60, 60, 59, 58, 58, 58, 58, 58, 56, 58, 57, 57, 54, 54, 59, 55, 54, 50, 50], \"xaxis\": \"x\", \"y\": [210000.0, 110000.0, 155000.0, 200000.0, 95000.0, 170000.0, 130000.0, 120000.0, 120000.0, 110000.0, 110000.0, 145000.0, 95000.0, 115000.0, 95000.0, 140000.0, 115000.0, 100000.0, 120000.0, 85000.0, 79000.0, 90000.0, 105000.0, 115000.0, 95000.0, 95000.0, 79000.0, 86000.0, 77000.0, 81000.0, 82000.0, 90000.0, 110000.0, 86000.0, 86000.0, 81000.0, 69000.0, 84000.0, 59000.0, 70000.0, 77000.0, 76000.0, 76000.0, 100000.0, 100000.0, 81000.0, 58000.0, 56000.0, 59000.0, 59000.0, 69000.0, 72000.0, 69000.0, 66000.0, 59000.0, 41000.0, 51000.0, 77000.0, 39000.0, 69000.0, 66000.0, 36000.0, 37000.0, 36000.0, 56000.0, 49000.0, 56000.0, 37000.0, 37000.0, 41000.0, 48000.0, 37000.0, 37000.0, 37000.0, 31000.0, 62000.0, 68000.0, 33000.0, 33000.0, 48000.0, 48000.0, 48000.0, 50000.0, 52000.0, 52000.0, 63000.0, 40000.0, 44000.0, 55000.0, 52000.0, 64000.0, 74000.0, 55000.0, 34000.0, 34000.0, 38000.0, 32000.0, 34000.0, 60000.0, 41000.0, 44000.0, 44000.0, 44000.0, 46000.0, 49000.0, 58000.0, 55000.0, 38000.0, 44000.0, 58000.0, 74000.0, 40000.0, 79000.0, 76000.0, 34000.0, 42000.0, 34000.0, 61000.0, 42000.0, 42000.0, 38000.0, 42000.0, 46000.0, 28000.0, 39000.0, 69000.0, 69000.0, 26000.0, 29000.0, 30000.0, 15000.0, 46000.0, 46000.0, 66000.0, 26000.0, 39000.0, 39000.0, 32000.0, 63000.0, 55000.0, 55000.0, 35000.0, 47000.0, 52000.0, 52000.0, 26000.0, 36000.0, 29000.0, 37000.0, 32000.0, 33000.0, 23000.0, 48000.0, 53000.0, 12000.0, 19000.0, 16000.0, 29000.0, 20000.0, 35000.0, 41000.0, 7000.0, 47000.0, 47000.0, 29000.0, 24000.0, 26000.0, 41000.0, 30000.0, 41000.0, 35000.0, 41000.0, 17000.0, 30000.0, 30000.0, 11000.0, 22000.0, 18000.0, 22000.0, 16000.0, 19000.0, 11000.0, 11000.0, 13000.0, 8000.0, 5000.0, 5000.0, 6000.0, 11000.0, 8000.0, 12000.0, 11000.0, 7000.0, 5000.0, 7000.0, 4000.0, 6000.0, 6000.0, 4000.0, 6000.0, 3000.0, 4000.0, 6000.0, 4000.0, 3000.0, null, 6000.0, 4000.0, 8000.0, 4000.0, 6000.0, 5000.0, 2000.0, null, 4000.0, null, null, 5000.0, 7000.0, 3000.0, 5000.0, 2000.0, 5000.0, 4000.0, 4000.0, 5000.0, 3000.0, 3000.0, 2000.0, 1000.0, 4000.0, 2000.0], \"yaxis\": \"y\"}],\n",
       "                        {\"legend\": {\"title\": {\"text\": \"pos2\"}, \"tracegroupgap\": 0}, \"margin\": {\"t\": 60}, \"template\": {\"data\": {\"bar\": [{\"error_x\": {\"color\": \"#2a3f5f\"}, \"error_y\": {\"color\": \"#2a3f5f\"}, \"marker\": {\"line\": {\"color\": \"#E5ECF6\", \"width\": 0.5}}, \"type\": \"bar\"}], \"barpolar\": [{\"marker\": {\"line\": {\"color\": \"#E5ECF6\", \"width\": 0.5}}, \"type\": \"barpolar\"}], \"carpet\": [{\"aaxis\": {\"endlinecolor\": \"#2a3f5f\", \"gridcolor\": \"white\", \"linecolor\": \"white\", \"minorgridcolor\": \"white\", \"startlinecolor\": \"#2a3f5f\"}, \"baxis\": {\"endlinecolor\": \"#2a3f5f\", \"gridcolor\": \"white\", \"linecolor\": \"white\", \"minorgridcolor\": \"white\", \"startlinecolor\": \"#2a3f5f\"}, \"type\": \"carpet\"}], \"choropleth\": [{\"colorbar\": {\"outlinewidth\": 0, \"ticks\": \"\"}, \"type\": \"choropleth\"}], \"contour\": [{\"colorbar\": {\"outlinewidth\": 0, \"ticks\": \"\"}, \"colorscale\": [[0.0, \"#0d0887\"], [0.1111111111111111, \"#46039f\"], [0.2222222222222222, \"#7201a8\"], [0.3333333333333333, \"#9c179e\"], [0.4444444444444444, \"#bd3786\"], [0.5555555555555556, \"#d8576b\"], [0.6666666666666666, \"#ed7953\"], [0.7777777777777778, \"#fb9f3a\"], [0.8888888888888888, \"#fdca26\"], [1.0, \"#f0f921\"]], \"type\": \"contour\"}], \"contourcarpet\": [{\"colorbar\": {\"outlinewidth\": 0, \"ticks\": \"\"}, \"type\": \"contourcarpet\"}], \"heatmap\": [{\"colorbar\": {\"outlinewidth\": 0, \"ticks\": \"\"}, \"colorscale\": [[0.0, \"#0d0887\"], [0.1111111111111111, \"#46039f\"], [0.2222222222222222, \"#7201a8\"], [0.3333333333333333, \"#9c179e\"], [0.4444444444444444, \"#bd3786\"], [0.5555555555555556, \"#d8576b\"], [0.6666666666666666, \"#ed7953\"], [0.7777777777777778, \"#fb9f3a\"], [0.8888888888888888, \"#fdca26\"], [1.0, \"#f0f921\"]], \"type\": \"heatmap\"}], \"heatmapgl\": [{\"colorbar\": {\"outlinewidth\": 0, \"ticks\": \"\"}, \"colorscale\": [[0.0, \"#0d0887\"], [0.1111111111111111, \"#46039f\"], [0.2222222222222222, \"#7201a8\"], [0.3333333333333333, \"#9c179e\"], [0.4444444444444444, \"#bd3786\"], [0.5555555555555556, \"#d8576b\"], [0.6666666666666666, \"#ed7953\"], [0.7777777777777778, \"#fb9f3a\"], [0.8888888888888888, \"#fdca26\"], [1.0, \"#f0f921\"]], \"type\": \"heatmapgl\"}], \"histogram\": [{\"marker\": {\"colorbar\": {\"outlinewidth\": 0, \"ticks\": \"\"}}, \"type\": \"histogram\"}], \"histogram2d\": [{\"colorbar\": {\"outlinewidth\": 0, \"ticks\": \"\"}, \"colorscale\": [[0.0, \"#0d0887\"], [0.1111111111111111, \"#46039f\"], [0.2222222222222222, \"#7201a8\"], [0.3333333333333333, \"#9c179e\"], [0.4444444444444444, \"#bd3786\"], [0.5555555555555556, \"#d8576b\"], [0.6666666666666666, \"#ed7953\"], [0.7777777777777778, \"#fb9f3a\"], [0.8888888888888888, \"#fdca26\"], [1.0, \"#f0f921\"]], \"type\": \"histogram2d\"}], \"histogram2dcontour\": [{\"colorbar\": {\"outlinewidth\": 0, \"ticks\": \"\"}, \"colorscale\": [[0.0, \"#0d0887\"], [0.1111111111111111, \"#46039f\"], [0.2222222222222222, \"#7201a8\"], [0.3333333333333333, \"#9c179e\"], [0.4444444444444444, \"#bd3786\"], [0.5555555555555556, \"#d8576b\"], [0.6666666666666666, \"#ed7953\"], [0.7777777777777778, \"#fb9f3a\"], [0.8888888888888888, \"#fdca26\"], [1.0, \"#f0f921\"]], \"type\": \"histogram2dcontour\"}], \"mesh3d\": [{\"colorbar\": {\"outlinewidth\": 0, \"ticks\": \"\"}, \"type\": \"mesh3d\"}], \"parcoords\": [{\"line\": {\"colorbar\": {\"outlinewidth\": 0, \"ticks\": \"\"}}, \"type\": \"parcoords\"}], \"pie\": [{\"automargin\": true, \"type\": \"pie\"}], \"scatter\": [{\"marker\": {\"colorbar\": {\"outlinewidth\": 0, \"ticks\": \"\"}}, \"type\": \"scatter\"}], \"scatter3d\": [{\"line\": {\"colorbar\": {\"outlinewidth\": 0, \"ticks\": \"\"}}, \"marker\": {\"colorbar\": {\"outlinewidth\": 0, \"ticks\": \"\"}}, \"type\": \"scatter3d\"}], \"scattercarpet\": [{\"marker\": {\"colorbar\": {\"outlinewidth\": 0, \"ticks\": \"\"}}, \"type\": \"scattercarpet\"}], \"scattergeo\": [{\"marker\": {\"colorbar\": {\"outlinewidth\": 0, \"ticks\": \"\"}}, \"type\": \"scattergeo\"}], \"scattergl\": [{\"marker\": {\"colorbar\": {\"outlinewidth\": 0, \"ticks\": \"\"}}, \"type\": \"scattergl\"}], \"scattermapbox\": [{\"marker\": {\"colorbar\": {\"outlinewidth\": 0, \"ticks\": \"\"}}, \"type\": \"scattermapbox\"}], \"scatterpolar\": [{\"marker\": {\"colorbar\": {\"outlinewidth\": 0, \"ticks\": \"\"}}, \"type\": \"scatterpolar\"}], \"scatterpolargl\": [{\"marker\": {\"colorbar\": {\"outlinewidth\": 0, \"ticks\": \"\"}}, \"type\": \"scatterpolargl\"}], \"scatterternary\": [{\"marker\": {\"colorbar\": {\"outlinewidth\": 0, \"ticks\": \"\"}}, \"type\": \"scatterternary\"}], \"surface\": [{\"colorbar\": {\"outlinewidth\": 0, \"ticks\": \"\"}, \"colorscale\": [[0.0, \"#0d0887\"], [0.1111111111111111, \"#46039f\"], [0.2222222222222222, \"#7201a8\"], [0.3333333333333333, \"#9c179e\"], [0.4444444444444444, \"#bd3786\"], [0.5555555555555556, \"#d8576b\"], [0.6666666666666666, \"#ed7953\"], [0.7777777777777778, \"#fb9f3a\"], [0.8888888888888888, \"#fdca26\"], [1.0, \"#f0f921\"]], \"type\": \"surface\"}], \"table\": [{\"cells\": {\"fill\": {\"color\": \"#EBF0F8\"}, \"line\": {\"color\": \"white\"}}, \"header\": {\"fill\": {\"color\": \"#C8D4E3\"}, \"line\": {\"color\": \"white\"}}, \"type\": \"table\"}]}, \"layout\": {\"annotationdefaults\": {\"arrowcolor\": \"#2a3f5f\", \"arrowhead\": 0, \"arrowwidth\": 1}, \"coloraxis\": {\"colorbar\": {\"outlinewidth\": 0, \"ticks\": \"\"}}, \"colorscale\": {\"diverging\": [[0, \"#8e0152\"], [0.1, \"#c51b7d\"], [0.2, \"#de77ae\"], [0.3, \"#f1b6da\"], [0.4, \"#fde0ef\"], [0.5, \"#f7f7f7\"], [0.6, \"#e6f5d0\"], [0.7, \"#b8e186\"], [0.8, \"#7fbc41\"], [0.9, \"#4d9221\"], [1, \"#276419\"]], \"sequential\": [[0.0, \"#0d0887\"], [0.1111111111111111, \"#46039f\"], [0.2222222222222222, \"#7201a8\"], [0.3333333333333333, \"#9c179e\"], [0.4444444444444444, \"#bd3786\"], [0.5555555555555556, \"#d8576b\"], [0.6666666666666666, \"#ed7953\"], [0.7777777777777778, \"#fb9f3a\"], [0.8888888888888888, \"#fdca26\"], [1.0, \"#f0f921\"]], \"sequentialminus\": [[0.0, \"#0d0887\"], [0.1111111111111111, \"#46039f\"], [0.2222222222222222, \"#7201a8\"], [0.3333333333333333, \"#9c179e\"], [0.4444444444444444, \"#bd3786\"], [0.5555555555555556, \"#d8576b\"], [0.6666666666666666, \"#ed7953\"], [0.7777777777777778, \"#fb9f3a\"], [0.8888888888888888, \"#fdca26\"], [1.0, \"#f0f921\"]]}, \"colorway\": [\"#636efa\", \"#EF553B\", \"#00cc96\", \"#ab63fa\", \"#FFA15A\", \"#19d3f3\", \"#FF6692\", \"#B6E880\", \"#FF97FF\", \"#FECB52\"], \"font\": {\"color\": \"#2a3f5f\"}, \"geo\": {\"bgcolor\": \"white\", \"lakecolor\": \"white\", \"landcolor\": \"#E5ECF6\", \"showlakes\": true, \"showland\": true, \"subunitcolor\": \"white\"}, \"hoverlabel\": {\"align\": \"left\"}, \"hovermode\": \"closest\", \"mapbox\": {\"style\": \"light\"}, \"paper_bgcolor\": \"white\", \"plot_bgcolor\": \"#E5ECF6\", \"polar\": {\"angularaxis\": {\"gridcolor\": \"white\", \"linecolor\": \"white\", \"ticks\": \"\"}, \"bgcolor\": \"#E5ECF6\", \"radialaxis\": {\"gridcolor\": \"white\", \"linecolor\": \"white\", \"ticks\": \"\"}}, \"scene\": {\"xaxis\": {\"backgroundcolor\": \"#E5ECF6\", \"gridcolor\": \"white\", \"gridwidth\": 2, \"linecolor\": \"white\", \"showbackground\": true, \"ticks\": \"\", \"zerolinecolor\": \"white\"}, \"yaxis\": {\"backgroundcolor\": \"#E5ECF6\", \"gridcolor\": \"white\", \"gridwidth\": 2, \"linecolor\": \"white\", \"showbackground\": true, \"ticks\": \"\", \"zerolinecolor\": \"white\"}, \"zaxis\": {\"backgroundcolor\": \"#E5ECF6\", \"gridcolor\": \"white\", \"gridwidth\": 2, \"linecolor\": \"white\", \"showbackground\": true, \"ticks\": \"\", \"zerolinecolor\": \"white\"}}, \"shapedefaults\": {\"line\": {\"color\": \"#2a3f5f\"}}, \"ternary\": {\"aaxis\": {\"gridcolor\": \"white\", \"linecolor\": \"white\", \"ticks\": \"\"}, \"baxis\": {\"gridcolor\": \"white\", \"linecolor\": \"white\", \"ticks\": \"\"}, \"bgcolor\": \"#E5ECF6\", \"caxis\": {\"gridcolor\": \"white\", \"linecolor\": \"white\", \"ticks\": \"\"}}, \"title\": {\"x\": 0.05}, \"xaxis\": {\"automargin\": true, \"gridcolor\": \"white\", \"linecolor\": \"white\", \"ticks\": \"\", \"title\": {\"standoff\": 15}, \"zerolinecolor\": \"white\", \"zerolinewidth\": 2}, \"yaxis\": {\"automargin\": true, \"gridcolor\": \"white\", \"linecolor\": \"white\", \"ticks\": \"\", \"title\": {\"standoff\": 15}, \"zerolinecolor\": \"white\", \"zerolinewidth\": 2}}}, \"xaxis\": {\"anchor\": \"y\", \"domain\": [0.0, 1.0], \"title\": {\"text\": \"rating\"}}, \"yaxis\": {\"anchor\": \"x\", \"domain\": [0.0, 1.0], \"title\": {\"text\": \"wage\"}}},\n",
       "                        {\"responsive\": true}\n",
       "                    )\n",
       "                };\n",
       "                \n",
       "            </script>\n",
       "        </div>\n",
       "</body>\n",
       "</html>"
      ],
      "text/plain": [
       "<IPython.core.display.HTML object>"
      ]
     },
     "execution_count": 143,
     "metadata": {},
     "output_type": "execute_result"
    }
   ],
   "source": [
    "# collapse\n",
    "fig2 = px.scatter(df3, x=\"rating\", y=\"wage\", color=\"pos2\", hover_data=['Player_name'])\n",
    "HTML(fig2.to_html(include_plotlyjs='cdn'))"
   ]
  },
  {
   "cell_type": "markdown",
   "metadata": {},
   "source": [
    "Interesting trend here. Seems like FW tend to be the expensive one, while MF are cheap"
   ]
  },
  {
   "cell_type": "markdown",
   "metadata": {
    "ExecuteTime": {
     "end_time": "2020-11-09T09:49:26.093917Z",
     "start_time": "2020-11-09T09:49:26.078958Z"
    }
   },
   "source": [
    "**Rating vs position**"
   ]
  },
  {
   "cell_type": "code",
   "execution_count": 144,
   "metadata": {
    "ExecuteTime": {
     "end_time": "2020-11-19T07:35:13.986152Z",
     "start_time": "2020-11-19T07:35:13.932146Z"
    },
    "code_folding": [
     0
    ]
   },
   "outputs": [
    {
     "data": {
      "text/html": [
       "<html>\n",
       "<head><meta charset=\"utf-8\" /></head>\n",
       "<body>\n",
       "    <div>\n",
       "        \n",
       "                <script type=\"text/javascript\">window.PlotlyConfig = {MathJaxConfig: 'local'};</script>\n",
       "        <script src=\"https://cdn.plot.ly/plotly-latest.min.js\"></script>    \n",
       "            <div id=\"fb59b08d-da1a-47d5-97d8-256a2ff5875c\" class=\"plotly-graph-div\" style=\"height:100%; width:100%;\"></div>\n",
       "            <script type=\"text/javascript\">\n",
       "                \n",
       "                    window.PLOTLYENV=window.PLOTLYENV || {};\n",
       "                    \n",
       "                if (document.getElementById(\"fb59b08d-da1a-47d5-97d8-256a2ff5875c\")) {\n",
       "                    Plotly.newPlot(\n",
       "                        'fb59b08d-da1a-47d5-97d8-256a2ff5875c',\n",
       "                        [{\"alignmentgroup\": \"True\", \"boxpoints\": \"all\", \"customdata\": [[\"D. Randolph\"], [\"L. Fabia\\u0144ski\"], [\"M. D\\u00fabravka\"], [\"W. Norris\"], [\"S. Carson\"], [\"S. Henderson\"], [\"Jo\\u00e3o Virg\\u00ednia\"], [\"L. Kalini\\u0107\"], [\"K. Darlow\"], [\"J. Bond\"], [\"Adri\\u00e1n\"], [\"I. Meslier\"], [\"A. Whiteman\"], [\"W. Caballero\"], [\"Rui Patr\\u00edcio\"], [\"J. Steer\"], [\"K. Schmeichel\"], [\"Robert Sanchez\"], [\"L. Grant\"], [\"M. Macey\"], [\"E. Jakupovi\\u0107\"], [\"M. Verrips\"], [\"B. Peacock-Farrell\"], [\"J. Pickford\"], [\"A. Ramsdale\"], [\"D. Button\"], [\"Kepa\"], [\"N. Pope\"], [\"A. Areola\"], [\"S. Johnstone\"], [\"R. Olsen\"], [\"J. Ruddy\"], [\"S. Moore\"], [\"J. Hart\"], [\"F. Forster\"], [\"J. Steele\"], [\"E. Mendy\"], [\"D. Martin\"], [\"E. Mart\\u00ednez\"], [\"W. Foderingham\"], [\"R. R\\u00fanarsson\"], [\"S. Romero\"], [\"Alisson\"], [\"M. Ryan\"], [\"Guaita\"], [\"J. Butland\"], [\"Ederson\"], [\"P. Gazzaniga\"], [\"Kiko Casilla\"], [\"A. McCarthy\"], [\"J. L\\u00f6ssl\"], [\"H. Lloris\"], [\"A. S\\u00f8ndergaard\"], [\"D. Henderson\"], [\"De Gea\"], [\"Z. Steffen\"], [\"B. Leno\"], [\"W. Hennessey\"], [\"M. Rod\\u00e1k\"], [\"C. Walton\"], [\"E. Caprile\"], [\"M. Gillespie\"], [\"Fabricio\"], [\"N. Trott\"], [\"D. Ward\"], [\"C. Kelleher\"], [\"T. Heaton\"]], \"hovertemplate\": \"pos2=%{x}<br>rating=%{y}<br>Player_name=%{customdata[0]}<extra></extra>\", \"legendgroup\": \"GK\", \"marker\": {\"color\": \"#636efa\"}, \"name\": \"GK\", \"notched\": false, \"offsetgroup\": \"GK\", \"orientation\": \"v\", \"showlegend\": true, \"type\": \"box\", \"x\": [\"GK\", \"GK\", \"GK\", \"GK\", \"GK\", \"GK\", \"GK\", \"GK\", \"GK\", \"GK\", \"GK\", \"GK\", \"GK\", \"GK\", \"GK\", \"GK\", \"GK\", \"GK\", \"GK\", \"GK\", \"GK\", \"GK\", \"GK\", \"GK\", \"GK\", \"GK\", \"GK\", \"GK\", \"GK\", \"GK\", \"GK\", \"GK\", \"GK\", \"GK\", \"GK\", \"GK\", \"GK\", \"GK\", \"GK\", \"GK\", \"GK\", \"GK\", \"GK\", \"GK\", \"GK\", \"GK\", \"GK\", \"GK\", \"GK\", \"GK\", \"GK\", \"GK\", \"GK\", \"GK\", \"GK\", \"GK\", \"GK\", \"GK\", \"GK\", \"GK\", \"GK\", \"GK\", \"GK\", \"GK\", \"GK\", \"GK\", \"GK\"], \"x0\": \" \", \"xaxis\": \"x\", \"y\": [75, 81, 83, 65, 70, 65, 64, 74, 75, 64, 75, 70, 63, 75, 84, 70, 84, 64, 70, 65, 66, 69, 69, 81, 75, 68, 81, 82, 82, 75, 78, 70, 67, 75, 75, 67, 79, 66, 78, 71, 70, 80, 90, 80, 80, 73, 88, 77, 73, 77, 73, 87, 58, 80, 86, 76, 85, 75, 74, 72, 60, 71, 74, 61, 74, 61, 77], \"y0\": \" \", \"yaxis\": \"y\"}, {\"alignmentgroup\": \"True\", \"boxpoints\": \"all\", \"customdata\": [[\"J. Justin\"], [\"A. Tuanzebe\"], [\"D. Burn\"], [\"D. Yedlin\"], [\"A. Webster\"], [\"W. Morgan\"], [\"S. Dallas\"], [\"C. Dawson\"], [\"T. Fosu-Mensah\"], [\"E. Alioski\"], [\"L. Cooper\"], [\"B. Engels\"], [\"E. Konsa\"], [\"Bernardo\"], [\"E. Pieters\"], [\"B. Osborn\"], [\"E. Krafth\"], [\"H. Choudhury\"], [\"J. Bryan\"], [\"W. Saliba\"], [\"J. Lewis\"], [\"J. Stephens\"], [\"M. Kelly\"], [\"K. Walker-Peters\"], [\"C. Clark\"], [\"Manquillo\"], [\"K. Tsimikas\"], [\"Diego Llorente\"], [\"R. Koch\"], [\"J. Kenny\"], [\"F. Tomori\"], [\"M. Salisu\"], [\"F. Guilbert\"], [\"C\\u00e9dric\"], [\"A. Maitland-Niles\"], [\"J. Veltman\"], [\"P. van Aanholt\"], [\"G. Cahill\"], [\"C. Kouyat\\u00e9\"], [\"C. Taylor\"], [\"C. Basham\"], [\"M. Targett\"], [\"R. Fredericks\"], [\"Mar\\u00e7al\"], [\"J. Andersen\"], [\"M. Lowton\"], [\"K. Gibbs\"], [\"H. Boyes\"], [\"F. Balbuena\"], [\"P. Dummett\"], [\"M. Rojo\"], [\"P. Jones\"], [\"B. Williams\"], [\"L. Ayling\"], [\"A. Baba\"], [\"T. Mings\"], [\"M. Cash\"], [\"C. Chambers\"], [\"Pablo Mar\\u00ed\"], [\"R. Holding\"], [\"N. Clyne\"], [\"J. Tomkins\"], [\"M. Sakho\"], [\"J. Ward\"], [\"B. White\"], [\"D. Amartey\"], [\"Y. Valery\"], [\"A. Robinson\"], [\"D. Boateng\"], [\"A. Glennon\"], [\"L. Matheson\"], [\"D. Cirkin\"], [\"T. Harwood-Bellis\"], [\"Y. Larouci\"], [\"C. Drameh\"], [\"J. Branthwaite\"], [\"O. Rasmussen\"], [\"N. Nkounkou\"], [\"K. John\"], [\"K. Bryan\"], [\"K. Hoever\"], [\"L. Thomas\"], [\"B. Johnson\"], [\"J. Vokins\"], [\"P. Struijk\"], [\"L. Davis\"], [\"K. Ramsay\"], [\"T. Mitchell\"], [\"R. Yapi\"], [\"J. Wakely\"], [\"K. Gordon\"], [\"L. Richards\"], [\"T. Jenks\"], [\"M. Elva-Fountaine\"], [\"G. Harmon\"], [\"L. Dendoncker\"], [\"D. Revan\"], [\"S. Woods\"], [\"O. Casey\"], [\"C. Barrett\"], [\"A. Alese\"], [\"Y. Amankwah\"], [\"R. Williams\"], [\"C. Cresswell\"], [\"B. Koumetio\"], [\"B. Thomas\"], [\"Christian Marques\"], [\"H. Ashby\"], [\"O. Otasowie\"], [\"S. McQueen\"], [\"T. Mengi\"], [\"S. van den Berg\"], [\"D. Odoi\"], [\"R. A\\u00eft Nouri\"], [\"C. Townsend\"], [\"D. Furlong\"], [\"G. Baldock\"], [\"A. Elmohamady\"], [\"P. Jagielka\"], [\"M. Lowe\"], [\"T. Kongolo\"], [\"J. Bogle\"], [\"K. Bartley\"], [\"W. Fofana\"], [\"J. Tanganga\"], [\"Eric Garc\\u00eda\"], [\"B. Godfrey\"], [\"K. Hause\"], [\"S. Dann\"], [\"P. Bardsley\"], [\"M. Hector\"], [\"K. Long\"], [\"J. Riedewald\"], [\"N. Taylor\"], [\"Gon\\u00e7alo Cardoso\"], [\"T. Lamptey\"], [\"J. Dunne\"], [\"J. Rodwell\"], [\"N. Williams\"], [\"M. Pennington\"], [\"D. Sterling\"], [\"C. Kipr\\u00e9\"], [\"D. O'Shea\"], [\"N. Phillips\"], [\"N. Ferguson\"], [\"Roderick Miranda\"], [\"L. Peltier\"], [\"J. Robinson\"], [\"M. Le Marchand\"], [\"T. Adarabioyo\"], [\"T. Ream\"], [\"J. Rodon\"], [\"G. Berardi\"], [\"S. Ajayi\"], [\"K. Tete\"], [\"J. Belehouan\"], [\"Jo\\u00e3o Cancelo\"], [\"Azpilicueta\"], [\"R. Sa\\u00efss\"], [\"L. Dendoncker\"], [\"Ricardo Pereira\"], [\"T. Alderweireld\"], [\"A. R\\u00fcdiger\"], [\"J. Egan\"], [\"E. Stevens\"], [\"K. Walker\"], [\"J. O'Connell\"], [\"R\\u00faben Dias\"], [\"E. Bailly\"], [\"Gabriel\"], [\"L. Dunk\"], [\"N. Ak\\u00e9\"], [\"B. Mendy\"], [\"L. Shaw\"], [\"R. James\"], [\"M. Doherty\"], [\"L. Digne\"], [\"M. Keane\"], [\"Fernandinho\"], [\"B. Chilwell\"], [\"K. Tierney\"], [\"H. Maguire\"], [\"Reguil\\u00f3n\"], [\"S. Kola\\u0161inac\"], [\"S. Mustafi\"], [\"Sokratis\"], [\"N\\u00e9lson Semedo\"], [\"B. Ivanovi\\u0107\"], [\"Y. Mina\"], [\"A. Wan-Bissaka\"], [\"J. Gomez\"], [\"J. Gbamin\"], [\"J. Matip\"], [\"F. Sch\\u00e4r\"], [\"R. Bertrand\"], [\"W. Ndidi\"], [\"Alex Telles\"], [\"D. Rose\"], [\"V. Coufal\"], [\"E. Dier\"], [\"D. S\\u00e1nchez\"], [\"B. Mee\"], [\"S. Coleman\"], [\"W. Boly\"], [\"K. Zouma\"], [\"J. Bednarek\"], [\"J. Vestergaard\"], [\"A. Laporte\"], [\"M. Holgate\"], [\"C. S\\u00f6y\\u00fcnc\\u00fc\"], [\"A. Cresswell\"], [\"A. Masuaku\"], [\"J. Evans\"], [\"A. Robertson\"], [\"T. Alexander-Arnold\"], [\"S. Aurier\"], [\"Marcos Alonso\"], [\"B. Davies\"], [\"T. Castagne\"], [\"I. Diop\"], [\"V. van Dijk\"], [\"J. Stones\"], [\"J. Tarkowski\"], [\"David Luiz\"], [\"A. Ogbonna\"], [\"Jonny\"], [\"A. Christensen\"], [\"J. Lascelles\"], [\"Emerson\"], [\"F. Fern\\u00e1ndez\"], [\"Thiago Silva\"], [\"H\\u00e9ctor Beller\\u00edn\"]], \"hovertemplate\": \"pos2=%{x}<br>rating=%{y}<br>Player_name=%{customdata[0]}<extra></extra>\", \"legendgroup\": \"DF\", \"marker\": {\"color\": \"#EF553B\"}, \"name\": \"DF\", \"notched\": false, \"offsetgroup\": \"DF\", \"orientation\": \"v\", \"showlegend\": true, \"type\": \"box\", \"x\": [\"DF\", \"DF\", \"DF\", \"DF\", \"DF\", \"DF\", \"DF\", \"DF\", \"DF\", \"DF\", \"DF\", \"DF\", \"DF\", \"DF\", \"DF\", \"DF\", \"DF\", \"DF\", \"DF\", \"DF\", \"DF\", \"DF\", \"DF\", \"DF\", \"DF\", \"DF\", \"DF\", \"DF\", \"DF\", \"DF\", \"DF\", \"DF\", \"DF\", \"DF\", \"DF\", \"DF\", \"DF\", \"DF\", \"DF\", \"DF\", \"DF\", \"DF\", \"DF\", \"DF\", \"DF\", \"DF\", \"DF\", \"DF\", \"DF\", \"DF\", \"DF\", \"DF\", \"DF\", \"DF\", \"DF\", \"DF\", \"DF\", \"DF\", \"DF\", \"DF\", \"DF\", \"DF\", \"DF\", \"DF\", \"DF\", \"DF\", \"DF\", \"DF\", \"DF\", \"DF\", \"DF\", \"DF\", \"DF\", \"DF\", \"DF\", \"DF\", \"DF\", \"DF\", \"DF\", \"DF\", \"DF\", \"DF\", \"DF\", \"DF\", \"DF\", \"DF\", \"DF\", \"DF\", \"DF\", \"DF\", \"DF\", \"DF\", \"DF\", \"DF\", \"DF\", \"DF\", \"DF\", \"DF\", \"DF\", \"DF\", \"DF\", \"DF\", \"DF\", \"DF\", \"DF\", \"DF\", \"DF\", \"DF\", \"DF\", \"DF\", \"DF\", \"DF\", \"DF\", \"DF\", \"DF\", \"DF\", \"DF\", \"DF\", \"DF\", \"DF\", \"DF\", \"DF\", \"DF\", \"DF\", \"DF\", \"DF\", \"DF\", \"DF\", \"DF\", \"DF\", \"DF\", \"DF\", \"DF\", \"DF\", \"DF\", \"DF\", \"DF\", \"DF\", \"DF\", \"DF\", \"DF\", \"DF\", \"DF\", \"DF\", \"DF\", \"DF\", \"DF\", \"DF\", \"DF\", \"DF\", \"DF\", \"DF\", \"DF\", \"DF\", \"DF\", \"DF\", \"DF\", \"DF\", \"DF\", \"DF\", \"DF\", \"DF\", \"DF\", \"DF\", \"DF\", \"DF\", \"DF\", \"DF\", \"DF\", \"DF\", \"DF\", \"DF\", \"DF\", \"DF\", \"DF\", \"DF\", \"DF\", \"DF\", \"DF\", \"DF\", \"DF\", \"DF\", \"DF\", \"DF\", \"DF\", \"DF\", \"DF\", \"DF\", \"DF\", \"DF\", \"DF\", \"DF\", \"DF\", \"DF\", \"DF\", \"DF\", \"DF\", \"DF\", \"DF\", \"DF\", \"DF\", \"DF\", \"DF\", \"DF\", \"DF\", \"DF\", \"DF\", \"DF\", \"DF\", \"DF\", \"DF\", \"DF\", \"DF\", \"DF\", \"DF\", \"DF\", \"DF\", \"DF\", \"DF\", \"DF\", \"DF\", \"DF\", \"DF\", \"DF\", \"DF\", \"DF\", \"DF\", \"DF\", \"DF\", \"DF\", \"DF\", \"DF\"], \"x0\": \" \", \"xaxis\": \"x\", \"y\": [74, 75, 76, 74, 77, 73, 74, 74, 74, 73, 75, 76, 75, 75, 74, 74, 74, 76, 74, 76, 74, 77, 75, 76, 76, 76, 76, 78, 78, 76, 78, 78, 77, 76, 76, 79, 77, 77, 78, 77, 77, 77, 76, 76, 78, 75, 75, 50, 76, 76, 75, 75, 75, 75, 75, 77, 76, 77, 77, 77, 76, 76, 76, 76, 77, 77, 71, 73, 61, 61, 62, 61, 63, 61, 61, 63, 60, 61, 62, 65, 63, 63, 63, 63, 65, 64, 62, 65, 60, 60, 54, 55, 59, 54, 54, 57, 57, 58, 61, 56, 58, 58, 58, 58, 59, 60, 60, 58, 58, 66, 67, 67, 71, 71, 71, 71, 77, 71, 72, 72, 73, 73, 73, 74, 74, 74, 74, 74, 73, 74, 74, 71, 73, 70, 68, 67, 69, 67, 68, 69, 67, 70, 70, 70, 69, 70, 70, 71, 70, 72, 70, 72, 70, 75, 78, 50, 84, 84, 78, 80, 85, 85, 83, 80, 78, 85, 80, 83, 81, 80, 80, 81, 82, 81, 77, 81, 84, 80, 84, 81, 79, 84, 82, 79, 79, 78, 83, 79, 80, 83, 84, 80, 84, 80, 78, 87, 84, 78, 78, 81, 83, 79, 79, 80, 82, 79, 78, 88, 79, 82, 77, 78, 80, 87, 87, 80, 80, 80, 80, 79, 90, 82, 81, 80, 77, 81, 81, 79, 80, 77, 85, 81], \"y0\": \" \", \"yaxis\": \"y\"}, {\"alignmentgroup\": \"True\", \"boxpoints\": \"all\", \"customdata\": [[\"C. Jones\"], [\"R. Vilca\"], [\"Diogo Jota\"], [\"J. Clarke\"], [\"Fred\"], [\"C. Gallagher\"], [\"R. Harper\"], [\"B. Gilmour\"], [\"S. Field\"], [\"O. Burke\"], [\"E. Ampadu\"], [\"J. Molumby\"], [\"J. Milner\"], [\"J. Rodr\\u00edguez\"], [\"Lucas Moura\"], [\"A. Forshaw\"], [\"O. Zinchenko\"], [\"J. Willock\"], [\"T. Sou\\u010dek\"], [\"V. Lindel\\u00f6f\"], [\"Raphinha\"], [\"G. Lo Celso\"], [\"M. Be\\u0161i\\u0107\"], [\"C. Summerville\"], [\"Dani Ceballos\"], [\"R. Aarons\"], [\"C. Pulisic\"], [\"J. Grealish\"], [\"N. Ke\\u00efta\"], [\"X. Shaqiri\"], [\"K. Edwards\"], [\"M. Mount\"], [\"R\\u00faben Neves\"], [\"H. Lansbury\"], [\"E. Smith Rowe\"], [\"J. Onomah\"], [\"S. Alzate\"], [\"J. Maddison\"], [\"Ferran Torres\"], [\"K. McDonald\"], [\"S. Bergwijn\"], [\"B. Baningime\"], [\"D. Alli\"], [\"G. Xhaka\"], [\"Y. Tielemans\"], [\"P. Sandler\"], [\"D. Praet\"], [\"E. Laird\"], [\"L. McCarron\"], [\"P. Gwargis\"], [\"Bruno Fernandes\"], [\"F. Carvalho\"], [\"J. Henderson\"], [\"P. Pogba\"], [\"E. Anderson\"], [\"U. Eneme-Ella\"], [\"M. Sanders\"], [\"S. Diallo\"], [\"Sidnei Tavares\"], [\"T. Suengchitthawon\"], [\"K. Leshabela\"], [\"C. Coventry\"], [\"W. Ferry\"], [\"J. White\"], [\"A. Lewis\"], [\"C. Campbell\"], [\"T. Corbeanu\"], [\"C. Rowe\"], [\"L. Brunt\"], [\"L. Cundle\"], [\"R. Richards\"], [\"N. Kant\\u00e9\"], [\"I. Diallo\"], [\"T. Perry\"], [\"K. Havertz\"], [\"Bernardo Rosa\"], [\"J. Ramsey\"], [\"W. Rickard\"], [\"Fabinho\"], [\"C. Palmer\"], [\"G. McGregor\"], [\"Z. Brunt\"], [\"T. Francois\"], [\"H. Son\"], [\"N. Kirby\"], [\"M. Goodridge\"], [\"H. Ziyech\"], [\"Jorginho\"], [\"M. Kova\\u010di\\u0107\"], [\"E. Galbraith\"], [\"Allan\"], [\"N. Mati\\u0107\"], [\"I. G\\u00fcndo\\u011fan\"], [\"D. van de Beek\"], [\"F. Nmecha\"], [\"M. Kilman\"], [\"C. Gomes\"], [\"Jo\\u00e3o Moutinho\"], [\"J. Shackleton\"], [\"I. Poveda\"], [\"V\\u00edtor Ferreira\"], [\"N. P\\u00e9p\\u00e9\"], [\"M. \\u00d6zil\"], [\"W. Smallbone\"], [\"A. Gordon\"], [\"N. Tella\"], [\"M. Shabani\"], [\"C. Wright\"], [\"L. Ndukwu\"], [\"J. Bowden\"], [\"H. White\"], [\"C. Slattery\"], [\"T. Doyle\"], [\"G. Wijnaldum\"], [\"G. Marsh\"], [\"Thiago\"], [\"S. Jasper\"], [\"Rodri\"], [\"M. Rashford\"], [\"Adri\\u00e1n Bernab\\u00e9\"], [\"T. Partey\"], [\"O. Bouy\"], [\"J. Benson\"], [\"B. Pierrick\"], [\"A. Saint-Maximin\"], [\"F. Pellistri\"], [\"Gedson Fernandes\"], [\"J. Hendrick\"], [\"M. Lanzini\"], [\"Pablo Hern\\u00e1ndez\"], [\"C. \\u00dcnder\"], [\"T. Davies\"], [\"M. Nakamba\"], [\"N. Redmond\"], [\"C. Hourihane\"], [\"Douglas Luiz\"], [\"Daniel Podence\"], [\"R. Loftus-Cheek\"], [\"B. Saka\"], [\"D. Pr\\u00f6pper\"], [\"P. Gro\\u00df\"], [\"Trezeguet\"], [\"Oriol Romeu\"], [\"M. Almir\\u00f3n\"], [\"M. Djenepo\"], [\"C. Hudson-Odoi\"], [\"L. Milivojevi\\u0107\"], [\"A. Mac Allister\"], [\"Y. Bissouma\"], [\"S. March\"], [\"E. Eze\"], [\"R. Barkley\"], [\"J. Schlupp\"], [\"J. McArthur\"], [\"R. Brady\"], [\"A. Doucour\\u00e9\"], [\"Bernard\"], [\"D. Gray\"], [\"M. Noble\"], [\"S. Johansen\"], [\"A. Westwood\"], [\"D. McNeil\"], [\"M. Meyer\"], [\"J. McCarthy\"], [\"J. Shelvey\"], [\"B. Traor\\u00e9\"], [\"J. McGinn\"], [\"M. Ritchie\"], [\"M. Elneny\"], [\"A. Lallana\"], [\"A. Townsend\"], [\"J. Bowen\"], [\"J. Cork\"], [\"J. Gu\\u00f0mundsson\"], [\"R. Snodgrass\"], [\"J. Fleck\"], [\"O. Norwood\"], [\"M. Lemina\"], [\"S. Benrahma\"], [\"I. Hayden\"], [\"S. Berge\"], [\"F. Delph\"], [\"J. Lingard\"], [\"D. Stephens\"], [\"J. Lundstram\"], [\"J. Seri\"], [\"L. Trossard\"], [\"A. Zambo Anguissa\"], [\"T. Cairney\"], [\"Matheus Pereira\"], [\"N. Mendy\"], [\"M. Albrighton\"], [\"A. Iwobi\"], [\"T. Walcott\"], [\"S. Armstrong\"], [\"K. Phillips\"], [\"T. Minamino\"], [\"M. Greenwood\"], [\"D. James\"], [\"Adama Traor\\u00e9\"], [\"K. De Bruyne\"], [\"J. Harrison\"], [\"M. Sissoko\"], [\"J. Ward-Prowse\"], [\"D. McGoldrick\"], [\"R. Fraser\"], [\"M. Longstaff\"], [\"Juan Mata\"], [\"C. Fuchs\"], [\"R. Nelson\"], [\"S. McTominay\"], [\"J. Brownhill\"], [\"D. Drinkwater\"], [\"J. Murphy\"], [\"C. Musonda\"], [\"H\\u00e9lder Costa\"], [\"O. Aina\"], [\"H. Reed\"], [\"A. Oxlade-Chamberlain\"], [\"G. Sigur\\u00f0sson\"], [\"K. Grosicki\"], [\"M. Klich\"], [\"Andr\\u00e9 Gomes\"], [\"G. Diangana\"], [\"S. Longstaff\"], [\"R. Sawyers\"], [\"P. Foden\"], [\"I. Diallo\"], [\"C. Atsu\"], [\"H. Barnes\"], [\"D. Rice\"], [\"P. H\\u00f8jbjerg\"], [\"F. Krovinovi\\u0107\"], [\"T. Ndombele\"], [\"H. Winks\"], [\"Pablo Fornals\"], [\"M. Phillips\"], [\"J. Livermore\"], [\"C. Coady\"], [\"E. Lamela\"]], \"hovertemplate\": \"pos2=%{x}<br>rating=%{y}<br>Player_name=%{customdata[0]}<extra></extra>\", \"legendgroup\": \"MF\", \"marker\": {\"color\": \"#00cc96\"}, \"name\": \"MF\", \"notched\": false, \"offsetgroup\": \"MF\", \"orientation\": \"v\", \"showlegend\": true, \"type\": \"box\", \"x\": [\"MF\", \"MF\", \"MF\", \"MF\", \"MF\", \"MF\", \"MF\", \"MF\", \"MF\", \"MF\", \"MF\", \"MF\", \"MF\", \"MF\", \"MF\", \"MF\", \"MF\", \"MF\", \"MF\", \"MF\", \"MF\", \"MF\", \"MF\", \"MF\", \"MF\", \"MF\", \"MF\", \"MF\", \"MF\", \"MF\", \"MF\", \"MF\", \"MF\", \"MF\", \"MF\", \"MF\", \"MF\", \"MF\", \"MF\", \"MF\", \"MF\", \"MF\", \"MF\", \"MF\", \"MF\", \"MF\", \"MF\", \"MF\", \"MF\", \"MF\", \"MF\", \"MF\", \"MF\", \"MF\", \"MF\", \"MF\", \"MF\", \"MF\", \"MF\", \"MF\", \"MF\", \"MF\", \"MF\", \"MF\", \"MF\", \"MF\", \"MF\", \"MF\", \"MF\", \"MF\", \"MF\", \"MF\", \"MF\", \"MF\", \"MF\", \"MF\", \"MF\", \"MF\", \"MF\", \"MF\", \"MF\", \"MF\", \"MF\", \"MF\", \"MF\", \"MF\", \"MF\", \"MF\", \"MF\", \"MF\", \"MF\", \"MF\", \"MF\", \"MF\", \"MF\", \"MF\", \"MF\", \"MF\", \"MF\", \"MF\", \"MF\", \"MF\", \"MF\", \"MF\", \"MF\", \"MF\", \"MF\", \"MF\", \"MF\", \"MF\", \"MF\", \"MF\", \"MF\", \"MF\", \"MF\", \"MF\", \"MF\", \"MF\", \"MF\", \"MF\", \"MF\", \"MF\", \"MF\", \"MF\", \"MF\", \"MF\", \"MF\", \"MF\", \"MF\", \"MF\", \"MF\", \"MF\", \"MF\", \"MF\", \"MF\", \"MF\", \"MF\", \"MF\", \"MF\", \"MF\", \"MF\", \"MF\", \"MF\", \"MF\", \"MF\", \"MF\", \"MF\", \"MF\", \"MF\", \"MF\", \"MF\", \"MF\", \"MF\", \"MF\", \"MF\", \"MF\", \"MF\", \"MF\", \"MF\", \"MF\", \"MF\", \"MF\", \"MF\", \"MF\", \"MF\", \"MF\", \"MF\", \"MF\", \"MF\", \"MF\", \"MF\", \"MF\", \"MF\", \"MF\", \"MF\", \"MF\", \"MF\", \"MF\", \"MF\", \"MF\", \"MF\", \"MF\", \"MF\", \"MF\", \"MF\", \"MF\", \"MF\", \"MF\", \"MF\", \"MF\", \"MF\", \"MF\", \"MF\", \"MF\", \"MF\", \"MF\", \"MF\", \"MF\", \"MF\", \"MF\", \"MF\", \"MF\", \"MF\", \"MF\", \"MF\", \"MF\", \"MF\", \"MF\", \"MF\", \"MF\", \"MF\", \"MF\", \"MF\", \"MF\", \"MF\", \"MF\", \"MF\", \"MF\", \"MF\", \"MF\", \"MF\", \"MF\", \"MF\", \"MF\", \"MF\", \"MF\", \"MF\", \"MF\", \"MF\", \"MF\", \"MF\", \"MF\", \"MF\", \"MF\", \"MF\", \"MF\", \"MF\", \"MF\", \"MF\", \"MF\"], \"x0\": \" \", \"xaxis\": \"x\", \"y\": [71, 69, 81, 68, 82, 72, 69, 73, 68, 70, 69, 69, 81, 82, 82, 71, 81, 73, 82, 82, 82, 84, 72, 69, 82, 69, 82, 83, 83, 81, 69, 82, 83, 69, 71, 72, 71, 83, 82, 70, 84, 68, 85, 80, 83, 71, 79, 67, 58, 59, 88, 60, 86, 86, 60, 61, 61, 61, 61, 62, 61, 61, 61, 61, 60, 60, 59, 54, 54, 57, 55, 88, 58, 58, 87, 57, 57, 58, 87, 58, 59, 59, 61, 88, 61, 62, 85, 83, 86, 65, 85, 80, 83, 85, 64, 67, 66, 83, 69, 66, 69, 83, 82, 68, 68, 63, 64, 63, 61, 61, 63, 63, 62, 85, 63, 85, 62, 85, 86, 63, 86, 65, 63, 62, 81, 72, 77, 75, 79, 75, 79, 77, 76, 78, 75, 76, 80, 80, 76, 76, 76, 76, 75, 80, 76, 75, 79, 77, 77, 75, 77, 81, 75, 77, 75, 79, 78, 76, 75, 72, 78, 79, 77, 76, 77, 77, 78, 77, 76, 78, 77, 78, 77, 77, 77, 77, 77, 78, 78, 78, 80, 76, 77, 76, 78, 76, 80, 79, 76, 78, 76, 76, 79, 76, 76, 78, 78, 78, 78, 80, 91, 75, 79, 81, 75, 79, 74, 79, 74, 74, 80, 75, 73, 73, 74, 73, 75, 74, 81, 79, 73, 74, 79, 74, 75, 73, 81, 73, 73, 81, 80, 81, 75, 83, 81, 81, 74, 74, 81, 80], \"y0\": \" \", \"yaxis\": \"y\"}, {\"alignmentgroup\": \"True\", \"boxpoints\": \"all\", \"customdata\": [[\"O. Afolayan\"], [\"A. Yarmolenko\"], [\"O. Ighalo\"], [\"D. Origi\"], [\"S. Greenwood\"], [\"Pedro Neto\"], [\"P. Aubameyang\"], [\"A. Mitrovi\\u0107\"], [\"S. Man\\u00e9\"], [\"D. Parkhouse\"], [\"K. Grant\"], [\"T. Roberts\"], [\"M. Tait\"], [\"M. Salah\"], [\"S. Haller\"], [\"I. Slimani\"], [\"S. Ag\\u00fcero\"], [\"M\\u00e9saque Dj\\u00fa\"], [\"O. Giroud\"], [\"J. Vardy\"], [\"J. Ayew\"], [\"H. Kane\"], [\"M. Batshuayi\"], [\"N. Maupay\"], [\"Roberto Firmino\"], [\"D. Calvert-Lewin\"], [\"J. Hardy\"], [\"A. Barnes\"], [\"C. Robinson\"], [\"J. Mumbongo\"], [\"C. Austin\"], [\"E. Nketiah\"], [\"O. Watkins\"], [\"D. Welbeck\"], [\"A. Kamara\"], [\"Y. Tour\\u00e9\"], [\"R. Sterling\"], [\"Wesley\"], [\"Bernardo Silva\"], [\"M. Vydra\"], [\"C. Benteke\"], [\"B. Sharp\"], [\"R. Harker\"], [\"N. Kebano\"], [\"T. Werner\"], [\"A. Lacazette\"], [\"L. Mousset\"], [\"C. Wilson\"], [\"E. Simms\"], [\"N. Holland\"], [\"L. Millar\"], [\"J. Grot\"], [\"Gabriel Jesus\"], [\"Ivan Cavaleiro\"], [\"A. Lookman\"], [\"O. McBurnie\"], [\"G. Bale\"], [\"R. Jim\\u00e9nez\"], [\"T. Abraham\"], [\"Vin\\u00edcius\"], [\"K. Iheanacho\"], [\"W. Zaha\"], [\"A. Zeqiri\"], [\"C. Adams\"], [\"Willian\"], [\"S. Long\"], [\"Gabriel Martinelli\"], [\"D. Gayle\"], [\"A. Carroll\"], [\"Y. Bolasie\"], [\"Rodrigo\"], [\"H. Saivet\"], [\"E. Cavani\"], [\"K. Davis\"], [\"Joelinton\"], [\"H. Robson-Kanu\"], [\"M. Taylor-Crossdale\"], [\"D. Ings\"], [\"J. Rodriguez\"], [\"A. Muskwe\"], [\"C. Wood\"], [\"D. N'Lundulu\"], [\"P. Bamford\"], [\"F. Balogun\"], [\"R. Brewster\"], [\"M. Thompson\"], [\"A. Connolly\"], [\"R. Mahrez\"], [\"M. Obafemi\"], [\"F. Andone\"], [\"L. Delap\"], [\"F\\u00e1bio Silva\"], [\"A. El Ghazi\"], [\"J. Izquierdo\"], [\"C. Tosun\"], [\"J. Gelhardt\"], [\"A. Jahanbakhsh\"], [\"Ayoze P\\u00e9rez\"], [\"C. Wickham\"], [\"M. Antonio\"], [\"A. Martial\"], [\"Richarlison\"], [\"P. Glatzel\"], [\"B. Decordova-Reid\"]], \"hovertemplate\": \"pos2=%{x}<br>rating=%{y}<br>Player_name=%{customdata[0]}<extra></extra>\", \"legendgroup\": \"FW\", \"marker\": {\"color\": \"#ab63fa\"}, \"name\": \"FW\", \"notched\": false, \"offsetgroup\": \"FW\", \"orientation\": \"v\", \"showlegend\": true, \"type\": \"box\", \"x\": [\"FW\", \"FW\", \"FW\", \"FW\", \"FW\", \"FW\", \"FW\", \"FW\", \"FW\", \"FW\", \"FW\", \"FW\", \"FW\", \"FW\", \"FW\", \"FW\", \"FW\", \"FW\", \"FW\", \"FW\", \"FW\", \"FW\", \"FW\", \"FW\", \"FW\", \"FW\", \"FW\", \"FW\", \"FW\", \"FW\", \"FW\", \"FW\", \"FW\", \"FW\", \"FW\", \"FW\", \"FW\", \"FW\", \"FW\", \"FW\", \"FW\", \"FW\", \"FW\", \"FW\", \"FW\", \"FW\", \"FW\", \"FW\", \"FW\", \"FW\", \"FW\", \"FW\", \"FW\", \"FW\", \"FW\", \"FW\", \"FW\", \"FW\", \"FW\", \"FW\", \"FW\", \"FW\", \"FW\", \"FW\", \"FW\", \"FW\", \"FW\", \"FW\", \"FW\", \"FW\", \"FW\", \"FW\", \"FW\", \"FW\", \"FW\", \"FW\", \"FW\", \"FW\", \"FW\", \"FW\", \"FW\", \"FW\", \"FW\", \"FW\", \"FW\", \"FW\", \"FW\", \"FW\", \"FW\", \"FW\", \"FW\", \"FW\", \"FW\", \"FW\", \"FW\", \"FW\", \"FW\", \"FW\", \"FW\", \"FW\", \"FW\", \"FW\", \"FW\", \"FW\"], \"x0\": \" \", \"xaxis\": \"x\", \"y\": [61, 79, 76, 79, 60, 72, 87, 79, 90, 61, 75, 72, 54, 90, 82, 77, 89, 61, 79, 87, 77, 88, 78, 79, 87, 82, 57, 77, 74, 59, 72, 74, 78, 73, 73, 59, 88, 78, 87, 73, 71, 73, 59, 70, 87, 83, 76, 78, 65, 64, 65, 68, 85, 75, 76, 76, 83, 84, 80, 81, 76, 83, 69, 76, 82, 74, 74, 74, 74, 74, 82, 66, 84, 70, 77, 70, 62, 81, 76, 62, 78, 62, 74, 62, 72, 63, 72, 85, 71, 75, 63, 71, 77, 75, 75, 63, 74, 79, 70, 78, 86, 83, 61, 75], \"y0\": \" \", \"yaxis\": \"y\"}],\n",
       "                        {\"boxmode\": \"overlay\", \"legend\": {\"title\": {\"text\": \"pos2\"}, \"tracegroupgap\": 0}, \"margin\": {\"t\": 60}, \"showlegend\": false, \"template\": {\"data\": {\"bar\": [{\"error_x\": {\"color\": \"#2a3f5f\"}, \"error_y\": {\"color\": \"#2a3f5f\"}, \"marker\": {\"line\": {\"color\": \"#E5ECF6\", \"width\": 0.5}}, \"type\": \"bar\"}], \"barpolar\": [{\"marker\": {\"line\": {\"color\": \"#E5ECF6\", \"width\": 0.5}}, \"type\": \"barpolar\"}], \"carpet\": [{\"aaxis\": {\"endlinecolor\": \"#2a3f5f\", \"gridcolor\": \"white\", \"linecolor\": \"white\", \"minorgridcolor\": \"white\", \"startlinecolor\": \"#2a3f5f\"}, \"baxis\": {\"endlinecolor\": \"#2a3f5f\", \"gridcolor\": \"white\", \"linecolor\": \"white\", \"minorgridcolor\": \"white\", \"startlinecolor\": \"#2a3f5f\"}, \"type\": \"carpet\"}], \"choropleth\": [{\"colorbar\": {\"outlinewidth\": 0, \"ticks\": \"\"}, \"type\": \"choropleth\"}], \"contour\": [{\"colorbar\": {\"outlinewidth\": 0, \"ticks\": \"\"}, \"colorscale\": [[0.0, \"#0d0887\"], [0.1111111111111111, \"#46039f\"], [0.2222222222222222, \"#7201a8\"], [0.3333333333333333, \"#9c179e\"], [0.4444444444444444, \"#bd3786\"], [0.5555555555555556, \"#d8576b\"], [0.6666666666666666, \"#ed7953\"], [0.7777777777777778, \"#fb9f3a\"], [0.8888888888888888, \"#fdca26\"], [1.0, \"#f0f921\"]], \"type\": \"contour\"}], \"contourcarpet\": [{\"colorbar\": {\"outlinewidth\": 0, \"ticks\": \"\"}, \"type\": \"contourcarpet\"}], \"heatmap\": [{\"colorbar\": {\"outlinewidth\": 0, \"ticks\": \"\"}, \"colorscale\": [[0.0, \"#0d0887\"], [0.1111111111111111, \"#46039f\"], [0.2222222222222222, \"#7201a8\"], [0.3333333333333333, \"#9c179e\"], [0.4444444444444444, \"#bd3786\"], [0.5555555555555556, \"#d8576b\"], [0.6666666666666666, \"#ed7953\"], [0.7777777777777778, \"#fb9f3a\"], [0.8888888888888888, \"#fdca26\"], [1.0, \"#f0f921\"]], \"type\": \"heatmap\"}], \"heatmapgl\": [{\"colorbar\": {\"outlinewidth\": 0, \"ticks\": \"\"}, \"colorscale\": [[0.0, \"#0d0887\"], [0.1111111111111111, \"#46039f\"], [0.2222222222222222, \"#7201a8\"], [0.3333333333333333, \"#9c179e\"], [0.4444444444444444, \"#bd3786\"], [0.5555555555555556, \"#d8576b\"], [0.6666666666666666, \"#ed7953\"], [0.7777777777777778, \"#fb9f3a\"], [0.8888888888888888, \"#fdca26\"], [1.0, \"#f0f921\"]], \"type\": \"heatmapgl\"}], \"histogram\": [{\"marker\": {\"colorbar\": {\"outlinewidth\": 0, \"ticks\": \"\"}}, \"type\": \"histogram\"}], \"histogram2d\": [{\"colorbar\": {\"outlinewidth\": 0, \"ticks\": \"\"}, \"colorscale\": [[0.0, \"#0d0887\"], [0.1111111111111111, \"#46039f\"], [0.2222222222222222, \"#7201a8\"], [0.3333333333333333, \"#9c179e\"], [0.4444444444444444, \"#bd3786\"], [0.5555555555555556, \"#d8576b\"], [0.6666666666666666, \"#ed7953\"], [0.7777777777777778, \"#fb9f3a\"], [0.8888888888888888, \"#fdca26\"], [1.0, \"#f0f921\"]], \"type\": \"histogram2d\"}], \"histogram2dcontour\": [{\"colorbar\": {\"outlinewidth\": 0, \"ticks\": \"\"}, \"colorscale\": [[0.0, \"#0d0887\"], [0.1111111111111111, \"#46039f\"], [0.2222222222222222, \"#7201a8\"], [0.3333333333333333, \"#9c179e\"], [0.4444444444444444, \"#bd3786\"], [0.5555555555555556, \"#d8576b\"], [0.6666666666666666, \"#ed7953\"], [0.7777777777777778, \"#fb9f3a\"], [0.8888888888888888, \"#fdca26\"], [1.0, \"#f0f921\"]], \"type\": \"histogram2dcontour\"}], \"mesh3d\": [{\"colorbar\": {\"outlinewidth\": 0, \"ticks\": \"\"}, \"type\": \"mesh3d\"}], \"parcoords\": [{\"line\": {\"colorbar\": {\"outlinewidth\": 0, \"ticks\": \"\"}}, \"type\": \"parcoords\"}], \"pie\": [{\"automargin\": true, \"type\": \"pie\"}], \"scatter\": [{\"marker\": {\"colorbar\": {\"outlinewidth\": 0, \"ticks\": \"\"}}, \"type\": \"scatter\"}], \"scatter3d\": [{\"line\": {\"colorbar\": {\"outlinewidth\": 0, \"ticks\": \"\"}}, \"marker\": {\"colorbar\": {\"outlinewidth\": 0, \"ticks\": \"\"}}, \"type\": \"scatter3d\"}], \"scattercarpet\": [{\"marker\": {\"colorbar\": {\"outlinewidth\": 0, \"ticks\": \"\"}}, \"type\": \"scattercarpet\"}], \"scattergeo\": [{\"marker\": {\"colorbar\": {\"outlinewidth\": 0, \"ticks\": \"\"}}, \"type\": \"scattergeo\"}], \"scattergl\": [{\"marker\": {\"colorbar\": {\"outlinewidth\": 0, \"ticks\": \"\"}}, \"type\": \"scattergl\"}], \"scattermapbox\": [{\"marker\": {\"colorbar\": {\"outlinewidth\": 0, \"ticks\": \"\"}}, \"type\": \"scattermapbox\"}], \"scatterpolar\": [{\"marker\": {\"colorbar\": {\"outlinewidth\": 0, \"ticks\": \"\"}}, \"type\": \"scatterpolar\"}], \"scatterpolargl\": [{\"marker\": {\"colorbar\": {\"outlinewidth\": 0, \"ticks\": \"\"}}, \"type\": \"scatterpolargl\"}], \"scatterternary\": [{\"marker\": {\"colorbar\": {\"outlinewidth\": 0, \"ticks\": \"\"}}, \"type\": \"scatterternary\"}], \"surface\": [{\"colorbar\": {\"outlinewidth\": 0, \"ticks\": \"\"}, \"colorscale\": [[0.0, \"#0d0887\"], [0.1111111111111111, \"#46039f\"], [0.2222222222222222, \"#7201a8\"], [0.3333333333333333, \"#9c179e\"], [0.4444444444444444, \"#bd3786\"], [0.5555555555555556, \"#d8576b\"], [0.6666666666666666, \"#ed7953\"], [0.7777777777777778, \"#fb9f3a\"], [0.8888888888888888, \"#fdca26\"], [1.0, \"#f0f921\"]], \"type\": \"surface\"}], \"table\": [{\"cells\": {\"fill\": {\"color\": \"#EBF0F8\"}, \"line\": {\"color\": \"white\"}}, \"header\": {\"fill\": {\"color\": \"#C8D4E3\"}, \"line\": {\"color\": \"white\"}}, \"type\": \"table\"}]}, \"layout\": {\"annotationdefaults\": {\"arrowcolor\": \"#2a3f5f\", \"arrowhead\": 0, \"arrowwidth\": 1}, \"coloraxis\": {\"colorbar\": {\"outlinewidth\": 0, \"ticks\": \"\"}}, \"colorscale\": {\"diverging\": [[0, \"#8e0152\"], [0.1, \"#c51b7d\"], [0.2, \"#de77ae\"], [0.3, \"#f1b6da\"], [0.4, \"#fde0ef\"], [0.5, \"#f7f7f7\"], [0.6, \"#e6f5d0\"], [0.7, \"#b8e186\"], [0.8, \"#7fbc41\"], [0.9, \"#4d9221\"], [1, \"#276419\"]], \"sequential\": [[0.0, \"#0d0887\"], [0.1111111111111111, \"#46039f\"], [0.2222222222222222, \"#7201a8\"], [0.3333333333333333, \"#9c179e\"], [0.4444444444444444, \"#bd3786\"], [0.5555555555555556, \"#d8576b\"], [0.6666666666666666, \"#ed7953\"], [0.7777777777777778, \"#fb9f3a\"], [0.8888888888888888, \"#fdca26\"], [1.0, \"#f0f921\"]], \"sequentialminus\": [[0.0, \"#0d0887\"], [0.1111111111111111, \"#46039f\"], [0.2222222222222222, \"#7201a8\"], [0.3333333333333333, \"#9c179e\"], [0.4444444444444444, \"#bd3786\"], [0.5555555555555556, \"#d8576b\"], [0.6666666666666666, \"#ed7953\"], [0.7777777777777778, \"#fb9f3a\"], [0.8888888888888888, \"#fdca26\"], [1.0, \"#f0f921\"]]}, \"colorway\": [\"#636efa\", \"#EF553B\", \"#00cc96\", \"#ab63fa\", \"#FFA15A\", \"#19d3f3\", \"#FF6692\", \"#B6E880\", \"#FF97FF\", \"#FECB52\"], \"font\": {\"color\": \"#2a3f5f\"}, \"geo\": {\"bgcolor\": \"white\", \"lakecolor\": \"white\", \"landcolor\": \"#E5ECF6\", \"showlakes\": true, \"showland\": true, \"subunitcolor\": \"white\"}, \"hoverlabel\": {\"align\": \"left\"}, \"hovermode\": \"closest\", \"mapbox\": {\"style\": \"light\"}, \"paper_bgcolor\": \"white\", \"plot_bgcolor\": \"#E5ECF6\", \"polar\": {\"angularaxis\": {\"gridcolor\": \"white\", \"linecolor\": \"white\", \"ticks\": \"\"}, \"bgcolor\": \"#E5ECF6\", \"radialaxis\": {\"gridcolor\": \"white\", \"linecolor\": \"white\", \"ticks\": \"\"}}, \"scene\": {\"xaxis\": {\"backgroundcolor\": \"#E5ECF6\", \"gridcolor\": \"white\", \"gridwidth\": 2, \"linecolor\": \"white\", \"showbackground\": true, \"ticks\": \"\", \"zerolinecolor\": \"white\"}, \"yaxis\": {\"backgroundcolor\": \"#E5ECF6\", \"gridcolor\": \"white\", \"gridwidth\": 2, \"linecolor\": \"white\", \"showbackground\": true, \"ticks\": \"\", \"zerolinecolor\": \"white\"}, \"zaxis\": {\"backgroundcolor\": \"#E5ECF6\", \"gridcolor\": \"white\", \"gridwidth\": 2, \"linecolor\": \"white\", \"showbackground\": true, \"ticks\": \"\", \"zerolinecolor\": \"white\"}}, \"shapedefaults\": {\"line\": {\"color\": \"#2a3f5f\"}}, \"ternary\": {\"aaxis\": {\"gridcolor\": \"white\", \"linecolor\": \"white\", \"ticks\": \"\"}, \"baxis\": {\"gridcolor\": \"white\", \"linecolor\": \"white\", \"ticks\": \"\"}, \"bgcolor\": \"#E5ECF6\", \"caxis\": {\"gridcolor\": \"white\", \"linecolor\": \"white\", \"ticks\": \"\"}}, \"title\": {\"x\": 0.05}, \"xaxis\": {\"automargin\": true, \"gridcolor\": \"white\", \"linecolor\": \"white\", \"ticks\": \"\", \"title\": {\"standoff\": 15}, \"zerolinecolor\": \"white\", \"zerolinewidth\": 2}, \"yaxis\": {\"automargin\": true, \"gridcolor\": \"white\", \"linecolor\": \"white\", \"ticks\": \"\", \"title\": {\"standoff\": 15}, \"zerolinecolor\": \"white\", \"zerolinewidth\": 2}}}, \"xaxis\": {\"anchor\": \"y\", \"categoryarray\": [\"GK\", \"DF\", \"MF\", \"FW\"], \"categoryorder\": \"array\", \"domain\": [0.0, 1.0], \"title\": {\"text\": \"Position\"}}, \"yaxis\": {\"anchor\": \"x\", \"domain\": [0.0, 1.0], \"title\": {\"text\": \"rating\"}}},\n",
       "                        {\"responsive\": true}\n",
       "                    )\n",
       "                };\n",
       "                \n",
       "            </script>\n",
       "        </div>\n",
       "</body>\n",
       "</html>"
      ],
      "text/plain": [
       "<IPython.core.display.HTML object>"
      ]
     },
     "execution_count": 144,
     "metadata": {},
     "output_type": "execute_result"
    }
   ],
   "source": [
    "# collapse\n",
    "df3['pos2'] = pd.Categorical(df3['pos2'], ['GK','DF','MF','FW'])\n",
    "\n",
    "fig3 = px.box(df3.sort_values(\"pos2\"), x=\"pos2\", y=\"rating\", color = 'pos2', points=\"all\", hover_data=['Player_name'])\n",
    "fig3.update_layout(xaxis_title=\"Position\")\n",
    "fig3.update_layout(showlegend=False)\n",
    "HTML(fig3.to_html(include_plotlyjs='cdn'))"
   ]
  },
  {
   "cell_type": "markdown",
   "metadata": {},
   "source": [
    "Every position have players from 55 to 90s rating"
   ]
  },
  {
   "cell_type": "markdown",
   "metadata": {},
   "source": [
    "**Wage vs position**"
   ]
  },
  {
   "cell_type": "code",
   "execution_count": 145,
   "metadata": {
    "ExecuteTime": {
     "end_time": "2020-11-19T07:35:20.564796Z",
     "start_time": "2020-11-19T07:35:20.504553Z"
    },
    "code_folding": [
     0
    ]
   },
   "outputs": [
    {
     "data": {
      "text/html": [
       "<html>\n",
       "<head><meta charset=\"utf-8\" /></head>\n",
       "<body>\n",
       "    <div>\n",
       "        \n",
       "                <script type=\"text/javascript\">window.PlotlyConfig = {MathJaxConfig: 'local'};</script>\n",
       "        <script src=\"https://cdn.plot.ly/plotly-latest.min.js\"></script>    \n",
       "            <div id=\"89766dec-8ca8-4c5d-9f41-6f084d92c716\" class=\"plotly-graph-div\" style=\"height:100%; width:100%;\"></div>\n",
       "            <script type=\"text/javascript\">\n",
       "                \n",
       "                    window.PLOTLYENV=window.PLOTLYENV || {};\n",
       "                    \n",
       "                if (document.getElementById(\"89766dec-8ca8-4c5d-9f41-6f084d92c716\")) {\n",
       "                    Plotly.newPlot(\n",
       "                        '89766dec-8ca8-4c5d-9f41-6f084d92c716',\n",
       "                        [{\"alignmentgroup\": \"True\", \"boxpoints\": \"all\", \"customdata\": [[\"D. Randolph\"], [\"L. Fabia\\u0144ski\"], [\"M. D\\u00fabravka\"], [\"W. Norris\"], [\"S. Carson\"], [\"S. Henderson\"], [\"Jo\\u00e3o Virg\\u00ednia\"], [\"L. Kalini\\u0107\"], [\"K. Darlow\"], [\"J. Bond\"], [\"Adri\\u00e1n\"], [\"I. Meslier\"], [\"A. Whiteman\"], [\"W. Caballero\"], [\"Rui Patr\\u00edcio\"], [\"J. Steer\"], [\"K. Schmeichel\"], [\"Robert Sanchez\"], [\"L. Grant\"], [\"M. Macey\"], [\"E. Jakupovi\\u0107\"], [\"M. Verrips\"], [\"B. Peacock-Farrell\"], [\"J. Pickford\"], [\"A. Ramsdale\"], [\"D. Button\"], [\"Kepa\"], [\"N. Pope\"], [\"A. Areola\"], [\"S. Johnstone\"], [\"R. Olsen\"], [\"J. Ruddy\"], [\"S. Moore\"], [\"J. Hart\"], [\"F. Forster\"], [\"J. Steele\"], [\"E. Mendy\"], [\"D. Martin\"], [\"E. Mart\\u00ednez\"], [\"W. Foderingham\"], [\"R. R\\u00fanarsson\"], [\"S. Romero\"], [\"Alisson\"], [\"M. Ryan\"], [\"Guaita\"], [\"J. Butland\"], [\"Ederson\"], [\"P. Gazzaniga\"], [\"Kiko Casilla\"], [\"A. McCarthy\"], [\"J. L\\u00f6ssl\"], [\"H. Lloris\"], [\"A. S\\u00f8ndergaard\"], [\"D. Henderson\"], [\"De Gea\"], [\"Z. Steffen\"], [\"B. Leno\"], [\"W. Hennessey\"], [\"M. Rod\\u00e1k\"], [\"C. Walton\"], [\"E. Caprile\"], [\"M. Gillespie\"], [\"Fabricio\"], [\"N. Trott\"], [\"D. Ward\"], [\"C. Kelleher\"], [\"T. Heaton\"]], \"hovertemplate\": \"pos2=%{x}<br>wage=%{y}<br>Player_name=%{customdata[0]}<extra></extra>\", \"legendgroup\": \"GK\", \"marker\": {\"color\": \"#636efa\"}, \"name\": \"GK\", \"notched\": false, \"offsetgroup\": \"GK\", \"orientation\": \"v\", \"showlegend\": true, \"type\": \"box\", \"x\": [\"GK\", \"GK\", \"GK\", \"GK\", \"GK\", \"GK\", \"GK\", \"GK\", \"GK\", \"GK\", \"GK\", \"GK\", \"GK\", \"GK\", \"GK\", \"GK\", \"GK\", \"GK\", \"GK\", \"GK\", \"GK\", \"GK\", \"GK\", \"GK\", \"GK\", \"GK\", \"GK\", \"GK\", \"GK\", \"GK\", \"GK\", \"GK\", \"GK\", \"GK\", \"GK\", \"GK\", \"GK\", \"GK\", \"GK\", \"GK\", \"GK\", \"GK\", \"GK\", \"GK\", \"GK\", \"GK\", \"GK\", \"GK\", \"GK\", \"GK\", \"GK\", \"GK\", \"GK\", \"GK\", \"GK\", \"GK\", \"GK\", \"GK\", \"GK\", \"GK\", \"GK\", \"GK\", \"GK\", \"GK\", \"GK\", \"GK\", \"GK\"], \"x0\": \" \", \"xaxis\": \"x\", \"y\": [26000.0, 26000.0, 47000.0, 9000.0, 12000.0, 9000.0, 7000.0, 33000.0, 28000.0, 12000.0, 50000.0, 22000.0, 7000.0, 32000.0, 90000.0, 21000.0, 90000.0, 7000.0, 23000.0, 12000.0, 9000.0, 10000.0, 14000.0, 70000.0, 20000.0, 21000.0, 70000.0, 59000.0, 71000.0, 50000.0, 56000.0, 27000.0, 9000.0, 50000.0, 34000.0, 13000.0, 70000.0, 8000.0, 43000.0, 17000.0, 25000.0, 86000.0, 160000.0, 53000.0, 48000.0, 29000.0, 195000.0, 59000.0, 49000.0, 39000.0, 40000.0, 125000.0, 3000.0, 70000.0, 150000.0, 64000.0, 105000.0, 34000.0, 44000.0, 22000.0, 1000.0, 19000.0, 53000.0, 3000.0, 43000.0, 6000.0, 40000.0], \"y0\": \" \", \"yaxis\": \"y\"}, {\"alignmentgroup\": \"True\", \"boxpoints\": \"all\", \"customdata\": [[\"J. Justin\"], [\"A. Tuanzebe\"], [\"D. Burn\"], [\"D. Yedlin\"], [\"A. Webster\"], [\"W. Morgan\"], [\"S. Dallas\"], [\"C. Dawson\"], [\"T. Fosu-Mensah\"], [\"E. Alioski\"], [\"L. Cooper\"], [\"B. Engels\"], [\"E. Konsa\"], [\"Bernardo\"], [\"E. Pieters\"], [\"B. Osborn\"], [\"E. Krafth\"], [\"H. Choudhury\"], [\"J. Bryan\"], [\"W. Saliba\"], [\"J. Lewis\"], [\"J. Stephens\"], [\"M. Kelly\"], [\"K. Walker-Peters\"], [\"C. Clark\"], [\"Manquillo\"], [\"K. Tsimikas\"], [\"Diego Llorente\"], [\"R. Koch\"], [\"J. Kenny\"], [\"F. Tomori\"], [\"M. Salisu\"], [\"F. Guilbert\"], [\"C\\u00e9dric\"], [\"A. Maitland-Niles\"], [\"J. Veltman\"], [\"P. van Aanholt\"], [\"G. Cahill\"], [\"C. Kouyat\\u00e9\"], [\"C. Taylor\"], [\"C. Basham\"], [\"M. Targett\"], [\"R. Fredericks\"], [\"Mar\\u00e7al\"], [\"J. Andersen\"], [\"M. Lowton\"], [\"K. Gibbs\"], [\"H. Boyes\"], [\"F. Balbuena\"], [\"P. Dummett\"], [\"M. Rojo\"], [\"P. Jones\"], [\"B. Williams\"], [\"L. Ayling\"], [\"A. Baba\"], [\"T. Mings\"], [\"M. Cash\"], [\"C. Chambers\"], [\"Pablo Mar\\u00ed\"], [\"R. Holding\"], [\"N. Clyne\"], [\"J. Tomkins\"], [\"M. Sakho\"], [\"J. Ward\"], [\"B. White\"], [\"D. Amartey\"], [\"Y. Valery\"], [\"A. Robinson\"], [\"D. Boateng\"], [\"A. Glennon\"], [\"L. Matheson\"], [\"D. Cirkin\"], [\"T. Harwood-Bellis\"], [\"Y. Larouci\"], [\"C. Drameh\"], [\"J. Branthwaite\"], [\"O. Rasmussen\"], [\"N. Nkounkou\"], [\"K. John\"], [\"K. Bryan\"], [\"K. Hoever\"], [\"L. Thomas\"], [\"B. Johnson\"], [\"J. Vokins\"], [\"P. Struijk\"], [\"L. Davis\"], [\"K. Ramsay\"], [\"T. Mitchell\"], [\"R. Yapi\"], [\"J. Wakely\"], [\"K. Gordon\"], [\"L. Richards\"], [\"T. Jenks\"], [\"M. Elva-Fountaine\"], [\"G. Harmon\"], [\"L. Dendoncker\"], [\"D. Revan\"], [\"S. Woods\"], [\"O. Casey\"], [\"C. Barrett\"], [\"A. Alese\"], [\"Y. Amankwah\"], [\"R. Williams\"], [\"C. Cresswell\"], [\"B. Koumetio\"], [\"B. Thomas\"], [\"Christian Marques\"], [\"H. Ashby\"], [\"O. Otasowie\"], [\"S. McQueen\"], [\"T. Mengi\"], [\"S. van den Berg\"], [\"D. Odoi\"], [\"R. A\\u00eft Nouri\"], [\"C. Townsend\"], [\"D. Furlong\"], [\"G. Baldock\"], [\"A. Elmohamady\"], [\"P. Jagielka\"], [\"M. Lowe\"], [\"T. Kongolo\"], [\"J. Bogle\"], [\"K. Bartley\"], [\"W. Fofana\"], [\"J. Tanganga\"], [\"Eric Garc\\u00eda\"], [\"B. Godfrey\"], [\"K. Hause\"], [\"S. Dann\"], [\"P. Bardsley\"], [\"M. Hector\"], [\"K. Long\"], [\"J. Riedewald\"], [\"N. Taylor\"], [\"Gon\\u00e7alo Cardoso\"], [\"T. Lamptey\"], [\"J. Dunne\"], [\"J. Rodwell\"], [\"N. Williams\"], [\"M. Pennington\"], [\"D. Sterling\"], [\"C. Kipr\\u00e9\"], [\"D. O'Shea\"], [\"N. Phillips\"], [\"N. Ferguson\"], [\"Roderick Miranda\"], [\"L. Peltier\"], [\"J. Robinson\"], [\"M. Le Marchand\"], [\"T. Adarabioyo\"], [\"T. Ream\"], [\"J. Rodon\"], [\"G. Berardi\"], [\"S. Ajayi\"], [\"K. Tete\"], [\"J. Belehouan\"], [\"Jo\\u00e3o Cancelo\"], [\"Azpilicueta\"], [\"R. Sa\\u00efss\"], [\"L. Dendoncker\"], [\"Ricardo Pereira\"], [\"T. Alderweireld\"], [\"A. R\\u00fcdiger\"], [\"J. Egan\"], [\"E. Stevens\"], [\"K. Walker\"], [\"J. O'Connell\"], [\"R\\u00faben Dias\"], [\"E. Bailly\"], [\"Gabriel\"], [\"L. Dunk\"], [\"N. Ak\\u00e9\"], [\"B. Mendy\"], [\"L. Shaw\"], [\"R. James\"], [\"M. Doherty\"], [\"L. Digne\"], [\"M. Keane\"], [\"Fernandinho\"], [\"B. Chilwell\"], [\"K. Tierney\"], [\"H. Maguire\"], [\"Reguil\\u00f3n\"], [\"S. Kola\\u0161inac\"], [\"S. Mustafi\"], [\"Sokratis\"], [\"N\\u00e9lson Semedo\"], [\"B. Ivanovi\\u0107\"], [\"Y. Mina\"], [\"A. Wan-Bissaka\"], [\"J. Gomez\"], [\"J. Gbamin\"], [\"J. Matip\"], [\"F. Sch\\u00e4r\"], [\"R. Bertrand\"], [\"W. Ndidi\"], [\"Alex Telles\"], [\"D. Rose\"], [\"V. Coufal\"], [\"E. Dier\"], [\"D. S\\u00e1nchez\"], [\"B. Mee\"], [\"S. Coleman\"], [\"W. Boly\"], [\"K. Zouma\"], [\"J. Bednarek\"], [\"J. Vestergaard\"], [\"A. Laporte\"], [\"M. Holgate\"], [\"C. S\\u00f6y\\u00fcnc\\u00fc\"], [\"A. Cresswell\"], [\"A. Masuaku\"], [\"J. Evans\"], [\"A. Robertson\"], [\"T. Alexander-Arnold\"], [\"S. Aurier\"], [\"Marcos Alonso\"], [\"B. Davies\"], [\"T. Castagne\"], [\"I. Diop\"], [\"V. van Dijk\"], [\"J. Stones\"], [\"J. Tarkowski\"], [\"David Luiz\"], [\"A. Ogbonna\"], [\"Jonny\"], [\"A. Christensen\"], [\"J. Lascelles\"], [\"Emerson\"], [\"F. Fern\\u00e1ndez\"], [\"Thiago Silva\"], [\"H\\u00e9ctor Beller\\u00edn\"]], \"hovertemplate\": \"pos2=%{x}<br>wage=%{y}<br>Player_name=%{customdata[0]}<extra></extra>\", \"legendgroup\": \"DF\", \"marker\": {\"color\": \"#EF553B\"}, \"name\": \"DF\", \"notched\": false, \"offsetgroup\": \"DF\", \"orientation\": \"v\", \"showlegend\": true, \"type\": \"box\", \"x\": [\"DF\", \"DF\", \"DF\", \"DF\", \"DF\", \"DF\", \"DF\", \"DF\", \"DF\", \"DF\", \"DF\", \"DF\", \"DF\", \"DF\", \"DF\", \"DF\", \"DF\", \"DF\", \"DF\", \"DF\", \"DF\", \"DF\", \"DF\", \"DF\", \"DF\", \"DF\", \"DF\", \"DF\", \"DF\", \"DF\", \"DF\", \"DF\", \"DF\", \"DF\", \"DF\", \"DF\", \"DF\", \"DF\", \"DF\", \"DF\", \"DF\", \"DF\", \"DF\", \"DF\", \"DF\", \"DF\", \"DF\", \"DF\", \"DF\", \"DF\", \"DF\", \"DF\", \"DF\", \"DF\", \"DF\", \"DF\", \"DF\", \"DF\", \"DF\", \"DF\", \"DF\", \"DF\", \"DF\", \"DF\", \"DF\", \"DF\", \"DF\", \"DF\", \"DF\", \"DF\", \"DF\", \"DF\", \"DF\", \"DF\", \"DF\", \"DF\", \"DF\", \"DF\", \"DF\", \"DF\", \"DF\", \"DF\", \"DF\", \"DF\", \"DF\", \"DF\", \"DF\", \"DF\", \"DF\", \"DF\", \"DF\", \"DF\", \"DF\", \"DF\", \"DF\", \"DF\", \"DF\", \"DF\", \"DF\", \"DF\", \"DF\", \"DF\", \"DF\", \"DF\", \"DF\", \"DF\", \"DF\", \"DF\", \"DF\", \"DF\", \"DF\", \"DF\", \"DF\", \"DF\", \"DF\", \"DF\", \"DF\", \"DF\", \"DF\", \"DF\", \"DF\", \"DF\", \"DF\", \"DF\", \"DF\", \"DF\", \"DF\", \"DF\", \"DF\", \"DF\", \"DF\", \"DF\", \"DF\", \"DF\", \"DF\", \"DF\", \"DF\", \"DF\", \"DF\", \"DF\", \"DF\", \"DF\", \"DF\", \"DF\", \"DF\", \"DF\", \"DF\", \"DF\", \"DF\", \"DF\", \"DF\", \"DF\", \"DF\", \"DF\", \"DF\", \"DF\", \"DF\", \"DF\", \"DF\", \"DF\", \"DF\", \"DF\", \"DF\", \"DF\", \"DF\", \"DF\", \"DF\", \"DF\", \"DF\", \"DF\", \"DF\", \"DF\", \"DF\", \"DF\", \"DF\", \"DF\", \"DF\", \"DF\", \"DF\", \"DF\", \"DF\", \"DF\", \"DF\", \"DF\", \"DF\", \"DF\", \"DF\", \"DF\", \"DF\", \"DF\", \"DF\", \"DF\", \"DF\", \"DF\", \"DF\", \"DF\", \"DF\", \"DF\", \"DF\", \"DF\", \"DF\", \"DF\", \"DF\", \"DF\", \"DF\", \"DF\", \"DF\", \"DF\", \"DF\", \"DF\", \"DF\", \"DF\", \"DF\", \"DF\", \"DF\", \"DF\", \"DF\", \"DF\", \"DF\", \"DF\", \"DF\", \"DF\", \"DF\", \"DF\", \"DF\", \"DF\", \"DF\", \"DF\", \"DF\", \"DF\", \"DF\", \"DF\"], \"x0\": \" \", \"xaxis\": \"x\", \"y\": [46000.0, 55000.0, 46000.0, 30000.0, 42000.0, 35000.0, 69000.0, 15000.0, 55000.0, 63000.0, 69000.0, 39000.0, 32000.0, 39000.0, 39000.0, 26000.0, 29000.0, 46000.0, 66000.0, 28000.0, 26000.0, 42000.0, 42000.0, 38000.0, 34000.0, 34000.0, 55000.0, 74000.0, 64000.0, 52000.0, 55000.0, 32000.0, 44000.0, 63000.0, 52000.0, 52000.0, 50000.0, 48000.0, 48000.0, 48000.0, 33000.0, 40000.0, 34000.0, 60000.0, 41000.0, 42000.0, 61000.0, 4000.0, 34000.0, 34000.0, 76000.0, 79000.0, 40000.0, 74000.0, 58000.0, 44000.0, 38000.0, 55000.0, 58000.0, 49000.0, 46000.0, 44000.0, 44000.0, 44000.0, 38000.0, 47000.0, 20000.0, 52000.0, 4000.0, 6000.0, null, 3000.0, 4000.0, 6000.0, 4000.0, 3000.0, 8000.0, 6000.0, 6000.0, 6000.0, 4000.0, 7000.0, 5000.0, 7000.0, 11000.0, 12000.0, 4000.0, 8000.0, 4000.0, 5000.0, 1000.0, 2000.0, 3000.0, 3000.0, 5000.0, 4000.0, 4000.0, 5000.0, 6000.0, 2000.0, 3000.0, 7000.0, 5000.0, null, null, 4000.0, null, 2000.0, 5000.0, 11000.0, 6000.0, 5000.0, 47000.0, 7000.0, 41000.0, 35000.0, 33000.0, 29000.0, 16000.0, 19000.0, 47000.0, 12000.0, 48000.0, 23000.0, 33000.0, 32000.0, 37000.0, 29000.0, 36000.0, 26000.0, 53000.0, 29000.0, 24000.0, 26000.0, 5000.0, 8000.0, 13000.0, 11000.0, 11000.0, 19000.0, 16000.0, 22000.0, 18000.0, 22000.0, 11000.0, 30000.0, 30000.0, 17000.0, 41000.0, 35000.0, 41000.0, 30000.0, 41000.0, 52000.0, 68000.0, 2000.0, 140000.0, 120000.0, 69000.0, 66000.0, 120000.0, 130000.0, 90000.0, 36000.0, 37000.0, 170000.0, 36000.0, 105000.0, 100000.0, 59000.0, 56000.0, 100000.0, 115000.0, 95000.0, 49000.0, 95000.0, 110000.0, 76000.0, 110000.0, 79000.0, 59000.0, 120000.0, 85000.0, 69000.0, 72000.0, 69000.0, 100000.0, 58000.0, 66000.0, 115000.0, 95000.0, 59000.0, 115000.0, 41000.0, 51000.0, 95000.0, 145000.0, 77000.0, 39000.0, 81000.0, 79000.0, 56000.0, 76000.0, 84000.0, 82000.0, 41000.0, 48000.0, 200000.0, 56000.0, 69000.0, 37000.0, 37000.0, 81000.0, 155000.0, 110000.0, 86000.0, 90000.0, 86000.0, 62000.0, 31000.0, 210000.0, 110000.0, 59000.0, 81000.0, 37000.0, 86000.0, 70000.0, 37000.0, 77000.0, 37000.0, 95000.0, 77000.0], \"y0\": \" \", \"yaxis\": \"y\"}, {\"alignmentgroup\": \"True\", \"boxpoints\": \"all\", \"customdata\": [[\"C. Jones\"], [\"R. Vilca\"], [\"Diogo Jota\"], [\"J. Clarke\"], [\"Fred\"], [\"C. Gallagher\"], [\"R. Harper\"], [\"B. Gilmour\"], [\"S. Field\"], [\"O. Burke\"], [\"E. Ampadu\"], [\"J. Molumby\"], [\"J. Milner\"], [\"J. Rodr\\u00edguez\"], [\"Lucas Moura\"], [\"A. Forshaw\"], [\"O. Zinchenko\"], [\"J. Willock\"], [\"T. Sou\\u010dek\"], [\"V. Lindel\\u00f6f\"], [\"Raphinha\"], [\"G. Lo Celso\"], [\"M. Be\\u0161i\\u0107\"], [\"C. Summerville\"], [\"Dani Ceballos\"], [\"R. Aarons\"], [\"C. Pulisic\"], [\"J. Grealish\"], [\"N. Ke\\u00efta\"], [\"X. Shaqiri\"], [\"K. Edwards\"], [\"M. Mount\"], [\"R\\u00faben Neves\"], [\"H. Lansbury\"], [\"E. Smith Rowe\"], [\"J. Onomah\"], [\"S. Alzate\"], [\"J. Maddison\"], [\"Ferran Torres\"], [\"K. McDonald\"], [\"S. Bergwijn\"], [\"B. Baningime\"], [\"D. Alli\"], [\"G. Xhaka\"], [\"Y. Tielemans\"], [\"P. Sandler\"], [\"D. Praet\"], [\"E. Laird\"], [\"L. McCarron\"], [\"P. Gwargis\"], [\"Bruno Fernandes\"], [\"F. Carvalho\"], [\"J. Henderson\"], [\"P. Pogba\"], [\"E. Anderson\"], [\"U. Eneme-Ella\"], [\"M. Sanders\"], [\"S. Diallo\"], [\"Sidnei Tavares\"], [\"T. Suengchitthawon\"], [\"K. Leshabela\"], [\"C. Coventry\"], [\"W. Ferry\"], [\"J. White\"], [\"A. Lewis\"], [\"C. Campbell\"], [\"T. Corbeanu\"], [\"C. Rowe\"], [\"L. Brunt\"], [\"L. Cundle\"], [\"R. Richards\"], [\"N. Kant\\u00e9\"], [\"I. Diallo\"], [\"T. Perry\"], [\"K. Havertz\"], [\"Bernardo Rosa\"], [\"J. Ramsey\"], [\"W. Rickard\"], [\"Fabinho\"], [\"C. Palmer\"], [\"G. McGregor\"], [\"Z. Brunt\"], [\"T. Francois\"], [\"H. Son\"], [\"N. Kirby\"], [\"M. Goodridge\"], [\"H. Ziyech\"], [\"Jorginho\"], [\"M. Kova\\u010di\\u0107\"], [\"E. Galbraith\"], [\"Allan\"], [\"N. Mati\\u0107\"], [\"I. G\\u00fcndo\\u011fan\"], [\"D. van de Beek\"], [\"F. Nmecha\"], [\"M. Kilman\"], [\"C. Gomes\"], [\"Jo\\u00e3o Moutinho\"], [\"J. Shackleton\"], [\"I. Poveda\"], [\"V\\u00edtor Ferreira\"], [\"N. P\\u00e9p\\u00e9\"], [\"M. \\u00d6zil\"], [\"W. Smallbone\"], [\"A. Gordon\"], [\"N. Tella\"], [\"M. Shabani\"], [\"C. Wright\"], [\"L. Ndukwu\"], [\"J. Bowden\"], [\"H. White\"], [\"C. Slattery\"], [\"T. Doyle\"], [\"G. Wijnaldum\"], [\"G. Marsh\"], [\"Thiago\"], [\"S. Jasper\"], [\"Rodri\"], [\"M. Rashford\"], [\"Adri\\u00e1n Bernab\\u00e9\"], [\"T. Partey\"], [\"O. Bouy\"], [\"J. Benson\"], [\"B. Pierrick\"], [\"A. Saint-Maximin\"], [\"F. Pellistri\"], [\"Gedson Fernandes\"], [\"J. Hendrick\"], [\"M. Lanzini\"], [\"Pablo Hern\\u00e1ndez\"], [\"C. \\u00dcnder\"], [\"T. Davies\"], [\"M. Nakamba\"], [\"N. Redmond\"], [\"C. Hourihane\"], [\"Douglas Luiz\"], [\"Daniel Podence\"], [\"R. Loftus-Cheek\"], [\"B. Saka\"], [\"D. Pr\\u00f6pper\"], [\"P. Gro\\u00df\"], [\"Trezeguet\"], [\"Oriol Romeu\"], [\"M. Almir\\u00f3n\"], [\"M. Djenepo\"], [\"C. Hudson-Odoi\"], [\"L. Milivojevi\\u0107\"], [\"A. Mac Allister\"], [\"Y. Bissouma\"], [\"S. March\"], [\"E. Eze\"], [\"R. Barkley\"], [\"J. Schlupp\"], [\"J. McArthur\"], [\"R. Brady\"], [\"A. Doucour\\u00e9\"], [\"Bernard\"], [\"D. Gray\"], [\"M. Noble\"], [\"S. Johansen\"], [\"A. Westwood\"], [\"D. McNeil\"], [\"M. Meyer\"], [\"J. McCarthy\"], [\"J. Shelvey\"], [\"B. Traor\\u00e9\"], [\"J. McGinn\"], [\"M. Ritchie\"], [\"M. Elneny\"], [\"A. Lallana\"], [\"A. Townsend\"], [\"J. Bowen\"], [\"J. Cork\"], [\"J. Gu\\u00f0mundsson\"], [\"R. Snodgrass\"], [\"J. Fleck\"], [\"O. Norwood\"], [\"M. Lemina\"], [\"S. Benrahma\"], [\"I. Hayden\"], [\"S. Berge\"], [\"F. Delph\"], [\"J. Lingard\"], [\"D. Stephens\"], [\"J. Lundstram\"], [\"J. Seri\"], [\"L. Trossard\"], [\"A. Zambo Anguissa\"], [\"T. Cairney\"], [\"Matheus Pereira\"], [\"N. Mendy\"], [\"M. Albrighton\"], [\"A. Iwobi\"], [\"T. Walcott\"], [\"S. Armstrong\"], [\"K. Phillips\"], [\"T. Minamino\"], [\"M. Greenwood\"], [\"D. James\"], [\"Adama Traor\\u00e9\"], [\"K. De Bruyne\"], [\"J. Harrison\"], [\"M. Sissoko\"], [\"J. Ward-Prowse\"], [\"D. McGoldrick\"], [\"R. Fraser\"], [\"M. Longstaff\"], [\"Juan Mata\"], [\"C. Fuchs\"], [\"R. Nelson\"], [\"S. McTominay\"], [\"J. Brownhill\"], [\"D. Drinkwater\"], [\"J. Murphy\"], [\"C. Musonda\"], [\"H\\u00e9lder Costa\"], [\"O. Aina\"], [\"H. Reed\"], [\"A. Oxlade-Chamberlain\"], [\"G. Sigur\\u00f0sson\"], [\"K. Grosicki\"], [\"M. Klich\"], [\"Andr\\u00e9 Gomes\"], [\"G. Diangana\"], [\"S. Longstaff\"], [\"R. Sawyers\"], [\"P. Foden\"], [\"I. Diallo\"], [\"C. Atsu\"], [\"H. Barnes\"], [\"D. Rice\"], [\"P. H\\u00f8jbjerg\"], [\"F. Krovinovi\\u0107\"], [\"T. Ndombele\"], [\"H. Winks\"], [\"Pablo Fornals\"], [\"M. Phillips\"], [\"J. Livermore\"], [\"C. Coady\"], [\"E. Lamela\"]], \"hovertemplate\": \"pos2=%{x}<br>wage=%{y}<br>Player_name=%{customdata[0]}<extra></extra>\", \"legendgroup\": \"MF\", \"marker\": {\"color\": \"#00cc96\"}, \"name\": \"MF\", \"notched\": false, \"offsetgroup\": \"MF\", \"orientation\": \"v\", \"showlegend\": true, \"type\": \"box\", \"x\": [\"MF\", \"MF\", \"MF\", \"MF\", \"MF\", \"MF\", \"MF\", \"MF\", \"MF\", \"MF\", \"MF\", \"MF\", \"MF\", \"MF\", \"MF\", \"MF\", \"MF\", \"MF\", \"MF\", \"MF\", \"MF\", \"MF\", \"MF\", \"MF\", \"MF\", \"MF\", \"MF\", \"MF\", \"MF\", \"MF\", \"MF\", \"MF\", \"MF\", \"MF\", \"MF\", \"MF\", \"MF\", \"MF\", \"MF\", \"MF\", \"MF\", \"MF\", \"MF\", \"MF\", \"MF\", \"MF\", \"MF\", \"MF\", \"MF\", \"MF\", \"MF\", \"MF\", \"MF\", \"MF\", \"MF\", \"MF\", \"MF\", \"MF\", \"MF\", \"MF\", \"MF\", \"MF\", \"MF\", \"MF\", \"MF\", \"MF\", \"MF\", \"MF\", \"MF\", \"MF\", \"MF\", \"MF\", \"MF\", \"MF\", \"MF\", \"MF\", \"MF\", \"MF\", \"MF\", \"MF\", \"MF\", \"MF\", \"MF\", \"MF\", \"MF\", \"MF\", \"MF\", \"MF\", \"MF\", \"MF\", \"MF\", \"MF\", \"MF\", \"MF\", \"MF\", \"MF\", \"MF\", \"MF\", \"MF\", \"MF\", \"MF\", \"MF\", \"MF\", \"MF\", \"MF\", \"MF\", \"MF\", \"MF\", \"MF\", \"MF\", \"MF\", \"MF\", \"MF\", \"MF\", \"MF\", \"MF\", \"MF\", \"MF\", \"MF\", \"MF\", \"MF\", \"MF\", \"MF\", \"MF\", \"MF\", \"MF\", \"MF\", \"MF\", \"MF\", \"MF\", \"MF\", \"MF\", \"MF\", \"MF\", \"MF\", \"MF\", \"MF\", \"MF\", \"MF\", \"MF\", \"MF\", \"MF\", \"MF\", \"MF\", \"MF\", \"MF\", \"MF\", \"MF\", \"MF\", \"MF\", \"MF\", \"MF\", \"MF\", \"MF\", \"MF\", \"MF\", \"MF\", \"MF\", \"MF\", \"MF\", \"MF\", \"MF\", \"MF\", \"MF\", \"MF\", \"MF\", \"MF\", \"MF\", \"MF\", \"MF\", \"MF\", \"MF\", \"MF\", \"MF\", \"MF\", \"MF\", \"MF\", \"MF\", \"MF\", \"MF\", \"MF\", \"MF\", \"MF\", \"MF\", \"MF\", \"MF\", \"MF\", \"MF\", \"MF\", \"MF\", \"MF\", \"MF\", \"MF\", \"MF\", \"MF\", \"MF\", \"MF\", \"MF\", \"MF\", \"MF\", \"MF\", \"MF\", \"MF\", \"MF\", \"MF\", \"MF\", \"MF\", \"MF\", \"MF\", \"MF\", \"MF\", \"MF\", \"MF\", \"MF\", \"MF\", \"MF\", \"MF\", \"MF\", \"MF\", \"MF\", \"MF\", \"MF\", \"MF\", \"MF\", \"MF\", \"MF\", \"MF\", \"MF\", \"MF\", \"MF\", \"MF\", \"MF\", \"MF\", \"MF\", \"MF\", \"MF\", \"MF\", \"MF\", \"MF\", \"MF\"], \"x0\": \" \", \"xaxis\": \"x\", \"y\": [13000.0, 9000.0, 90000.0, 13000.0, 115000.0, 29000.0, 18000.0, 25000.0, 19000.0, 11000.0, 6000.0, 13000.0, 95000.0, 105000.0, 110000.0, 43000.0, 95000.0, 31000.0, 46000.0, 100000.0, 100000.0, 95000.0, 36000.0, 14000.0, 125000.0, 13000.0, 83000.0, 65000.0, 95000.0, 105000.0, 24000.0, 70000.0, 89000.0, 25000.0, 18000.0, 28000.0, 15000.0, 82000.0, 95000.0, 41000.0, 95000.0, 15000.0, 95000.0, 81000.0, 82000.0, 34000.0, 71000.0, 7000.0, 7000.0, 5000.0, 195000.0, 2000.0, 140000.0, 190000.0, null, 5000.0, 6000.0, 8000.0, 4000.0, 8000.0, 8000.0, 5000.0, 6000.0, null, 5000.0, 1000.0, 5000.0, 6000.0, 4000.0, 3000.0, 1000.0, 190000.0, 5000.0, 3000.0, 105000.0, 3000.0, 4000.0, 3000.0, 155000.0, 5000.0, 6000.0, 2000.0, 7000.0, 200000.0, 6000.0, 6000.0, 140000.0, 125000.0, 120000.0, 9000.0, 115000.0, 105000.0, 160000.0, 125000.0, 10000.0, 13000.0, 11000.0, 110000.0, 15000.0, 15000.0, 3000.0, 100000.0, 100000.0, 9000.0, 13000.0, 7000.0, 9000.0, 8000.0, 8000.0, 3000.0, 3000.0, 6000.0, 5000.0, 150000.0, 8000.0, 150000.0, 8000.0, 145000.0, 150000.0, 9000.0, 120000.0, 13000.0, 6000.0, 3000.0, 43000.0, 19000.0, 10000.0, 37000.0, 43000.0, 57000.0, 66000.0, 55000.0, 44000.0, 56000.0, 51000.0, 38000.0, 72000.0, 70000.0, 22000.0, 53000.0, 53000.0, 51000.0, 44000.0, 43000.0, 40000.0, 41000.0, 59000.0, 36000.0, 42000.0, 46000.0, 40000.0, 81000.0, 46000.0, 46000.0, 48000.0, 76000.0, 76000.0, 55000.0, 36000.0, 61000.0, 51000.0, 41000.0, 42000.0, 46000.0, 42000.0, 49000.0, 49000.0, 40000.0, 60000.0, 55000.0, 54000.0, 35000.0, 48000.0, 54000.0, 40000.0, 38000.0, 38000.0, 52000.0, 43000.0, 35000.0, 34000.0, 60000.0, 95000.0, 44000.0, 34000.0, 85000.0, 56000.0, 71000.0, 85000.0, 61000.0, 63000.0, 66000.0, 62000.0, 66000.0, 51000.0, 68000.0, 79000.0, 33000.0, 81000.0, 80000.0, 370000.0, 71000.0, 81000.0, 59000.0, 33000.0, 47000.0, 20000.0, 110000.0, 49000.0, 39000.0, 86000.0, 34000.0, 57000.0, 26000.0, 50000.0, 66000.0, 28000.0, 57000.0, 89000.0, 83000.0, 57000.0, 72000.0, 83000.0, 50000.0, 26000.0, 60000.0, 86000.0, 23000.0, 32000.0, 80000.0, 31000.0, 74000.0, 9000.0, 82000.0, 70000.0, 41000.0, 65000.0, 57000.0, 76000.0, 100000.0], \"y0\": \" \", \"yaxis\": \"y\"}, {\"alignmentgroup\": \"True\", \"boxpoints\": \"all\", \"customdata\": [[\"O. Afolayan\"], [\"A. Yarmolenko\"], [\"O. Ighalo\"], [\"D. Origi\"], [\"S. Greenwood\"], [\"Pedro Neto\"], [\"P. Aubameyang\"], [\"A. Mitrovi\\u0107\"], [\"S. Man\\u00e9\"], [\"D. Parkhouse\"], [\"K. Grant\"], [\"T. Roberts\"], [\"M. Tait\"], [\"M. Salah\"], [\"S. Haller\"], [\"I. Slimani\"], [\"S. Ag\\u00fcero\"], [\"M\\u00e9saque Dj\\u00fa\"], [\"O. Giroud\"], [\"J. Vardy\"], [\"J. Ayew\"], [\"H. Kane\"], [\"M. Batshuayi\"], [\"N. Maupay\"], [\"Roberto Firmino\"], [\"D. Calvert-Lewin\"], [\"J. Hardy\"], [\"A. Barnes\"], [\"C. Robinson\"], [\"J. Mumbongo\"], [\"C. Austin\"], [\"E. Nketiah\"], [\"O. Watkins\"], [\"D. Welbeck\"], [\"A. Kamara\"], [\"Y. Tour\\u00e9\"], [\"R. Sterling\"], [\"Wesley\"], [\"Bernardo Silva\"], [\"M. Vydra\"], [\"C. Benteke\"], [\"B. Sharp\"], [\"R. Harker\"], [\"N. Kebano\"], [\"T. Werner\"], [\"A. Lacazette\"], [\"L. Mousset\"], [\"C. Wilson\"], [\"E. Simms\"], [\"N. Holland\"], [\"L. Millar\"], [\"J. Grot\"], [\"Gabriel Jesus\"], [\"Ivan Cavaleiro\"], [\"A. Lookman\"], [\"O. McBurnie\"], [\"G. Bale\"], [\"R. Jim\\u00e9nez\"], [\"T. Abraham\"], [\"Vin\\u00edcius\"], [\"K. Iheanacho\"], [\"W. Zaha\"], [\"A. Zeqiri\"], [\"C. Adams\"], [\"Willian\"], [\"S. Long\"], [\"Gabriel Martinelli\"], [\"D. Gayle\"], [\"A. Carroll\"], [\"Y. Bolasie\"], [\"Rodrigo\"], [\"H. Saivet\"], [\"E. Cavani\"], [\"K. Davis\"], [\"Joelinton\"], [\"H. Robson-Kanu\"], [\"M. Taylor-Crossdale\"], [\"D. Ings\"], [\"J. Rodriguez\"], [\"A. Muskwe\"], [\"C. Wood\"], [\"D. N'Lundulu\"], [\"P. Bamford\"], [\"F. Balogun\"], [\"R. Brewster\"], [\"M. Thompson\"], [\"A. Connolly\"], [\"R. Mahrez\"], [\"M. Obafemi\"], [\"F. Andone\"], [\"L. Delap\"], [\"F\\u00e1bio Silva\"], [\"A. El Ghazi\"], [\"J. Izquierdo\"], [\"C. Tosun\"], [\"J. Gelhardt\"], [\"A. Jahanbakhsh\"], [\"Ayoze P\\u00e9rez\"], [\"C. Wickham\"], [\"M. Antonio\"], [\"A. Martial\"], [\"Richarlison\"], [\"P. Glatzel\"], [\"B. Decordova-Reid\"]], \"hovertemplate\": \"pos2=%{x}<br>wage=%{y}<br>Player_name=%{customdata[0]}<extra></extra>\", \"legendgroup\": \"FW\", \"marker\": {\"color\": \"#ab63fa\"}, \"name\": \"FW\", \"notched\": false, \"offsetgroup\": \"FW\", \"orientation\": \"v\", \"showlegend\": true, \"type\": \"box\", \"x\": [\"FW\", \"FW\", \"FW\", \"FW\", \"FW\", \"FW\", \"FW\", \"FW\", \"FW\", \"FW\", \"FW\", \"FW\", \"FW\", \"FW\", \"FW\", \"FW\", \"FW\", \"FW\", \"FW\", \"FW\", \"FW\", \"FW\", \"FW\", \"FW\", \"FW\", \"FW\", \"FW\", \"FW\", \"FW\", \"FW\", \"FW\", \"FW\", \"FW\", \"FW\", \"FW\", \"FW\", \"FW\", \"FW\", \"FW\", \"FW\", \"FW\", \"FW\", \"FW\", \"FW\", \"FW\", \"FW\", \"FW\", \"FW\", \"FW\", \"FW\", \"FW\", \"FW\", \"FW\", \"FW\", \"FW\", \"FW\", \"FW\", \"FW\", \"FW\", \"FW\", \"FW\", \"FW\", \"FW\", \"FW\", \"FW\", \"FW\", \"FW\", \"FW\", \"FW\", \"FW\", \"FW\", \"FW\", \"FW\", \"FW\", \"FW\", \"FW\", \"FW\", \"FW\", \"FW\", \"FW\", \"FW\", \"FW\", \"FW\", \"FW\", \"FW\", \"FW\", \"FW\", \"FW\", \"FW\", \"FW\", \"FW\", \"FW\", \"FW\", \"FW\", \"FW\", \"FW\", \"FW\", \"FW\", \"FW\", \"FW\", \"FW\", \"FW\", \"FW\", \"FW\"], \"x0\": \" \", \"xaxis\": \"x\", \"y\": [6000.0, 40000.0, 19000.0, 79000.0, 6000.0, 39000.0, 170000.0, 90000.0, 250000.0, 5000.0, 50000.0, 33000.0, 5000.0, 250000.0, 58000.0, 77000.0, 300000.0, 5000.0, 95000.0, 170000.0, 59000.0, 220000.0, 82000.0, 52000.0, 190000.0, 84000.0, 9000.0, 57000.0, 53000.0, 6000.0, 55000.0, 39000.0, 49000.0, 47000.0, 54000.0, 4000.0, 270000.0, 49000.0, 230000.0, 44000.0, 35000.0, 30000.0, 6000.0, 50000.0, 135000.0, 125000.0, 29000.0, 48000.0, 9000.0, 8000.0, 13000.0, 18000.0, 150000.0, 84000.0, 36000.0, 31000.0, 200000.0, 140000.0, 77000.0, 18000.0, 56000.0, 89000.0, 12000.0, 41000.0, 110000.0, 47000.0, 38000.0, 37000.0, 36000.0, 63000.0, 140000.0, 10000.0, 175000.0, 19000.0, 34000.0, 42000.0, 11000.0, 75000.0, 53000.0, 9000.0, 63000.0, 6000.0, 72000.0, 5000.0, 16000.0, 4000.0, 23000.0, 210000.0, 15000.0, 49000.0, 3000.0, 7000.0, 51000.0, 45000.0, 71000.0, 6000.0, 49000.0, 82000.0, 25000.0, 46000.0, 155000.0, 90000.0, 7000.0, 63000.0], \"y0\": \" \", \"yaxis\": \"y\"}],\n",
       "                        {\"boxmode\": \"overlay\", \"legend\": {\"title\": {\"text\": \"pos2\"}, \"tracegroupgap\": 0}, \"margin\": {\"t\": 60}, \"showlegend\": false, \"template\": {\"data\": {\"bar\": [{\"error_x\": {\"color\": \"#2a3f5f\"}, \"error_y\": {\"color\": \"#2a3f5f\"}, \"marker\": {\"line\": {\"color\": \"#E5ECF6\", \"width\": 0.5}}, \"type\": \"bar\"}], \"barpolar\": [{\"marker\": {\"line\": {\"color\": \"#E5ECF6\", \"width\": 0.5}}, \"type\": \"barpolar\"}], \"carpet\": [{\"aaxis\": {\"endlinecolor\": \"#2a3f5f\", \"gridcolor\": \"white\", \"linecolor\": \"white\", \"minorgridcolor\": \"white\", \"startlinecolor\": \"#2a3f5f\"}, \"baxis\": {\"endlinecolor\": \"#2a3f5f\", \"gridcolor\": \"white\", \"linecolor\": \"white\", \"minorgridcolor\": \"white\", \"startlinecolor\": \"#2a3f5f\"}, \"type\": \"carpet\"}], \"choropleth\": [{\"colorbar\": {\"outlinewidth\": 0, \"ticks\": \"\"}, \"type\": \"choropleth\"}], \"contour\": [{\"colorbar\": {\"outlinewidth\": 0, \"ticks\": \"\"}, \"colorscale\": [[0.0, \"#0d0887\"], [0.1111111111111111, \"#46039f\"], [0.2222222222222222, \"#7201a8\"], [0.3333333333333333, \"#9c179e\"], [0.4444444444444444, \"#bd3786\"], [0.5555555555555556, \"#d8576b\"], [0.6666666666666666, \"#ed7953\"], [0.7777777777777778, \"#fb9f3a\"], [0.8888888888888888, \"#fdca26\"], [1.0, \"#f0f921\"]], \"type\": \"contour\"}], \"contourcarpet\": [{\"colorbar\": {\"outlinewidth\": 0, \"ticks\": \"\"}, \"type\": \"contourcarpet\"}], \"heatmap\": [{\"colorbar\": {\"outlinewidth\": 0, \"ticks\": \"\"}, \"colorscale\": [[0.0, \"#0d0887\"], [0.1111111111111111, \"#46039f\"], [0.2222222222222222, \"#7201a8\"], [0.3333333333333333, \"#9c179e\"], [0.4444444444444444, \"#bd3786\"], [0.5555555555555556, \"#d8576b\"], [0.6666666666666666, \"#ed7953\"], [0.7777777777777778, \"#fb9f3a\"], [0.8888888888888888, \"#fdca26\"], [1.0, \"#f0f921\"]], \"type\": \"heatmap\"}], \"heatmapgl\": [{\"colorbar\": {\"outlinewidth\": 0, \"ticks\": \"\"}, \"colorscale\": [[0.0, \"#0d0887\"], [0.1111111111111111, \"#46039f\"], [0.2222222222222222, \"#7201a8\"], [0.3333333333333333, \"#9c179e\"], [0.4444444444444444, \"#bd3786\"], [0.5555555555555556, \"#d8576b\"], [0.6666666666666666, \"#ed7953\"], [0.7777777777777778, \"#fb9f3a\"], [0.8888888888888888, \"#fdca26\"], [1.0, \"#f0f921\"]], \"type\": \"heatmapgl\"}], \"histogram\": [{\"marker\": {\"colorbar\": {\"outlinewidth\": 0, \"ticks\": \"\"}}, \"type\": \"histogram\"}], \"histogram2d\": [{\"colorbar\": {\"outlinewidth\": 0, \"ticks\": \"\"}, \"colorscale\": [[0.0, \"#0d0887\"], [0.1111111111111111, \"#46039f\"], [0.2222222222222222, \"#7201a8\"], [0.3333333333333333, \"#9c179e\"], [0.4444444444444444, \"#bd3786\"], [0.5555555555555556, \"#d8576b\"], [0.6666666666666666, \"#ed7953\"], [0.7777777777777778, \"#fb9f3a\"], [0.8888888888888888, \"#fdca26\"], [1.0, \"#f0f921\"]], \"type\": \"histogram2d\"}], \"histogram2dcontour\": [{\"colorbar\": {\"outlinewidth\": 0, \"ticks\": \"\"}, \"colorscale\": [[0.0, \"#0d0887\"], [0.1111111111111111, \"#46039f\"], [0.2222222222222222, \"#7201a8\"], [0.3333333333333333, \"#9c179e\"], [0.4444444444444444, \"#bd3786\"], [0.5555555555555556, \"#d8576b\"], [0.6666666666666666, \"#ed7953\"], [0.7777777777777778, \"#fb9f3a\"], [0.8888888888888888, \"#fdca26\"], [1.0, \"#f0f921\"]], \"type\": \"histogram2dcontour\"}], \"mesh3d\": [{\"colorbar\": {\"outlinewidth\": 0, \"ticks\": \"\"}, \"type\": \"mesh3d\"}], \"parcoords\": [{\"line\": {\"colorbar\": {\"outlinewidth\": 0, \"ticks\": \"\"}}, \"type\": \"parcoords\"}], \"pie\": [{\"automargin\": true, \"type\": \"pie\"}], \"scatter\": [{\"marker\": {\"colorbar\": {\"outlinewidth\": 0, \"ticks\": \"\"}}, \"type\": \"scatter\"}], \"scatter3d\": [{\"line\": {\"colorbar\": {\"outlinewidth\": 0, \"ticks\": \"\"}}, \"marker\": {\"colorbar\": {\"outlinewidth\": 0, \"ticks\": \"\"}}, \"type\": \"scatter3d\"}], \"scattercarpet\": [{\"marker\": {\"colorbar\": {\"outlinewidth\": 0, \"ticks\": \"\"}}, \"type\": \"scattercarpet\"}], \"scattergeo\": [{\"marker\": {\"colorbar\": {\"outlinewidth\": 0, \"ticks\": \"\"}}, \"type\": \"scattergeo\"}], \"scattergl\": [{\"marker\": {\"colorbar\": {\"outlinewidth\": 0, \"ticks\": \"\"}}, \"type\": \"scattergl\"}], \"scattermapbox\": [{\"marker\": {\"colorbar\": {\"outlinewidth\": 0, \"ticks\": \"\"}}, \"type\": \"scattermapbox\"}], \"scatterpolar\": [{\"marker\": {\"colorbar\": {\"outlinewidth\": 0, \"ticks\": \"\"}}, \"type\": \"scatterpolar\"}], \"scatterpolargl\": [{\"marker\": {\"colorbar\": {\"outlinewidth\": 0, \"ticks\": \"\"}}, \"type\": \"scatterpolargl\"}], \"scatterternary\": [{\"marker\": {\"colorbar\": {\"outlinewidth\": 0, \"ticks\": \"\"}}, \"type\": \"scatterternary\"}], \"surface\": [{\"colorbar\": {\"outlinewidth\": 0, \"ticks\": \"\"}, \"colorscale\": [[0.0, \"#0d0887\"], [0.1111111111111111, \"#46039f\"], [0.2222222222222222, \"#7201a8\"], [0.3333333333333333, \"#9c179e\"], [0.4444444444444444, \"#bd3786\"], [0.5555555555555556, \"#d8576b\"], [0.6666666666666666, \"#ed7953\"], [0.7777777777777778, \"#fb9f3a\"], [0.8888888888888888, \"#fdca26\"], [1.0, \"#f0f921\"]], \"type\": \"surface\"}], \"table\": [{\"cells\": {\"fill\": {\"color\": \"#EBF0F8\"}, \"line\": {\"color\": \"white\"}}, \"header\": {\"fill\": {\"color\": \"#C8D4E3\"}, \"line\": {\"color\": \"white\"}}, \"type\": \"table\"}]}, \"layout\": {\"annotationdefaults\": {\"arrowcolor\": \"#2a3f5f\", \"arrowhead\": 0, \"arrowwidth\": 1}, \"coloraxis\": {\"colorbar\": {\"outlinewidth\": 0, \"ticks\": \"\"}}, \"colorscale\": {\"diverging\": [[0, \"#8e0152\"], [0.1, \"#c51b7d\"], [0.2, \"#de77ae\"], [0.3, \"#f1b6da\"], [0.4, \"#fde0ef\"], [0.5, \"#f7f7f7\"], [0.6, \"#e6f5d0\"], [0.7, \"#b8e186\"], [0.8, \"#7fbc41\"], [0.9, \"#4d9221\"], [1, \"#276419\"]], \"sequential\": [[0.0, \"#0d0887\"], [0.1111111111111111, \"#46039f\"], [0.2222222222222222, \"#7201a8\"], [0.3333333333333333, \"#9c179e\"], [0.4444444444444444, \"#bd3786\"], [0.5555555555555556, \"#d8576b\"], [0.6666666666666666, \"#ed7953\"], [0.7777777777777778, \"#fb9f3a\"], [0.8888888888888888, \"#fdca26\"], [1.0, \"#f0f921\"]], \"sequentialminus\": [[0.0, \"#0d0887\"], [0.1111111111111111, \"#46039f\"], [0.2222222222222222, \"#7201a8\"], [0.3333333333333333, \"#9c179e\"], [0.4444444444444444, \"#bd3786\"], [0.5555555555555556, \"#d8576b\"], [0.6666666666666666, \"#ed7953\"], [0.7777777777777778, \"#fb9f3a\"], [0.8888888888888888, \"#fdca26\"], [1.0, \"#f0f921\"]]}, \"colorway\": [\"#636efa\", \"#EF553B\", \"#00cc96\", \"#ab63fa\", \"#FFA15A\", \"#19d3f3\", \"#FF6692\", \"#B6E880\", \"#FF97FF\", \"#FECB52\"], \"font\": {\"color\": \"#2a3f5f\"}, \"geo\": {\"bgcolor\": \"white\", \"lakecolor\": \"white\", \"landcolor\": \"#E5ECF6\", \"showlakes\": true, \"showland\": true, \"subunitcolor\": \"white\"}, \"hoverlabel\": {\"align\": \"left\"}, \"hovermode\": \"closest\", \"mapbox\": {\"style\": \"light\"}, \"paper_bgcolor\": \"white\", \"plot_bgcolor\": \"#E5ECF6\", \"polar\": {\"angularaxis\": {\"gridcolor\": \"white\", \"linecolor\": \"white\", \"ticks\": \"\"}, \"bgcolor\": \"#E5ECF6\", \"radialaxis\": {\"gridcolor\": \"white\", \"linecolor\": \"white\", \"ticks\": \"\"}}, \"scene\": {\"xaxis\": {\"backgroundcolor\": \"#E5ECF6\", \"gridcolor\": \"white\", \"gridwidth\": 2, \"linecolor\": \"white\", \"showbackground\": true, \"ticks\": \"\", \"zerolinecolor\": \"white\"}, \"yaxis\": {\"backgroundcolor\": \"#E5ECF6\", \"gridcolor\": \"white\", \"gridwidth\": 2, \"linecolor\": \"white\", \"showbackground\": true, \"ticks\": \"\", \"zerolinecolor\": \"white\"}, \"zaxis\": {\"backgroundcolor\": \"#E5ECF6\", \"gridcolor\": \"white\", \"gridwidth\": 2, \"linecolor\": \"white\", \"showbackground\": true, \"ticks\": \"\", \"zerolinecolor\": \"white\"}}, \"shapedefaults\": {\"line\": {\"color\": \"#2a3f5f\"}}, \"ternary\": {\"aaxis\": {\"gridcolor\": \"white\", \"linecolor\": \"white\", \"ticks\": \"\"}, \"baxis\": {\"gridcolor\": \"white\", \"linecolor\": \"white\", \"ticks\": \"\"}, \"bgcolor\": \"#E5ECF6\", \"caxis\": {\"gridcolor\": \"white\", \"linecolor\": \"white\", \"ticks\": \"\"}}, \"title\": {\"x\": 0.05}, \"xaxis\": {\"automargin\": true, \"gridcolor\": \"white\", \"linecolor\": \"white\", \"ticks\": \"\", \"title\": {\"standoff\": 15}, \"zerolinecolor\": \"white\", \"zerolinewidth\": 2}, \"yaxis\": {\"automargin\": true, \"gridcolor\": \"white\", \"linecolor\": \"white\", \"ticks\": \"\", \"title\": {\"standoff\": 15}, \"zerolinecolor\": \"white\", \"zerolinewidth\": 2}}}, \"xaxis\": {\"anchor\": \"y\", \"categoryarray\": [\"GK\", \"DF\", \"MF\", \"FW\"], \"categoryorder\": \"array\", \"domain\": [0.0, 1.0], \"title\": {\"text\": \"Position\"}}, \"yaxis\": {\"anchor\": \"x\", \"domain\": [0.0, 1.0], \"title\": {\"text\": \"wage\"}}},\n",
       "                        {\"responsive\": true}\n",
       "                    )\n",
       "                };\n",
       "                \n",
       "            </script>\n",
       "        </div>\n",
       "</body>\n",
       "</html>"
      ],
      "text/plain": [
       "<IPython.core.display.HTML object>"
      ]
     },
     "execution_count": 145,
     "metadata": {},
     "output_type": "execute_result"
    }
   ],
   "source": [
    "# collapse\n",
    "fig4 = px.box(df3.sort_values(\"pos2\"), x=\"pos2\", y=\"wage\", color = 'pos2', points=\"all\", hover_data=['Player_name'])\n",
    "fig4.update_layout(xaxis_title=\"Position\")\n",
    "fig4.update_layout(showlegend=False)\n",
    "HTML(fig4.to_html(include_plotlyjs='cdn'))"
   ]
  },
  {
   "cell_type": "markdown",
   "metadata": {},
   "source": [
    "KDB is an outlier in term of his FIFA21 salary"
   ]
  },
  {
   "cell_type": "code",
   "execution_count": 126,
   "metadata": {
    "ExecuteTime": {
     "end_time": "2020-11-19T07:33:06.483351Z",
     "start_time": "2020-11-19T07:33:06.469390Z"
    },
    "code_folding": [
     0
    ]
   },
   "outputs": [
    {
     "data": {
      "text/html": [
       "<div>\n",
       "<style scoped>\n",
       "    .dataframe tbody tr th:only-of-type {\n",
       "        vertical-align: middle;\n",
       "    }\n",
       "\n",
       "    .dataframe tbody tr th {\n",
       "        vertical-align: top;\n",
       "    }\n",
       "\n",
       "    .dataframe thead th {\n",
       "        text-align: right;\n",
       "    }\n",
       "</style>\n",
       "<table border=\"1\" class=\"dataframe\">\n",
       "  <thead>\n",
       "    <tr style=\"text-align: right;\">\n",
       "      <th></th>\n",
       "      <th>wage</th>\n",
       "    </tr>\n",
       "    <tr>\n",
       "      <th>pos2</th>\n",
       "      <th></th>\n",
       "    </tr>\n",
       "  </thead>\n",
       "  <tbody>\n",
       "    <tr>\n",
       "      <td>GK</td>\n",
       "      <td>42522.388060</td>\n",
       "    </tr>\n",
       "    <tr>\n",
       "      <td>DF</td>\n",
       "      <td>47622.807018</td>\n",
       "    </tr>\n",
       "    <tr>\n",
       "      <td>MF</td>\n",
       "      <td>53268.907563</td>\n",
       "    </tr>\n",
       "    <tr>\n",
       "      <td>FW</td>\n",
       "      <td>66365.384615</td>\n",
       "    </tr>\n",
       "  </tbody>\n",
       "</table>\n",
       "</div>"
      ],
      "text/plain": [
       "              wage\n",
       "pos2              \n",
       "GK    42522.388060\n",
       "DF    47622.807018\n",
       "MF    53268.907563\n",
       "FW    66365.384615"
      ]
     },
     "execution_count": 126,
     "metadata": {},
     "output_type": "execute_result"
    }
   ],
   "source": [
    "#\n",
    "pd.pivot_table(df3, index = 'pos2', values = 'wage')"
   ]
  },
  {
   "cell_type": "markdown",
   "metadata": {},
   "source": [
    "Forward gets higher wages. Make sense. Goalscoring attribute is a premium"
   ]
  },
  {
   "cell_type": "markdown",
   "metadata": {},
   "source": [
    "## Correlation map"
   ]
  },
  {
   "cell_type": "code",
   "execution_count": 127,
   "metadata": {
    "ExecuteTime": {
     "end_time": "2020-11-19T07:33:06.498312Z",
     "start_time": "2020-11-19T07:33:06.484350Z"
    },
    "code_folding": [
     0
    ]
   },
   "outputs": [
    {
     "data": {
      "text/plain": [
       "(643, 40)"
      ]
     },
     "execution_count": 127,
     "metadata": {},
     "output_type": "execute_result"
    }
   ],
   "source": [
    "# collapse\n",
    "df4 = df3.copy()\n",
    "df4 = df4[['pos2','height', 'weight','c_value', 'wage', 'rating', 'Crossing',\n",
    "       'Finishing', 'Heading Accuracy', 'Short Passing', 'Volleys',\n",
    "       'Dribbling', 'Curve', 'FK Accuracy', 'Long Passing', 'Ball Control',\n",
    "       'Acceleration', 'Sprint Speed', 'Agility', 'Reactions', 'Balance',\n",
    "       'Shot Power', 'Jumping', 'Stamina', 'Strength', 'Long Shots',\n",
    "       'Aggression', 'Interceptions', 'Positioning', 'Vision', 'Penalties',\n",
    "       'Composure', 'Defensive Awareness', 'Standing Tackle', 'Sliding Tackle',\n",
    "       'GK Diving', 'GK Handling', 'GK Kicking', 'GK Positioning',\n",
    "       'GK Reflexes']]\n",
    "df4.shape"
   ]
  },
  {
   "cell_type": "code",
   "execution_count": 128,
   "metadata": {
    "ExecuteTime": {
     "end_time": "2020-11-19T07:33:06.514253Z",
     "start_time": "2020-11-19T07:33:06.499310Z"
    }
   },
   "outputs": [],
   "source": [
    "import seaborn as sns"
   ]
  },
  {
   "cell_type": "code",
   "execution_count": 129,
   "metadata": {
    "ExecuteTime": {
     "end_time": "2020-11-19T07:33:06.941036Z",
     "start_time": "2020-11-19T07:33:06.515221Z"
    },
    "code_folding": [
     0
    ]
   },
   "outputs": [
    {
     "data": {
      "text/plain": [
       "<AxesSubplot:>"
      ]
     },
     "execution_count": 129,
     "metadata": {},
     "output_type": "execute_result"
    },
    {
     "data": {
      "image/png": "[encoded data removed]",
      "text/plain": [
       "<Figure size 792x648 with 2 Axes>"
      ]
     },
     "metadata": {},
     "output_type": "display_data"
    }
   ],
   "source": [
    "# collapse\n",
    "# Set up the matplotlib figure\n",
    "f, ax = plt.subplots(figsize=(11, 9))\n",
    "\n",
    "corr = df4.corr()\n",
    "\n",
    "# Generate a custom diverging colormap\n",
    "cmap = sns.diverging_palette(230, 20, as_cmap=True)\n",
    "\n",
    "# Draw the heatmap with the mask and correct aspect ratio\n",
    "sns.heatmap(corr, cmap=cmap, vmax=.3, center=0,\n",
    "            square=True, linewidths=.5, cbar_kws={\"shrink\": .5})"
   ]
  },
  {
   "cell_type": "markdown",
   "metadata": {},
   "source": [
    "Some insights:\n",
    "* Contract value and wages strongly correlated with attacking attributes => attakeer tends to have higher wages\n",
    "* Interesting how height and weight tend to be correlated with Goalkeeping stats. Perhaps Goalie tends to be taller and heavier\n",
    "* A lot of individual stats attributes seem to be correlated to each other\n",
    "\n",
    "Perhaps, instead of predicting positions through 30+ different attributes, we can simplify this to the 6 attributes that FIFA Ultimate team use. These stats are the following:\n",
    "* Pace\n",
    "* Shooting \n",
    "* Passing\n",
    "* Dribbling\n",
    "* Defending\n",
    "* Physical\n",
    "* Goalkeeping\n",
    "\n",
    "Based on: https://www.fifauteam.com/fifa-20-attributes-guide/\n",
    "\n",
    "\n",
    "They are a combination based on several attributes. For example, shooting is made up of: finishing, long sots, penalties, positioning, shot power, volleys. These stats are weighted, but *for simplicity I will just average them.*\n",
    "\n",
    "Note that Keepers usually have their own attributes, but I am going to make up keeping attributes which are simply the average of all the keepers attributes here. "
   ]
  },
  {
   "cell_type": "markdown",
   "metadata": {},
   "source": [
    "## Simplify stats"
   ]
  },
  {
   "cell_type": "code",
   "execution_count": 130,
   "metadata": {
    "ExecuteTime": {
     "end_time": "2020-11-19T07:33:06.972199Z",
     "start_time": "2020-11-19T07:33:06.942034Z"
    },
    "code_folding": [
     0
    ]
   },
   "outputs": [
    {
     "name": "stderr",
     "output_type": "stream",
     "text": [
      "C:\\Users\\Riyan Aditya\\Anaconda3\\lib\\site-packages\\pandas\\core\\indexing.py:1418: FutureWarning:\n",
      "\n",
      "\n",
      "Passing list-likes to .loc or [] with any missing label will raise\n",
      "KeyError in the future, you can use .reindex() as an alternative.\n",
      "\n",
      "See the documentation here:\n",
      "https://pandas.pydata.org/pandas-docs/stable/user_guide/indexing.html#deprecate-loc-reindex-listlike\n",
      "\n"
     ]
    }
   ],
   "source": [
    "# collapse\n",
    "df4['pace'] = df4.loc[:,['Acceleration','Sprint Speed'] ].mean(axis=1)\n",
    "df4['shooting'] = df4.loc[:,['Finishing','Long shots','Penalties','Positioning','Shot Power','Volleys']].mean(axis=1)\n",
    "df4['passing'] = df4.loc[:,['Crossing','Curve','FK Accuracy','Long Passing','Short Passing','Vision']].mean(axis=1)\n",
    "df4['dribbling'] = df4.loc[:,['Agility','Balance','Ball Control','Composure','Dribbling','Reactions']].mean(axis=1)\n",
    "df4['defending'] = df4.loc[:,['Heading Accuracy','Interceptions','Defensive Awareness','Sliding Tackle','Standing Tackle']].mean(axis=1)\n",
    "df4['physical'] = df4.loc[:,['Aggression','Jumping','Stamina','Strength']].mean(axis=1)\n",
    "df4['goalkeeping'] = df4.loc[:,['GK Diving', 'GK Handling', 'GK Kicking', 'GK Positioning','GK Reflexes']].mean(axis=1)\n",
    "\n"
   ]
  },
  {
   "cell_type": "markdown",
   "metadata": {},
   "source": [
    "And again remove unnecessary column"
   ]
  },
  {
   "cell_type": "code",
   "execution_count": 131,
   "metadata": {
    "ExecuteTime": {
     "end_time": "2020-11-19T07:33:06.988120Z",
     "start_time": "2020-11-19T07:33:06.973160Z"
    },
    "code_folding": [
     0
    ]
   },
   "outputs": [],
   "source": [
    "# collapse\n",
    "df5 = df4[['pos2', 'height', 'weight', 'c_value', 'wage', 'rating', \n",
    "           'pace', 'shooting', 'passing', 'dribbling', 'defending','physical', 'goalkeeping']]"
   ]
  },
  {
   "cell_type": "code",
   "execution_count": 132,
   "metadata": {
    "ExecuteTime": {
     "end_time": "2020-11-19T07:33:07.256859Z",
     "start_time": "2020-11-19T07:33:06.990115Z"
    },
    "code_folding": [
     0
    ]
   },
   "outputs": [
    {
     "data": {
      "text/plain": [
       "<AxesSubplot:>"
      ]
     },
     "execution_count": 132,
     "metadata": {},
     "output_type": "execute_result"
    },
    {
     "data": {
      "image/png": "[encoded data removed]",
      "text/plain": [
       "<Figure size 792x648 with 2 Axes>"
      ]
     },
     "metadata": {},
     "output_type": "display_data"
    }
   ],
   "source": [
    "# collapse\n",
    "# Set up the matplotlib figure\n",
    "f, ax = plt.subplots(figsize=(11, 9))\n",
    "\n",
    "corr = df5.corr()\n",
    "\n",
    "# Generate a custom diverging colormap\n",
    "cmap = sns.diverging_palette(230, 20, as_cmap=True)\n",
    "\n",
    "# Draw the heatmap with the mask and correct aspect ratio\n",
    "sns.heatmap(corr, cmap=cmap, vmax=.3, center=0,\n",
    "            square=True, linewidths=.5, cbar_kws={\"shrink\": .5})"
   ]
  },
  {
   "cell_type": "code",
   "execution_count": 133,
   "metadata": {
    "ExecuteTime": {
     "end_time": "2020-11-19T07:33:07.272805Z",
     "start_time": "2020-11-19T07:33:07.257814Z"
    }
   },
   "outputs": [
    {
     "data": {
      "text/plain": [
       "rating         1.000000\n",
       "wage           0.792763\n",
       "c_value        0.690792\n",
       "dribbling      0.558178\n",
       "physical       0.557454\n",
       "passing        0.508782\n",
       "shooting       0.420499\n",
       "defending      0.308034\n",
       "pace           0.227797\n",
       "weight         0.182961\n",
       "height         0.034694\n",
       "goalkeeping    0.031497\n",
       "Name: rating, dtype: float64"
      ]
     },
     "execution_count": 133,
     "metadata": {},
     "output_type": "execute_result"
    }
   ],
   "source": [
    "corr['rating'].sort_values(ascending=False)"
   ]
  },
  {
   "cell_type": "code",
   "execution_count": 146,
   "metadata": {
    "ExecuteTime": {
     "end_time": "2020-11-19T07:35:31.392180Z",
     "start_time": "2020-11-19T07:35:31.331289Z"
    },
    "code_folding": [
     0
    ]
   },
   "outputs": [
    {
     "data": {
      "text/html": [
       "<html>\n",
       "<head><meta charset=\"utf-8\" /></head>\n",
       "<body>\n",
       "    <div>\n",
       "        \n",
       "                <script type=\"text/javascript\">window.PlotlyConfig = {MathJaxConfig: 'local'};</script>\n",
       "        <script src=\"https://cdn.plot.ly/plotly-latest.min.js\"></script>    \n",
       "            <div id=\"2d815afb-41fb-406e-bda9-f6fe2b55ec77\" class=\"plotly-graph-div\" style=\"height:600px; width:600px;\"></div>\n",
       "            <script type=\"text/javascript\">\n",
       "                \n",
       "                    window.PLOTLYENV=window.PLOTLYENV || {};\n",
       "                    \n",
       "                if (document.getElementById(\"2d815afb-41fb-406e-bda9-f6fe2b55ec77\")) {\n",
       "                    Plotly.newPlot(\n",
       "                        '2d815afb-41fb-406e-bda9-f6fe2b55ec77',\n",
       "                        [{\"hovertemplate\": \"pos2=MF<br>shooting=%{x}<br>passing=%{y}<extra></extra>\", \"legendgroup\": \"MF\", \"marker\": {\"color\": \"#636efa\", \"symbol\": \"circle\"}, \"mode\": \"markers\", \"name\": \"MF\", \"orientation\": \"v\", \"showlegend\": true, \"type\": \"scatter\", \"x\": [85.4, 63.6, 83.0, 70.2, 85.4, 72.6, 82.6, 79.2, 75.8, 75.8, 75.4, 63.6, 81.8, 66.4, 72.2, 69.4, 67.0, 76.2, 77.8, 74.0, 78.4, 72.6, 84.2, 76.6, 74.2, 79.8, 76.4, 75.0, 71.4, 75.6, 70.6, 74.6, 73.6, 70.6, 67.6, 77.8, 75.4, 67.4, 64.0, 71.2, 71.2, 76.2, 76.4, 66.2, 51.0, 69.8, 67.6, 65.4, 65.4, 77.6, 68.0, 77.6, 72.2, 68.6, 67.2, 75.4, 70.2, 70.4, 67.4, 56.6, 42.0, 71.4, 67.2, 57.0, 61.4, 53.6, 69.0, 70.4, 70.4, 68.6, 73.6, 68.0, 70.6, 71.8, 65.0, 64.0, 63.8, 65.8, 75.0, 64.6, 63.2, 71.8, 73.2, 74.4, 68.6, 56.2, 71.6, 74.2, 69.4, 73.8, 70.6, 68.8, 69.0, 68.8, 71.0, 73.6, 60.6, 74.8, 71.6, 59.8, 68.2, 71.6, 66.2, 70.8, 72.0, 68.8, 53.0, 72.0, 70.8, 64.2, 64.6, 63.2, 61.4, 61.2, 63.0, 70.6, 69.8, 61.0, 58.8, 71.4, 66.4, 49.4, 58.8, 70.6, 69.0, 44.4, 65.8, 67.6, 71.6, 65.2, 71.2, 65.8, 70.2, 65.2, 64.0, 63.0, 72.2, 62.0, 70.0, 65.4, 61.6, 67.2, 73.8, 65.4, 61.4, 67.6, 62.4, 67.2, 68.4, 60.2, 55.8, 71.0, 54.4, 59.8, 60.0, 63.0, 62.8, 65.0, 50.6, 66.8, 64.0, 62.6, 54.4, 63.2, 52.4, 61.2, 58.4, 56.6, 63.4, 66.8, 40.0, 58.6, 61.4, 55.8, 61.6, 53.0, 45.4, 62.0, 58.6, 59.0, 56.2, 55.2, 58.6, 32.4, 52.2, 58.2, 50.2, 61.2, 50.6, 41.2, 50.2, 61.6, 43.6, 51.6, 55.2, 52.4, 45.0, 50.8, 53.6, 56.0, 55.6, 54.8, 54.6, 46.0, 52.2, 53.2, 47.4, 50.8, 55.0, 51.2, 45.8, 56.6, 46.6, 50.8, 52.2, 54.8, 49.8, 45.0, 52.8, 47.6, 50.2, 53.0, 48.8, 53.4, 53.8, 47.2, 53.0, 43.8, 52.4, 48.0, 45.8, 44.4, 50.2, 42.8, 44.8, 49.6, 43.4, 45.2], \"xaxis\": \"x\", \"y\": [90.5, 68.16666666666667, 78.66666666666667, 74.33333333333333, 87.5, 82.0, 85.33333333333333, 75.66666666666667, 86.66666666666667, 78.5, 83.83333333333333, 71.83333333333333, 77.83333333333333, 78.33333333333333, 81.66666666666667, 79.66666666666667, 71.16666666666667, 82.66666666666667, 75.5, 85.0, 76.16666666666667, 83.33333333333333, 85.33333333333333, 70.83333333333333, 81.0, 76.16666666666667, 74.66666666666667, 84.33333333333333, 69.0, 74.0, 72.83333333333333, 81.66666666666667, 73.33333333333333, 77.5, 68.66666666666667, 81.66666666666667, 83.83333333333333, 76.33333333333333, 79.0, 78.5, 79.0, 81.0, 69.33333333333333, 79.33333333333333, 69.0, 73.66666666666667, 69.33333333333333, 74.5, 76.66666666666667, 79.16666666666667, 76.5, 82.83333333333333, 74.5, 71.83333333333333, 71.5, 82.16666666666667, 75.83333333333333, 86.83333333333333, 72.66666666666667, 75.16666666666667, 58.5, 75.66666666666667, 72.0, 70.83333333333333, 63.833333333333336, 69.33333333333333, 75.16666666666667, 75.33333333333333, 63.333333333333336, 72.16666666666667, 73.33333333333333, 70.5, 76.83333333333333, 73.5, 67.66666666666667, 70.66666666666667, 79.83333333333333, 75.83333333333333, 75.66666666666667, 67.66666666666667, 70.16666666666667, 68.66666666666667, 70.16666666666667, 73.0, 66.5, 57.333333333333336, 77.16666666666667, 76.0, 69.5, 79.5, 71.5, 75.83333333333333, 74.16666666666667, 79.66666666666667, 77.0, 77.83333333333333, 71.33333333333333, 75.5, 76.0, 68.83333333333333, 70.16666666666667, 71.66666666666667, 70.66666666666667, 74.16666666666667, 70.16666666666667, 76.33333333333333, 68.0, 73.83333333333333, 76.33333333333333, 65.16666666666667, 78.16666666666667, 67.66666666666667, 70.83333333333333, 70.66666666666667, 76.0, 80.16666666666667, 74.83333333333333, 67.83333333333333, 70.5, 69.0, 75.5, 56.333333333333336, 70.0, 77.16666666666667, 72.33333333333333, 57.0, 64.5, 72.16666666666667, 73.83333333333333, 65.5, 76.66666666666667, 68.0, 61.5, 66.5, 71.0, 70.83333333333333, 78.5, 66.33333333333333, 71.5, 65.66666666666667, 67.0, 69.0, 69.66666666666667, 72.5, 67.5, 68.16666666666667, 70.83333333333333, 66.66666666666667, 76.66666666666667, 67.33333333333333, 61.333333333333336, 72.83333333333333, 68.5, 64.0, 68.5, 65.16666666666667, 68.83333333333333, 66.66666666666667, 59.0, 71.16666666666667, 73.0, 61.0, 65.83333333333333, 63.0, 62.5, 69.33333333333333, 61.0, 66.0, 62.833333333333336, 70.0, 62.333333333333336, 58.0, 64.0, 63.166666666666664, 61.333333333333336, 59.333333333333336, 57.666666666666664, 62.5, 64.33333333333333, 59.833333333333336, 58.666666666666664, 59.833333333333336, 61.5, 47.333333333333336, 57.0, 59.333333333333336, 54.166666666666664, 65.0, 50.333333333333336, 57.833333333333336, 58.0, 62.666666666666664, 53.5, 57.166666666666664, 58.833333333333336, 50.166666666666664, 53.666666666666664, 58.0, 61.333333333333336, 67.0, 56.333333333333336, 53.0, 53.833333333333336, 57.666666666666664, 55.166666666666664, 65.83333333333333, 54.666666666666664, 57.0, 58.5, 55.5, 52.666666666666664, 53.666666666666664, 52.0, 55.833333333333336, 57.5, 56.166666666666664, 53.833333333333336, 55.333333333333336, 54.5, 53.0, 55.333333333333336, 46.666666666666664, 51.666666666666664, 54.333333333333336, 53.833333333333336, 53.5, 52.333333333333336, 54.666666666666664, 55.5, 53.333333333333336, 50.666666666666664, 49.666666666666664, 54.166666666666664, 53.666666666666664, 48.0, 53.5, 49.0, 46.5], \"yaxis\": \"y\"}, {\"hovertemplate\": \"pos2=GK<br>shooting=%{x}<br>passing=%{y}<extra></extra>\", \"legendgroup\": \"GK\", \"marker\": {\"color\": \"#EF553B\", \"symbol\": \"circle\"}, \"mode\": \"markers\", \"name\": \"GK\", \"orientation\": \"v\", \"showlegend\": true, \"type\": \"scatter\", \"x\": [26.6, 27.8, 24.4, 25.2, 21.8, 25.6, 26.2, 22.8, 27.4, 23.8, 26.4, 33.4, 24.0, 18.2, 23.6, 24.8, 24.6, 17.8, 28.4, 24.6, 23.2, 26.8, 27.4, 23.6, 20.0, 27.0, 23.0, 23.0, 25.0, 24.2, 26.4, 23.6, 22.4, 18.4, 20.2, 26.6, 23.2, 19.2, 23.0, 27.2, 24.2, 22.4, 20.6, 23.8, 26.4, 17.2, 23.0, 24.0, 21.0, 18.0, 23.8, 19.0, 20.8, 23.4, 21.4, 21.6, 23.0, 19.2, 21.8, 17.2, 20.6, 19.8, 15.2, 14.8, 17.8, 17.0, 14.8], \"xaxis\": \"x\", \"y\": [34.833333333333336, 40.166666666666664, 27.333333333333332, 35.833333333333336, 30.0, 32.5, 28.0, 31.333333333333332, 31.333333333333332, 24.333333333333332, 38.166666666666664, 38.5, 24.666666666666668, 23.666666666666668, 30.5, 35.166666666666664, 35.166666666666664, 19.666666666666668, 36.833333333333336, 29.666666666666668, 26.666666666666668, 27.0, 40.5, 33.0, 29.0, 21.0, 23.833333333333332, 23.666666666666668, 25.833333333333332, 23.666666666666668, 26.666666666666668, 26.5, 27.0, 20.333333333333332, 25.333333333333332, 19.666666666666668, 30.666666666666668, 28.333333333333332, 33.0, 24.5, 22.833333333333332, 25.166666666666668, 31.0, 23.166666666666668, 22.666666666666668, 28.0, 22.333333333333332, 31.333333333333332, 21.166666666666668, 18.666666666666668, 24.833333333333332, 26.666666666666668, 17.666666666666668, 30.5, 25.666666666666668, 26.833333333333332, 23.0, 25.5, 25.333333333333332, 23.333333333333332, 26.5, 25.5, 21.166666666666668, 19.333333333333332, 19.5, 19.0, 19.5], \"yaxis\": \"y\"}, {\"hovertemplate\": \"pos2=FW<br>shooting=%{x}<br>passing=%{y}<extra></extra>\", \"legendgroup\": \"FW\", \"marker\": {\"color\": \"#00cc96\", \"symbol\": \"circle\"}, \"mode\": \"markers\", \"name\": \"FW\", \"orientation\": \"v\", \"showlegend\": true, \"type\": \"scatter\", \"x\": [84.8, 82.4, 87.6, 78.2, 90.8, 86.0, 81.0, 75.6, 87.6, 85.0, 76.8, 81.6, 87.2, 85.0, 81.8, 81.0, 83.0, 75.0, 75.6, 79.8, 79.4, 81.4, 84.4, 78.4, 82.4, 79.6, 78.0, 78.4, 74.4, 76.4, 79.0, 74.2, 79.6, 79.0, 78.4, 79.6, 75.4, 77.0, 78.4, 70.0, 75.6, 77.8, 77.4, 72.0, 77.6, 70.8, 71.8, 69.0, 73.2, 67.4, 68.0, 76.2, 75.0, 73.2, 72.6, 74.6, 72.4, 70.4, 65.6, 75.0, 72.8, 72.2, 76.2, 75.0, 72.2, 69.0, 68.0, 77.2, 65.2, 70.8, 68.8, 72.4, 67.8, 70.6, 66.8, 69.6, 68.0, 69.0, 70.6, 70.4, 64.8, 65.6, 66.0, 60.4, 59.0, 52.2, 63.4, 60.4, 60.8, 60.2, 57.6, 56.4, 56.6, 62.4, 58.2, 59.2, 57.8, 54.6, 53.6, 55.8, 58.6, 54.4, 56.4, 52.6], \"xaxis\": \"x\", \"y\": [79.0, 76.16666666666667, 76.0, 75.5, 79.16666666666667, 75.16666666666667, 78.0, 80.5, 64.16666666666667, 65.83333333333333, 80.66666666666667, 71.66666666666667, 70.0, 72.16666666666667, 73.83333333333333, 69.33333333333333, 83.66666666666667, 67.83333333333333, 80.5, 74.5, 70.66666666666667, 61.666666666666664, 57.0, 60.166666666666664, 68.16666666666667, 53.833333333333336, 53.833333333333336, 62.166666666666664, 70.33333333333333, 68.5, 59.666666666666664, 60.666666666666664, 77.5, 70.5, 50.666666666666664, 65.16666666666667, 70.16666666666667, 56.166666666666664, 63.5, 64.83333333333333, 62.5, 62.833333333333336, 64.0, 69.66666666666667, 66.66666666666667, 54.833333333333336, 67.0, 62.833333333333336, 50.666666666666664, 60.333333333333336, 64.66666666666667, 57.5, 58.833333333333336, 56.833333333333336, 59.833333333333336, 64.5, 53.0, 64.33333333333333, 63.5, 60.0, 62.666666666666664, 60.666666666666664, 60.833333333333336, 66.5, 65.33333333333333, 50.5, 61.833333333333336, 54.666666666666664, 59.833333333333336, 66.33333333333333, 53.0, 60.166666666666664, 59.833333333333336, 58.5, 66.66666666666667, 53.666666666666664, 42.666666666666664, 53.5, 44.0, 60.166666666666664, 48.666666666666664, 52.333333333333336, 70.16666666666667, 56.333333333333336, 50.0, 54.666666666666664, 50.166666666666664, 49.833333333333336, 46.5, 45.0, 40.333333333333336, 43.166666666666664, 45.166666666666664, 48.166666666666664, 49.166666666666664, 47.666666666666664, 54.5, 52.333333333333336, 43.5, 40.5, 42.5, 37.5, 36.333333333333336, 37.833333333333336], \"yaxis\": \"y\"}, {\"hovertemplate\": \"pos2=DF<br>shooting=%{x}<br>passing=%{y}<extra></extra>\", \"legendgroup\": \"DF\", \"marker\": {\"color\": \"#ab63fa\", \"symbol\": \"circle\"}, \"mode\": \"markers\", \"name\": \"DF\", \"orientation\": \"v\", \"showlegend\": true, \"type\": \"scatter\", \"x\": [57.4, 65.8, 59.8, 50.2, 58.2, 65.0, 54.2, 66.4, 58.6, 68.8, 70.6, 75.0, 63.6, 48.4, 33.6, 64.8, 56.4, 55.2, 53.6, 55.8, 57.4, 43.4, 43.4, 55.8, 57.2, 61.8, 42.4, 54.8, 54.8, 65.6, 53.0, 74.4, 39.0, 57.8, 66.0, 38.0, 49.2, 41.6, 47.6, 32.0, 61.8, 65.0, 45.0, 53.4, 44.6, 62.8, 59.4, 41.4, 38.8, 52.2, 64.2, 55.6, 52.2, 52.2, 56.0, 68.6, 53.4, 60.2, 59.4, 52.8, 70.6, 47.0, 46.6, 36.4, 39.8, 55.8, 44.8, 27.6, 32.2, 24.4, 50.0, 39.0, 58.4, 61.0, 42.8, 53.2, 49.6, 46.4, 45.8, 52.6, 62.4, 52.8, 67.2, 49.0, 60.0, 66.4, 51.6, 49.4, 33.4, 54.6, 40.4, 42.2, 57.0, 50.0, 54.8, 37.4, 37.4, 56.4, 55.6, 44.8, 49.4, 34.0, 35.6, 56.6, 36.6, 36.8, 53.8, 56.6, 46.0, 50.6, 52.4, 58.4, 50.6, 57.2, 43.0, 42.8, 40.2, 59.2, 61.6, 47.6, 29.0, 28.0, 37.0, 40.4, 41.8, 36.8, 63.2, 53.8, 52.6, 55.4, 49.6, 48.0, 48.0, 61.4, 61.6, 47.8, 52.0, 41.6, 66.4, 58.0, 44.0, 31.6, 56.6, 42.2, 45.4, 56.8, 37.4, 41.6, 43.6, 37.4, 28.4, 38.6, 30.8, 48.4, 48.0, 52.0, 47.4, 63.2, 49.0, 42.6, 48.0, 43.4, 53.4, 45.0, 38.2, 51.0, 43.0, 45.6, 32.6, 45.6, 30.8, 39.0, 42.0, 38.8, 45.8, 38.0, 33.6, 37.4, 32.8, 45.4, 37.8, 40.0, 63.2, 36.6, 37.0, 32.4, 36.8, 38.4, 47.2, 40.4, 34.2, 39.0, 46.8, 37.0, 39.2, 39.8, 49.4, 42.2, 38.8, 39.8, 30.2, 40.0, 47.0, 39.0, 40.6, 48.6, 53.6, 37.2, 34.6, 28.6, 35.6, 36.8, 36.6, 36.8, 27.8, 33.8, 42.8, 38.8, 28.0, 29.2, 36.0, 32.2, 29.0, 47.4, 41.2, 31.8, 33.6, 29.2], \"xaxis\": \"x\", \"y\": [68.83333333333333, 87.33333333333333, 76.5, 69.16666666666667, 68.83333333333333, 75.16666666666667, 69.83333333333333, 75.0, 73.16666666666667, 80.16666666666667, 75.0, 83.5, 64.5, 60.333333333333336, 57.0, 78.0, 63.5, 61.666666666666664, 62.0, 67.66666666666667, 71.66666666666667, 60.5, 46.333333333333336, 72.66666666666667, 71.16666666666667, 67.33333333333333, 47.166666666666664, 67.66666666666667, 65.0, 73.0, 59.833333333333336, 78.83333333333333, 60.0, 70.33333333333333, 66.16666666666667, 53.166666666666664, 53.166666666666664, 57.166666666666664, 63.0, 52.5, 67.0, 68.5, 58.166666666666664, 66.66666666666667, 53.166666666666664, 68.33333333333333, 65.66666666666667, 53.333333333333336, 52.0, 69.66666666666667, 65.16666666666667, 59.0, 46.0, 51.5, 69.16666666666667, 69.33333333333333, 68.83333333333333, 68.66666666666667, 67.66666666666667, 65.5, 75.5, 47.0, 64.16666666666667, 57.166666666666664, 60.166666666666664, 70.5, 61.5, 42.166666666666664, 50.5, 44.166666666666664, 56.833333333333336, 53.833333333333336, 73.16666666666667, 68.83333333333333, 46.0, 64.0, 59.0, 58.833333333333336, 54.5, 68.66666666666667, 56.333333333333336, 46.5, 72.16666666666667, 57.666666666666664, 63.333333333333336, 68.16666666666667, 69.5, 62.333333333333336, 50.833333333333336, 62.833333333333336, 50.666666666666664, 53.0, 70.33333333333333, 60.833333333333336, 49.5, 60.0, 45.666666666666664, 61.833333333333336, 67.33333333333333, 56.666666666666664, 59.5, 57.333333333333336, 48.833333333333336, 65.66666666666667, 50.666666666666664, 43.0, 64.5, 62.666666666666664, 59.166666666666664, 60.0, 55.833333333333336, 58.833333333333336, 53.333333333333336, 66.0, 60.0, 58.833333333333336, 44.0, 65.33333333333333, 69.0, 55.333333333333336, 49.166666666666664, 49.666666666666664, 55.5, 56.0, 53.166666666666664, 47.0, 62.666666666666664, 58.666666666666664, 64.0, 58.333333333333336, 52.0, 64.66666666666667, 57.0, 67.66666666666667, 71.16666666666667, 66.16666666666667, 55.333333333333336, 53.833333333333336, 67.0, 59.0, 57.166666666666664, 33.333333333333336, 56.5, 41.833333333333336, 49.0, 61.166666666666664, 42.333333333333336, 49.0, 51.166666666666664, 49.0, 46.5, 46.166666666666664, 43.666666666666664, 45.333333333333336, 60.333333333333336, 56.5, 50.666666666666664, 71.33333333333333, 56.666666666666664, 54.666666666666664, 63.0, 57.833333333333336, 63.0, 57.833333333333336, 45.5, 58.5, 61.333333333333336, 55.833333333333336, 42.0, 64.66666666666667, 46.166666666666664, 58.833333333333336, 57.333333333333336, 54.666666666666664, 47.166666666666664, 47.0, 42.833333333333336, 46.666666666666664, 39.666666666666664, 51.5, 46.333333333333336, 55.833333333333336, 64.5, 43.666666666666664, 53.333333333333336, 34.166666666666664, 47.5, 50.0, 60.0, 46.833333333333336, 44.166666666666664, 48.0, 48.333333333333336, 47.666666666666664, 48.333333333333336, 56.166666666666664, 53.5, 50.333333333333336, 42.333333333333336, 46.166666666666664, 34.0, 45.333333333333336, 50.0, 45.833333333333336, 45.0, 46.833333333333336, 54.5, 50.333333333333336, 39.833333333333336, 36.666666666666664, 37.0, 43.333333333333336, 33.833333333333336, 39.166666666666664, 32.333333333333336, 35.5, 45.0, 42.5, 31.0, 35.0, 37.833333333333336, 35.333333333333336, 41.166666666666664, 51.166666666666664, 47.166666666666664, 31.333333333333332, 41.0, 37.5], \"yaxis\": \"y\"}],\n",
       "                        {\"height\": 600, \"legend\": {\"title\": {\"text\": \"pos2\"}, \"tracegroupgap\": 0}, \"margin\": {\"t\": 60}, \"template\": {\"data\": {\"bar\": [{\"error_x\": {\"color\": \"#2a3f5f\"}, \"error_y\": {\"color\": \"#2a3f5f\"}, \"marker\": {\"line\": {\"color\": \"#E5ECF6\", \"width\": 0.5}}, \"type\": \"bar\"}], \"barpolar\": [{\"marker\": {\"line\": {\"color\": \"#E5ECF6\", \"width\": 0.5}}, \"type\": \"barpolar\"}], \"carpet\": [{\"aaxis\": {\"endlinecolor\": \"#2a3f5f\", \"gridcolor\": \"white\", \"linecolor\": \"white\", \"minorgridcolor\": \"white\", \"startlinecolor\": \"#2a3f5f\"}, \"baxis\": {\"endlinecolor\": \"#2a3f5f\", \"gridcolor\": \"white\", \"linecolor\": \"white\", \"minorgridcolor\": \"white\", \"startlinecolor\": \"#2a3f5f\"}, \"type\": \"carpet\"}], \"choropleth\": [{\"colorbar\": {\"outlinewidth\": 0, \"ticks\": \"\"}, \"type\": \"choropleth\"}], \"contour\": [{\"colorbar\": {\"outlinewidth\": 0, \"ticks\": \"\"}, \"colorscale\": [[0.0, \"#0d0887\"], [0.1111111111111111, \"#46039f\"], [0.2222222222222222, \"#7201a8\"], [0.3333333333333333, \"#9c179e\"], [0.4444444444444444, \"#bd3786\"], [0.5555555555555556, \"#d8576b\"], [0.6666666666666666, \"#ed7953\"], [0.7777777777777778, \"#fb9f3a\"], [0.8888888888888888, \"#fdca26\"], [1.0, \"#f0f921\"]], \"type\": \"contour\"}], \"contourcarpet\": [{\"colorbar\": {\"outlinewidth\": 0, \"ticks\": \"\"}, \"type\": \"contourcarpet\"}], \"heatmap\": [{\"colorbar\": {\"outlinewidth\": 0, \"ticks\": \"\"}, \"colorscale\": [[0.0, \"#0d0887\"], [0.1111111111111111, \"#46039f\"], [0.2222222222222222, \"#7201a8\"], [0.3333333333333333, \"#9c179e\"], [0.4444444444444444, \"#bd3786\"], [0.5555555555555556, \"#d8576b\"], [0.6666666666666666, \"#ed7953\"], [0.7777777777777778, \"#fb9f3a\"], [0.8888888888888888, \"#fdca26\"], [1.0, \"#f0f921\"]], \"type\": \"heatmap\"}], \"heatmapgl\": [{\"colorbar\": {\"outlinewidth\": 0, \"ticks\": \"\"}, \"colorscale\": [[0.0, \"#0d0887\"], [0.1111111111111111, \"#46039f\"], [0.2222222222222222, \"#7201a8\"], [0.3333333333333333, \"#9c179e\"], [0.4444444444444444, \"#bd3786\"], [0.5555555555555556, \"#d8576b\"], [0.6666666666666666, \"#ed7953\"], [0.7777777777777778, \"#fb9f3a\"], [0.8888888888888888, \"#fdca26\"], [1.0, \"#f0f921\"]], \"type\": \"heatmapgl\"}], \"histogram\": [{\"marker\": {\"colorbar\": {\"outlinewidth\": 0, \"ticks\": \"\"}}, \"type\": \"histogram\"}], \"histogram2d\": [{\"colorbar\": {\"outlinewidth\": 0, \"ticks\": \"\"}, \"colorscale\": [[0.0, \"#0d0887\"], [0.1111111111111111, \"#46039f\"], [0.2222222222222222, \"#7201a8\"], [0.3333333333333333, \"#9c179e\"], [0.4444444444444444, \"#bd3786\"], [0.5555555555555556, \"#d8576b\"], [0.6666666666666666, \"#ed7953\"], [0.7777777777777778, \"#fb9f3a\"], [0.8888888888888888, \"#fdca26\"], [1.0, \"#f0f921\"]], \"type\": \"histogram2d\"}], \"histogram2dcontour\": [{\"colorbar\": {\"outlinewidth\": 0, \"ticks\": \"\"}, \"colorscale\": [[0.0, \"#0d0887\"], [0.1111111111111111, \"#46039f\"], [0.2222222222222222, \"#7201a8\"], [0.3333333333333333, \"#9c179e\"], [0.4444444444444444, \"#bd3786\"], [0.5555555555555556, \"#d8576b\"], [0.6666666666666666, \"#ed7953\"], [0.7777777777777778, \"#fb9f3a\"], [0.8888888888888888, \"#fdca26\"], [1.0, \"#f0f921\"]], \"type\": \"histogram2dcontour\"}], \"mesh3d\": [{\"colorbar\": {\"outlinewidth\": 0, \"ticks\": \"\"}, \"type\": \"mesh3d\"}], \"parcoords\": [{\"line\": {\"colorbar\": {\"outlinewidth\": 0, \"ticks\": \"\"}}, \"type\": \"parcoords\"}], \"pie\": [{\"automargin\": true, \"type\": \"pie\"}], \"scatter\": [{\"marker\": {\"colorbar\": {\"outlinewidth\": 0, \"ticks\": \"\"}}, \"type\": \"scatter\"}], \"scatter3d\": [{\"line\": {\"colorbar\": {\"outlinewidth\": 0, \"ticks\": \"\"}}, \"marker\": {\"colorbar\": {\"outlinewidth\": 0, \"ticks\": \"\"}}, \"type\": \"scatter3d\"}], \"scattercarpet\": [{\"marker\": {\"colorbar\": {\"outlinewidth\": 0, \"ticks\": \"\"}}, \"type\": \"scattercarpet\"}], \"scattergeo\": [{\"marker\": {\"colorbar\": {\"outlinewidth\": 0, \"ticks\": \"\"}}, \"type\": \"scattergeo\"}], \"scattergl\": [{\"marker\": {\"colorbar\": {\"outlinewidth\": 0, \"ticks\": \"\"}}, \"type\": \"scattergl\"}], \"scattermapbox\": [{\"marker\": {\"colorbar\": {\"outlinewidth\": 0, \"ticks\": \"\"}}, \"type\": \"scattermapbox\"}], \"scatterpolar\": [{\"marker\": {\"colorbar\": {\"outlinewidth\": 0, \"ticks\": \"\"}}, \"type\": \"scatterpolar\"}], \"scatterpolargl\": [{\"marker\": {\"colorbar\": {\"outlinewidth\": 0, \"ticks\": \"\"}}, \"type\": \"scatterpolargl\"}], \"scatterternary\": [{\"marker\": {\"colorbar\": {\"outlinewidth\": 0, \"ticks\": \"\"}}, \"type\": \"scatterternary\"}], \"surface\": [{\"colorbar\": {\"outlinewidth\": 0, \"ticks\": \"\"}, \"colorscale\": [[0.0, \"#0d0887\"], [0.1111111111111111, \"#46039f\"], [0.2222222222222222, \"#7201a8\"], [0.3333333333333333, \"#9c179e\"], [0.4444444444444444, \"#bd3786\"], [0.5555555555555556, \"#d8576b\"], [0.6666666666666666, \"#ed7953\"], [0.7777777777777778, \"#fb9f3a\"], [0.8888888888888888, \"#fdca26\"], [1.0, \"#f0f921\"]], \"type\": \"surface\"}], \"table\": [{\"cells\": {\"fill\": {\"color\": \"#EBF0F8\"}, \"line\": {\"color\": \"white\"}}, \"header\": {\"fill\": {\"color\": \"#C8D4E3\"}, \"line\": {\"color\": \"white\"}}, \"type\": \"table\"}]}, \"layout\": {\"annotationdefaults\": {\"arrowcolor\": \"#2a3f5f\", \"arrowhead\": 0, \"arrowwidth\": 1}, \"coloraxis\": {\"colorbar\": {\"outlinewidth\": 0, \"ticks\": \"\"}}, \"colorscale\": {\"diverging\": [[0, \"#8e0152\"], [0.1, \"#c51b7d\"], [0.2, \"#de77ae\"], [0.3, \"#f1b6da\"], [0.4, \"#fde0ef\"], [0.5, \"#f7f7f7\"], [0.6, \"#e6f5d0\"], [0.7, \"#b8e186\"], [0.8, \"#7fbc41\"], [0.9, \"#4d9221\"], [1, \"#276419\"]], \"sequential\": [[0.0, \"#0d0887\"], [0.1111111111111111, \"#46039f\"], [0.2222222222222222, \"#7201a8\"], [0.3333333333333333, \"#9c179e\"], [0.4444444444444444, \"#bd3786\"], [0.5555555555555556, \"#d8576b\"], [0.6666666666666666, \"#ed7953\"], [0.7777777777777778, \"#fb9f3a\"], [0.8888888888888888, \"#fdca26\"], [1.0, \"#f0f921\"]], \"sequentialminus\": [[0.0, \"#0d0887\"], [0.1111111111111111, \"#46039f\"], [0.2222222222222222, \"#7201a8\"], [0.3333333333333333, \"#9c179e\"], [0.4444444444444444, \"#bd3786\"], [0.5555555555555556, \"#d8576b\"], [0.6666666666666666, \"#ed7953\"], [0.7777777777777778, \"#fb9f3a\"], [0.8888888888888888, \"#fdca26\"], [1.0, \"#f0f921\"]]}, \"colorway\": [\"#636efa\", \"#EF553B\", \"#00cc96\", \"#ab63fa\", \"#FFA15A\", \"#19d3f3\", \"#FF6692\", \"#B6E880\", \"#FF97FF\", \"#FECB52\"], \"font\": {\"color\": \"#2a3f5f\"}, \"geo\": {\"bgcolor\": \"white\", \"lakecolor\": \"white\", \"landcolor\": \"#E5ECF6\", \"showlakes\": true, \"showland\": true, \"subunitcolor\": \"white\"}, \"hoverlabel\": {\"align\": \"left\"}, \"hovermode\": \"closest\", \"mapbox\": {\"style\": \"light\"}, \"paper_bgcolor\": \"white\", \"plot_bgcolor\": \"#E5ECF6\", \"polar\": {\"angularaxis\": {\"gridcolor\": \"white\", \"linecolor\": \"white\", \"ticks\": \"\"}, \"bgcolor\": \"#E5ECF6\", \"radialaxis\": {\"gridcolor\": \"white\", \"linecolor\": \"white\", \"ticks\": \"\"}}, \"scene\": {\"xaxis\": {\"backgroundcolor\": \"#E5ECF6\", \"gridcolor\": \"white\", \"gridwidth\": 2, \"linecolor\": \"white\", \"showbackground\": true, \"ticks\": \"\", \"zerolinecolor\": \"white\"}, \"yaxis\": {\"backgroundcolor\": \"#E5ECF6\", \"gridcolor\": \"white\", \"gridwidth\": 2, \"linecolor\": \"white\", \"showbackground\": true, \"ticks\": \"\", \"zerolinecolor\": \"white\"}, \"zaxis\": {\"backgroundcolor\": \"#E5ECF6\", \"gridcolor\": \"white\", \"gridwidth\": 2, \"linecolor\": \"white\", \"showbackground\": true, \"ticks\": \"\", \"zerolinecolor\": \"white\"}}, \"shapedefaults\": {\"line\": {\"color\": \"#2a3f5f\"}}, \"ternary\": {\"aaxis\": {\"gridcolor\": \"white\", \"linecolor\": \"white\", \"ticks\": \"\"}, \"baxis\": {\"gridcolor\": \"white\", \"linecolor\": \"white\", \"ticks\": \"\"}, \"bgcolor\": \"#E5ECF6\", \"caxis\": {\"gridcolor\": \"white\", \"linecolor\": \"white\", \"ticks\": \"\"}}, \"title\": {\"x\": 0.05}, \"xaxis\": {\"automargin\": true, \"gridcolor\": \"white\", \"linecolor\": \"white\", \"ticks\": \"\", \"title\": {\"standoff\": 15}, \"zerolinecolor\": \"white\", \"zerolinewidth\": 2}, \"yaxis\": {\"automargin\": true, \"gridcolor\": \"white\", \"linecolor\": \"white\", \"ticks\": \"\", \"title\": {\"standoff\": 15}, \"zerolinecolor\": \"white\", \"zerolinewidth\": 2}}}, \"width\": 600, \"xaxis\": {\"anchor\": \"y\", \"domain\": [0.0, 1.0], \"title\": {\"text\": \"shooting\"}}, \"yaxis\": {\"anchor\": \"x\", \"domain\": [0.0, 1.0], \"title\": {\"text\": \"passing\"}}},\n",
       "                        {\"responsive\": true}\n",
       "                    )\n",
       "                };\n",
       "                \n",
       "            </script>\n",
       "        </div>\n",
       "</body>\n",
       "</html>"
      ],
      "text/plain": [
       "<IPython.core.display.HTML object>"
      ]
     },
     "execution_count": 146,
     "metadata": {},
     "output_type": "execute_result"
    }
   ],
   "source": [
    "# collapse\n",
    "\n",
    "fig5 = px.scatter(df5, x=\"shooting\", y=\"passing\", color=\"pos2\", width = 600, height = 600)\n",
    "HTML(fig5.to_html(include_plotlyjs='cdn'))"
   ]
  },
  {
   "cell_type": "markdown",
   "metadata": {},
   "source": [
    "This looks promising for unsupervised learning per position"
   ]
  },
  {
   "cell_type": "markdown",
   "metadata": {},
   "source": [
    "## Data cleaning"
   ]
  },
  {
   "cell_type": "markdown",
   "metadata": {},
   "source": [
    "Remove NAN in wages"
   ]
  },
  {
   "cell_type": "markdown",
   "metadata": {},
   "source": [
    "There are 7 players with no info on wages. *They will be removed*"
   ]
  },
  {
   "cell_type": "code",
   "execution_count": 135,
   "metadata": {
    "ExecuteTime": {
     "end_time": "2020-11-19T07:33:07.351713Z",
     "start_time": "2020-11-19T07:33:07.337176Z"
    },
    "code_folding": [
     0
    ]
   },
   "outputs": [],
   "source": [
    "# collapse\n",
    "df5 = df5[df5['wage'].notna()]"
   ]
  },
  {
   "cell_type": "code",
   "execution_count": null,
   "metadata": {},
   "outputs": [],
   "source": []
  },
  {
   "cell_type": "code",
   "execution_count": null,
   "metadata": {},
   "outputs": [],
   "source": []
  },
  {
   "cell_type": "code",
   "execution_count": null,
   "metadata": {},
   "outputs": [],
   "source": []
  },
  {
   "cell_type": "code",
   "execution_count": null,
   "metadata": {},
   "outputs": [],
   "source": []
  },
  {
   "cell_type": "code",
   "execution_count": null,
   "metadata": {},
   "outputs": [],
   "source": []
  },
  {
   "cell_type": "code",
   "execution_count": null,
   "metadata": {},
   "outputs": [],
   "source": []
  },
  {
   "cell_type": "code",
   "execution_count": null,
   "metadata": {},
   "outputs": [],
   "source": []
  },
  {
   "cell_type": "code",
   "execution_count": null,
   "metadata": {},
   "outputs": [],
   "source": []
  },
  {
   "cell_type": "code",
   "execution_count": null,
   "metadata": {},
   "outputs": [],
   "source": []
  },
  {
   "cell_type": "code",
   "execution_count": null,
   "metadata": {},
   "outputs": [],
   "source": []
  },
  {
   "cell_type": "code",
   "execution_count": null,
   "metadata": {},
   "outputs": [],
   "source": []
  },
  {
   "cell_type": "code",
   "execution_count": null,
   "metadata": {},
   "outputs": [],
   "source": []
  },
  {
   "cell_type": "code",
   "execution_count": null,
   "metadata": {},
   "outputs": [],
   "source": []
  },
  {
   "cell_type": "code",
   "execution_count": null,
   "metadata": {},
   "outputs": [],
   "source": []
  },
  {
   "cell_type": "code",
   "execution_count": null,
   "metadata": {},
   "outputs": [],
   "source": []
  },
  {
   "cell_type": "code",
   "execution_count": null,
   "metadata": {},
   "outputs": [],
   "source": []
  },
  {
   "cell_type": "code",
   "execution_count": null,
   "metadata": {},
   "outputs": [],
   "source": []
  },
  {
   "cell_type": "code",
   "execution_count": null,
   "metadata": {},
   "outputs": [],
   "source": []
  },
  {
   "cell_type": "code",
   "execution_count": null,
   "metadata": {},
   "outputs": [],
   "source": []
  },
  {
   "cell_type": "code",
   "execution_count": null,
   "metadata": {},
   "outputs": [],
   "source": []
  },
  {
   "cell_type": "code",
   "execution_count": null,
   "metadata": {},
   "outputs": [],
   "source": []
  }
 ],
 "metadata": {
  "kernelspec": {
   "display_name": "Python 3",
   "language": "python",
   "name": "python3"
  },
  "language_info": {
   "codemirror_mode": {
    "name": "ipython",
    "version": 3
   },
   "file_extension": ".py",
   "mimetype": "text/x-python",
   "name": "python",
   "nbconvert_exporter": "python",
   "pygments_lexer": "ipython3",
   "version": "3.7.4"
  },
  "toc": {
   "base_numbering": 1,
   "nav_menu": {},
   "number_sections": true,
   "sideBar": true,
   "skip_h1_title": false,
   "title_cell": "Table of Contents",
   "title_sidebar": "Contents",
   "toc_cell": false,
   "toc_position": {
    "height": "calc(100% - 180px)",
    "left": "10px",
    "top": "150px",
    "width": "307.2px"
   },
   "toc_section_display": true,
   "toc_window_display": true
  }
 },
 "nbformat": 4,
 "nbformat_minor": 2
}

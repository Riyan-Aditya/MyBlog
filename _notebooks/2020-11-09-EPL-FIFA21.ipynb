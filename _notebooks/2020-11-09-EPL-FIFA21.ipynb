{
 "cells": [
  {
   "cell_type": "markdown",
   "metadata": {},
   "source": [
    "# \"FIFA21 EPL analysis\"\n",
    "> \"Analysis of EPL players in FIFA21\"\n",
    "\n",
    "- toc: True\n",
    "- branch: master\n",
    "- badges: true\n",
    "- categories: [fastpages, jupyter]\n",
    "- hide: false\n",
    "- search_exclude: true\n",
    "- metadata_key1: metadata_value1\n",
    "- metadata_key2: metadata_value2"
   ]
  },
  {
   "cell_type": "markdown",
   "metadata": {},
   "source": [
    "Objective of this notebook:\n",
    "* Apply webscrap by myself\n",
    "* Visualise FIFA21 player data\n",
    "* Unsupervised learning to predict players' position"
   ]
  },
  {
   "cell_type": "markdown",
   "metadata": {},
   "source": [
    "Note book summary:\n",
    "* Create python script (BeautifulSoup) to scrap FIFA21 EPL players data from https://sofifa.com/ \n",
    "* Clean data\n",
    "* Gained information from the data"
   ]
  },
  {
   "cell_type": "markdown",
   "metadata": {},
   "source": [
    "# Import python module"
   ]
  },
  {
   "cell_type": "code",
   "execution_count": 1,
   "metadata": {
    "ExecuteTime": {
     "end_time": "2020-11-09T04:35:46.386450Z",
     "start_time": "2020-11-09T04:35:45.790929Z"
    },
    "code_folding": [
     0
    ]
   },
   "outputs": [],
   "source": [
    "# collapse\n",
    "import pandas as pd\n",
    "import numpy as np\n",
    "import requests\n",
    "from bs4 import BeautifulSoup as bs\n",
    "\n",
    "import time\n",
    "import re\n",
    "\n",
    "from random import randrange"
   ]
  },
  {
   "cell_type": "markdown",
   "metadata": {},
   "source": [
    "# Webscrap FIFA21 EPL players' stats"
   ]
  },
  {
   "cell_type": "markdown",
   "metadata": {},
   "source": [
    "First, check if you can webscrap. sofifa.com indicate you can webscrap through their robots.txt"
   ]
  },
  {
   "cell_type": "markdown",
   "metadata": {},
   "source": [
    "Webscrap procedure:\n",
    "* Search prem players in Fifa21\n",
    "* Results are stored in table, 60 per page. up to 600\n",
    "* open each pages, grab the link to pages for individual players\n",
    "\n",
    "Note: scrap responsibly. Add a random 2-6 seconds delay in between access to webpages"
   ]
  },
  {
   "cell_type": "markdown",
   "metadata": {},
   "source": [
    "## Grab list of EPL players"
   ]
  },
  {
   "cell_type": "markdown",
   "metadata": {},
   "source": [
    "Note: scrap mini list of players (I have done the longer version)"
   ]
  },
  {
   "cell_type": "code",
   "execution_count": 2,
   "metadata": {
    "ExecuteTime": {
     "end_time": "2020-11-09T04:36:43.355499Z",
     "start_time": "2020-11-09T04:35:46.387374Z"
    },
    "code_folding": [
     0
    ]
   },
   "outputs": [
    {
     "name": "stdout",
     "output_type": "stream",
     "text": [
      "Page 0 done\n",
      "Page 1 done\n",
      "Page 2 done\n",
      "Page 3 done\n",
      "Page 4 done\n",
      "Page 5 done\n",
      "Page 6 done\n",
      "Page 7 done\n",
      "Page 8 done\n",
      "Page 9 done\n",
      "Page 10 done\n"
     ]
    }
   ],
   "source": [
    "# collapse\n",
    "links = []\n",
    "\n",
    "for x in range(2):\n",
    "    \n",
    "    # make a search and scrap the webpage --------------------------------------------------\n",
    "    base_url = 'https://sofifa.com/players?type=all&lg%5B%5D=13'\n",
    "    \n",
    "    \n",
    "    if x > 0:\n",
    "        add_url ='&offset='+str(x*60)\n",
    "    else:\n",
    "        add_url=''\n",
    "\n",
    "    r = requests.get(base_url+add_url)\n",
    "    \n",
    "    # call the soup function to make the html readable --------------------------------------\n",
    "    webpage = bs(r.content)\n",
    "    table = webpage.find('table')\n",
    "    rows = table.find_all('tr')\n",
    "    \n",
    "    for row in rows[1::]:\n",
    "        link = row.find_all(\"a\",{\"class\":\"tooltip\"})[0]\n",
    "        links.append(link['href'])\n",
    "    \n",
    "    # print progress on scrapping link\n",
    "    print(\"Page\",x,\"done\")\n",
    "    \n",
    "    #Be sure to pause\n",
    "    time.sleep(randrange(2,6))"
   ]
  },
  {
   "cell_type": "markdown",
   "metadata": {},
   "source": [
    "Number of players in EPL:"
   ]
  },
  {
   "cell_type": "code",
   "execution_count": 3,
   "metadata": {
    "ExecuteTime": {
     "end_time": "2020-11-09T04:36:43.386537Z",
     "start_time": "2020-11-09T04:36:43.359499Z"
    },
    "code_folding": [
     0
    ]
   },
   "outputs": [
    {
     "data": {
      "text/plain": [
       "643"
      ]
     },
     "execution_count": 3,
     "metadata": {},
     "output_type": "execute_result"
    }
   ],
   "source": [
    "# collapse\n",
    "len(links)"
   ]
  },
  {
   "cell_type": "markdown",
   "metadata": {},
   "source": [
    "The top 10 players, sorted by overall rating:"
   ]
  },
  {
   "cell_type": "code",
   "execution_count": 4,
   "metadata": {
    "ExecuteTime": {
     "end_time": "2020-11-09T04:36:43.402378Z",
     "start_time": "2020-11-09T04:36:43.388416Z"
    },
    "code_folding": [
     0
    ]
   },
   "outputs": [
    {
     "data": {
      "text/plain": [
       "['/player/192985/kevin-de-bruyne/210010/',\n",
       " '/player/212831/alisson-ramses-becker/210010/',\n",
       " '/player/209331/mohamed-salah/210010/',\n",
       " '/player/208722/sadio-mane/210010/',\n",
       " '/player/203376/virgil-van-dijk/210010/',\n",
       " '/player/153079/sergio-aguero/210010/',\n",
       " '/player/215914/ngolo-kante/210010/',\n",
       " '/player/210257/ederson-santana-de-moraes/210010/',\n",
       " '/player/202652/raheem-sterling/210010/',\n",
       " '/player/200104/heung-min-son/210010/']"
      ]
     },
     "execution_count": 4,
     "metadata": {},
     "output_type": "execute_result"
    }
   ],
   "source": [
    "# collapse\n",
    "links[:10]"
   ]
  },
  {
   "cell_type": "markdown",
   "metadata": {},
   "source": [
    "Ok, we have 644 players registered in EPL in the FIFA21 game. That is 32 players per club which is about right"
   ]
  },
  {
   "cell_type": "markdown",
   "metadata": {},
   "source": [
    "## Scrap individual player stats"
   ]
  },
  {
   "cell_type": "markdown",
   "metadata": {},
   "source": [
    "Note: I have scrapped them before using the same function below. For for this demo, I will only scrap the first 10 players"
   ]
  },
  {
   "cell_type": "code",
   "execution_count": 5,
   "metadata": {
    "ExecuteTime": {
     "end_time": "2020-11-09T04:36:43.418367Z",
     "start_time": "2020-11-09T04:36:43.404373Z"
    },
    "code_folding": []
   },
   "outputs": [],
   "source": [
    "links3 = links[:10]"
   ]
  },
  {
   "cell_type": "markdown",
   "metadata": {},
   "source": [
    "Players to scrap (show first 5):"
   ]
  },
  {
   "cell_type": "code",
   "execution_count": 6,
   "metadata": {
    "ExecuteTime": {
     "end_time": "2020-11-09T04:36:43.434328Z",
     "start_time": "2020-11-09T04:36:43.419435Z"
    },
    "code_folding": [
     0
    ]
   },
   "outputs": [
    {
     "data": {
      "text/plain": [
       "['/player/192985/kevin-de-bruyne/210010/',\n",
       " '/player/212831/alisson-ramses-becker/210010/',\n",
       " '/player/209331/mohamed-salah/210010/',\n",
       " '/player/208722/sadio-mane/210010/',\n",
       " '/player/203376/virgil-van-dijk/210010/']"
      ]
     },
     "execution_count": 6,
     "metadata": {},
     "output_type": "execute_result"
    }
   ],
   "source": [
    "# collapse\n",
    "links3[:5]"
   ]
  },
  {
   "cell_type": "markdown",
   "metadata": {},
   "source": [
    "Use function to scrap"
   ]
  },
  {
   "cell_type": "code",
   "execution_count": 10,
   "metadata": {
    "ExecuteTime": {
     "end_time": "2020-11-09T04:39:51.801859Z",
     "start_time": "2020-11-09T04:39:02.261985Z"
    },
    "code_folding": [
     0,
     3,
     6,
     9,
     18,
     26,
     31
    ]
   },
   "outputs": [
    {
     "name": "stdout",
     "output_type": "stream",
     "text": [
      "0\n"
     ]
    }
   ],
   "source": [
    "# collapse\n",
    "list_stats_top10 = []\n",
    "\n",
    "def player_name(weblink):\n",
    "    return weblink.find('h1').text\n",
    "\n",
    "def nat(weblink):\n",
    "    return weblink.find('div',{\"class\":\"meta bp3-text-overflow-ellipsis\"}).a['title']\n",
    "    \n",
    "def dob_wh(weblink):\n",
    "    stuff = weblink.find('div',{\"class\":\"meta bp3-text-overflow-ellipsis\"}).text\n",
    "    temp = stuff.split(\"(\")[1]\n",
    "    dob = temp.split(\")\")[0]\n",
    "    temp2 = temp.split(\")\")[1].split(\" \")\n",
    "    height = temp2[1]\n",
    "    weight = temp2[2]\n",
    "    return dob, height, weight\n",
    "\n",
    "def club_info(weblink):\n",
    "    club = weblink.find(text = re.compile('Player Specialities')).parent.findNext('h5').text\n",
    "    jersey = weblink.find(text = re.compile('Jersey Number')).next\n",
    "    c_valid = weblink.find(text = re.compile('Contract Valid Until')).next\n",
    "    c_value = weblink.find('section',{\"class\":\"card spacing\"}).find(text = re.compile('Value')).previous.previous\n",
    "    wage = weblink.find('section',{\"class\":\"card spacing\"}).find(text = re.compile('Wage')).previous.previous\n",
    "    return club, jersey, c_valid, c_value, wage\n",
    "\n",
    "def player_stats(weblink):\n",
    "    best_pos = weblink.find(text = re.compile('Best Position')).next.text\n",
    "    best_rating = weblink.find(text = re.compile('Best Overall Rating')).next.text\n",
    "    return best_pos, best_rating\n",
    "    \n",
    "def player_stats_detail(weblink):\n",
    "    \n",
    "    # Attacking stats\n",
    "    temp = weblink.find(text = re.compile('Attacking')).parent.parent.find_all(\"li\")\n",
    "    keys = ['Crossing','Finishing','Heading Accuracy','Short Passing','Volleys']\n",
    "    for index,attrs in enumerate(temp):\n",
    "        temp2 = attrs.find_all('span')\n",
    "        stats[keys[index]] = temp2[0].text\n",
    "    \n",
    "    # skill stats\n",
    "    temp = weblink.find(text = re.compile('Attacking')).parent.parent.parent.find_next_sibling(\"div\").find_all(\"li\")\n",
    "    keys = ['Dribbling','Curve','FK Accuracy','Long Passing','Ball Control']\n",
    "    for index,attrs in enumerate(temp):\n",
    "        temp2 = attrs.find_all('span')\n",
    "        stats[keys[index]] = temp2[0].text\n",
    "    \n",
    "    # movement stats\n",
    "    temp = weblink.find(text = re.compile('Movement')).parent.parent.find_all(\"li\")\n",
    "    keys = ['Acceleration','Spring Speed','Agility','Reactions','Balance']\n",
    "    for index,attrs in enumerate(temp):\n",
    "        temp2 = attrs.find_all('span')\n",
    "        stats[keys[index]] = temp2[0].text\n",
    "\n",
    "    # power stats\n",
    "    temp = weblink.find(text = re.compile('Power')).parent.parent.find_all(\"li\")\n",
    "    keys = ['Shot Power','Jumping','Stamina','Strength','Long Shots']\n",
    "    for index,attrs in enumerate(temp):\n",
    "        temp2 = attrs.find_all('span')\n",
    "        stats[keys[index]] = temp2[0].text\n",
    "    \n",
    "    \n",
    "    # mentality stats\n",
    "    temp = weblink.find(text = re.compile('Mentality')).parent.parent.find_all(\"li\")\n",
    "    keys = ['Aggression','Interceptions','Positioning','Vision','Penalties','Composure']\n",
    "    for index,attrs in enumerate(temp):\n",
    "        temp2 = attrs.find_all('span')\n",
    "        stats[keys[index]] = temp2[0].text\n",
    "    \n",
    "    # defending stats\n",
    "    temp = weblink.find(text = re.compile('Defending')).parent.parent.find_all(\"li\")\n",
    "    keys = ['Defensive Awareness','Standing Tackle','Sliding Tackle']\n",
    "    for index,attrs in enumerate(temp):\n",
    "        temp2 = attrs.find_all('span')\n",
    "        stats[keys[index]] = temp2[0].text\n",
    "    \n",
    "    # goalkeeping stats\n",
    "    temp = weblink.find(text = re.compile('Goalkeeping')).parent.parent.find_all(\"li\")\n",
    "    keys = ['GK Diving','GK Handling','GK Kicking','GK Positioning','GK Reflexes']\n",
    "    for index,attrs in enumerate(temp):\n",
    "        temp2 = attrs.find_all('span')\n",
    "        stats[keys[index]] = temp2[0].text\n",
    "    \n",
    "    # traits stats\n",
    "    try:\n",
    "        temp = weblink.find(text = re.compile('Traits')).parent.parent.find_all(\"li\")\n",
    "        for attrs in temp:\n",
    "            if 'Traits' in stats:\n",
    "                stats['Traits'].append(attrs.text)\n",
    "            else:\n",
    "                stats['Traits'] = [attrs.text]\n",
    "    except:\n",
    "        stats['Traits'] = None\n",
    "    \n",
    "for index,link in enumerate(links3):\n",
    "    # make a search and scrap the webpage --------------------------------------------------\n",
    "    base_url = 'https://sofifa.com/'\n",
    "    add_url = link\n",
    "    r = requests.get(base_url+add_url)\n",
    "    weblink = bs(r.content)\n",
    "    \n",
    "    stats={}\n",
    "    \n",
    "    # get player name\n",
    "    name = player_name(weblink)\n",
    "    stats['Player_name'] = name\n",
    "    \n",
    "    # get nationality\n",
    "    nationality = nat(weblink)\n",
    "    stats['Nationality'] = nationality\n",
    "    \n",
    "    # get dob, weight, height\n",
    "    dob, height, weight = dob_wh(weblink)\n",
    "    stats['dob'] = dob\n",
    "    stats['height'] = height\n",
    "    stats['weight'] = weight\n",
    "    \n",
    "    # get club info\n",
    "    club, jersey, c_valid, c_value, wage = club_info(weblink)\n",
    "    stats['club'] = club\n",
    "    stats['jersey'] = jersey\n",
    "    stats['c_valid'] = c_valid\n",
    "    stats['c_value'] = c_value\n",
    "    stats['wage'] = wage\n",
    "    \n",
    "    # add general player stats\n",
    "    pos, rating = player_stats(weblink)\n",
    "    stats['pos'] = pos\n",
    "    stats['rating'] = rating\n",
    "    \n",
    "    # add player stats detail\n",
    "    player_stats_detail(weblink)\n",
    "    \n",
    "    \n",
    "    # print progress --------------------------\n",
    "    list_stats_top10.append(stats)\n",
    "    \n",
    "    if index % 10 ==0:\n",
    "        print(index)\n",
    "    \n",
    "    #Be sure to pause between accessing pages\n",
    "    time.sleep(randrange(2,6))\n",
    "    "
   ]
  },
  {
   "cell_type": "markdown",
   "metadata": {
    "ExecuteTime": {
     "end_time": "2020-11-09T01:38:37.004093Z",
     "start_time": "2020-11-09T01:38:36.987139Z"
    }
   },
   "source": [
    "## Save JSON data of FIFA21 EPL players"
   ]
  },
  {
   "cell_type": "code",
   "execution_count": 11,
   "metadata": {
    "ExecuteTime": {
     "end_time": "2020-11-09T04:39:51.817112Z",
     "start_time": "2020-11-09T04:39:51.805638Z"
    },
    "code_folding": [
     0,
     3,
     7
    ]
   },
   "outputs": [],
   "source": [
    "# collapse\n",
    "import json\n",
    "\n",
    "def save_data(title,data):\n",
    "    with open(title, 'w', encoding ='utf-8') as f:\n",
    "        json.dump(data, f, ensure_ascii=False, indent = 2)\n",
    "    \n",
    "def load_data(title):\n",
    "    with open(title, encoding ='utf-8') as f:\n",
    "        return json.load(f)"
   ]
  },
  {
   "cell_type": "code",
   "execution_count": 12,
   "metadata": {
    "ExecuteTime": {
     "end_time": "2020-11-09T04:39:51.833046Z",
     "start_time": "2020-11-09T04:39:51.818613Z"
    }
   },
   "outputs": [],
   "source": [
    "#save_data('FIFA21_EPL.json', list_stats)\n",
    "save_data('FIFA21_EPL_top10.json', list_stats_top10)"
   ]
  },
  {
   "cell_type": "markdown",
   "metadata": {},
   "source": [
    "## Load data for later use"
   ]
  },
  {
   "cell_type": "code",
   "execution_count": 13,
   "metadata": {
    "ExecuteTime": {
     "end_time": "2020-11-09T04:44:39.289848Z",
     "start_time": "2020-11-09T04:44:39.256936Z"
    }
   },
   "outputs": [],
   "source": [
    "FIFA21_data = load_data('FIFA21_EPL.json')"
   ]
  },
  {
   "cell_type": "markdown",
   "metadata": {},
   "source": [
    "Lets see the first data, Kevin De Bruyne"
   ]
  },
  {
   "cell_type": "code",
   "execution_count": 14,
   "metadata": {
    "ExecuteTime": {
     "end_time": "2020-11-09T04:44:39.741242Z",
     "start_time": "2020-11-09T04:44:39.726286Z"
    }
   },
   "outputs": [
    {
     "data": {
      "text/plain": [
       "{'Player_name': 'K. De Bruyne',\n",
       " 'Nationality': 'Belgium',\n",
       " 'dob': 'Jun 28, 1991',\n",
       " 'height': '5\\'11\"',\n",
       " 'weight': '154lbs',\n",
       " 'club': 'Manchester City',\n",
       " 'jersey': '17',\n",
       " 'c_valid': '2023',\n",
       " 'c_value': '€129M',\n",
       " 'wage': '€370K',\n",
       " 'pos': 'CAM',\n",
       " 'rating': '91',\n",
       " 'Crossing': '94',\n",
       " 'Finishing': '82',\n",
       " 'Heading Accuracy': '55',\n",
       " 'Short Passing': '94',\n",
       " 'Volleys': '82',\n",
       " 'Dribbling': '88',\n",
       " 'Curve': '85',\n",
       " 'FK Accuracy': '83',\n",
       " 'Long Passing': '93',\n",
       " 'Ball Control': '92',\n",
       " 'Acceleration': '77',\n",
       " 'Spring Speed': '76',\n",
       " 'Agility': '78',\n",
       " 'Reactions': '91',\n",
       " 'Balance': '76',\n",
       " 'Shot Power': '91',\n",
       " 'Jumping': '63',\n",
       " 'Stamina': '89',\n",
       " 'Strength': '74',\n",
       " 'Long Shots': '91',\n",
       " 'Aggression': '76',\n",
       " 'Interceptions': '66',\n",
       " 'Positioning': '88',\n",
       " 'Vision': '94',\n",
       " 'Penalties': '84',\n",
       " 'Composure': '91',\n",
       " 'Defensive Awareness': '68',\n",
       " 'Standing Tackle': '65',\n",
       " 'Sliding Tackle': '53',\n",
       " 'GK Diving': '15',\n",
       " 'GK Handling': '13',\n",
       " 'GK Kicking': '5',\n",
       " 'GK Positioning': '10',\n",
       " 'GK Reflexes': '13',\n",
       " 'Traits': ['Injury Prone',\n",
       "  'Leadership',\n",
       "  'Early Crosser',\n",
       "  'Long Passer (AI)',\n",
       "  'Long Shot Taker (AI)',\n",
       "  'Playmaker (AI)',\n",
       "  'Outside Foot Shot']}"
      ]
     },
     "execution_count": 14,
     "metadata": {},
     "output_type": "execute_result"
    }
   ],
   "source": [
    "FIFA21_data[0]"
   ]
  },
  {
   "cell_type": "markdown",
   "metadata": {},
   "source": [
    "# Data cleaning"
   ]
  },
  {
   "cell_type": "code",
   "execution_count": 15,
   "metadata": {
    "ExecuteTime": {
     "end_time": "2020-11-09T04:45:00.340844Z",
     "start_time": "2020-11-09T04:45:00.318907Z"
    }
   },
   "outputs": [],
   "source": [
    "df = pd.DataFrame(FIFA21_data)"
   ]
  },
  {
   "cell_type": "code",
   "execution_count": 16,
   "metadata": {
    "ExecuteTime": {
     "end_time": "2020-11-09T04:45:00.823143Z",
     "start_time": "2020-11-09T04:45:00.790195Z"
    }
   },
   "outputs": [
    {
     "data": {
      "text/html": [
       "<div>\n",
       "<style scoped>\n",
       "    .dataframe tbody tr th:only-of-type {\n",
       "        vertical-align: middle;\n",
       "    }\n",
       "\n",
       "    .dataframe tbody tr th {\n",
       "        vertical-align: top;\n",
       "    }\n",
       "\n",
       "    .dataframe thead th {\n",
       "        text-align: right;\n",
       "    }\n",
       "</style>\n",
       "<table border=\"1\" class=\"dataframe\">\n",
       "  <thead>\n",
       "    <tr style=\"text-align: right;\">\n",
       "      <th></th>\n",
       "      <th>Player_name</th>\n",
       "      <th>Nationality</th>\n",
       "      <th>dob</th>\n",
       "      <th>height</th>\n",
       "      <th>weight</th>\n",
       "      <th>club</th>\n",
       "      <th>jersey</th>\n",
       "      <th>c_valid</th>\n",
       "      <th>c_value</th>\n",
       "      <th>wage</th>\n",
       "      <th>...</th>\n",
       "      <th>Composure</th>\n",
       "      <th>Defensive Awareness</th>\n",
       "      <th>Standing Tackle</th>\n",
       "      <th>Sliding Tackle</th>\n",
       "      <th>GK Diving</th>\n",
       "      <th>GK Handling</th>\n",
       "      <th>GK Kicking</th>\n",
       "      <th>GK Positioning</th>\n",
       "      <th>GK Reflexes</th>\n",
       "      <th>Traits</th>\n",
       "    </tr>\n",
       "  </thead>\n",
       "  <tbody>\n",
       "    <tr>\n",
       "      <td>0</td>\n",
       "      <td>K. De Bruyne</td>\n",
       "      <td>Belgium</td>\n",
       "      <td>Jun 28, 1991</td>\n",
       "      <td>5'11\"</td>\n",
       "      <td>154lbs</td>\n",
       "      <td>Manchester City</td>\n",
       "      <td>17</td>\n",
       "      <td>2023</td>\n",
       "      <td>€129M</td>\n",
       "      <td>€370K</td>\n",
       "      <td>...</td>\n",
       "      <td>91</td>\n",
       "      <td>68</td>\n",
       "      <td>65</td>\n",
       "      <td>53</td>\n",
       "      <td>15</td>\n",
       "      <td>13</td>\n",
       "      <td>5</td>\n",
       "      <td>10</td>\n",
       "      <td>13</td>\n",
       "      <td>[Injury Prone, Leadership, Early Crosser, Long...</td>\n",
       "    </tr>\n",
       "    <tr>\n",
       "      <td>1</td>\n",
       "      <td>Alisson</td>\n",
       "      <td>Brazil</td>\n",
       "      <td>Oct 2, 1992</td>\n",
       "      <td>6'3\"</td>\n",
       "      <td>201lbs</td>\n",
       "      <td>Liverpool</td>\n",
       "      <td>1</td>\n",
       "      <td>2024</td>\n",
       "      <td>€102M</td>\n",
       "      <td>€160K</td>\n",
       "      <td>...</td>\n",
       "      <td>65</td>\n",
       "      <td>15</td>\n",
       "      <td>19</td>\n",
       "      <td>16</td>\n",
       "      <td>86</td>\n",
       "      <td>88</td>\n",
       "      <td>85</td>\n",
       "      <td>91</td>\n",
       "      <td>89</td>\n",
       "      <td>[GK Long Throw, Rushes Out Of Goal]</td>\n",
       "    </tr>\n",
       "    <tr>\n",
       "      <td>2</td>\n",
       "      <td>M. Salah</td>\n",
       "      <td>Egypt</td>\n",
       "      <td>Jun 15, 1992</td>\n",
       "      <td>5'9\"</td>\n",
       "      <td>157lbs</td>\n",
       "      <td>Liverpool</td>\n",
       "      <td>11</td>\n",
       "      <td>2023</td>\n",
       "      <td>€120.5M</td>\n",
       "      <td>€250K</td>\n",
       "      <td>...</td>\n",
       "      <td>90</td>\n",
       "      <td>38</td>\n",
       "      <td>43</td>\n",
       "      <td>41</td>\n",
       "      <td>14</td>\n",
       "      <td>14</td>\n",
       "      <td>9</td>\n",
       "      <td>11</td>\n",
       "      <td>14</td>\n",
       "      <td>[Finesse Shot, Long Shot Taker (AI), Speed Dri...</td>\n",
       "    </tr>\n",
       "    <tr>\n",
       "      <td>3</td>\n",
       "      <td>S. Mané</td>\n",
       "      <td>Senegal</td>\n",
       "      <td>Apr 10, 1992</td>\n",
       "      <td>5'9\"</td>\n",
       "      <td>152lbs</td>\n",
       "      <td>Liverpool</td>\n",
       "      <td>10</td>\n",
       "      <td>2023</td>\n",
       "      <td>€120.5M</td>\n",
       "      <td>€250K</td>\n",
       "      <td>...</td>\n",
       "      <td>84</td>\n",
       "      <td>42</td>\n",
       "      <td>42</td>\n",
       "      <td>38</td>\n",
       "      <td>10</td>\n",
       "      <td>10</td>\n",
       "      <td>15</td>\n",
       "      <td>7</td>\n",
       "      <td>14</td>\n",
       "      <td>[Flair, Speed Dribbler (AI)]</td>\n",
       "    </tr>\n",
       "    <tr>\n",
       "      <td>4</td>\n",
       "      <td>V. van Dijk</td>\n",
       "      <td>Netherlands</td>\n",
       "      <td>Jul 8, 1991</td>\n",
       "      <td>6'4\"</td>\n",
       "      <td>203lbs</td>\n",
       "      <td>Liverpool</td>\n",
       "      <td>4</td>\n",
       "      <td>2023</td>\n",
       "      <td>€113M</td>\n",
       "      <td>€210K</td>\n",
       "      <td>...</td>\n",
       "      <td>90</td>\n",
       "      <td>93</td>\n",
       "      <td>93</td>\n",
       "      <td>86</td>\n",
       "      <td>13</td>\n",
       "      <td>10</td>\n",
       "      <td>13</td>\n",
       "      <td>11</td>\n",
       "      <td>11</td>\n",
       "      <td>[Solid Player, Leadership, Long Passer (AI), P...</td>\n",
       "    </tr>\n",
       "  </tbody>\n",
       "</table>\n",
       "<p>5 rows × 47 columns</p>\n",
       "</div>"
      ],
      "text/plain": [
       "    Player_name  Nationality           dob height  weight             club  \\\n",
       "0  K. De Bruyne      Belgium  Jun 28, 1991  5'11\"  154lbs  Manchester City   \n",
       "1       Alisson       Brazil   Oct 2, 1992   6'3\"  201lbs        Liverpool   \n",
       "2      M. Salah        Egypt  Jun 15, 1992   5'9\"  157lbs        Liverpool   \n",
       "3       S. Mané      Senegal  Apr 10, 1992   5'9\"  152lbs        Liverpool   \n",
       "4   V. van Dijk  Netherlands   Jul 8, 1991   6'4\"  203lbs        Liverpool   \n",
       "\n",
       "  jersey c_valid  c_value   wage  ... Composure Defensive Awareness  \\\n",
       "0     17    2023    €129M  €370K  ...        91                  68   \n",
       "1      1    2024    €102M  €160K  ...        65                  15   \n",
       "2     11    2023  €120.5M  €250K  ...        90                  38   \n",
       "3     10    2023  €120.5M  €250K  ...        84                  42   \n",
       "4      4    2023    €113M  €210K  ...        90                  93   \n",
       "\n",
       "  Standing Tackle Sliding Tackle GK Diving GK Handling GK Kicking  \\\n",
       "0              65             53        15          13          5   \n",
       "1              19             16        86          88         85   \n",
       "2              43             41        14          14          9   \n",
       "3              42             38        10          10         15   \n",
       "4              93             86        13          10         13   \n",
       "\n",
       "  GK Positioning GK Reflexes  \\\n",
       "0             10          13   \n",
       "1             91          89   \n",
       "2             11          14   \n",
       "3              7          14   \n",
       "4             11          11   \n",
       "\n",
       "                                              Traits  \n",
       "0  [Injury Prone, Leadership, Early Crosser, Long...  \n",
       "1                [GK Long Throw, Rushes Out Of Goal]  \n",
       "2  [Finesse Shot, Long Shot Taker (AI), Speed Dri...  \n",
       "3                       [Flair, Speed Dribbler (AI)]  \n",
       "4  [Solid Player, Leadership, Long Passer (AI), P...  \n",
       "\n",
       "[5 rows x 47 columns]"
      ]
     },
     "execution_count": 16,
     "metadata": {},
     "output_type": "execute_result"
    }
   ],
   "source": [
    "df.head()"
   ]
  },
  {
   "cell_type": "code",
   "execution_count": 17,
   "metadata": {
    "ExecuteTime": {
     "end_time": "2020-11-09T04:45:01.554462Z",
     "start_time": "2020-11-09T04:45:01.542494Z"
    }
   },
   "outputs": [
    {
     "name": "stdout",
     "output_type": "stream",
     "text": [
      "<class 'pandas.core.frame.DataFrame'>\n",
      "RangeIndex: 643 entries, 0 to 642\n",
      "Data columns (total 47 columns):\n",
      "Player_name            643 non-null object\n",
      "Nationality            643 non-null object\n",
      "dob                    643 non-null object\n",
      "height                 643 non-null object\n",
      "weight                 643 non-null object\n",
      "club                   643 non-null object\n",
      "jersey                 643 non-null object\n",
      "c_valid                643 non-null object\n",
      "c_value                643 non-null object\n",
      "wage                   643 non-null object\n",
      "pos                    643 non-null object\n",
      "rating                 643 non-null object\n",
      "Crossing               643 non-null object\n",
      "Finishing              643 non-null object\n",
      "Heading Accuracy       643 non-null object\n",
      "Short Passing          643 non-null object\n",
      "Volleys                643 non-null object\n",
      "Dribbling              643 non-null object\n",
      "Curve                  643 non-null object\n",
      "FK Accuracy            643 non-null object\n",
      "Long Passing           643 non-null object\n",
      "Ball Control           643 non-null object\n",
      "Acceleration           643 non-null object\n",
      "Spring Speed           643 non-null object\n",
      "Agility                643 non-null object\n",
      "Reactions              643 non-null object\n",
      "Balance                643 non-null object\n",
      "Shot Power             643 non-null object\n",
      "Jumping                643 non-null object\n",
      "Stamina                643 non-null object\n",
      "Strength               643 non-null object\n",
      "Long Shots             643 non-null object\n",
      "Aggression             643 non-null object\n",
      "Interceptions          643 non-null object\n",
      "Positioning            643 non-null object\n",
      "Vision                 643 non-null object\n",
      "Penalties              643 non-null object\n",
      "Composure              643 non-null object\n",
      "Defensive Awareness    643 non-null object\n",
      "Standing Tackle        643 non-null object\n",
      "Sliding Tackle         643 non-null object\n",
      "GK Diving              643 non-null object\n",
      "GK Handling            643 non-null object\n",
      "GK Kicking             643 non-null object\n",
      "GK Positioning         643 non-null object\n",
      "GK Reflexes            643 non-null object\n",
      "Traits                 446 non-null object\n",
      "dtypes: object(47)\n",
      "memory usage: 236.2+ KB\n"
     ]
    }
   ],
   "source": [
    "df.info()"
   ]
  },
  {
   "cell_type": "markdown",
   "metadata": {},
   "source": [
    "Few things to do:\n",
    "* Everything is string. Convert to numeric when needed to be, especially the individual stats\n",
    "* Convert DOB to datetime\n",
    "* Convert height and weight to the SI unit\n",
    "* Convert value and wages to the right unit (eg: no M and no K)\n",
    "* What to do with traits in players? Perhaps ignore for now"
   ]
  },
  {
   "cell_type": "markdown",
   "metadata": {},
   "source": [
    "## Traits"
   ]
  },
  {
   "cell_type": "markdown",
   "metadata": {},
   "source": [
    "First, lets look at the traits\n",
    "* How many unique traits are there?\n",
    "* Proportion of players that have traits?\n",
    "* Is it worth keeping?"
   ]
  },
  {
   "cell_type": "markdown",
   "metadata": {},
   "source": [
    "**Players with no traits**:"
   ]
  },
  {
   "cell_type": "code",
   "execution_count": 18,
   "metadata": {
    "ExecuteTime": {
     "end_time": "2020-11-09T04:45:03.493235Z",
     "start_time": "2020-11-09T04:45:03.474245Z"
    },
    "code_folding": [
     0
    ]
   },
   "outputs": [
    {
     "data": {
      "text/plain": [
       "197"
      ]
     },
     "execution_count": 18,
     "metadata": {},
     "output_type": "execute_result"
    }
   ],
   "source": [
    "# collapse\n",
    "df['Traits'].isnull().values.ravel().sum()"
   ]
  },
  {
   "cell_type": "markdown",
   "metadata": {},
   "source": [
    "197 from 644 players (~30%) do not have any traits"
   ]
  },
  {
   "cell_type": "markdown",
   "metadata": {},
   "source": [
    "Top 5 players that have no traits:"
   ]
  },
  {
   "cell_type": "code",
   "execution_count": 19,
   "metadata": {
    "ExecuteTime": {
     "end_time": "2020-11-09T04:45:04.700173Z",
     "start_time": "2020-11-09T04:45:04.681190Z"
    },
    "code_folding": [
     0
    ]
   },
   "outputs": [
    {
     "data": {
      "text/plain": [
       "6        N. Kanté\n",
       "32          Rodri\n",
       "94     D. Sánchez\n",
       "115      N. Matić\n",
       "124      J. Evans\n",
       "Name: Player_name, dtype: object"
      ]
     },
     "execution_count": 19,
     "metadata": {},
     "output_type": "execute_result"
    }
   ],
   "source": [
    "# collapse\n",
    "df[df['Traits'].isnull()][:5].Player_name"
   ]
  },
  {
   "cell_type": "markdown",
   "metadata": {},
   "source": [
    "Wow. Kante doesnt have any traits? This could be a mistake from Fifa21 database"
   ]
  },
  {
   "cell_type": "markdown",
   "metadata": {},
   "source": [
    "**Unique traits**:"
   ]
  },
  {
   "cell_type": "code",
   "execution_count": 20,
   "metadata": {
    "ExecuteTime": {
     "end_time": "2020-11-09T04:45:06.246160Z",
     "start_time": "2020-11-09T04:45:06.232167Z"
    },
    "code_folding": [
     0
    ]
   },
   "outputs": [
    {
     "data": {
      "text/plain": [
       "array(['Injury Prone', 'Leadership', 'Early Crosser', 'Long Passer (AI)',\n",
       "       'Long Shot Taker (AI)', 'Playmaker (AI)', 'Outside Foot Shot',\n",
       "       'GK Long Throw', 'Rushes Out Of Goal', 'Finesse Shot',\n",
       "       'Speed Dribbler (AI)', 'Chip Shot (AI)', 'Flair', 'Solid Player',\n",
       "       'Power Header', None, 'Comes For Crosses', 'Team Player',\n",
       "       'Dives Into Tackles (AI)', 'Technical Dribbler (AI)',\n",
       "       'Cautious With Crosses', 'Saves with Feet', 'Long Throw-in',\n",
       "       'Power Free-Kick', 'Giant Throw-in', nan], dtype=object)"
      ]
     },
     "execution_count": 20,
     "metadata": {},
     "output_type": "execute_result"
    }
   ],
   "source": [
    "# collapse\n",
    "df.Traits.explode().unique() "
   ]
  },
  {
   "cell_type": "code",
   "execution_count": 21,
   "metadata": {
    "ExecuteTime": {
     "end_time": "2020-11-09T04:45:06.451416Z",
     "start_time": "2020-11-09T04:45:06.439481Z"
    },
    "code_folding": [
     0
    ]
   },
   "outputs": [
    {
     "name": "stdout",
     "output_type": "stream",
     "text": [
      "number of unique traits : 26\n"
     ]
    }
   ],
   "source": [
    "# collapse\n",
    "print(\"number of unique traits :\",len(df.Traits.explode().unique()))"
   ]
  },
  {
   "cell_type": "markdown",
   "metadata": {},
   "source": [
    "26 unique traits. Probably too long if I expand the column similar to how a OHE works"
   ]
  },
  {
   "cell_type": "markdown",
   "metadata": {},
   "source": [
    "**Is it worth keeping?**"
   ]
  },
  {
   "cell_type": "markdown",
   "metadata": {},
   "source": [
    "Probably not. Remove them for now"
   ]
  },
  {
   "cell_type": "code",
   "execution_count": 42,
   "metadata": {
    "ExecuteTime": {
     "end_time": "2020-11-09T04:51:20.248635Z",
     "start_time": "2020-11-09T04:51:20.230158Z"
    },
    "code_folding": [
     0
    ]
   },
   "outputs": [],
   "source": [
    "# collapse\n",
    "df2 = df.copy()\n",
    "df2 = df2.drop(labels='Traits', axis=1)"
   ]
  },
  {
   "cell_type": "code",
   "execution_count": 43,
   "metadata": {
    "ExecuteTime": {
     "end_time": "2020-11-09T04:51:20.589650Z",
     "start_time": "2020-11-09T04:51:20.569672Z"
    },
    "code_folding": [
     0
    ]
   },
   "outputs": [
    {
     "data": {
      "text/plain": [
       "Index(['Player_name', 'Nationality', 'dob', 'height', 'weight', 'club',\n",
       "       'jersey', 'c_valid', 'c_value', 'wage', 'pos', 'rating', 'Crossing',\n",
       "       'Finishing', 'Heading Accuracy', 'Short Passing', 'Volleys',\n",
       "       'Dribbling', 'Curve', 'FK Accuracy', 'Long Passing', 'Ball Control',\n",
       "       'Acceleration', 'Spring Speed', 'Agility', 'Reactions', 'Balance',\n",
       "       'Shot Power', 'Jumping', 'Stamina', 'Strength', 'Long Shots',\n",
       "       'Aggression', 'Interceptions', 'Positioning', 'Vision', 'Penalties',\n",
       "       'Composure', 'Defensive Awareness', 'Standing Tackle', 'Sliding Tackle',\n",
       "       'GK Diving', 'GK Handling', 'GK Kicking', 'GK Positioning',\n",
       "       'GK Reflexes'],\n",
       "      dtype='object')"
      ]
     },
     "execution_count": 43,
     "metadata": {},
     "output_type": "execute_result"
    }
   ],
   "source": [
    "# collapse\n",
    "df2.columns"
   ]
  },
  {
   "cell_type": "code",
   "execution_count": 44,
   "metadata": {
    "ExecuteTime": {
     "end_time": "2020-11-09T04:51:20.887873Z",
     "start_time": "2020-11-09T04:51:20.871880Z"
    },
    "code_folding": [
     0
    ]
   },
   "outputs": [],
   "source": [
    "# collapse\n",
    "# fix mistake with column name\n",
    "df2.rename(columns={'Spring Speed':'Sprint Speed'}, inplace=True)"
   ]
  },
  {
   "cell_type": "markdown",
   "metadata": {},
   "source": [
    "## Convert to numeric"
   ]
  },
  {
   "cell_type": "code",
   "execution_count": 45,
   "metadata": {
    "ExecuteTime": {
     "end_time": "2020-11-09T04:51:21.653633Z",
     "start_time": "2020-11-09T04:51:21.628055Z"
    }
   },
   "outputs": [
    {
     "data": {
      "text/html": [
       "<div>\n",
       "<style scoped>\n",
       "    .dataframe tbody tr th:only-of-type {\n",
       "        vertical-align: middle;\n",
       "    }\n",
       "\n",
       "    .dataframe tbody tr th {\n",
       "        vertical-align: top;\n",
       "    }\n",
       "\n",
       "    .dataframe thead th {\n",
       "        text-align: right;\n",
       "    }\n",
       "</style>\n",
       "<table border=\"1\" class=\"dataframe\">\n",
       "  <thead>\n",
       "    <tr style=\"text-align: right;\">\n",
       "      <th></th>\n",
       "      <th>Player_name</th>\n",
       "      <th>Nationality</th>\n",
       "      <th>dob</th>\n",
       "      <th>height</th>\n",
       "      <th>weight</th>\n",
       "      <th>club</th>\n",
       "      <th>jersey</th>\n",
       "      <th>c_valid</th>\n",
       "      <th>c_value</th>\n",
       "      <th>wage</th>\n",
       "      <th>...</th>\n",
       "      <th>Penalties</th>\n",
       "      <th>Composure</th>\n",
       "      <th>Defensive Awareness</th>\n",
       "      <th>Standing Tackle</th>\n",
       "      <th>Sliding Tackle</th>\n",
       "      <th>GK Diving</th>\n",
       "      <th>GK Handling</th>\n",
       "      <th>GK Kicking</th>\n",
       "      <th>GK Positioning</th>\n",
       "      <th>GK Reflexes</th>\n",
       "    </tr>\n",
       "  </thead>\n",
       "  <tbody>\n",
       "    <tr>\n",
       "      <td>0</td>\n",
       "      <td>K. De Bruyne</td>\n",
       "      <td>Belgium</td>\n",
       "      <td>Jun 28, 1991</td>\n",
       "      <td>5'11\"</td>\n",
       "      <td>154lbs</td>\n",
       "      <td>Manchester City</td>\n",
       "      <td>17</td>\n",
       "      <td>2023</td>\n",
       "      <td>€129M</td>\n",
       "      <td>€370K</td>\n",
       "      <td>...</td>\n",
       "      <td>84</td>\n",
       "      <td>91</td>\n",
       "      <td>68</td>\n",
       "      <td>65</td>\n",
       "      <td>53</td>\n",
       "      <td>15</td>\n",
       "      <td>13</td>\n",
       "      <td>5</td>\n",
       "      <td>10</td>\n",
       "      <td>13</td>\n",
       "    </tr>\n",
       "    <tr>\n",
       "      <td>1</td>\n",
       "      <td>Alisson</td>\n",
       "      <td>Brazil</td>\n",
       "      <td>Oct 2, 1992</td>\n",
       "      <td>6'3\"</td>\n",
       "      <td>201lbs</td>\n",
       "      <td>Liverpool</td>\n",
       "      <td>1</td>\n",
       "      <td>2024</td>\n",
       "      <td>€102M</td>\n",
       "      <td>€160K</td>\n",
       "      <td>...</td>\n",
       "      <td>23</td>\n",
       "      <td>65</td>\n",
       "      <td>15</td>\n",
       "      <td>19</td>\n",
       "      <td>16</td>\n",
       "      <td>86</td>\n",
       "      <td>88</td>\n",
       "      <td>85</td>\n",
       "      <td>91</td>\n",
       "      <td>89</td>\n",
       "    </tr>\n",
       "    <tr>\n",
       "      <td>2</td>\n",
       "      <td>M. Salah</td>\n",
       "      <td>Egypt</td>\n",
       "      <td>Jun 15, 1992</td>\n",
       "      <td>5'9\"</td>\n",
       "      <td>157lbs</td>\n",
       "      <td>Liverpool</td>\n",
       "      <td>11</td>\n",
       "      <td>2023</td>\n",
       "      <td>€120.5M</td>\n",
       "      <td>€250K</td>\n",
       "      <td>...</td>\n",
       "      <td>83</td>\n",
       "      <td>90</td>\n",
       "      <td>38</td>\n",
       "      <td>43</td>\n",
       "      <td>41</td>\n",
       "      <td>14</td>\n",
       "      <td>14</td>\n",
       "      <td>9</td>\n",
       "      <td>11</td>\n",
       "      <td>14</td>\n",
       "    </tr>\n",
       "    <tr>\n",
       "      <td>3</td>\n",
       "      <td>S. Mané</td>\n",
       "      <td>Senegal</td>\n",
       "      <td>Apr 10, 1992</td>\n",
       "      <td>5'9\"</td>\n",
       "      <td>152lbs</td>\n",
       "      <td>Liverpool</td>\n",
       "      <td>10</td>\n",
       "      <td>2023</td>\n",
       "      <td>€120.5M</td>\n",
       "      <td>€250K</td>\n",
       "      <td>...</td>\n",
       "      <td>71</td>\n",
       "      <td>84</td>\n",
       "      <td>42</td>\n",
       "      <td>42</td>\n",
       "      <td>38</td>\n",
       "      <td>10</td>\n",
       "      <td>10</td>\n",
       "      <td>15</td>\n",
       "      <td>7</td>\n",
       "      <td>14</td>\n",
       "    </tr>\n",
       "    <tr>\n",
       "      <td>4</td>\n",
       "      <td>V. van Dijk</td>\n",
       "      <td>Netherlands</td>\n",
       "      <td>Jul 8, 1991</td>\n",
       "      <td>6'4\"</td>\n",
       "      <td>203lbs</td>\n",
       "      <td>Liverpool</td>\n",
       "      <td>4</td>\n",
       "      <td>2023</td>\n",
       "      <td>€113M</td>\n",
       "      <td>€210K</td>\n",
       "      <td>...</td>\n",
       "      <td>62</td>\n",
       "      <td>90</td>\n",
       "      <td>93</td>\n",
       "      <td>93</td>\n",
       "      <td>86</td>\n",
       "      <td>13</td>\n",
       "      <td>10</td>\n",
       "      <td>13</td>\n",
       "      <td>11</td>\n",
       "      <td>11</td>\n",
       "    </tr>\n",
       "  </tbody>\n",
       "</table>\n",
       "<p>5 rows × 46 columns</p>\n",
       "</div>"
      ],
      "text/plain": [
       "    Player_name  Nationality           dob height  weight             club  \\\n",
       "0  K. De Bruyne      Belgium  Jun 28, 1991  5'11\"  154lbs  Manchester City   \n",
       "1       Alisson       Brazil   Oct 2, 1992   6'3\"  201lbs        Liverpool   \n",
       "2      M. Salah        Egypt  Jun 15, 1992   5'9\"  157lbs        Liverpool   \n",
       "3       S. Mané      Senegal  Apr 10, 1992   5'9\"  152lbs        Liverpool   \n",
       "4   V. van Dijk  Netherlands   Jul 8, 1991   6'4\"  203lbs        Liverpool   \n",
       "\n",
       "  jersey c_valid  c_value   wage  ... Penalties Composure Defensive Awareness  \\\n",
       "0     17    2023    €129M  €370K  ...        84        91                  68   \n",
       "1      1    2024    €102M  €160K  ...        23        65                  15   \n",
       "2     11    2023  €120.5M  €250K  ...        83        90                  38   \n",
       "3     10    2023  €120.5M  €250K  ...        71        84                  42   \n",
       "4      4    2023    €113M  €210K  ...        62        90                  93   \n",
       "\n",
       "  Standing Tackle Sliding Tackle GK Diving GK Handling GK Kicking  \\\n",
       "0              65             53        15          13          5   \n",
       "1              19             16        86          88         85   \n",
       "2              43             41        14          14          9   \n",
       "3              42             38        10          10         15   \n",
       "4              93             86        13          10         13   \n",
       "\n",
       "  GK Positioning GK Reflexes  \n",
       "0             10          13  \n",
       "1             91          89  \n",
       "2             11          14  \n",
       "3              7          14  \n",
       "4             11          11  \n",
       "\n",
       "[5 rows x 46 columns]"
      ]
     },
     "execution_count": 45,
     "metadata": {},
     "output_type": "execute_result"
    }
   ],
   "source": [
    "df2.head()"
   ]
  },
  {
   "cell_type": "markdown",
   "metadata": {},
   "source": [
    "*DOB to datetime*"
   ]
  },
  {
   "cell_type": "code",
   "execution_count": 46,
   "metadata": {
    "ExecuteTime": {
     "end_time": "2020-11-09T04:51:22.577947Z",
     "start_time": "2020-11-09T04:51:22.518454Z"
    },
    "code_folding": [
     0
    ]
   },
   "outputs": [],
   "source": [
    "# collapse\n",
    "df2['dob'] = pd.to_datetime(df2['dob'])"
   ]
  },
  {
   "cell_type": "code",
   "execution_count": 47,
   "metadata": {
    "ExecuteTime": {
     "end_time": "2020-11-09T04:51:22.779200Z",
     "start_time": "2020-11-09T04:51:22.772188Z"
    }
   },
   "outputs": [
    {
     "data": {
      "text/plain": [
       "dtype('<M8[ns]')"
      ]
     },
     "execution_count": 47,
     "metadata": {},
     "output_type": "execute_result"
    }
   ],
   "source": [
    "df2.dob.dtype"
   ]
  },
  {
   "cell_type": "markdown",
   "metadata": {},
   "source": [
    "*Height to numeric & SI*"
   ]
  },
  {
   "cell_type": "code",
   "execution_count": 48,
   "metadata": {
    "ExecuteTime": {
     "end_time": "2020-11-09T04:51:23.342775Z",
     "start_time": "2020-11-09T04:51:23.324859Z"
    },
    "code_folding": [
     0
    ]
   },
   "outputs": [],
   "source": [
    "# collapse\n",
    "def height_conversion(ht):\n",
    "    # current format is x'x\"\n",
    "    ht2 = ht.split(\"'\")\n",
    "    ft = float(ht2[0])\n",
    "    inc = float(ht2[1].replace(\"\\\"\",\"\"))   # \" is a special character\n",
    "    return round(((12*ft)+inc)*2.54,0)\n",
    "\n",
    "df2['height'] = df2['height'].apply(lambda x:height_conversion(x))"
   ]
  },
  {
   "cell_type": "code",
   "execution_count": 49,
   "metadata": {
    "ExecuteTime": {
     "end_time": "2020-11-09T04:51:23.670859Z",
     "start_time": "2020-11-09T04:51:23.665872Z"
    },
    "code_folding": [
     0
    ]
   },
   "outputs": [
    {
     "data": {
      "text/plain": [
       "dtype('float64')"
      ]
     },
     "execution_count": 49,
     "metadata": {},
     "output_type": "execute_result"
    }
   ],
   "source": [
    "# collapse\n",
    "df2.height.dtype"
   ]
  },
  {
   "cell_type": "markdown",
   "metadata": {},
   "source": [
    "*Weight to numeric & SI*"
   ]
  },
  {
   "cell_type": "code",
   "execution_count": 50,
   "metadata": {
    "ExecuteTime": {
     "end_time": "2020-11-09T04:51:24.388428Z",
     "start_time": "2020-11-09T04:51:24.371476Z"
    },
    "code_folding": [
     0
    ]
   },
   "outputs": [],
   "source": [
    "# collapse\n",
    "def weight_conversion(wt):\n",
    "    # current format is xxxlbs\n",
    "    wt2 = wt.split('lbs')\n",
    "    return round(float(wt2[0])*0.453592,0)\n",
    "\n",
    "df2['weight'] = df2['weight'].apply(lambda x:weight_conversion(x))"
   ]
  },
  {
   "cell_type": "code",
   "execution_count": 51,
   "metadata": {
    "ExecuteTime": {
     "end_time": "2020-11-09T04:51:24.748867Z",
     "start_time": "2020-11-09T04:51:24.732354Z"
    },
    "code_folding": []
   },
   "outputs": [
    {
     "data": {
      "text/plain": [
       "dtype('float64')"
      ]
     },
     "execution_count": 51,
     "metadata": {},
     "output_type": "execute_result"
    }
   ],
   "source": [
    "# collapse\n",
    "df2.weight.dtype"
   ]
  },
  {
   "cell_type": "markdown",
   "metadata": {},
   "source": [
    "*Contract value and wage to numeric*"
   ]
  },
  {
   "cell_type": "code",
   "execution_count": 52,
   "metadata": {
    "ExecuteTime": {
     "end_time": "2020-11-09T04:51:25.591899Z",
     "start_time": "2020-11-09T04:51:25.571950Z"
    },
    "code_folding": [
     0
    ]
   },
   "outputs": [],
   "source": [
    "# collapse\n",
    "value_dict = {\"K\":1000, \"M\":1000000 }\n",
    "\n",
    "def money_conversion(money):\n",
    "    # current format is €xxxxK\n",
    "    money = money.replace('€','')\n",
    "    \n",
    "    if money[-1] in value_dict:\n",
    "        num, values = money[:-1], money[-1]\n",
    "        return (float(num)* value_dict[values])\n",
    "\n",
    "df2['c_value'] = df2['c_value'].apply(lambda x:money_conversion(x))\n",
    "df2['wage'] = df2['wage'].apply(lambda x:money_conversion(x))"
   ]
  },
  {
   "cell_type": "code",
   "execution_count": 53,
   "metadata": {
    "ExecuteTime": {
     "end_time": "2020-11-09T04:51:25.855316Z",
     "start_time": "2020-11-09T04:51:25.847338Z"
    },
    "code_folding": [
     0
    ]
   },
   "outputs": [
    {
     "data": {
      "text/plain": [
       "(dtype('float64'), dtype('float64'))"
      ]
     },
     "execution_count": 53,
     "metadata": {},
     "output_type": "execute_result"
    }
   ],
   "source": [
    "# collapse\n",
    "df2.c_value.dtype,  df2.wage.dtype"
   ]
  },
  {
   "cell_type": "markdown",
   "metadata": {},
   "source": [
    "*Convert jersey, rating and individual stats attributes to numeric*"
   ]
  },
  {
   "cell_type": "code",
   "execution_count": 54,
   "metadata": {
    "ExecuteTime": {
     "end_time": "2020-11-09T04:51:26.526006Z",
     "start_time": "2020-11-09T04:51:26.492716Z"
    },
    "code_folding": [
     0
    ]
   },
   "outputs": [],
   "source": [
    "# collapse\n",
    "df2['jersey'] = pd.to_numeric(df2['jersey'], errors='coerce')\n",
    "df2['rating'] = pd.to_numeric(df2['rating'], errors='coerce')\n",
    "\n",
    "for col in  df2.columns[12::]:\n",
    "    df2[col] = pd.to_numeric(df2[col], errors='coerce')"
   ]
  },
  {
   "cell_type": "code",
   "execution_count": 55,
   "metadata": {
    "ExecuteTime": {
     "end_time": "2020-11-09T04:51:26.835216Z",
     "start_time": "2020-11-09T04:51:26.814296Z"
    }
   },
   "outputs": [],
   "source": [
    "# collapse\n",
    "df3 = df2.copy()"
   ]
  },
  {
   "cell_type": "markdown",
   "metadata": {},
   "source": [
    "# Top players of Fifa21 "
   ]
  },
  {
   "cell_type": "markdown",
   "metadata": {},
   "source": [
    "## Top rated players from each club"
   ]
  },
  {
   "cell_type": "markdown",
   "metadata": {},
   "source": [
    "Note that there can be multiple top rated players per club"
   ]
  },
  {
   "cell_type": "code",
   "execution_count": 85,
   "metadata": {
    "ExecuteTime": {
     "end_time": "2020-11-09T05:32:50.934639Z",
     "start_time": "2020-11-09T05:32:50.907723Z"
    },
    "code_folding": [
     0
    ]
   },
   "outputs": [
    {
     "data": {
      "text/html": [
       "<div>\n",
       "<style scoped>\n",
       "    .dataframe tbody tr th:only-of-type {\n",
       "        vertical-align: middle;\n",
       "    }\n",
       "\n",
       "    .dataframe tbody tr th {\n",
       "        vertical-align: top;\n",
       "    }\n",
       "\n",
       "    .dataframe thead th {\n",
       "        text-align: right;\n",
       "    }\n",
       "</style>\n",
       "<table border=\"1\" class=\"dataframe\">\n",
       "  <thead>\n",
       "    <tr style=\"text-align: right;\">\n",
       "      <th></th>\n",
       "      <th>club</th>\n",
       "      <th>Player_name</th>\n",
       "      <th>pos</th>\n",
       "      <th>rating</th>\n",
       "    </tr>\n",
       "  </thead>\n",
       "  <tbody>\n",
       "    <tr>\n",
       "      <td>11</td>\n",
       "      <td>Arsenal</td>\n",
       "      <td>P. Aubameyang</td>\n",
       "      <td>ST</td>\n",
       "      <td>87</td>\n",
       "    </tr>\n",
       "    <tr>\n",
       "      <td>105</td>\n",
       "      <td>Aston Villa</td>\n",
       "      <td>J. Grealish</td>\n",
       "      <td>CAM</td>\n",
       "      <td>83</td>\n",
       "    </tr>\n",
       "    <tr>\n",
       "      <td>194</td>\n",
       "      <td>Brighton &amp; Hove Albion</td>\n",
       "      <td>L. Trossard</td>\n",
       "      <td>CAM</td>\n",
       "      <td>80</td>\n",
       "    </tr>\n",
       "    <tr>\n",
       "      <td>129</td>\n",
       "      <td>Brighton &amp; Hove Albion</td>\n",
       "      <td>M. Ryan</td>\n",
       "      <td>GK</td>\n",
       "      <td>80</td>\n",
       "    </tr>\n",
       "    <tr>\n",
       "      <td>193</td>\n",
       "      <td>Brighton &amp; Hove Albion</td>\n",
       "      <td>L. Dunk</td>\n",
       "      <td>CB</td>\n",
       "      <td>80</td>\n",
       "    </tr>\n",
       "    <tr>\n",
       "      <td>77</td>\n",
       "      <td>Burnley</td>\n",
       "      <td>N. Pope</td>\n",
       "      <td>GK</td>\n",
       "      <td>82</td>\n",
       "    </tr>\n",
       "    <tr>\n",
       "      <td>6</td>\n",
       "      <td>Chelsea</td>\n",
       "      <td>N. Kanté</td>\n",
       "      <td>CDM</td>\n",
       "      <td>88</td>\n",
       "    </tr>\n",
       "    <tr>\n",
       "      <td>63</td>\n",
       "      <td>Crystal Palace</td>\n",
       "      <td>W. Zaha</td>\n",
       "      <td>CF</td>\n",
       "      <td>83</td>\n",
       "    </tr>\n",
       "    <tr>\n",
       "      <td>51</td>\n",
       "      <td>Everton</td>\n",
       "      <td>Allan</td>\n",
       "      <td>CDM</td>\n",
       "      <td>85</td>\n",
       "    </tr>\n",
       "    <tr>\n",
       "      <td>76</td>\n",
       "      <td>Fulham</td>\n",
       "      <td>A. Areola</td>\n",
       "      <td>GK</td>\n",
       "      <td>82</td>\n",
       "    </tr>\n",
       "    <tr>\n",
       "      <td>84</td>\n",
       "      <td>Leeds United</td>\n",
       "      <td>Raphinha</td>\n",
       "      <td>LM</td>\n",
       "      <td>82</td>\n",
       "    </tr>\n",
       "    <tr>\n",
       "      <td>68</td>\n",
       "      <td>Leeds United</td>\n",
       "      <td>Rodrigo</td>\n",
       "      <td>ST</td>\n",
       "      <td>82</td>\n",
       "    </tr>\n",
       "    <tr>\n",
       "      <td>20</td>\n",
       "      <td>Leicester City</td>\n",
       "      <td>J. Vardy</td>\n",
       "      <td>ST</td>\n",
       "      <td>87</td>\n",
       "    </tr>\n",
       "    <tr>\n",
       "      <td>45</td>\n",
       "      <td>Leicester City</td>\n",
       "      <td>W. Ndidi</td>\n",
       "      <td>CB</td>\n",
       "      <td>87</td>\n",
       "    </tr>\n",
       "    <tr>\n",
       "      <td>1</td>\n",
       "      <td>Liverpool</td>\n",
       "      <td>Alisson</td>\n",
       "      <td>GK</td>\n",
       "      <td>90</td>\n",
       "    </tr>\n",
       "    <tr>\n",
       "      <td>2</td>\n",
       "      <td>Liverpool</td>\n",
       "      <td>M. Salah</td>\n",
       "      <td>RW</td>\n",
       "      <td>90</td>\n",
       "    </tr>\n",
       "    <tr>\n",
       "      <td>3</td>\n",
       "      <td>Liverpool</td>\n",
       "      <td>S. Mané</td>\n",
       "      <td>LW</td>\n",
       "      <td>90</td>\n",
       "    </tr>\n",
       "    <tr>\n",
       "      <td>4</td>\n",
       "      <td>Liverpool</td>\n",
       "      <td>V. van Dijk</td>\n",
       "      <td>CB</td>\n",
       "      <td>90</td>\n",
       "    </tr>\n",
       "    <tr>\n",
       "      <td>0</td>\n",
       "      <td>Manchester City</td>\n",
       "      <td>K. De Bruyne</td>\n",
       "      <td>CAM</td>\n",
       "      <td>91</td>\n",
       "    </tr>\n",
       "    <tr>\n",
       "      <td>18</td>\n",
       "      <td>Manchester United</td>\n",
       "      <td>Bruno Fernandes</td>\n",
       "      <td>CAM</td>\n",
       "      <td>88</td>\n",
       "    </tr>\n",
       "    <tr>\n",
       "      <td>59</td>\n",
       "      <td>Newcastle United</td>\n",
       "      <td>M. Dúbravka</td>\n",
       "      <td>GK</td>\n",
       "      <td>83</td>\n",
       "    </tr>\n",
       "    <tr>\n",
       "      <td>156</td>\n",
       "      <td>Sheffield United</td>\n",
       "      <td>S. Berge</td>\n",
       "      <td>CDM</td>\n",
       "      <td>80</td>\n",
       "    </tr>\n",
       "    <tr>\n",
       "      <td>187</td>\n",
       "      <td>Sheffield United</td>\n",
       "      <td>J. Egan</td>\n",
       "      <td>CB</td>\n",
       "      <td>80</td>\n",
       "    </tr>\n",
       "    <tr>\n",
       "      <td>189</td>\n",
       "      <td>Sheffield United</td>\n",
       "      <td>J. O'Connell</td>\n",
       "      <td>CB</td>\n",
       "      <td>80</td>\n",
       "    </tr>\n",
       "    <tr>\n",
       "      <td>92</td>\n",
       "      <td>Southampton</td>\n",
       "      <td>D. Ings</td>\n",
       "      <td>ST</td>\n",
       "      <td>81</td>\n",
       "    </tr>\n",
       "    <tr>\n",
       "      <td>145</td>\n",
       "      <td>Southampton</td>\n",
       "      <td>J. Ward-Prowse</td>\n",
       "      <td>CM</td>\n",
       "      <td>81</td>\n",
       "    </tr>\n",
       "    <tr>\n",
       "      <td>10</td>\n",
       "      <td>Tottenham Hotspur</td>\n",
       "      <td>H. Kane</td>\n",
       "      <td>ST</td>\n",
       "      <td>88</td>\n",
       "    </tr>\n",
       "    <tr>\n",
       "      <td>9</td>\n",
       "      <td>Tottenham Hotspur</td>\n",
       "      <td>H. Son</td>\n",
       "      <td>LM</td>\n",
       "      <td>88</td>\n",
       "    </tr>\n",
       "    <tr>\n",
       "      <td>153</td>\n",
       "      <td>West Bromwich Albion</td>\n",
       "      <td>B. Ivanović</td>\n",
       "      <td>CB</td>\n",
       "      <td>79</td>\n",
       "    </tr>\n",
       "    <tr>\n",
       "      <td>96</td>\n",
       "      <td>West Ham United</td>\n",
       "      <td>T. Souček</td>\n",
       "      <td>CDM</td>\n",
       "      <td>82</td>\n",
       "    </tr>\n",
       "    <tr>\n",
       "      <td>97</td>\n",
       "      <td>West Ham United</td>\n",
       "      <td>S. Haller</td>\n",
       "      <td>ST</td>\n",
       "      <td>82</td>\n",
       "    </tr>\n",
       "    <tr>\n",
       "      <td>47</td>\n",
       "      <td>Wolverhampton Wanderers</td>\n",
       "      <td>R. Jiménez</td>\n",
       "      <td>ST</td>\n",
       "      <td>84</td>\n",
       "    </tr>\n",
       "    <tr>\n",
       "      <td>46</td>\n",
       "      <td>Wolverhampton Wanderers</td>\n",
       "      <td>Rui Patrício</td>\n",
       "      <td>GK</td>\n",
       "      <td>84</td>\n",
       "    </tr>\n",
       "  </tbody>\n",
       "</table>\n",
       "</div>"
      ],
      "text/plain": [
       "                        club      Player_name  pos  rating\n",
       "11                   Arsenal    P. Aubameyang   ST      87\n",
       "105              Aston Villa      J. Grealish  CAM      83\n",
       "194   Brighton & Hove Albion      L. Trossard  CAM      80\n",
       "129   Brighton & Hove Albion          M. Ryan   GK      80\n",
       "193   Brighton & Hove Albion          L. Dunk   CB      80\n",
       "77                   Burnley          N. Pope   GK      82\n",
       "6                    Chelsea         N. Kanté  CDM      88\n",
       "63            Crystal Palace          W. Zaha   CF      83\n",
       "51                   Everton            Allan  CDM      85\n",
       "76                    Fulham        A. Areola   GK      82\n",
       "84              Leeds United         Raphinha   LM      82\n",
       "68              Leeds United          Rodrigo   ST      82\n",
       "20            Leicester City         J. Vardy   ST      87\n",
       "45            Leicester City         W. Ndidi   CB      87\n",
       "1                  Liverpool          Alisson   GK      90\n",
       "2                  Liverpool         M. Salah   RW      90\n",
       "3                  Liverpool          S. Mané   LW      90\n",
       "4                  Liverpool      V. van Dijk   CB      90\n",
       "0            Manchester City     K. De Bruyne  CAM      91\n",
       "18         Manchester United  Bruno Fernandes  CAM      88\n",
       "59          Newcastle United      M. Dúbravka   GK      83\n",
       "156         Sheffield United         S. Berge  CDM      80\n",
       "187         Sheffield United          J. Egan   CB      80\n",
       "189         Sheffield United     J. O'Connell   CB      80\n",
       "92               Southampton          D. Ings   ST      81\n",
       "145              Southampton   J. Ward-Prowse   CM      81\n",
       "10         Tottenham Hotspur          H. Kane   ST      88\n",
       "9          Tottenham Hotspur           H. Son   LM      88\n",
       "153     West Bromwich Albion      B. Ivanović   CB      79\n",
       "96           West Ham United        T. Souček  CDM      82\n",
       "97           West Ham United        S. Haller   ST      82\n",
       "47   Wolverhampton Wanderers       R. Jiménez   ST      84\n",
       "46   Wolverhampton Wanderers     Rui Patrício   GK      84"
      ]
     },
     "execution_count": 85,
     "metadata": {},
     "output_type": "execute_result"
    }
   ],
   "source": [
    "# collapse\n",
    "idx = df3.groupby(['club'])['rating'].transform(max) == df3['rating']\n",
    "top_rated = df3[idx][['club','Player_name','pos','rating']]\n",
    "top_rated.sort_values('club')"
   ]
  },
  {
   "cell_type": "markdown",
   "metadata": {},
   "source": [
    "## Top rated players per pos"
   ]
  },
  {
   "cell_type": "markdown",
   "metadata": {},
   "source": [
    "These positions are based on what FIFA21 recommend as \"Best Position\""
   ]
  },
  {
   "cell_type": "code",
   "execution_count": 110,
   "metadata": {
    "ExecuteTime": {
     "end_time": "2020-11-09T05:50:57.588887Z",
     "start_time": "2020-11-09T05:50:57.558804Z"
    },
    "code_folding": [
     0
    ]
   },
   "outputs": [
    {
     "data": {
      "text/html": [
       "<div>\n",
       "<style scoped>\n",
       "    .dataframe tbody tr th:only-of-type {\n",
       "        vertical-align: middle;\n",
       "    }\n",
       "\n",
       "    .dataframe tbody tr th {\n",
       "        vertical-align: top;\n",
       "    }\n",
       "\n",
       "    .dataframe thead th {\n",
       "        text-align: right;\n",
       "    }\n",
       "</style>\n",
       "<table border=\"1\" class=\"dataframe\">\n",
       "  <thead>\n",
       "    <tr style=\"text-align: right;\">\n",
       "      <th></th>\n",
       "      <th>pos</th>\n",
       "      <th>club</th>\n",
       "      <th>Player_name</th>\n",
       "      <th>rating</th>\n",
       "    </tr>\n",
       "  </thead>\n",
       "  <tbody>\n",
       "    <tr>\n",
       "      <td>1</td>\n",
       "      <td>GK</td>\n",
       "      <td>Liverpool</td>\n",
       "      <td>Alisson</td>\n",
       "      <td>90</td>\n",
       "    </tr>\n",
       "    <tr>\n",
       "      <td>4</td>\n",
       "      <td>CB</td>\n",
       "      <td>Liverpool</td>\n",
       "      <td>V. van Dijk</td>\n",
       "      <td>90</td>\n",
       "    </tr>\n",
       "    <tr>\n",
       "      <td>13</td>\n",
       "      <td>LB</td>\n",
       "      <td>Liverpool</td>\n",
       "      <td>A. Robertson</td>\n",
       "      <td>87</td>\n",
       "    </tr>\n",
       "    <tr>\n",
       "      <td>12</td>\n",
       "      <td>RB</td>\n",
       "      <td>Liverpool</td>\n",
       "      <td>T. Alexander-Arnold</td>\n",
       "      <td>87</td>\n",
       "    </tr>\n",
       "    <tr>\n",
       "      <td>89</td>\n",
       "      <td>LWB</td>\n",
       "      <td>Manchester City</td>\n",
       "      <td>B. Mendy</td>\n",
       "      <td>82</td>\n",
       "    </tr>\n",
       "    <tr>\n",
       "      <td>54</td>\n",
       "      <td>RWB</td>\n",
       "      <td>Manchester City</td>\n",
       "      <td>João Cancelo</td>\n",
       "      <td>84</td>\n",
       "    </tr>\n",
       "    <tr>\n",
       "      <td>6</td>\n",
       "      <td>CDM</td>\n",
       "      <td>Chelsea</td>\n",
       "      <td>N. Kanté</td>\n",
       "      <td>88</td>\n",
       "    </tr>\n",
       "    <tr>\n",
       "      <td>23</td>\n",
       "      <td>CM</td>\n",
       "      <td>Manchester United</td>\n",
       "      <td>P. Pogba</td>\n",
       "      <td>86</td>\n",
       "    </tr>\n",
       "    <tr>\n",
       "      <td>50</td>\n",
       "      <td>CM</td>\n",
       "      <td>Chelsea</td>\n",
       "      <td>M. Kovačić</td>\n",
       "      <td>86</td>\n",
       "    </tr>\n",
       "    <tr>\n",
       "      <td>0</td>\n",
       "      <td>CAM</td>\n",
       "      <td>Manchester City</td>\n",
       "      <td>K. De Bruyne</td>\n",
       "      <td>91</td>\n",
       "    </tr>\n",
       "    <tr>\n",
       "      <td>34</td>\n",
       "      <td>RM</td>\n",
       "      <td>Manchester United</td>\n",
       "      <td>M. Rashford</td>\n",
       "      <td>86</td>\n",
       "    </tr>\n",
       "    <tr>\n",
       "      <td>9</td>\n",
       "      <td>LM</td>\n",
       "      <td>Tottenham Hotspur</td>\n",
       "      <td>H. Son</td>\n",
       "      <td>88</td>\n",
       "    </tr>\n",
       "    <tr>\n",
       "      <td>2</td>\n",
       "      <td>RW</td>\n",
       "      <td>Liverpool</td>\n",
       "      <td>M. Salah</td>\n",
       "      <td>90</td>\n",
       "    </tr>\n",
       "    <tr>\n",
       "      <td>3</td>\n",
       "      <td>LW</td>\n",
       "      <td>Liverpool</td>\n",
       "      <td>S. Mané</td>\n",
       "      <td>90</td>\n",
       "    </tr>\n",
       "    <tr>\n",
       "      <td>15</td>\n",
       "      <td>CF</td>\n",
       "      <td>Liverpool</td>\n",
       "      <td>Roberto Firmino</td>\n",
       "      <td>87</td>\n",
       "    </tr>\n",
       "    <tr>\n",
       "      <td>5</td>\n",
       "      <td>ST</td>\n",
       "      <td>Manchester City</td>\n",
       "      <td>S. Agüero</td>\n",
       "      <td>89</td>\n",
       "    </tr>\n",
       "  </tbody>\n",
       "</table>\n",
       "</div>"
      ],
      "text/plain": [
       "    pos               club          Player_name  rating\n",
       "1    GK          Liverpool              Alisson      90\n",
       "4    CB          Liverpool          V. van Dijk      90\n",
       "13   LB          Liverpool         A. Robertson      87\n",
       "12   RB          Liverpool  T. Alexander-Arnold      87\n",
       "89  LWB    Manchester City             B. Mendy      82\n",
       "54  RWB    Manchester City         João Cancelo      84\n",
       "6   CDM            Chelsea             N. Kanté      88\n",
       "23   CM  Manchester United             P. Pogba      86\n",
       "50   CM            Chelsea           M. Kovačić      86\n",
       "0   CAM    Manchester City         K. De Bruyne      91\n",
       "34   RM  Manchester United          M. Rashford      86\n",
       "9    LM  Tottenham Hotspur               H. Son      88\n",
       "2    RW          Liverpool             M. Salah      90\n",
       "3    LW          Liverpool              S. Mané      90\n",
       "15   CF          Liverpool      Roberto Firmino      87\n",
       "5    ST    Manchester City            S. Agüero      89"
      ]
     },
     "execution_count": 110,
     "metadata": {},
     "output_type": "execute_result"
    }
   ],
   "source": [
    "# collapse\n",
    "idx = df3.groupby(['pos'])['rating'].transform(max) == df3['rating']\n",
    "top_rated = df3[idx][['pos','club','Player_name','rating']]\n",
    "\n",
    "# create custom sort so this makes positional sense\n",
    "custom_dict = {'GK':0, 'CB':1, 'LB':2, 'RB':3, 'LWB':4, 'RWB':5, 'CDM':6, 'CM':7, 'CAM':8, 'RM':9, 'LM':10,\n",
    "              'RW':11, 'LW':12, 'CF':13, 'ST':14}\n",
    "top_rated['rank'] = top_rated['pos'].map(custom_dict)\n",
    "top_pos = top_rated.sort_values('rank')\n",
    "top_pos.drop(labels=['rank'], axis=1)"
   ]
  },
  {
   "cell_type": "markdown",
   "metadata": {},
   "source": [
    "Some weird result here. Right forward maybe, but I would not put Rasford as a Right milfielder"
   ]
  },
  {
   "cell_type": "markdown",
   "metadata": {},
   "source": [
    "## Top rated players per original country"
   ]
  },
  {
   "cell_type": "markdown",
   "metadata": {},
   "source": [
    "Unique nationalities of Prem players"
   ]
  },
  {
   "cell_type": "code",
   "execution_count": 117,
   "metadata": {
    "ExecuteTime": {
     "end_time": "2020-11-09T06:31:40.186691Z",
     "start_time": "2020-11-09T06:31:40.170733Z"
    },
    "code_folding": [
     0
    ]
   },
   "outputs": [
    {
     "data": {
      "text/plain": [
       "(60,)"
      ]
     },
     "execution_count": 117,
     "metadata": {},
     "output_type": "execute_result"
    }
   ],
   "source": [
    "# Collapse\n",
    "df3.Nationality.unique().shape"
   ]
  },
  {
   "cell_type": "markdown",
   "metadata": {},
   "source": [
    "List of top players per country of origin:"
   ]
  },
  {
   "cell_type": "code",
   "execution_count": 114,
   "metadata": {
    "ExecuteTime": {
     "end_time": "2020-11-09T06:31:06.049003Z",
     "start_time": "2020-11-09T06:31:06.013559Z"
    },
    "code_folding": [
     0
    ]
   },
   "outputs": [
    {
     "data": {
      "text/html": [
       "<div>\n",
       "<style scoped>\n",
       "    .dataframe tbody tr th:only-of-type {\n",
       "        vertical-align: middle;\n",
       "    }\n",
       "\n",
       "    .dataframe tbody tr th {\n",
       "        vertical-align: top;\n",
       "    }\n",
       "\n",
       "    .dataframe thead th {\n",
       "        text-align: right;\n",
       "    }\n",
       "</style>\n",
       "<table border=\"1\" class=\"dataframe\">\n",
       "  <thead>\n",
       "    <tr style=\"text-align: right;\">\n",
       "      <th></th>\n",
       "      <th>Nationality</th>\n",
       "      <th>club</th>\n",
       "      <th>Player_name</th>\n",
       "      <th>pos</th>\n",
       "      <th>rating</th>\n",
       "    </tr>\n",
       "  </thead>\n",
       "  <tbody>\n",
       "    <tr>\n",
       "      <td>33</td>\n",
       "      <td>Algeria</td>\n",
       "      <td>Manchester City</td>\n",
       "      <td>R. Mahrez</td>\n",
       "      <td>RW</td>\n",
       "      <td>85</td>\n",
       "    </tr>\n",
       "    <tr>\n",
       "      <td>5</td>\n",
       "      <td>Argentina</td>\n",
       "      <td>Manchester City</td>\n",
       "      <td>S. Agüero</td>\n",
       "      <td>ST</td>\n",
       "      <td>89</td>\n",
       "    </tr>\n",
       "    <tr>\n",
       "      <td>129</td>\n",
       "      <td>Australia</td>\n",
       "      <td>Brighton &amp; Hove Albion</td>\n",
       "      <td>M. Ryan</td>\n",
       "      <td>GK</td>\n",
       "      <td>80</td>\n",
       "    </tr>\n",
       "    <tr>\n",
       "      <td>390</td>\n",
       "      <td>Austria</td>\n",
       "      <td>Leicester City</td>\n",
       "      <td>C. Fuchs</td>\n",
       "      <td>CDM</td>\n",
       "      <td>74</td>\n",
       "    </tr>\n",
       "    <tr>\n",
       "      <td>0</td>\n",
       "      <td>Belgium</td>\n",
       "      <td>Manchester City</td>\n",
       "      <td>K. De Bruyne</td>\n",
       "      <td>CAM</td>\n",
       "      <td>91</td>\n",
       "    </tr>\n",
       "    <tr>\n",
       "      <td>...</td>\n",
       "      <td>...</td>\n",
       "      <td>...</td>\n",
       "      <td>...</td>\n",
       "      <td>...</td>\n",
       "      <td>...</td>\n",
       "    </tr>\n",
       "    <tr>\n",
       "      <td>112</td>\n",
       "      <td>Ukraine</td>\n",
       "      <td>Manchester City</td>\n",
       "      <td>O. Zinchenko</td>\n",
       "      <td>CM</td>\n",
       "      <td>81</td>\n",
       "    </tr>\n",
       "    <tr>\n",
       "      <td>80</td>\n",
       "      <td>United States</td>\n",
       "      <td>Chelsea</td>\n",
       "      <td>C. Pulisic</td>\n",
       "      <td>CAM</td>\n",
       "      <td>82</td>\n",
       "    </tr>\n",
       "    <tr>\n",
       "      <td>43</td>\n",
       "      <td>Uruguay</td>\n",
       "      <td>Manchester United</td>\n",
       "      <td>E. Cavani</td>\n",
       "      <td>ST</td>\n",
       "      <td>84</td>\n",
       "    </tr>\n",
       "    <tr>\n",
       "      <td>60</td>\n",
       "      <td>Wales</td>\n",
       "      <td>Tottenham Hotspur</td>\n",
       "      <td>G. Bale</td>\n",
       "      <td>RW</td>\n",
       "      <td>83</td>\n",
       "    </tr>\n",
       "    <tr>\n",
       "      <td>297</td>\n",
       "      <td>Zimbabwe</td>\n",
       "      <td>Aston Villa</td>\n",
       "      <td>M. Nakamba</td>\n",
       "      <td>CDM</td>\n",
       "      <td>76</td>\n",
       "    </tr>\n",
       "  </tbody>\n",
       "</table>\n",
       "<p>64 rows × 5 columns</p>\n",
       "</div>"
      ],
      "text/plain": [
       "       Nationality                    club   Player_name  pos  rating\n",
       "33         Algeria         Manchester City     R. Mahrez   RW      85\n",
       "5        Argentina         Manchester City     S. Agüero   ST      89\n",
       "129      Australia  Brighton & Hove Albion       M. Ryan   GK      80\n",
       "390        Austria          Leicester City      C. Fuchs  CDM      74\n",
       "0          Belgium         Manchester City  K. De Bruyne  CAM      91\n",
       "..             ...                     ...           ...  ...     ...\n",
       "112        Ukraine         Manchester City  O. Zinchenko   CM      81\n",
       "80   United States                 Chelsea    C. Pulisic  CAM      82\n",
       "43         Uruguay       Manchester United     E. Cavani   ST      84\n",
       "60           Wales       Tottenham Hotspur       G. Bale   RW      83\n",
       "297       Zimbabwe             Aston Villa    M. Nakamba  CDM      76\n",
       "\n",
       "[64 rows x 5 columns]"
      ]
     },
     "execution_count": 114,
     "metadata": {},
     "output_type": "execute_result"
    }
   ],
   "source": [
    "# collapse\n",
    "idx = df3.groupby(['Nationality'])['rating'].transform(max) == df3['rating']\n",
    "top_rated = df3[idx][['Nationality','club','Player_name','pos','rating']]\n",
    "top_rated.sort_values('Nationality')"
   ]
  },
  {
   "cell_type": "markdown",
   "metadata": {},
   "source": [
    "## Top player based on some stats"
   ]
  },
  {
   "cell_type": "markdown",
   "metadata": {},
   "source": [
    "Best crosser"
   ]
  },
  {
   "cell_type": "code",
   "execution_count": 131,
   "metadata": {
    "ExecuteTime": {
     "end_time": "2020-11-09T07:49:24.537546Z",
     "start_time": "2020-11-09T07:49:24.518572Z"
    },
    "code_folding": [
     0
    ]
   },
   "outputs": [
    {
     "data": {
      "text/plain": [
       "Player_name       K. De Bruyne\n",
       "club           Manchester City\n",
       "pos                        CAM\n",
       "Crossing                    94\n",
       "Name: 0, dtype: object"
      ]
     },
     "execution_count": 131,
     "metadata": {},
     "output_type": "execute_result"
    }
   ],
   "source": [
    "# collapse\n",
    "df3[['Player_name','club','pos','Crossing']].loc[df3['Crossing'].idxmax()]"
   ]
  },
  {
   "cell_type": "markdown",
   "metadata": {},
   "source": [
    "Best short passer"
   ]
  },
  {
   "cell_type": "code",
   "execution_count": 132,
   "metadata": {
    "ExecuteTime": {
     "end_time": "2020-11-09T07:49:57.958719Z",
     "start_time": "2020-11-09T07:49:57.946178Z"
    }
   },
   "outputs": [
    {
     "data": {
      "text/plain": [
       "Player_name         K. De Bruyne\n",
       "club             Manchester City\n",
       "pos                          CAM\n",
       "Short Passing                 94\n",
       "Name: 0, dtype: object"
      ]
     },
     "execution_count": 132,
     "metadata": {},
     "output_type": "execute_result"
    }
   ],
   "source": [
    "# collapse\n",
    "df3[['Player_name','club','pos','Short Passing']].loc[df3['Short Passing'].idxmax()]"
   ]
  },
  {
   "cell_type": "markdown",
   "metadata": {},
   "source": [
    "Best long passer"
   ]
  },
  {
   "cell_type": "code",
   "execution_count": 133,
   "metadata": {
    "ExecuteTime": {
     "end_time": "2020-11-09T07:50:24.779111Z",
     "start_time": "2020-11-09T07:50:24.771132Z"
    },
    "code_folding": [
     0
    ]
   },
   "outputs": [
    {
     "data": {
      "text/plain": [
       "Player_name        K. De Bruyne\n",
       "club            Manchester City\n",
       "pos                         CAM\n",
       "Long Passing                 93\n",
       "Name: 0, dtype: object"
      ]
     },
     "execution_count": 133,
     "metadata": {},
     "output_type": "execute_result"
    }
   ],
   "source": [
    "# collapse\n",
    "df3[['Player_name','club','pos','Long Passing']].loc[df3['Long Passing'].idxmax()]"
   ]
  },
  {
   "cell_type": "markdown",
   "metadata": {},
   "source": [
    "Best header"
   ]
  },
  {
   "cell_type": "code",
   "execution_count": 134,
   "metadata": {
    "ExecuteTime": {
     "end_time": "2020-11-09T07:50:58.641058Z",
     "start_time": "2020-11-09T07:50:58.621522Z"
    },
    "code_folding": [
     0
    ]
   },
   "outputs": [
    {
     "data": {
      "text/plain": [
       "Player_name         O. Giroud\n",
       "club                  Chelsea\n",
       "pos                        ST\n",
       "Heading Accuracy           90\n",
       "Name: 130, dtype: object"
      ]
     },
     "execution_count": 134,
     "metadata": {},
     "output_type": "execute_result"
    }
   ],
   "source": [
    "# collapse\n",
    "df3[['Player_name','club','pos','Heading Accuracy']].loc[df3['Heading Accuracy'].idxmax()]"
   ]
  },
  {
   "cell_type": "markdown",
   "metadata": {},
   "source": [
    "Best finisher"
   ]
  },
  {
   "cell_type": "code",
   "execution_count": 135,
   "metadata": {
    "ExecuteTime": {
     "end_time": "2020-11-09T07:51:23.113063Z",
     "start_time": "2020-11-09T07:51:23.095031Z"
    },
    "code_folding": [
     0
    ]
   },
   "outputs": [
    {
     "data": {
      "text/plain": [
       "Player_name          S. Agüero\n",
       "club           Manchester City\n",
       "pos                         ST\n",
       "Finishing                   94\n",
       "Name: 5, dtype: object"
      ]
     },
     "execution_count": 135,
     "metadata": {},
     "output_type": "execute_result"
    }
   ],
   "source": [
    "# collapse\n",
    "df3[['Player_name','club','pos','Finishing']].loc[df3['Finishing'].idxmax()]"
   ]
  },
  {
   "cell_type": "markdown",
   "metadata": {},
   "source": [
    "Best FK taker"
   ]
  },
  {
   "cell_type": "code",
   "execution_count": 136,
   "metadata": {
    "ExecuteTime": {
     "end_time": "2020-11-09T07:51:35.579541Z",
     "start_time": "2020-11-09T07:51:35.563585Z"
    },
    "code_folding": [
     0
    ]
   },
   "outputs": [
    {
     "data": {
      "text/plain": [
       "Player_name    J. Ward-Prowse\n",
       "club              Southampton\n",
       "pos                        CM\n",
       "FK Accuracy                91\n",
       "Name: 145, dtype: object"
      ]
     },
     "execution_count": 136,
     "metadata": {},
     "output_type": "execute_result"
    }
   ],
   "source": [
    "# collapse\n",
    "df3[['Player_name','club','pos','FK Accuracy']].loc[df3['FK Accuracy'].idxmax()]"
   ]
  },
  {
   "cell_type": "markdown",
   "metadata": {},
   "source": [
    "Best PK taker"
   ]
  },
  {
   "cell_type": "code",
   "execution_count": 148,
   "metadata": {
    "ExecuteTime": {
     "end_time": "2020-11-09T08:05:43.866720Z",
     "start_time": "2020-11-09T08:05:43.850242Z"
    },
    "code_folding": [
     0
    ]
   },
   "outputs": [
    {
     "data": {
      "text/plain": [
       "Player_name                 R. Jiménez\n",
       "club           Wolverhampton Wanderers\n",
       "pos                                 ST\n",
       "Penalties                           92\n",
       "Name: 47, dtype: object"
      ]
     },
     "execution_count": 148,
     "metadata": {},
     "output_type": "execute_result"
    }
   ],
   "source": [
    "# collapse\n",
    "df3[['Player_name','club','pos','Penalties']].loc[df3['Penalties'].idxmax()]"
   ]
  },
  {
   "cell_type": "markdown",
   "metadata": {},
   "source": [
    "Best volleyer"
   ]
  },
  {
   "cell_type": "code",
   "execution_count": 137,
   "metadata": {
    "ExecuteTime": {
     "end_time": "2020-11-09T07:53:02.665836Z",
     "start_time": "2020-11-09T07:53:02.658857Z"
    },
    "code_folding": [
     0
    ]
   },
   "outputs": [
    {
     "data": {
      "text/plain": [
       "Player_name    J. Rodríguez\n",
       "club                Everton\n",
       "pos                     CAM\n",
       "Volleys                  90\n",
       "Name: 67, dtype: object"
      ]
     },
     "execution_count": 137,
     "metadata": {},
     "output_type": "execute_result"
    }
   ],
   "source": [
    "# collapse\n",
    "df3[['Player_name','club','pos','Volleys']].loc[df3['Volleys'].idxmax()]"
   ]
  },
  {
   "cell_type": "markdown",
   "metadata": {},
   "source": [
    "Highest shot power"
   ]
  },
  {
   "cell_type": "code",
   "execution_count": 138,
   "metadata": {
    "ExecuteTime": {
     "end_time": "2020-11-09T08:00:38.320816Z",
     "start_time": "2020-11-09T08:00:38.300870Z"
    },
    "code_folding": [
     0
    ]
   },
   "outputs": [
    {
     "data": {
      "text/plain": [
       "Player_name       K. De Bruyne\n",
       "club           Manchester City\n",
       "pos                        CAM\n",
       "Shot Power                  91\n",
       "Name: 0, dtype: object"
      ]
     },
     "execution_count": 138,
     "metadata": {},
     "output_type": "execute_result"
    }
   ],
   "source": [
    "# collapse\n",
    "df3[['Player_name','club','pos','Shot Power']].loc[df3['Shot Power'].idxmax()]"
   ]
  },
  {
   "cell_type": "markdown",
   "metadata": {},
   "source": [
    "Speed merchant and acceleration"
   ]
  },
  {
   "cell_type": "code",
   "execution_count": 139,
   "metadata": {
    "ExecuteTime": {
     "end_time": "2020-11-09T08:00:58.842448Z",
     "start_time": "2020-11-09T08:00:58.824497Z"
    },
    "code_folding": [
     0
    ]
   },
   "outputs": [
    {
     "data": {
      "text/plain": [
       "Player_name                Adama Traoré\n",
       "club            Wolverhampton Wanderers\n",
       "pos                                  RM\n",
       "Sprint Speed                         96\n",
       "Name: 155, dtype: object"
      ]
     },
     "execution_count": 139,
     "metadata": {},
     "output_type": "execute_result"
    }
   ],
   "source": [
    "# collapse\n",
    "df3[['Player_name','club','pos','Sprint Speed']].loc[df3['Sprint Speed'].idxmax()]"
   ]
  },
  {
   "cell_type": "code",
   "execution_count": 140,
   "metadata": {
    "ExecuteTime": {
     "end_time": "2020-11-09T08:01:10.459590Z",
     "start_time": "2020-11-09T08:01:10.448644Z"
    },
    "code_folding": [
     0
    ]
   },
   "outputs": [
    {
     "data": {
      "text/plain": [
       "Player_name                Adama Traoré\n",
       "club            Wolverhampton Wanderers\n",
       "pos                                  RM\n",
       "Acceleration                         97\n",
       "Name: 155, dtype: object"
      ]
     },
     "execution_count": 140,
     "metadata": {},
     "output_type": "execute_result"
    }
   ],
   "source": [
    "# collapse\n",
    "df3[['Player_name','club','pos','Acceleration']].loc[df3['Acceleration'].idxmax()]"
   ]
  },
  {
   "cell_type": "markdown",
   "metadata": {},
   "source": [
    "Dribbler"
   ]
  },
  {
   "cell_type": "code",
   "execution_count": 141,
   "metadata": {
    "ExecuteTime": {
     "end_time": "2020-11-09T08:01:42.451583Z",
     "start_time": "2020-11-09T08:01:42.437582Z"
    },
    "code_folding": [
     0
    ]
   },
   "outputs": [
    {
     "data": {
      "text/plain": [
       "Player_name     Bernardo Silva\n",
       "club           Manchester City\n",
       "pos                         RW\n",
       "Dribbling                   92\n",
       "Name: 17, dtype: object"
      ]
     },
     "execution_count": 141,
     "metadata": {},
     "output_type": "execute_result"
    }
   ],
   "source": [
    "# collapse\n",
    "df3[['Player_name','club','pos','Dribbling']].loc[df3['Dribbling'].idxmax()]"
   ]
  },
  {
   "cell_type": "code",
   "execution_count": 142,
   "metadata": {
    "ExecuteTime": {
     "end_time": "2020-11-09T08:01:42.670886Z",
     "start_time": "2020-11-09T08:01:42.650940Z"
    },
    "code_folding": [
     0
    ]
   },
   "outputs": [
    {
     "data": {
      "text/plain": [
       "Player_name        K. De Bruyne\n",
       "club            Manchester City\n",
       "pos                         CAM\n",
       "Ball Control                 92\n",
       "Name: 0, dtype: object"
      ]
     },
     "execution_count": 142,
     "metadata": {},
     "output_type": "execute_result"
    }
   ],
   "source": [
    "# collapse\n",
    "df3[['Player_name','club','pos','Ball Control']].loc[df3['Ball Control'].idxmax()]"
   ]
  },
  {
   "cell_type": "markdown",
   "metadata": {},
   "source": [
    "Best stamina"
   ]
  },
  {
   "cell_type": "code",
   "execution_count": 143,
   "metadata": {
    "ExecuteTime": {
     "end_time": "2020-11-09T08:02:52.012709Z",
     "start_time": "2020-11-09T08:02:52.003768Z"
    },
    "code_folding": [
     0
    ]
   },
   "outputs": [
    {
     "data": {
      "text/plain": [
       "Player_name    N. Kanté\n",
       "club            Chelsea\n",
       "pos                 CDM\n",
       "Stamina              96\n",
       "Name: 6, dtype: object"
      ]
     },
     "execution_count": 143,
     "metadata": {},
     "output_type": "execute_result"
    }
   ],
   "source": [
    "# collapse\n",
    "df3[['Player_name','club','pos','Stamina']].loc[df3['Stamina'].idxmax()]"
   ]
  },
  {
   "cell_type": "markdown",
   "metadata": {},
   "source": [
    "Best strength"
   ]
  },
  {
   "cell_type": "code",
   "execution_count": 144,
   "metadata": {
    "ExecuteTime": {
     "end_time": "2020-11-09T08:03:03.202310Z",
     "start_time": "2020-11-09T08:03:03.181841Z"
    },
    "code_folding": [
     0
    ]
   },
   "outputs": [
    {
     "data": {
      "text/plain": [
       "Player_name                    W. Boly\n",
       "club           Wolverhampton Wanderers\n",
       "pos                                 CB\n",
       "Strength                            93\n",
       "Name: 126, dtype: object"
      ]
     },
     "execution_count": 144,
     "metadata": {},
     "output_type": "execute_result"
    }
   ],
   "source": [
    "# collapse\n",
    "df3[['Player_name','club','pos','Strength']].loc[df3['Strength'].idxmax()]"
   ]
  },
  {
   "cell_type": "markdown",
   "metadata": {},
   "source": [
    "Best positioning"
   ]
  },
  {
   "cell_type": "code",
   "execution_count": 145,
   "metadata": {
    "ExecuteTime": {
     "end_time": "2020-11-09T08:04:48.455825Z",
     "start_time": "2020-11-09T08:04:48.445851Z"
    },
    "code_folding": [
     0
    ]
   },
   "outputs": [
    {
     "data": {
      "text/plain": [
       "Player_name          S. Agüero\n",
       "club           Manchester City\n",
       "pos                         ST\n",
       "Positioning                 94\n",
       "Name: 5, dtype: object"
      ]
     },
     "execution_count": 145,
     "metadata": {},
     "output_type": "execute_result"
    }
   ],
   "source": [
    "# collapse\n",
    "df3[['Player_name','club','pos','Positioning']].loc[df3['Positioning'].idxmax()]"
   ]
  },
  {
   "cell_type": "markdown",
   "metadata": {},
   "source": [
    "Best vision"
   ]
  },
  {
   "cell_type": "code",
   "execution_count": 146,
   "metadata": {
    "ExecuteTime": {
     "end_time": "2020-11-09T08:05:02.533340Z",
     "start_time": "2020-11-09T08:05:02.526626Z"
    },
    "code_folding": [
     0
    ]
   },
   "outputs": [
    {
     "data": {
      "text/plain": [
       "Player_name       K. De Bruyne\n",
       "club           Manchester City\n",
       "pos                        CAM\n",
       "Vision                      94\n",
       "Name: 0, dtype: object"
      ]
     },
     "execution_count": 146,
     "metadata": {},
     "output_type": "execute_result"
    }
   ],
   "source": [
    "# collapse\n",
    "df3[['Player_name','club','pos','Vision']].loc[df3['Vision'].idxmax()]"
   ]
  },
  {
   "cell_type": "markdown",
   "metadata": {},
   "source": [
    "Best composure"
   ]
  },
  {
   "cell_type": "code",
   "execution_count": 147,
   "metadata": {
    "ExecuteTime": {
     "end_time": "2020-11-09T08:05:13.121725Z",
     "start_time": "2020-11-09T08:05:13.099784Z"
    },
    "code_folding": [
     0
    ]
   },
   "outputs": [
    {
     "data": {
      "text/plain": [
       "Player_name       K. De Bruyne\n",
       "club           Manchester City\n",
       "pos                        CAM\n",
       "Composure                   91\n",
       "Name: 0, dtype: object"
      ]
     },
     "execution_count": 147,
     "metadata": {},
     "output_type": "execute_result"
    }
   ],
   "source": [
    "# collapse\n",
    "df3[['Player_name','club','pos','Composure']].loc[df3['Composure'].idxmax()]"
   ]
  },
  {
   "cell_type": "markdown",
   "metadata": {},
   "source": [
    "Best defensive awareness"
   ]
  },
  {
   "cell_type": "code",
   "execution_count": 149,
   "metadata": {
    "ExecuteTime": {
     "end_time": "2020-11-09T08:06:02.793125Z",
     "start_time": "2020-11-09T08:06:02.770188Z"
    },
    "code_folding": [
     0
    ]
   },
   "outputs": [
    {
     "data": {
      "text/plain": [
       "Player_name            V. van Dijk\n",
       "club                     Liverpool\n",
       "pos                             CB\n",
       "Defensive Awareness             93\n",
       "Name: 4, dtype: object"
      ]
     },
     "execution_count": 149,
     "metadata": {},
     "output_type": "execute_result"
    }
   ],
   "source": [
    "# collapse\n",
    "df3[['Player_name','club','pos','Defensive Awareness']].loc[df3['Defensive Awareness'].idxmax()]"
   ]
  },
  {
   "cell_type": "markdown",
   "metadata": {},
   "source": [
    "Interceptions"
   ]
  },
  {
   "cell_type": "code",
   "execution_count": 167,
   "metadata": {
    "ExecuteTime": {
     "end_time": "2020-11-09T08:21:14.873098Z",
     "start_time": "2020-11-09T08:21:14.866127Z"
    },
    "code_folding": [
     0
    ]
   },
   "outputs": [
    {
     "data": {
      "text/plain": [
       "Player_name      N. Kanté\n",
       "club              Chelsea\n",
       "pos                   CDM\n",
       "Interceptions          91\n",
       "Name: 6, dtype: object"
      ]
     },
     "execution_count": 167,
     "metadata": {},
     "output_type": "execute_result"
    }
   ],
   "source": [
    "# collapse\n",
    "df3[['Player_name','club','pos','Interceptions']].loc[df3['Interceptions'].idxmax()]"
   ]
  },
  {
   "cell_type": "markdown",
   "metadata": {},
   "source": [
    "Best sliding tackle"
   ]
  },
  {
   "cell_type": "code",
   "execution_count": 151,
   "metadata": {
    "ExecuteTime": {
     "end_time": "2020-11-09T08:06:46.150180Z",
     "start_time": "2020-11-09T08:06:46.131230Z"
    },
    "code_folding": [
     0
    ]
   },
   "outputs": [
    {
     "data": {
      "text/plain": [
       "Player_name          A. Wan-Bissaka\n",
       "club              Manchester United\n",
       "pos                              RB\n",
       "Sliding Tackle                   90\n",
       "Name: 57, dtype: object"
      ]
     },
     "execution_count": 151,
     "metadata": {},
     "output_type": "execute_result"
    }
   ],
   "source": [
    "# collapse\n",
    "df3[['Player_name','club','pos','Sliding Tackle']].loc[df3['Sliding Tackle'].idxmax()]"
   ]
  },
  {
   "cell_type": "markdown",
   "metadata": {},
   "source": [
    "Best GK reflexes"
   ]
  },
  {
   "cell_type": "code",
   "execution_count": 152,
   "metadata": {
    "ExecuteTime": {
     "end_time": "2020-11-09T08:07:11.894283Z",
     "start_time": "2020-11-09T08:07:11.873347Z"
    },
    "code_folding": [
     0
    ]
   },
   "outputs": [
    {
     "data": {
      "text/plain": [
       "Player_name            H. Lloris\n",
       "club           Tottenham Hotspur\n",
       "pos                           GK\n",
       "GK Reflexes                   90\n",
       "Name: 19, dtype: object"
      ]
     },
     "execution_count": 152,
     "metadata": {},
     "output_type": "execute_result"
    }
   ],
   "source": [
    "# collapse\n",
    "df3[['Player_name','club','pos','GK Reflexes']].loc[df3['GK Reflexes'].idxmax()]"
   ]
  },
  {
   "cell_type": "markdown",
   "metadata": {},
   "source": [
    "Best GK kicking"
   ]
  },
  {
   "cell_type": "code",
   "execution_count": 153,
   "metadata": {
    "ExecuteTime": {
     "end_time": "2020-11-09T08:07:25.499398Z",
     "start_time": "2020-11-09T08:07:25.477489Z"
    },
    "code_folding": [
     0
    ]
   },
   "outputs": [
    {
     "data": {
      "text/plain": [
       "Player_name            Ederson\n",
       "club           Manchester City\n",
       "pos                         GK\n",
       "GK Kicking                  93\n",
       "Name: 7, dtype: object"
      ]
     },
     "execution_count": 153,
     "metadata": {},
     "output_type": "execute_result"
    }
   ],
   "source": [
    "# collapse\n",
    "df3[['Player_name','club','pos','GK Kicking']].loc[df3['GK Kicking'].idxmax()]"
   ]
  },
  {
   "cell_type": "markdown",
   "metadata": {},
   "source": [
    "Tallest player (in cm)"
   ]
  },
  {
   "cell_type": "code",
   "execution_count": 216,
   "metadata": {
    "ExecuteTime": {
     "end_time": "2020-11-09T09:29:14.274051Z",
     "start_time": "2020-11-09T09:29:14.262411Z"
    },
    "code_folding": [
     0
    ]
   },
   "outputs": [
    {
     "data": {
      "text/plain": [
       "Player_name    N. Pope\n",
       "club           Burnley\n",
       "pos                 GK\n",
       "height             201\n",
       "Name: 77, dtype: object"
      ]
     },
     "execution_count": 216,
     "metadata": {},
     "output_type": "execute_result"
    }
   ],
   "source": [
    "# collapse\n",
    "df3[['Player_name','club','pos','height']].loc[df3['height'].idxmax()]"
   ]
  },
  {
   "cell_type": "markdown",
   "metadata": {},
   "source": [
    "Heaviest player (kg)"
   ]
  },
  {
   "cell_type": "code",
   "execution_count": 217,
   "metadata": {
    "ExecuteTime": {
     "end_time": "2020-11-09T09:29:28.492156Z",
     "start_time": "2020-11-09T09:29:28.480448Z"
    },
    "code_folding": [
     0
    ]
   },
   "outputs": [
    {
     "data": {
      "text/plain": [
       "Player_name         W. Morgan\n",
       "club           Leicester City\n",
       "pos                        CB\n",
       "weight                    101\n",
       "Name: 389, dtype: object"
      ]
     },
     "execution_count": 217,
     "metadata": {},
     "output_type": "execute_result"
    }
   ],
   "source": [
    "# collapse\n",
    "df3[['Player_name','club','pos','weight']].loc[df3['weight'].idxmax()]"
   ]
  },
  {
   "cell_type": "code",
   "execution_count": null,
   "metadata": {},
   "outputs": [],
   "source": []
  },
  {
   "cell_type": "code",
   "execution_count": null,
   "metadata": {},
   "outputs": [],
   "source": []
  },
  {
   "cell_type": "code",
   "execution_count": null,
   "metadata": {},
   "outputs": [],
   "source": []
  },
  {
   "cell_type": "code",
   "execution_count": null,
   "metadata": {},
   "outputs": [],
   "source": []
  },
  {
   "cell_type": "markdown",
   "metadata": {},
   "source": [
    "## Top player based on wages and salaries"
   ]
  },
  {
   "cell_type": "markdown",
   "metadata": {},
   "source": [
    "Highest wages"
   ]
  },
  {
   "cell_type": "code",
   "execution_count": 202,
   "metadata": {
    "ExecuteTime": {
     "end_time": "2020-11-09T08:56:55.824390Z",
     "start_time": "2020-11-09T08:56:55.814417Z"
    },
    "code_folding": [
     0
    ]
   },
   "outputs": [
    {
     "data": {
      "text/plain": [
       "Player_name       K. De Bruyne\n",
       "club           Manchester City\n",
       "pos                        CAM\n",
       "wage                    370000\n",
       "Name: 0, dtype: object"
      ]
     },
     "execution_count": 202,
     "metadata": {},
     "output_type": "execute_result"
    }
   ],
   "source": [
    "# collapse\n",
    "df3[['Player_name','club','pos','wage']].loc[df3['wage'].idxmax()]"
   ]
  },
  {
   "cell_type": "markdown",
   "metadata": {},
   "source": [
    "Highest transfer values"
   ]
  },
  {
   "cell_type": "code",
   "execution_count": 203,
   "metadata": {
    "ExecuteTime": {
     "end_time": "2020-11-09T08:57:09.758224Z",
     "start_time": "2020-11-09T08:57:09.749284Z"
    },
    "code_folding": [
     0
    ]
   },
   "outputs": [
    {
     "data": {
      "text/plain": [
       "Player_name       K. De Bruyne\n",
       "club           Manchester City\n",
       "pos                        CAM\n",
       "c_value               1.29e+08\n",
       "Name: 0, dtype: object"
      ]
     },
     "execution_count": 203,
     "metadata": {},
     "output_type": "execute_result"
    }
   ],
   "source": [
    "# collapse\n",
    "df3[['Player_name','club','pos','c_value']].loc[df3['c_value'].idxmax()]"
   ]
  },
  {
   "cell_type": "markdown",
   "metadata": {},
   "source": [
    "## Top earner per club"
   ]
  },
  {
   "cell_type": "code",
   "execution_count": 205,
   "metadata": {
    "ExecuteTime": {
     "end_time": "2020-11-09T08:58:55.051110Z",
     "start_time": "2020-11-09T08:58:55.027174Z"
    },
    "code_folding": [
     0
    ]
   },
   "outputs": [
    {
     "data": {
      "text/html": [
       "<div>\n",
       "<style scoped>\n",
       "    .dataframe tbody tr th:only-of-type {\n",
       "        vertical-align: middle;\n",
       "    }\n",
       "\n",
       "    .dataframe tbody tr th {\n",
       "        vertical-align: top;\n",
       "    }\n",
       "\n",
       "    .dataframe thead th {\n",
       "        text-align: right;\n",
       "    }\n",
       "</style>\n",
       "<table border=\"1\" class=\"dataframe\">\n",
       "  <thead>\n",
       "    <tr style=\"text-align: right;\">\n",
       "      <th></th>\n",
       "      <th>club</th>\n",
       "      <th>Player_name</th>\n",
       "      <th>pos</th>\n",
       "      <th>rating</th>\n",
       "      <th>wage</th>\n",
       "    </tr>\n",
       "  </thead>\n",
       "  <tbody>\n",
       "    <tr>\n",
       "      <td>11</td>\n",
       "      <td>Arsenal</td>\n",
       "      <td>P. Aubameyang</td>\n",
       "      <td>ST</td>\n",
       "      <td>87</td>\n",
       "      <td>170000.0</td>\n",
       "    </tr>\n",
       "    <tr>\n",
       "      <td>165</td>\n",
       "      <td>Aston Villa</td>\n",
       "      <td>R. Barkley</td>\n",
       "      <td>CAM</td>\n",
       "      <td>81</td>\n",
       "      <td>81000.0</td>\n",
       "    </tr>\n",
       "    <tr>\n",
       "      <td>194</td>\n",
       "      <td>Brighton &amp; Hove Albion</td>\n",
       "      <td>L. Trossard</td>\n",
       "      <td>CAM</td>\n",
       "      <td>80</td>\n",
       "      <td>56000.0</td>\n",
       "    </tr>\n",
       "    <tr>\n",
       "      <td>193</td>\n",
       "      <td>Brighton &amp; Hove Albion</td>\n",
       "      <td>L. Dunk</td>\n",
       "      <td>CB</td>\n",
       "      <td>80</td>\n",
       "      <td>56000.0</td>\n",
       "    </tr>\n",
       "    <tr>\n",
       "      <td>192</td>\n",
       "      <td>Burnley</td>\n",
       "      <td>C. Wood</td>\n",
       "      <td>ST</td>\n",
       "      <td>78</td>\n",
       "      <td>63000.0</td>\n",
       "    </tr>\n",
       "    <tr>\n",
       "      <td>6</td>\n",
       "      <td>Chelsea</td>\n",
       "      <td>N. Kanté</td>\n",
       "      <td>CDM</td>\n",
       "      <td>88</td>\n",
       "      <td>190000.0</td>\n",
       "    </tr>\n",
       "    <tr>\n",
       "      <td>63</td>\n",
       "      <td>Crystal Palace</td>\n",
       "      <td>W. Zaha</td>\n",
       "      <td>CF</td>\n",
       "      <td>83</td>\n",
       "      <td>89000.0</td>\n",
       "    </tr>\n",
       "    <tr>\n",
       "      <td>51</td>\n",
       "      <td>Everton</td>\n",
       "      <td>Allan</td>\n",
       "      <td>CDM</td>\n",
       "      <td>85</td>\n",
       "      <td>115000.0</td>\n",
       "    </tr>\n",
       "    <tr>\n",
       "      <td>226</td>\n",
       "      <td>Fulham</td>\n",
       "      <td>A. Mitrović</td>\n",
       "      <td>ST</td>\n",
       "      <td>79</td>\n",
       "      <td>90000.0</td>\n",
       "    </tr>\n",
       "    <tr>\n",
       "      <td>68</td>\n",
       "      <td>Leeds United</td>\n",
       "      <td>Rodrigo</td>\n",
       "      <td>ST</td>\n",
       "      <td>82</td>\n",
       "      <td>140000.0</td>\n",
       "    </tr>\n",
       "    <tr>\n",
       "      <td>20</td>\n",
       "      <td>Leicester City</td>\n",
       "      <td>J. Vardy</td>\n",
       "      <td>ST</td>\n",
       "      <td>87</td>\n",
       "      <td>170000.0</td>\n",
       "    </tr>\n",
       "    <tr>\n",
       "      <td>2</td>\n",
       "      <td>Liverpool</td>\n",
       "      <td>M. Salah</td>\n",
       "      <td>RW</td>\n",
       "      <td>90</td>\n",
       "      <td>250000.0</td>\n",
       "    </tr>\n",
       "    <tr>\n",
       "      <td>3</td>\n",
       "      <td>Liverpool</td>\n",
       "      <td>S. Mané</td>\n",
       "      <td>LW</td>\n",
       "      <td>90</td>\n",
       "      <td>250000.0</td>\n",
       "    </tr>\n",
       "    <tr>\n",
       "      <td>0</td>\n",
       "      <td>Manchester City</td>\n",
       "      <td>K. De Bruyne</td>\n",
       "      <td>CAM</td>\n",
       "      <td>91</td>\n",
       "      <td>370000.0</td>\n",
       "    </tr>\n",
       "    <tr>\n",
       "      <td>18</td>\n",
       "      <td>Manchester United</td>\n",
       "      <td>Bruno Fernandes</td>\n",
       "      <td>CAM</td>\n",
       "      <td>88</td>\n",
       "      <td>195000.0</td>\n",
       "    </tr>\n",
       "    <tr>\n",
       "      <td>173</td>\n",
       "      <td>Newcastle United</td>\n",
       "      <td>C. Wilson</td>\n",
       "      <td>ST</td>\n",
       "      <td>78</td>\n",
       "      <td>48000.0</td>\n",
       "    </tr>\n",
       "    <tr>\n",
       "      <td>231</td>\n",
       "      <td>Sheffield United</td>\n",
       "      <td>J. Fleck</td>\n",
       "      <td>CM</td>\n",
       "      <td>77</td>\n",
       "      <td>38000.0</td>\n",
       "    </tr>\n",
       "    <tr>\n",
       "      <td>230</td>\n",
       "      <td>Sheffield United</td>\n",
       "      <td>O. Norwood</td>\n",
       "      <td>CM</td>\n",
       "      <td>77</td>\n",
       "      <td>38000.0</td>\n",
       "    </tr>\n",
       "    <tr>\n",
       "      <td>92</td>\n",
       "      <td>Southampton</td>\n",
       "      <td>D. Ings</td>\n",
       "      <td>ST</td>\n",
       "      <td>81</td>\n",
       "      <td>75000.0</td>\n",
       "    </tr>\n",
       "    <tr>\n",
       "      <td>10</td>\n",
       "      <td>Tottenham Hotspur</td>\n",
       "      <td>H. Kane</td>\n",
       "      <td>ST</td>\n",
       "      <td>88</td>\n",
       "      <td>220000.0</td>\n",
       "    </tr>\n",
       "    <tr>\n",
       "      <td>365</td>\n",
       "      <td>West Bromwich Albion</td>\n",
       "      <td>M. Phillips</td>\n",
       "      <td>RM</td>\n",
       "      <td>74</td>\n",
       "      <td>65000.0</td>\n",
       "    </tr>\n",
       "    <tr>\n",
       "      <td>97</td>\n",
       "      <td>West Ham United</td>\n",
       "      <td>S. Haller</td>\n",
       "      <td>ST</td>\n",
       "      <td>82</td>\n",
       "      <td>58000.0</td>\n",
       "    </tr>\n",
       "    <tr>\n",
       "      <td>47</td>\n",
       "      <td>Wolverhampton Wanderers</td>\n",
       "      <td>R. Jiménez</td>\n",
       "      <td>ST</td>\n",
       "      <td>84</td>\n",
       "      <td>140000.0</td>\n",
       "    </tr>\n",
       "  </tbody>\n",
       "</table>\n",
       "</div>"
      ],
      "text/plain": [
       "                        club      Player_name  pos  rating      wage\n",
       "11                   Arsenal    P. Aubameyang   ST      87  170000.0\n",
       "165              Aston Villa       R. Barkley  CAM      81   81000.0\n",
       "194   Brighton & Hove Albion      L. Trossard  CAM      80   56000.0\n",
       "193   Brighton & Hove Albion          L. Dunk   CB      80   56000.0\n",
       "192                  Burnley          C. Wood   ST      78   63000.0\n",
       "6                    Chelsea         N. Kanté  CDM      88  190000.0\n",
       "63            Crystal Palace          W. Zaha   CF      83   89000.0\n",
       "51                   Everton            Allan  CDM      85  115000.0\n",
       "226                   Fulham      A. Mitrović   ST      79   90000.0\n",
       "68              Leeds United          Rodrigo   ST      82  140000.0\n",
       "20            Leicester City         J. Vardy   ST      87  170000.0\n",
       "2                  Liverpool         M. Salah   RW      90  250000.0\n",
       "3                  Liverpool          S. Mané   LW      90  250000.0\n",
       "0            Manchester City     K. De Bruyne  CAM      91  370000.0\n",
       "18         Manchester United  Bruno Fernandes  CAM      88  195000.0\n",
       "173         Newcastle United        C. Wilson   ST      78   48000.0\n",
       "231         Sheffield United         J. Fleck   CM      77   38000.0\n",
       "230         Sheffield United       O. Norwood   CM      77   38000.0\n",
       "92               Southampton          D. Ings   ST      81   75000.0\n",
       "10         Tottenham Hotspur          H. Kane   ST      88  220000.0\n",
       "365     West Bromwich Albion      M. Phillips   RM      74   65000.0\n",
       "97           West Ham United        S. Haller   ST      82   58000.0\n",
       "47   Wolverhampton Wanderers       R. Jiménez   ST      84  140000.0"
      ]
     },
     "execution_count": 205,
     "metadata": {},
     "output_type": "execute_result"
    }
   ],
   "source": [
    "# collapse\n",
    "idx = df3.groupby(['club'])['wage'].transform(max) == df3['wage']\n",
    "top_rated = df3[idx][['club','Player_name','pos','rating','wage']]\n",
    "top_rated.sort_values('club')"
   ]
  },
  {
   "cell_type": "markdown",
   "metadata": {},
   "source": [
    "## Total wage per club"
   ]
  },
  {
   "cell_type": "code",
   "execution_count": 212,
   "metadata": {
    "ExecuteTime": {
     "end_time": "2020-11-09T09:03:39.273831Z",
     "start_time": "2020-11-09T09:03:39.252319Z"
    },
    "code_folding": [
     0
    ]
   },
   "outputs": [
    {
     "data": {
      "text/html": [
       "<div>\n",
       "<style scoped>\n",
       "    .dataframe tbody tr th:only-of-type {\n",
       "        vertical-align: middle;\n",
       "    }\n",
       "\n",
       "    .dataframe tbody tr th {\n",
       "        vertical-align: top;\n",
       "    }\n",
       "\n",
       "    .dataframe thead th {\n",
       "        text-align: right;\n",
       "    }\n",
       "</style>\n",
       "<table border=\"1\" class=\"dataframe\">\n",
       "  <thead>\n",
       "    <tr style=\"text-align: right;\">\n",
       "      <th></th>\n",
       "      <th>club</th>\n",
       "      <th>wage</th>\n",
       "    </tr>\n",
       "  </thead>\n",
       "  <tbody>\n",
       "    <tr>\n",
       "      <td>11</td>\n",
       "      <td>Manchester City</td>\n",
       "      <td>3552000.0</td>\n",
       "    </tr>\n",
       "    <tr>\n",
       "      <td>12</td>\n",
       "      <td>Manchester United</td>\n",
       "      <td>2984000.0</td>\n",
       "    </tr>\n",
       "    <tr>\n",
       "      <td>10</td>\n",
       "      <td>Liverpool</td>\n",
       "      <td>2964000.0</td>\n",
       "    </tr>\n",
       "    <tr>\n",
       "      <td>16</td>\n",
       "      <td>Tottenham Hotspur</td>\n",
       "      <td>2503000.0</td>\n",
       "    </tr>\n",
       "    <tr>\n",
       "      <td>4</td>\n",
       "      <td>Chelsea</td>\n",
       "      <td>2371000.0</td>\n",
       "    </tr>\n",
       "    <tr>\n",
       "      <td>0</td>\n",
       "      <td>Arsenal</td>\n",
       "      <td>2116000.0</td>\n",
       "    </tr>\n",
       "    <tr>\n",
       "      <td>6</td>\n",
       "      <td>Everton</td>\n",
       "      <td>1835000.0</td>\n",
       "    </tr>\n",
       "    <tr>\n",
       "      <td>9</td>\n",
       "      <td>Leicester City</td>\n",
       "      <td>1817000.0</td>\n",
       "    </tr>\n",
       "    <tr>\n",
       "      <td>7</td>\n",
       "      <td>Fulham</td>\n",
       "      <td>1642000.0</td>\n",
       "    </tr>\n",
       "    <tr>\n",
       "      <td>8</td>\n",
       "      <td>Leeds United</td>\n",
       "      <td>1375000.0</td>\n",
       "    </tr>\n",
       "    <tr>\n",
       "      <td>19</td>\n",
       "      <td>Wolverhampton Wanderers</td>\n",
       "      <td>1299000.0</td>\n",
       "    </tr>\n",
       "    <tr>\n",
       "      <td>5</td>\n",
       "      <td>Crystal Palace</td>\n",
       "      <td>1212000.0</td>\n",
       "    </tr>\n",
       "    <tr>\n",
       "      <td>17</td>\n",
       "      <td>West Bromwich Albion</td>\n",
       "      <td>1103000.0</td>\n",
       "    </tr>\n",
       "    <tr>\n",
       "      <td>1</td>\n",
       "      <td>Aston Villa</td>\n",
       "      <td>1102000.0</td>\n",
       "    </tr>\n",
       "    <tr>\n",
       "      <td>2</td>\n",
       "      <td>Brighton &amp; Hove Albion</td>\n",
       "      <td>1049000.0</td>\n",
       "    </tr>\n",
       "    <tr>\n",
       "      <td>3</td>\n",
       "      <td>Burnley</td>\n",
       "      <td>982000.0</td>\n",
       "    </tr>\n",
       "    <tr>\n",
       "      <td>13</td>\n",
       "      <td>Newcastle United</td>\n",
       "      <td>978000.0</td>\n",
       "    </tr>\n",
       "    <tr>\n",
       "      <td>15</td>\n",
       "      <td>Southampton</td>\n",
       "      <td>918000.0</td>\n",
       "    </tr>\n",
       "    <tr>\n",
       "      <td>18</td>\n",
       "      <td>West Ham United</td>\n",
       "      <td>833000.0</td>\n",
       "    </tr>\n",
       "    <tr>\n",
       "      <td>14</td>\n",
       "      <td>Sheffield United</td>\n",
       "      <td>652000.0</td>\n",
       "    </tr>\n",
       "  </tbody>\n",
       "</table>\n",
       "</div>"
      ],
      "text/plain": [
       "                       club       wage\n",
       "11          Manchester City  3552000.0\n",
       "12        Manchester United  2984000.0\n",
       "10                Liverpool  2964000.0\n",
       "16        Tottenham Hotspur  2503000.0\n",
       "4                   Chelsea  2371000.0\n",
       "0                   Arsenal  2116000.0\n",
       "6                   Everton  1835000.0\n",
       "9            Leicester City  1817000.0\n",
       "7                    Fulham  1642000.0\n",
       "8              Leeds United  1375000.0\n",
       "19  Wolverhampton Wanderers  1299000.0\n",
       "5            Crystal Palace  1212000.0\n",
       "17     West Bromwich Albion  1103000.0\n",
       "1               Aston Villa  1102000.0\n",
       "2    Brighton & Hove Albion  1049000.0\n",
       "3                   Burnley   982000.0\n",
       "13         Newcastle United   978000.0\n",
       "15              Southampton   918000.0\n",
       "18          West Ham United   833000.0\n",
       "14         Sheffield United   652000.0"
      ]
     },
     "execution_count": 212,
     "metadata": {},
     "output_type": "execute_result"
    }
   ],
   "source": [
    "# collapse\n",
    "grouped = df3.groupby('club')['wage'].sum().reset_index()\n",
    "grouped.sort_values('wage', ascending=False)\n"
   ]
  },
  {
   "cell_type": "markdown",
   "metadata": {},
   "source": [
    "I am not sure the wages in FIFA21 reflect the real wages of these players"
   ]
  },
  {
   "cell_type": "markdown",
   "metadata": {},
   "source": [
    "# Feature engineering"
   ]
  },
  {
   "cell_type": "markdown",
   "metadata": {},
   "source": [
    "We have 16 different positions. We need to simplify this.\n",
    "\n",
    "Let's simplify those to the 4 traditional positions: Goalkeeper, Defender, Midfielder, Forward. For simplicity:\n",
    "* GK: GK\n",
    "* DF: CB, LB, RB, LWB, RWB\n",
    "* MF: CDM, CM, CAM, RM, LM,  \n",
    "* FW: RW, LW, CF, ST"
   ]
  },
  {
   "cell_type": "markdown",
   "metadata": {
    "ExecuteTime": {
     "end_time": "2020-11-09T08:07:55.448265Z",
     "start_time": "2020-11-09T08:07:55.439259Z"
    }
   },
   "source": [
    "## Simplify position"
   ]
  },
  {
   "cell_type": "code",
   "execution_count": 176,
   "metadata": {
    "ExecuteTime": {
     "end_time": "2020-11-09T08:23:29.297319Z",
     "start_time": "2020-11-09T08:23:29.277346Z"
    },
    "code_folding": [
     0
    ]
   },
   "outputs": [],
   "source": [
    "# collapse\n",
    "def repos(pos):\n",
    "    if pos == 'GK':\n",
    "        return 'GK'\n",
    "    elif pos[-1] == 'B':\n",
    "        return 'DF'\n",
    "    elif pos[-1] == 'M':\n",
    "        return 'MF'\n",
    "    else:\n",
    "        return 'FW'\n",
    "\n",
    "df3['pos2'] = df3.apply(lambda x: repos(x['pos']), axis=1)\n",
    "        "
   ]
  },
  {
   "cell_type": "code",
   "execution_count": 181,
   "metadata": {
    "ExecuteTime": {
     "end_time": "2020-11-09T08:31:48.365336Z",
     "start_time": "2020-11-09T08:31:48.342357Z"
    },
    "code_folding": [
     0
    ]
   },
   "outputs": [
    {
     "data": {
      "text/plain": [
       "MF    240\n",
       "DF    232\n",
       "FW    104\n",
       "GK     67\n",
       "Name: pos2, dtype: int64"
      ]
     },
     "execution_count": 181,
     "metadata": {},
     "output_type": "execute_result"
    }
   ],
   "source": [
    "# collapse\n",
    "pos_count = df3['pos2'].value_counts()\n",
    "pos_count"
   ]
  },
  {
   "cell_type": "code",
   "execution_count": 214,
   "metadata": {
    "ExecuteTime": {
     "end_time": "2020-11-09T09:06:26.701934Z",
     "start_time": "2020-11-09T09:06:26.657051Z"
    },
    "code_folding": [
     0
    ]
   },
   "outputs": [
    {
     "data": {
      "text/html": [
       "<html>\n",
       "<head><meta charset=\"utf-8\" /></head>\n",
       "<body>\n",
       "    <div>\n",
       "        \n",
       "                <script type=\"text/javascript\">window.PlotlyConfig = {MathJaxConfig: 'local'};</script>\n",
       "        <script src=\"https://cdn.plot.ly/plotly-latest.min.js\"></script>    \n",
       "            <div id=\"b371ab8c-b523-4985-87a9-f83d69f3a6d2\" class=\"plotly-graph-div\" style=\"height:100%; width:100%;\"></div>\n",
       "            <script type=\"text/javascript\">\n",
       "                \n",
       "                    window.PLOTLYENV=window.PLOTLYENV || {};\n",
       "                    \n",
       "                if (document.getElementById(\"b371ab8c-b523-4985-87a9-f83d69f3a6d2\")) {\n",
       "                    Plotly.newPlot(\n",
       "                        'b371ab8c-b523-4985-87a9-f83d69f3a6d2',\n",
       "                        [{\"alignmentgroup\": \"True\", \"hovertemplate\": \"variable=pos2<br>index=%{x}<br>value=%{y}<extra></extra>\", \"legendgroup\": \"pos2\", \"marker\": {\"color\": \"#636efa\"}, \"name\": \"pos2\", \"offsetgroup\": \"pos2\", \"orientation\": \"v\", \"showlegend\": true, \"textposition\": \"auto\", \"type\": \"bar\", \"x\": [\"GK\", \"DF\", \"MF\", \"FW\"], \"xaxis\": \"x\", \"y\": [67, 232, 240, 104], \"yaxis\": \"y\"}],\n",
       "                        {\"barmode\": \"relative\", \"legend\": {\"title\": {\"text\": \"variable\"}, \"tracegroupgap\": 0}, \"margin\": {\"t\": 60}, \"template\": {\"data\": {\"bar\": [{\"error_x\": {\"color\": \"#2a3f5f\"}, \"error_y\": {\"color\": \"#2a3f5f\"}, \"marker\": {\"line\": {\"color\": \"#E5ECF6\", \"width\": 0.5}}, \"type\": \"bar\"}], \"barpolar\": [{\"marker\": {\"line\": {\"color\": \"#E5ECF6\", \"width\": 0.5}}, \"type\": \"barpolar\"}], \"carpet\": [{\"aaxis\": {\"endlinecolor\": \"#2a3f5f\", \"gridcolor\": \"white\", \"linecolor\": \"white\", \"minorgridcolor\": \"white\", \"startlinecolor\": \"#2a3f5f\"}, \"baxis\": {\"endlinecolor\": \"#2a3f5f\", \"gridcolor\": \"white\", \"linecolor\": \"white\", \"minorgridcolor\": \"white\", \"startlinecolor\": \"#2a3f5f\"}, \"type\": \"carpet\"}], \"choropleth\": [{\"colorbar\": {\"outlinewidth\": 0, \"ticks\": \"\"}, \"type\": \"choropleth\"}], \"contour\": [{\"colorbar\": {\"outlinewidth\": 0, \"ticks\": \"\"}, \"colorscale\": [[0.0, \"#0d0887\"], [0.1111111111111111, \"#46039f\"], [0.2222222222222222, \"#7201a8\"], [0.3333333333333333, \"#9c179e\"], [0.4444444444444444, \"#bd3786\"], [0.5555555555555556, \"#d8576b\"], [0.6666666666666666, \"#ed7953\"], [0.7777777777777778, \"#fb9f3a\"], [0.8888888888888888, \"#fdca26\"], [1.0, \"#f0f921\"]], \"type\": \"contour\"}], \"contourcarpet\": [{\"colorbar\": {\"outlinewidth\": 0, \"ticks\": \"\"}, \"type\": \"contourcarpet\"}], \"heatmap\": [{\"colorbar\": {\"outlinewidth\": 0, \"ticks\": \"\"}, \"colorscale\": [[0.0, \"#0d0887\"], [0.1111111111111111, \"#46039f\"], [0.2222222222222222, \"#7201a8\"], [0.3333333333333333, \"#9c179e\"], [0.4444444444444444, \"#bd3786\"], [0.5555555555555556, \"#d8576b\"], [0.6666666666666666, \"#ed7953\"], [0.7777777777777778, \"#fb9f3a\"], [0.8888888888888888, \"#fdca26\"], [1.0, \"#f0f921\"]], \"type\": \"heatmap\"}], \"heatmapgl\": [{\"colorbar\": {\"outlinewidth\": 0, \"ticks\": \"\"}, \"colorscale\": [[0.0, \"#0d0887\"], [0.1111111111111111, \"#46039f\"], [0.2222222222222222, \"#7201a8\"], [0.3333333333333333, \"#9c179e\"], [0.4444444444444444, \"#bd3786\"], [0.5555555555555556, \"#d8576b\"], [0.6666666666666666, \"#ed7953\"], [0.7777777777777778, \"#fb9f3a\"], [0.8888888888888888, \"#fdca26\"], [1.0, \"#f0f921\"]], \"type\": \"heatmapgl\"}], \"histogram\": [{\"marker\": {\"colorbar\": {\"outlinewidth\": 0, \"ticks\": \"\"}}, \"type\": \"histogram\"}], \"histogram2d\": [{\"colorbar\": {\"outlinewidth\": 0, \"ticks\": \"\"}, \"colorscale\": [[0.0, \"#0d0887\"], [0.1111111111111111, \"#46039f\"], [0.2222222222222222, \"#7201a8\"], [0.3333333333333333, \"#9c179e\"], [0.4444444444444444, \"#bd3786\"], [0.5555555555555556, \"#d8576b\"], [0.6666666666666666, \"#ed7953\"], [0.7777777777777778, \"#fb9f3a\"], [0.8888888888888888, \"#fdca26\"], [1.0, \"#f0f921\"]], \"type\": \"histogram2d\"}], \"histogram2dcontour\": [{\"colorbar\": {\"outlinewidth\": 0, \"ticks\": \"\"}, \"colorscale\": [[0.0, \"#0d0887\"], [0.1111111111111111, \"#46039f\"], [0.2222222222222222, \"#7201a8\"], [0.3333333333333333, \"#9c179e\"], [0.4444444444444444, \"#bd3786\"], [0.5555555555555556, \"#d8576b\"], [0.6666666666666666, \"#ed7953\"], [0.7777777777777778, \"#fb9f3a\"], [0.8888888888888888, \"#fdca26\"], [1.0, \"#f0f921\"]], \"type\": \"histogram2dcontour\"}], \"mesh3d\": [{\"colorbar\": {\"outlinewidth\": 0, \"ticks\": \"\"}, \"type\": \"mesh3d\"}], \"parcoords\": [{\"line\": {\"colorbar\": {\"outlinewidth\": 0, \"ticks\": \"\"}}, \"type\": \"parcoords\"}], \"pie\": [{\"automargin\": true, \"type\": \"pie\"}], \"scatter\": [{\"marker\": {\"colorbar\": {\"outlinewidth\": 0, \"ticks\": \"\"}}, \"type\": \"scatter\"}], \"scatter3d\": [{\"line\": {\"colorbar\": {\"outlinewidth\": 0, \"ticks\": \"\"}}, \"marker\": {\"colorbar\": {\"outlinewidth\": 0, \"ticks\": \"\"}}, \"type\": \"scatter3d\"}], \"scattercarpet\": [{\"marker\": {\"colorbar\": {\"outlinewidth\": 0, \"ticks\": \"\"}}, \"type\": \"scattercarpet\"}], \"scattergeo\": [{\"marker\": {\"colorbar\": {\"outlinewidth\": 0, \"ticks\": \"\"}}, \"type\": \"scattergeo\"}], \"scattergl\": [{\"marker\": {\"colorbar\": {\"outlinewidth\": 0, \"ticks\": \"\"}}, \"type\": \"scattergl\"}], \"scattermapbox\": [{\"marker\": {\"colorbar\": {\"outlinewidth\": 0, \"ticks\": \"\"}}, \"type\": \"scattermapbox\"}], \"scatterpolar\": [{\"marker\": {\"colorbar\": {\"outlinewidth\": 0, \"ticks\": \"\"}}, \"type\": \"scatterpolar\"}], \"scatterpolargl\": [{\"marker\": {\"colorbar\": {\"outlinewidth\": 0, \"ticks\": \"\"}}, \"type\": \"scatterpolargl\"}], \"scatterternary\": [{\"marker\": {\"colorbar\": {\"outlinewidth\": 0, \"ticks\": \"\"}}, \"type\": \"scatterternary\"}], \"surface\": [{\"colorbar\": {\"outlinewidth\": 0, \"ticks\": \"\"}, \"colorscale\": [[0.0, \"#0d0887\"], [0.1111111111111111, \"#46039f\"], [0.2222222222222222, \"#7201a8\"], [0.3333333333333333, \"#9c179e\"], [0.4444444444444444, \"#bd3786\"], [0.5555555555555556, \"#d8576b\"], [0.6666666666666666, \"#ed7953\"], [0.7777777777777778, \"#fb9f3a\"], [0.8888888888888888, \"#fdca26\"], [1.0, \"#f0f921\"]], \"type\": \"surface\"}], \"table\": [{\"cells\": {\"fill\": {\"color\": \"#EBF0F8\"}, \"line\": {\"color\": \"white\"}}, \"header\": {\"fill\": {\"color\": \"#C8D4E3\"}, \"line\": {\"color\": \"white\"}}, \"type\": \"table\"}]}, \"layout\": {\"annotationdefaults\": {\"arrowcolor\": \"#2a3f5f\", \"arrowhead\": 0, \"arrowwidth\": 1}, \"coloraxis\": {\"colorbar\": {\"outlinewidth\": 0, \"ticks\": \"\"}}, \"colorscale\": {\"diverging\": [[0, \"#8e0152\"], [0.1, \"#c51b7d\"], [0.2, \"#de77ae\"], [0.3, \"#f1b6da\"], [0.4, \"#fde0ef\"], [0.5, \"#f7f7f7\"], [0.6, \"#e6f5d0\"], [0.7, \"#b8e186\"], [0.8, \"#7fbc41\"], [0.9, \"#4d9221\"], [1, \"#276419\"]], \"sequential\": [[0.0, \"#0d0887\"], [0.1111111111111111, \"#46039f\"], [0.2222222222222222, \"#7201a8\"], [0.3333333333333333, \"#9c179e\"], [0.4444444444444444, \"#bd3786\"], [0.5555555555555556, \"#d8576b\"], [0.6666666666666666, \"#ed7953\"], [0.7777777777777778, \"#fb9f3a\"], [0.8888888888888888, \"#fdca26\"], [1.0, \"#f0f921\"]], \"sequentialminus\": [[0.0, \"#0d0887\"], [0.1111111111111111, \"#46039f\"], [0.2222222222222222, \"#7201a8\"], [0.3333333333333333, \"#9c179e\"], [0.4444444444444444, \"#bd3786\"], [0.5555555555555556, \"#d8576b\"], [0.6666666666666666, \"#ed7953\"], [0.7777777777777778, \"#fb9f3a\"], [0.8888888888888888, \"#fdca26\"], [1.0, \"#f0f921\"]]}, \"colorway\": [\"#636efa\", \"#EF553B\", \"#00cc96\", \"#ab63fa\", \"#FFA15A\", \"#19d3f3\", \"#FF6692\", \"#B6E880\", \"#FF97FF\", \"#FECB52\"], \"font\": {\"color\": \"#2a3f5f\"}, \"geo\": {\"bgcolor\": \"white\", \"lakecolor\": \"white\", \"landcolor\": \"#E5ECF6\", \"showlakes\": true, \"showland\": true, \"subunitcolor\": \"white\"}, \"hoverlabel\": {\"align\": \"left\"}, \"hovermode\": \"closest\", \"mapbox\": {\"style\": \"light\"}, \"paper_bgcolor\": \"white\", \"plot_bgcolor\": \"#E5ECF6\", \"polar\": {\"angularaxis\": {\"gridcolor\": \"white\", \"linecolor\": \"white\", \"ticks\": \"\"}, \"bgcolor\": \"#E5ECF6\", \"radialaxis\": {\"gridcolor\": \"white\", \"linecolor\": \"white\", \"ticks\": \"\"}}, \"scene\": {\"xaxis\": {\"backgroundcolor\": \"#E5ECF6\", \"gridcolor\": \"white\", \"gridwidth\": 2, \"linecolor\": \"white\", \"showbackground\": true, \"ticks\": \"\", \"zerolinecolor\": \"white\"}, \"yaxis\": {\"backgroundcolor\": \"#E5ECF6\", \"gridcolor\": \"white\", \"gridwidth\": 2, \"linecolor\": \"white\", \"showbackground\": true, \"ticks\": \"\", \"zerolinecolor\": \"white\"}, \"zaxis\": {\"backgroundcolor\": \"#E5ECF6\", \"gridcolor\": \"white\", \"gridwidth\": 2, \"linecolor\": \"white\", \"showbackground\": true, \"ticks\": \"\", \"zerolinecolor\": \"white\"}}, \"shapedefaults\": {\"line\": {\"color\": \"#2a3f5f\"}}, \"ternary\": {\"aaxis\": {\"gridcolor\": \"white\", \"linecolor\": \"white\", \"ticks\": \"\"}, \"baxis\": {\"gridcolor\": \"white\", \"linecolor\": \"white\", \"ticks\": \"\"}, \"bgcolor\": \"#E5ECF6\", \"caxis\": {\"gridcolor\": \"white\", \"linecolor\": \"white\", \"ticks\": \"\"}}, \"title\": {\"x\": 0.05}, \"xaxis\": {\"automargin\": true, \"gridcolor\": \"white\", \"linecolor\": \"white\", \"ticks\": \"\", \"title\": {\"standoff\": 15}, \"zerolinecolor\": \"white\", \"zerolinewidth\": 2}, \"yaxis\": {\"automargin\": true, \"gridcolor\": \"white\", \"linecolor\": \"white\", \"ticks\": \"\", \"title\": {\"standoff\": 15}, \"zerolinecolor\": \"white\", \"zerolinewidth\": 2}}}, \"xaxis\": {\"anchor\": \"y\", \"domain\": [0.0, 1.0], \"title\": {\"text\": \"Position\"}}, \"yaxis\": {\"anchor\": \"x\", \"domain\": [0.0, 1.0], \"title\": {\"text\": \"Count\"}}},\n",
       "                        {\"responsive\": true}\n",
       "                    )\n",
       "                };\n",
       "                \n",
       "            </script>\n",
       "        </div>\n",
       "</body>\n",
       "</html>"
      ],
      "text/plain": [
       "<IPython.core.display.HTML object>"
      ]
     },
     "execution_count": 214,
     "metadata": {},
     "output_type": "execute_result"
    }
   ],
   "source": [
    "# collapse\n",
    "import plotly.express as px\n",
    "from IPython.display import HTML\n",
    "\n",
    "cat_order = ['GK','DF','MF','FW']\n",
    "fig = px.bar(pos_count.reindex(cat_order))\n",
    "fig.update_layout(yaxis_title=\"Count\")\n",
    "fig.update_layout(xaxis_title=\"Position\")\n",
    "HTML(fig.to_html(include_plotlyjs='cdn'))"
   ]
  },
  {
   "cell_type": "code",
   "execution_count": null,
   "metadata": {},
   "outputs": [],
   "source": []
  }
 ],
 "metadata": {
  "kernelspec": {
   "display_name": "Python 3",
   "language": "python",
   "name": "python3"
  },
  "language_info": {
   "codemirror_mode": {
    "name": "ipython",
    "version": 3
   },
   "file_extension": ".py",
   "mimetype": "text/x-python",
   "name": "python",
   "nbconvert_exporter": "python",
   "pygments_lexer": "ipython3",
   "version": "3.7.4"
  },
  "toc": {
   "base_numbering": 1,
   "nav_menu": {},
   "number_sections": true,
   "sideBar": true,
   "skip_h1_title": false,
   "title_cell": "Table of Contents",
   "title_sidebar": "Contents",
   "toc_cell": false,
   "toc_position": {
    "height": "calc(100% - 180px)",
    "left": "10px",
    "top": "150px",
    "width": "307.2px"
   },
   "toc_section_display": true,
   "toc_window_display": true
  }
 },
 "nbformat": 4,
 "nbformat_minor": 2
}

{
 "cells": [
  {
   "cell_type": "markdown",
   "metadata": {
    "ExecuteTime": {
     "end_time": "2021-01-25T06:54:11.596496Z",
     "start_time": "2021-01-25T06:54:11.588464Z"
    }
   },
   "source": [
    "# Transforming data from a fingerprint machine\n",
    "> \"A simple Python code to transform worker's data extracted from a fingerprint machine in Excel to be used for monthly salary calculation\"\n",
    "\n",
    "- toc: True\n",
    "- branch: master\n",
    "- badges: true\n",
    "- categories: ['Python']\n",
    "- hide: false\n",
    "- search_exclude: true\n",
    "- metadata_key1: metadata_value1\n",
    "- metadata_key2: metadata_value2"
   ]
  },
  {
   "cell_type": "markdown",
   "metadata": {},
   "source": [
    "\n",
    "# Background\n",
    "\n",
    "The HR in my family's restaurant business has been struggling to calculate salaries for the workers each month. One of the pain point is to translate the data from the fingerprint machine into the required format for salary calculation. Note that we are paying hourly wages, hence we use a fingerprint machine to record the time when the workers come in and out, as well as the time when they take a break.  \n",
    "\n",
    "The data from the fingerprint looks like this. Every employee is identified based on their worker id, name, timestamp and status. Status indicates when they come for work and take break. \n",
    "\n",
    "![](/images/fingerprint_absent/fingerprint_input.PNG)\n",
    "\n",
    "For salary calculation, the HR requires the data in different format. Where each row represents each day. there should be four fingerprint data per day (start work, start break, end break, end work). I created a python app, to reorganise the format above into like this. \n",
    "\n",
    "![](/images/fingerprint_absent/fingerprint_output.PNG)\n",
    "\n",
    "This little program has **saved our HR about 1-2 days of admin time per month**, where they used to have to pivot the data manually. Now I can help them solve this in less than 5 minutes \n",
    "\n",
    "\n",
    "# Solution\n",
    "\n",
    "Normally, this can be easily solved with the Pandas' pivot_table function. However, there are several challenges:\n",
    "* There is nothing that distinquish between when the workers starting their work and when they starting a break\n",
    "* Workers often rescan their fingerprint when they feel that the machine does not register their input\n",
    "* Workers sometimes do not register their break (maybe the forgot or they have customers so they do not take a break)\n",
    "* Datetime format was initially different in different fingerprint machines. \n",
    "\n",
    "Hence, this lead to an uneven number of rows to pivot. To solve this I had to use several groupby function. I have also added several options to choose the right datetime format as required. The code can be viewed [here](https://github.com/Riyan-Aditya/fingerprint).\n",
    "\n",
    "For now, I have created a web app locally in Voila to help simplify the process. Every month I need to run the program to help our HR. An overview of the app can be seen here:\n",
    "\n",
    "![](/images/fingerprint_absent/app_demo.PNG)\n",
    "\n",
    "\n",
    "# To do\n",
    "Online deployment. I would like to deploy this so the HR can use it without my help. Previously I have tried to deploy this via Binder, but I struggle to get the output to be saved in xlsx format. \n"
   ]
  },
  {
   "cell_type": "code",
   "execution_count": null,
   "metadata": {},
   "outputs": [],
   "source": []
  },
  {
   "cell_type": "code",
   "execution_count": null,
   "metadata": {},
   "outputs": [],
   "source": []
  },
  {
   "cell_type": "code",
   "execution_count": null,
   "metadata": {},
   "outputs": [],
   "source": []
  },
  {
   "cell_type": "code",
   "execution_count": null,
   "metadata": {},
   "outputs": [],
   "source": []
  },
  {
   "cell_type": "code",
   "execution_count": null,
   "metadata": {},
   "outputs": [],
   "source": []
  },
  {
   "cell_type": "code",
   "execution_count": null,
   "metadata": {},
   "outputs": [],
   "source": []
  }
 ],
 "metadata": {
  "kernelspec": {
   "display_name": "Python 3",
   "language": "python",
   "name": "python3"
  },
  "language_info": {
   "codemirror_mode": {
    "name": "ipython",
    "version": 3
   },
   "file_extension": ".py",
   "mimetype": "text/x-python",
   "name": "python",
   "nbconvert_exporter": "python",
   "pygments_lexer": "ipython3",
   "version": "3.7.4"
  },
  "toc": {
   "base_numbering": 1,
   "nav_menu": {},
   "number_sections": true,
   "sideBar": true,
   "skip_h1_title": false,
   "title_cell": "Table of Contents",
   "title_sidebar": "Contents",
   "toc_cell": false,
   "toc_position": {},
   "toc_section_display": true,
   "toc_window_display": false
  }
 },
 "nbformat": 4,
 "nbformat_minor": 4
}

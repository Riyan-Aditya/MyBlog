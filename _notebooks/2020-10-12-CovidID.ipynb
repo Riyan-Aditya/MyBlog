{
 "cells": [
  {
   "cell_type": "markdown",
   "metadata": {},
   "source": [
    "This notebook is my practise to do EDA (exploratory data analysis), the first step in data science."
   ]
  },
  {
   "cell_type": "markdown",
   "metadata": {},
   "source": [
    "I used to be interested on daily covid data when covid hit Indonesia back in March and April. It had been a while, so let's have a look at them now"
   ]
  },
  {
   "cell_type": "markdown",
   "metadata": {},
   "source": [
    "Data will be scrapped from:\n",
    "* https://github.com/CSSEGISandData/COVID-19\n",
    "* Our World in Data (for Indonesia): https://github.com/owid/covid-19-data/tree/master/public/data\n",
    "* Covid data for Indonesia from SINTA (via KawalCOVID): http://sinta.ristekbrin.go.id/covid/datasets\n",
    "* GEOjson for Indonesia: https://bitbucket.org/rifani/geojson-political-indonesia/src/master/"
   ]
  },
  {
   "cell_type": "markdown",
   "metadata": {},
   "source": [
    "Summary of this notebook:\n",
    "* Download Covid19 data for worldwide and Indonesia from several sources\n",
    "* Download GEOjson map for Indonesia\n",
    "* Worldwide: summary of latest data, worldwide map, death vs confirmed comparison\n",
    "* Indonesia: summary of latest data, summary plots (total cases, daily cases, positive rate and mortality rate) and other random stats that I am interested in"
   ]
  },
  {
   "cell_type": "markdown",
   "metadata": {},
   "source": [
    "New skills I picked up and applied on this notebook:\n",
    "* First time using Git properly\n",
    "* Using Plotly Express\n",
    "* Extracting data from Google Sheet API\n",
    "* Cleaning data. The spreadsheet is messy. Table are stacked on other tables in the same spreadsheet tab\n",
    "* Extracted data is string. Not sure if there is a way to extract in a numeric format instead of converting it to float manually. For next time, maybe there is a way to just download from Google Sheet automatically and just pd.read_csv()\n",
    "* Working with GEOjson data format and plotting an interactive map\n"
   ]
  },
  {
   "cell_type": "markdown",
   "metadata": {},
   "source": [
    "# Covid19 in Indonesia"
   ]
  },
  {
   "cell_type": "markdown",
   "metadata": {},
   "source": [
    "# Import necessary python libraries"
   ]
  },
  {
   "cell_type": "code",
   "execution_count": 1,
   "metadata": {
    "ExecuteTime": {
     "end_time": "2020-10-13T07:28:15.710772Z",
     "start_time": "2020-10-13T07:28:14.168236Z"
    },
    "code_folding": [
     0
    ]
   },
   "outputs": [
    {
     "data": {
      "text/html": [
       "        <script type=\"text/javascript\">\n",
       "        window.PlotlyConfig = {MathJaxConfig: 'local'};\n",
       "        if (window.MathJax) {MathJax.Hub.Config({SVG: {font: \"STIX-Web\"}});}\n",
       "        if (typeof require !== 'undefined') {\n",
       "        require.undef(\"plotly\");\n",
       "        requirejs.config({\n",
       "            paths: {\n",
       "                'plotly': ['https://cdn.plot.ly/plotly-latest.min']\n",
       "            }\n",
       "        });\n",
       "        require(['plotly'], function(Plotly) {\n",
       "            window._Plotly = Plotly;\n",
       "        });\n",
       "        }\n",
       "        </script>\n",
       "        "
      ]
     },
     "metadata": {},
     "output_type": "display_data"
    }
   ],
   "source": [
    "#collapse\n",
    "# download python libraries\n",
    "from datetime import datetime, timedelta\n",
    "import os\n",
    "import glob\n",
    "import wget\n",
    "from bs4 import BeautifulSoup\n",
    "import pandas as pd\n",
    "import numpy as np\n",
    "import matplotlib.pyplot as plt\n",
    "import seaborn as sns\n",
    "import geopandas as gpd\n",
    "import json\n",
    "import plotly.express as px\n",
    "import plotly.graph_objs as go\n",
    "\n",
    "# for offline ploting\n",
    "from plotly.offline import plot, iplot, init_notebook_mode\n",
    "init_notebook_mode(connected=True)\n",
    "\n",
    "from IPython.display import HTML"
   ]
  },
  {
   "cell_type": "markdown",
   "metadata": {},
   "source": [
    "# Import data"
   ]
  },
  {
   "cell_type": "code",
   "execution_count": 2,
   "metadata": {
    "ExecuteTime": {
     "end_time": "2020-10-13T07:28:16.584002Z",
     "start_time": "2020-10-13T07:28:15.712767Z"
    },
    "code_folding": [
     0
    ]
   },
   "outputs": [
    {
     "name": "stdout",
     "output_type": "stream",
     "text": [
      "100% [............................................................................] 265849 / 265849"
     ]
    }
   ],
   "source": [
    "#collapse\n",
    "# Download data from Github (daily)\n",
    "os.chdir(\"C:/Users/Riyan Aditya/Desktop/ML_learning/Project4_EDA_Covid_Indo/datasets\")\n",
    "\n",
    "os.remove('time_series_covid19_confirmed_global.csv')\n",
    "os.remove('time_series_covid19_deaths_global.csv')\n",
    "os.remove('time_series_covid19_recovered_global.csv')\n",
    "\n",
    "# urls of the files\n",
    "urls = ['https://raw.githubusercontent.com/CSSEGISandData/COVID-19/master/csse_covid_19_data/csse_covid_19_time_series/time_series_covid19_confirmed_global.csv', \n",
    "        'https://raw.githubusercontent.com/CSSEGISandData/COVID-19/master/csse_covid_19_data/csse_covid_19_time_series/time_series_covid19_deaths_global.csv',\n",
    "        'https://raw.githubusercontent.com/CSSEGISandData/COVID-19/master/csse_covid_19_data/csse_covid_19_time_series/time_series_covid19_recovered_global.csv']\n",
    "\n",
    "# download files\n",
    "for url in urls:\n",
    "    filename = wget.download(url)"
   ]
  },
  {
   "cell_type": "markdown",
   "metadata": {},
   "source": [
    "# Clean & preprocess data"
   ]
  },
  {
   "cell_type": "code",
   "execution_count": 3,
   "metadata": {
    "ExecuteTime": {
     "end_time": "2020-10-13T07:28:16.659707Z",
     "start_time": "2020-10-13T07:28:16.586995Z"
    },
    "code_folding": [
     0
    ]
   },
   "outputs": [],
   "source": [
    "#collapse\n",
    "# convert csv to df\n",
    "confirmed_global = pd.read_csv('time_series_covid19_confirmed_global.csv')\n",
    "deaths_global = pd.read_csv('time_series_covid19_deaths_global.csv')\n",
    "recovered_global = pd.read_csv('time_series_covid19_recovered_global.csv')"
   ]
  },
  {
   "cell_type": "code",
   "execution_count": 4,
   "metadata": {
    "ExecuteTime": {
     "end_time": "2020-10-13T07:28:16.704903Z",
     "start_time": "2020-10-13T07:28:16.660708Z"
    },
    "code_folding": [
     0
    ]
   },
   "outputs": [
    {
     "name": "stdout",
     "output_type": "stream",
     "text": [
      "(70755, 6)\n",
      "(70755, 6)\n",
      "(67310, 6)\n"
     ]
    }
   ],
   "source": [
    "#collapse\n",
    "# Melt DF => switch rows of dates into column for simpler DF\n",
    "dates = confirmed_global.columns[4:]\n",
    "\n",
    "confirmed_globalv2 = confirmed_global.melt(id_vars = ['Province/State', 'Country/Region', 'Lat', 'Long'],\n",
    "                                          value_vars = dates, var_name ='Date', value_name = 'Confirmed')\n",
    "deaths_globalv2 = deaths_global.melt(id_vars = ['Province/State', 'Country/Region', 'Lat', 'Long'],\n",
    "                                          value_vars = dates, var_name ='Date', value_name = 'Deaths')\n",
    "recovered_globalv2 = recovered_global.melt(id_vars = ['Province/State', 'Country/Region', 'Lat', 'Long'],\n",
    "                                          value_vars = dates, var_name ='Date', value_name = 'Recovered')\n",
    "print(confirmed_globalv2.shape)\n",
    "print(deaths_globalv2.shape)\n",
    "print(recovered_globalv2.shape)"
   ]
  },
  {
   "cell_type": "markdown",
   "metadata": {},
   "source": [
    "Why are there differences in number of rows between confirmed (or death) & recovered?"
   ]
  },
  {
   "cell_type": "markdown",
   "metadata": {},
   "source": [
    "This seems to suggest some countries are missing their data"
   ]
  },
  {
   "cell_type": "code",
   "execution_count": 5,
   "metadata": {
    "ExecuteTime": {
     "end_time": "2020-10-13T07:28:16.955220Z",
     "start_time": "2020-10-13T07:28:16.705918Z"
    },
    "code_folding": [
     2
    ]
   },
   "outputs": [],
   "source": [
    "#collapse\n",
    "# Combine df\n",
    "covid_global = confirmed_globalv2.merge(deaths_globalv2, how='left', on = \n",
    "                                        ['Province/State', 'Country/Region', 'Lat', 'Long','Date']).merge(\n",
    "                                        recovered_globalv2, how='left', on =\n",
    "                                        ['Province/State', 'Country/Region', 'Lat', 'Long','Date'])"
   ]
  },
  {
   "cell_type": "code",
   "execution_count": 6,
   "metadata": {
    "ExecuteTime": {
     "end_time": "2020-10-13T07:28:17.033011Z",
     "start_time": "2020-10-13T07:28:16.957214Z"
    },
    "code_folding": [
     0
    ]
   },
   "outputs": [],
   "source": [
    "#collapse\n",
    "# preprocessing\n",
    "covid_global['Date'] = pd.to_datetime(covid_global['Date'])\n",
    "\n",
    "#active cases\n",
    "covid_global['Active'] = covid_global['Confirmed'] - covid_global['Deaths'] - covid_global['Recovered']"
   ]
  },
  {
   "cell_type": "code",
   "execution_count": 7,
   "metadata": {
    "ExecuteTime": {
     "end_time": "2020-10-13T07:28:17.063927Z",
     "start_time": "2020-10-13T07:28:17.036003Z"
    },
    "code_folding": [
     0
    ]
   },
   "outputs": [],
   "source": [
    "#collapse\n",
    "# Data by day\n",
    "covid_global_daily = covid_global.groupby('Date')['Confirmed','Deaths','Recovered','Active'].sum().reset_index()"
   ]
  },
  {
   "cell_type": "code",
   "execution_count": 8,
   "metadata": {
    "ExecuteTime": {
     "end_time": "2020-10-13T07:28:17.205592Z",
     "start_time": "2020-10-13T07:28:17.064925Z"
    },
    "code_folding": [
     0
    ]
   },
   "outputs": [],
   "source": [
    "#collapse\n",
    "# Data by country\n",
    "temp = covid_global[covid_global['Date'] ==max(covid_global['Date'])].reset_index(drop=True).drop('Date', axis = 1)\n",
    "covid_global_percountry = temp.groupby('Country/Region')['Confirmed','Deaths','Recovered','Active'].sum().reset_index()"
   ]
  },
  {
   "cell_type": "markdown",
   "metadata": {},
   "source": [
    "# Worldwide Data Viz"
   ]
  },
  {
   "cell_type": "markdown",
   "metadata": {},
   "source": [
    "## Latest data"
   ]
  },
  {
   "cell_type": "code",
   "execution_count": 9,
   "metadata": {
    "ExecuteTime": {
     "end_time": "2020-10-13T07:28:17.220542Z",
     "start_time": "2020-10-13T07:28:17.206546Z"
    },
    "code_folding": [
     0
    ]
   },
   "outputs": [
    {
     "name": "stdout",
     "output_type": "stream",
     "text": [
      "Date today 2020-10-12 00:00:00\n",
      "Total cases 37,801,526\n",
      "Active cases 9,224,575.0\n",
      "Recovered cases 26,108,249.0\n",
      "Deaths cases 997,143.0\n"
     ]
    }
   ],
   "source": [
    "#collapse\n",
    "# latest data\n",
    "print('Date today',covid_global_daily['Date'].iloc[-1])\n",
    "print('Total cases','{:,}'.format(covid_global_daily['Confirmed'].iloc[-1]))\n",
    "print('Active cases','{:,}'.format(covid_global_daily['Active'].iloc[-1]))\n",
    "print('Recovered cases','{:,}'.format(covid_global_daily['Recovered'].iloc[-1]))\n",
    "print('Deaths cases','{:,}'.format(covid_global_daily['Deaths'].iloc[-1]))"
   ]
  },
  {
   "cell_type": "code",
   "execution_count": 10,
   "metadata": {
    "ExecuteTime": {
     "end_time": "2020-10-13T07:28:17.535739Z",
     "start_time": "2020-10-13T07:28:17.221506Z"
    },
    "code_folding": [
     0
    ]
   },
   "outputs": [],
   "source": [
    "#collapse\n",
    "# plot\n",
    "temp = covid_global_daily[['Date','Deaths','Recovered','Active']].tail(1)\n",
    "temp = temp.melt(id_vars='Date',value_vars = ['Active','Deaths','Recovered'])\n",
    "fig = px.treemap(temp, path=['variable'],values = 'value', height = 225)\n",
    "fig.data[0].textinfo = 'label+text+value'"
   ]
  },
  {
   "cell_type": "code",
   "execution_count": 11,
   "metadata": {
    "ExecuteTime": {
     "end_time": "2020-10-13T07:28:17.550702Z",
     "start_time": "2020-10-13T07:28:17.536741Z"
    }
   },
   "outputs": [
    {
     "data": {
      "text/html": [
       "<html>\n",
       "<head><meta charset=\"utf-8\" /></head>\n",
       "<body>\n",
       "    <div>\n",
       "        \n",
       "                <script type=\"text/javascript\">window.PlotlyConfig = {MathJaxConfig: 'local'};</script>\n",
       "        <script src=\"https://cdn.plot.ly/plotly-latest.min.js\"></script>    \n",
       "            <div id=\"895934f7-41d2-4c8c-9716-f0b7d75934c0\" class=\"plotly-graph-div\" style=\"height:225px; width:100%;\"></div>\n",
       "            <script type=\"text/javascript\">\n",
       "                \n",
       "                    window.PLOTLYENV=window.PLOTLYENV || {};\n",
       "                    \n",
       "                if (document.getElementById(\"895934f7-41d2-4c8c-9716-f0b7d75934c0\")) {\n",
       "                    Plotly.newPlot(\n",
       "                        '895934f7-41d2-4c8c-9716-f0b7d75934c0',\n",
       "                        [{\"branchvalues\": \"total\", \"domain\": {\"x\": [0.0, 1.0], \"y\": [0.0, 1.0]}, \"hovertemplate\": \"labels=%{label}<br>value=%{value}<br>parent=%{parent}<br>id=%{id}<extra></extra>\", \"ids\": [\"Active\", \"Deaths\", \"Recovered\"], \"labels\": [\"Active\", \"Deaths\", \"Recovered\"], \"name\": \"\", \"parents\": [\"\", \"\", \"\"], \"textinfo\": \"label+text+value\", \"type\": \"treemap\", \"values\": [9224575.0, 997143.0, 26108249.0]}],\n",
       "                        {\"height\": 225, \"legend\": {\"tracegroupgap\": 0}, \"margin\": {\"t\": 60}, \"template\": {\"data\": {\"bar\": [{\"error_x\": {\"color\": \"#2a3f5f\"}, \"error_y\": {\"color\": \"#2a3f5f\"}, \"marker\": {\"line\": {\"color\": \"#E5ECF6\", \"width\": 0.5}}, \"type\": \"bar\"}], \"barpolar\": [{\"marker\": {\"line\": {\"color\": \"#E5ECF6\", \"width\": 0.5}}, \"type\": \"barpolar\"}], \"carpet\": [{\"aaxis\": {\"endlinecolor\": \"#2a3f5f\", \"gridcolor\": \"white\", \"linecolor\": \"white\", \"minorgridcolor\": \"white\", \"startlinecolor\": \"#2a3f5f\"}, \"baxis\": {\"endlinecolor\": \"#2a3f5f\", \"gridcolor\": \"white\", \"linecolor\": \"white\", \"minorgridcolor\": \"white\", \"startlinecolor\": \"#2a3f5f\"}, \"type\": \"carpet\"}], \"choropleth\": [{\"colorbar\": {\"outlinewidth\": 0, \"ticks\": \"\"}, \"type\": \"choropleth\"}], \"contour\": [{\"colorbar\": {\"outlinewidth\": 0, \"ticks\": \"\"}, \"colorscale\": [[0.0, \"#0d0887\"], [0.1111111111111111, \"#46039f\"], [0.2222222222222222, \"#7201a8\"], [0.3333333333333333, \"#9c179e\"], [0.4444444444444444, \"#bd3786\"], [0.5555555555555556, \"#d8576b\"], [0.6666666666666666, \"#ed7953\"], [0.7777777777777778, \"#fb9f3a\"], [0.8888888888888888, \"#fdca26\"], [1.0, \"#f0f921\"]], \"type\": \"contour\"}], \"contourcarpet\": [{\"colorbar\": {\"outlinewidth\": 0, \"ticks\": \"\"}, \"type\": \"contourcarpet\"}], \"heatmap\": [{\"colorbar\": {\"outlinewidth\": 0, \"ticks\": \"\"}, \"colorscale\": [[0.0, \"#0d0887\"], [0.1111111111111111, \"#46039f\"], [0.2222222222222222, \"#7201a8\"], [0.3333333333333333, \"#9c179e\"], [0.4444444444444444, \"#bd3786\"], [0.5555555555555556, \"#d8576b\"], [0.6666666666666666, \"#ed7953\"], [0.7777777777777778, \"#fb9f3a\"], [0.8888888888888888, \"#fdca26\"], [1.0, \"#f0f921\"]], \"type\": \"heatmap\"}], \"heatmapgl\": [{\"colorbar\": {\"outlinewidth\": 0, \"ticks\": \"\"}, \"colorscale\": [[0.0, \"#0d0887\"], [0.1111111111111111, \"#46039f\"], [0.2222222222222222, \"#7201a8\"], [0.3333333333333333, \"#9c179e\"], [0.4444444444444444, \"#bd3786\"], [0.5555555555555556, \"#d8576b\"], [0.6666666666666666, \"#ed7953\"], [0.7777777777777778, \"#fb9f3a\"], [0.8888888888888888, \"#fdca26\"], [1.0, \"#f0f921\"]], \"type\": \"heatmapgl\"}], \"histogram\": [{\"marker\": {\"colorbar\": {\"outlinewidth\": 0, \"ticks\": \"\"}}, \"type\": \"histogram\"}], \"histogram2d\": [{\"colorbar\": {\"outlinewidth\": 0, \"ticks\": \"\"}, \"colorscale\": [[0.0, \"#0d0887\"], [0.1111111111111111, \"#46039f\"], [0.2222222222222222, \"#7201a8\"], [0.3333333333333333, \"#9c179e\"], [0.4444444444444444, \"#bd3786\"], [0.5555555555555556, \"#d8576b\"], [0.6666666666666666, \"#ed7953\"], [0.7777777777777778, \"#fb9f3a\"], [0.8888888888888888, \"#fdca26\"], [1.0, \"#f0f921\"]], \"type\": \"histogram2d\"}], \"histogram2dcontour\": [{\"colorbar\": {\"outlinewidth\": 0, \"ticks\": \"\"}, \"colorscale\": [[0.0, \"#0d0887\"], [0.1111111111111111, \"#46039f\"], [0.2222222222222222, \"#7201a8\"], [0.3333333333333333, \"#9c179e\"], [0.4444444444444444, \"#bd3786\"], [0.5555555555555556, \"#d8576b\"], [0.6666666666666666, \"#ed7953\"], [0.7777777777777778, \"#fb9f3a\"], [0.8888888888888888, \"#fdca26\"], [1.0, \"#f0f921\"]], \"type\": \"histogram2dcontour\"}], \"mesh3d\": [{\"colorbar\": {\"outlinewidth\": 0, \"ticks\": \"\"}, \"type\": \"mesh3d\"}], \"parcoords\": [{\"line\": {\"colorbar\": {\"outlinewidth\": 0, \"ticks\": \"\"}}, \"type\": \"parcoords\"}], \"pie\": [{\"automargin\": true, \"type\": \"pie\"}], \"scatter\": [{\"marker\": {\"colorbar\": {\"outlinewidth\": 0, \"ticks\": \"\"}}, \"type\": \"scatter\"}], \"scatter3d\": [{\"line\": {\"colorbar\": {\"outlinewidth\": 0, \"ticks\": \"\"}}, \"marker\": {\"colorbar\": {\"outlinewidth\": 0, \"ticks\": \"\"}}, \"type\": \"scatter3d\"}], \"scattercarpet\": [{\"marker\": {\"colorbar\": {\"outlinewidth\": 0, \"ticks\": \"\"}}, \"type\": \"scattercarpet\"}], \"scattergeo\": [{\"marker\": {\"colorbar\": {\"outlinewidth\": 0, \"ticks\": \"\"}}, \"type\": \"scattergeo\"}], \"scattergl\": [{\"marker\": {\"colorbar\": {\"outlinewidth\": 0, \"ticks\": \"\"}}, \"type\": \"scattergl\"}], \"scattermapbox\": [{\"marker\": {\"colorbar\": {\"outlinewidth\": 0, \"ticks\": \"\"}}, \"type\": \"scattermapbox\"}], \"scatterpolar\": [{\"marker\": {\"colorbar\": {\"outlinewidth\": 0, \"ticks\": \"\"}}, \"type\": \"scatterpolar\"}], \"scatterpolargl\": [{\"marker\": {\"colorbar\": {\"outlinewidth\": 0, \"ticks\": \"\"}}, \"type\": \"scatterpolargl\"}], \"scatterternary\": [{\"marker\": {\"colorbar\": {\"outlinewidth\": 0, \"ticks\": \"\"}}, \"type\": \"scatterternary\"}], \"surface\": [{\"colorbar\": {\"outlinewidth\": 0, \"ticks\": \"\"}, \"colorscale\": [[0.0, \"#0d0887\"], [0.1111111111111111, \"#46039f\"], [0.2222222222222222, \"#7201a8\"], [0.3333333333333333, \"#9c179e\"], [0.4444444444444444, \"#bd3786\"], [0.5555555555555556, \"#d8576b\"], [0.6666666666666666, \"#ed7953\"], [0.7777777777777778, \"#fb9f3a\"], [0.8888888888888888, \"#fdca26\"], [1.0, \"#f0f921\"]], \"type\": \"surface\"}], \"table\": [{\"cells\": {\"fill\": {\"color\": \"#EBF0F8\"}, \"line\": {\"color\": \"white\"}}, \"header\": {\"fill\": {\"color\": \"#C8D4E3\"}, \"line\": {\"color\": \"white\"}}, \"type\": \"table\"}]}, \"layout\": {\"annotationdefaults\": {\"arrowcolor\": \"#2a3f5f\", \"arrowhead\": 0, \"arrowwidth\": 1}, \"coloraxis\": {\"colorbar\": {\"outlinewidth\": 0, \"ticks\": \"\"}}, \"colorscale\": {\"diverging\": [[0, \"#8e0152\"], [0.1, \"#c51b7d\"], [0.2, \"#de77ae\"], [0.3, \"#f1b6da\"], [0.4, \"#fde0ef\"], [0.5, \"#f7f7f7\"], [0.6, \"#e6f5d0\"], [0.7, \"#b8e186\"], [0.8, \"#7fbc41\"], [0.9, \"#4d9221\"], [1, \"#276419\"]], \"sequential\": [[0.0, \"#0d0887\"], [0.1111111111111111, \"#46039f\"], [0.2222222222222222, \"#7201a8\"], [0.3333333333333333, \"#9c179e\"], [0.4444444444444444, \"#bd3786\"], [0.5555555555555556, \"#d8576b\"], [0.6666666666666666, \"#ed7953\"], [0.7777777777777778, \"#fb9f3a\"], [0.8888888888888888, \"#fdca26\"], [1.0, \"#f0f921\"]], \"sequentialminus\": [[0.0, \"#0d0887\"], [0.1111111111111111, \"#46039f\"], [0.2222222222222222, \"#7201a8\"], [0.3333333333333333, \"#9c179e\"], [0.4444444444444444, \"#bd3786\"], [0.5555555555555556, \"#d8576b\"], [0.6666666666666666, \"#ed7953\"], [0.7777777777777778, \"#fb9f3a\"], [0.8888888888888888, \"#fdca26\"], [1.0, \"#f0f921\"]]}, \"colorway\": [\"#636efa\", \"#EF553B\", \"#00cc96\", \"#ab63fa\", \"#FFA15A\", \"#19d3f3\", \"#FF6692\", \"#B6E880\", \"#FF97FF\", \"#FECB52\"], \"font\": {\"color\": \"#2a3f5f\"}, \"geo\": {\"bgcolor\": \"white\", \"lakecolor\": \"white\", \"landcolor\": \"#E5ECF6\", \"showlakes\": true, \"showland\": true, \"subunitcolor\": \"white\"}, \"hoverlabel\": {\"align\": \"left\"}, \"hovermode\": \"closest\", \"mapbox\": {\"style\": \"light\"}, \"paper_bgcolor\": \"white\", \"plot_bgcolor\": \"#E5ECF6\", \"polar\": {\"angularaxis\": {\"gridcolor\": \"white\", \"linecolor\": \"white\", \"ticks\": \"\"}, \"bgcolor\": \"#E5ECF6\", \"radialaxis\": {\"gridcolor\": \"white\", \"linecolor\": \"white\", \"ticks\": \"\"}}, \"scene\": {\"xaxis\": {\"backgroundcolor\": \"#E5ECF6\", \"gridcolor\": \"white\", \"gridwidth\": 2, \"linecolor\": \"white\", \"showbackground\": true, \"ticks\": \"\", \"zerolinecolor\": \"white\"}, \"yaxis\": {\"backgroundcolor\": \"#E5ECF6\", \"gridcolor\": \"white\", \"gridwidth\": 2, \"linecolor\": \"white\", \"showbackground\": true, \"ticks\": \"\", \"zerolinecolor\": \"white\"}, \"zaxis\": {\"backgroundcolor\": \"#E5ECF6\", \"gridcolor\": \"white\", \"gridwidth\": 2, \"linecolor\": \"white\", \"showbackground\": true, \"ticks\": \"\", \"zerolinecolor\": \"white\"}}, \"shapedefaults\": {\"line\": {\"color\": \"#2a3f5f\"}}, \"ternary\": {\"aaxis\": {\"gridcolor\": \"white\", \"linecolor\": \"white\", \"ticks\": \"\"}, \"baxis\": {\"gridcolor\": \"white\", \"linecolor\": \"white\", \"ticks\": \"\"}, \"bgcolor\": \"#E5ECF6\", \"caxis\": {\"gridcolor\": \"white\", \"linecolor\": \"white\", \"ticks\": \"\"}}, \"title\": {\"x\": 0.05}, \"xaxis\": {\"automargin\": true, \"gridcolor\": \"white\", \"linecolor\": \"white\", \"ticks\": \"\", \"title\": {\"standoff\": 15}, \"zerolinecolor\": \"white\", \"zerolinewidth\": 2}, \"yaxis\": {\"automargin\": true, \"gridcolor\": \"white\", \"linecolor\": \"white\", \"ticks\": \"\", \"title\": {\"standoff\": 15}, \"zerolinecolor\": \"white\", \"zerolinewidth\": 2}}}},\n",
       "                        {\"responsive\": true}\n",
       "                    )\n",
       "                };\n",
       "                \n",
       "            </script>\n",
       "        </div>\n",
       "</body>\n",
       "</html>"
      ],
      "text/plain": [
       "<IPython.core.display.HTML object>"
      ]
     },
     "execution_count": 11,
     "metadata": {},
     "output_type": "execute_result"
    }
   ],
   "source": [
    "#collapse\n",
    "HTML(fig.to_html(include_plotlyjs='cdn'))"
   ]
  },
  {
   "cell_type": "markdown",
   "metadata": {},
   "source": [
    "## Total confirmed cases world map"
   ]
  },
  {
   "cell_type": "code",
   "execution_count": 12,
   "metadata": {
    "ExecuteTime": {
     "end_time": "2020-10-13T07:28:17.565663Z",
     "start_time": "2020-10-13T07:28:17.551700Z"
    },
    "code_folding": []
   },
   "outputs": [],
   "source": [
    "#collapse\n",
    "def plot_map(df, col, pal):\n",
    "    df = df[df[col]>0]\n",
    "    fig = px.choropleth(df, locations=\"Country/Region\", locationmode='country names', \n",
    "                  color=col, hover_name=\"Country/Region\", \n",
    "                  title=col, hover_data=[col], color_continuous_scale=pal)\n",
    "    fig.update_layout(coloraxis_showscale=False)\n",
    "    "
   ]
  },
  {
   "cell_type": "code",
   "execution_count": 13,
   "metadata": {
    "ExecuteTime": {
     "end_time": "2020-10-13T07:28:17.613569Z",
     "start_time": "2020-10-13T07:28:17.567690Z"
    }
   },
   "outputs": [
    {
     "data": {
      "text/html": [
       "<html>\n",
       "<head><meta charset=\"utf-8\" /></head>\n",
       "<body>\n",
       "    <div>\n",
       "        \n",
       "                <script type=\"text/javascript\">window.PlotlyConfig = {MathJaxConfig: 'local'};</script>\n",
       "        <script src=\"https://cdn.plot.ly/plotly-latest.min.js\"></script>    \n",
       "            <div id=\"f60fb8a9-07dd-4019-a4a3-1163e1c35ab0\" class=\"plotly-graph-div\" style=\"height:225px; width:100%;\"></div>\n",
       "            <script type=\"text/javascript\">\n",
       "                \n",
       "                    window.PLOTLYENV=window.PLOTLYENV || {};\n",
       "                    \n",
       "                if (document.getElementById(\"f60fb8a9-07dd-4019-a4a3-1163e1c35ab0\")) {\n",
       "                    Plotly.newPlot(\n",
       "                        'f60fb8a9-07dd-4019-a4a3-1163e1c35ab0',\n",
       "                        [{\"branchvalues\": \"total\", \"domain\": {\"x\": [0.0, 1.0], \"y\": [0.0, 1.0]}, \"hovertemplate\": \"labels=%{label}<br>value=%{value}<br>parent=%{parent}<br>id=%{id}<extra></extra>\", \"ids\": [\"Active\", \"Deaths\", \"Recovered\"], \"labels\": [\"Active\", \"Deaths\", \"Recovered\"], \"name\": \"\", \"parents\": [\"\", \"\", \"\"], \"textinfo\": \"label+text+value\", \"type\": \"treemap\", \"values\": [9224575.0, 997143.0, 26108249.0]}],\n",
       "                        {\"height\": 225, \"legend\": {\"tracegroupgap\": 0}, \"margin\": {\"t\": 60}, \"template\": {\"data\": {\"bar\": [{\"error_x\": {\"color\": \"#2a3f5f\"}, \"error_y\": {\"color\": \"#2a3f5f\"}, \"marker\": {\"line\": {\"color\": \"#E5ECF6\", \"width\": 0.5}}, \"type\": \"bar\"}], \"barpolar\": [{\"marker\": {\"line\": {\"color\": \"#E5ECF6\", \"width\": 0.5}}, \"type\": \"barpolar\"}], \"carpet\": [{\"aaxis\": {\"endlinecolor\": \"#2a3f5f\", \"gridcolor\": \"white\", \"linecolor\": \"white\", \"minorgridcolor\": \"white\", \"startlinecolor\": \"#2a3f5f\"}, \"baxis\": {\"endlinecolor\": \"#2a3f5f\", \"gridcolor\": \"white\", \"linecolor\": \"white\", \"minorgridcolor\": \"white\", \"startlinecolor\": \"#2a3f5f\"}, \"type\": \"carpet\"}], \"choropleth\": [{\"colorbar\": {\"outlinewidth\": 0, \"ticks\": \"\"}, \"type\": \"choropleth\"}], \"contour\": [{\"colorbar\": {\"outlinewidth\": 0, \"ticks\": \"\"}, \"colorscale\": [[0.0, \"#0d0887\"], [0.1111111111111111, \"#46039f\"], [0.2222222222222222, \"#7201a8\"], [0.3333333333333333, \"#9c179e\"], [0.4444444444444444, \"#bd3786\"], [0.5555555555555556, \"#d8576b\"], [0.6666666666666666, \"#ed7953\"], [0.7777777777777778, \"#fb9f3a\"], [0.8888888888888888, \"#fdca26\"], [1.0, \"#f0f921\"]], \"type\": \"contour\"}], \"contourcarpet\": [{\"colorbar\": {\"outlinewidth\": 0, \"ticks\": \"\"}, \"type\": \"contourcarpet\"}], \"heatmap\": [{\"colorbar\": {\"outlinewidth\": 0, \"ticks\": \"\"}, \"colorscale\": [[0.0, \"#0d0887\"], [0.1111111111111111, \"#46039f\"], [0.2222222222222222, \"#7201a8\"], [0.3333333333333333, \"#9c179e\"], [0.4444444444444444, \"#bd3786\"], [0.5555555555555556, \"#d8576b\"], [0.6666666666666666, \"#ed7953\"], [0.7777777777777778, \"#fb9f3a\"], [0.8888888888888888, \"#fdca26\"], [1.0, \"#f0f921\"]], \"type\": \"heatmap\"}], \"heatmapgl\": [{\"colorbar\": {\"outlinewidth\": 0, \"ticks\": \"\"}, \"colorscale\": [[0.0, \"#0d0887\"], [0.1111111111111111, \"#46039f\"], [0.2222222222222222, \"#7201a8\"], [0.3333333333333333, \"#9c179e\"], [0.4444444444444444, \"#bd3786\"], [0.5555555555555556, \"#d8576b\"], [0.6666666666666666, \"#ed7953\"], [0.7777777777777778, \"#fb9f3a\"], [0.8888888888888888, \"#fdca26\"], [1.0, \"#f0f921\"]], \"type\": \"heatmapgl\"}], \"histogram\": [{\"marker\": {\"colorbar\": {\"outlinewidth\": 0, \"ticks\": \"\"}}, \"type\": \"histogram\"}], \"histogram2d\": [{\"colorbar\": {\"outlinewidth\": 0, \"ticks\": \"\"}, \"colorscale\": [[0.0, \"#0d0887\"], [0.1111111111111111, \"#46039f\"], [0.2222222222222222, \"#7201a8\"], [0.3333333333333333, \"#9c179e\"], [0.4444444444444444, \"#bd3786\"], [0.5555555555555556, \"#d8576b\"], [0.6666666666666666, \"#ed7953\"], [0.7777777777777778, \"#fb9f3a\"], [0.8888888888888888, \"#fdca26\"], [1.0, \"#f0f921\"]], \"type\": \"histogram2d\"}], \"histogram2dcontour\": [{\"colorbar\": {\"outlinewidth\": 0, \"ticks\": \"\"}, \"colorscale\": [[0.0, \"#0d0887\"], [0.1111111111111111, \"#46039f\"], [0.2222222222222222, \"#7201a8\"], [0.3333333333333333, \"#9c179e\"], [0.4444444444444444, \"#bd3786\"], [0.5555555555555556, \"#d8576b\"], [0.6666666666666666, \"#ed7953\"], [0.7777777777777778, \"#fb9f3a\"], [0.8888888888888888, \"#fdca26\"], [1.0, \"#f0f921\"]], \"type\": \"histogram2dcontour\"}], \"mesh3d\": [{\"colorbar\": {\"outlinewidth\": 0, \"ticks\": \"\"}, \"type\": \"mesh3d\"}], \"parcoords\": [{\"line\": {\"colorbar\": {\"outlinewidth\": 0, \"ticks\": \"\"}}, \"type\": \"parcoords\"}], \"pie\": [{\"automargin\": true, \"type\": \"pie\"}], \"scatter\": [{\"marker\": {\"colorbar\": {\"outlinewidth\": 0, \"ticks\": \"\"}}, \"type\": \"scatter\"}], \"scatter3d\": [{\"line\": {\"colorbar\": {\"outlinewidth\": 0, \"ticks\": \"\"}}, \"marker\": {\"colorbar\": {\"outlinewidth\": 0, \"ticks\": \"\"}}, \"type\": \"scatter3d\"}], \"scattercarpet\": [{\"marker\": {\"colorbar\": {\"outlinewidth\": 0, \"ticks\": \"\"}}, \"type\": \"scattercarpet\"}], \"scattergeo\": [{\"marker\": {\"colorbar\": {\"outlinewidth\": 0, \"ticks\": \"\"}}, \"type\": \"scattergeo\"}], \"scattergl\": [{\"marker\": {\"colorbar\": {\"outlinewidth\": 0, \"ticks\": \"\"}}, \"type\": \"scattergl\"}], \"scattermapbox\": [{\"marker\": {\"colorbar\": {\"outlinewidth\": 0, \"ticks\": \"\"}}, \"type\": \"scattermapbox\"}], \"scatterpolar\": [{\"marker\": {\"colorbar\": {\"outlinewidth\": 0, \"ticks\": \"\"}}, \"type\": \"scatterpolar\"}], \"scatterpolargl\": [{\"marker\": {\"colorbar\": {\"outlinewidth\": 0, \"ticks\": \"\"}}, \"type\": \"scatterpolargl\"}], \"scatterternary\": [{\"marker\": {\"colorbar\": {\"outlinewidth\": 0, \"ticks\": \"\"}}, \"type\": \"scatterternary\"}], \"surface\": [{\"colorbar\": {\"outlinewidth\": 0, \"ticks\": \"\"}, \"colorscale\": [[0.0, \"#0d0887\"], [0.1111111111111111, \"#46039f\"], [0.2222222222222222, \"#7201a8\"], [0.3333333333333333, \"#9c179e\"], [0.4444444444444444, \"#bd3786\"], [0.5555555555555556, \"#d8576b\"], [0.6666666666666666, \"#ed7953\"], [0.7777777777777778, \"#fb9f3a\"], [0.8888888888888888, \"#fdca26\"], [1.0, \"#f0f921\"]], \"type\": \"surface\"}], \"table\": [{\"cells\": {\"fill\": {\"color\": \"#EBF0F8\"}, \"line\": {\"color\": \"white\"}}, \"header\": {\"fill\": {\"color\": \"#C8D4E3\"}, \"line\": {\"color\": \"white\"}}, \"type\": \"table\"}]}, \"layout\": {\"annotationdefaults\": {\"arrowcolor\": \"#2a3f5f\", \"arrowhead\": 0, \"arrowwidth\": 1}, \"coloraxis\": {\"colorbar\": {\"outlinewidth\": 0, \"ticks\": \"\"}}, \"colorscale\": {\"diverging\": [[0, \"#8e0152\"], [0.1, \"#c51b7d\"], [0.2, \"#de77ae\"], [0.3, \"#f1b6da\"], [0.4, \"#fde0ef\"], [0.5, \"#f7f7f7\"], [0.6, \"#e6f5d0\"], [0.7, \"#b8e186\"], [0.8, \"#7fbc41\"], [0.9, \"#4d9221\"], [1, \"#276419\"]], \"sequential\": [[0.0, \"#0d0887\"], [0.1111111111111111, \"#46039f\"], [0.2222222222222222, \"#7201a8\"], [0.3333333333333333, \"#9c179e\"], [0.4444444444444444, \"#bd3786\"], [0.5555555555555556, \"#d8576b\"], [0.6666666666666666, \"#ed7953\"], [0.7777777777777778, \"#fb9f3a\"], [0.8888888888888888, \"#fdca26\"], [1.0, \"#f0f921\"]], \"sequentialminus\": [[0.0, \"#0d0887\"], [0.1111111111111111, \"#46039f\"], [0.2222222222222222, \"#7201a8\"], [0.3333333333333333, \"#9c179e\"], [0.4444444444444444, \"#bd3786\"], [0.5555555555555556, \"#d8576b\"], [0.6666666666666666, \"#ed7953\"], [0.7777777777777778, \"#fb9f3a\"], [0.8888888888888888, \"#fdca26\"], [1.0, \"#f0f921\"]]}, \"colorway\": [\"#636efa\", \"#EF553B\", \"#00cc96\", \"#ab63fa\", \"#FFA15A\", \"#19d3f3\", \"#FF6692\", \"#B6E880\", \"#FF97FF\", \"#FECB52\"], \"font\": {\"color\": \"#2a3f5f\"}, \"geo\": {\"bgcolor\": \"white\", \"lakecolor\": \"white\", \"landcolor\": \"#E5ECF6\", \"showlakes\": true, \"showland\": true, \"subunitcolor\": \"white\"}, \"hoverlabel\": {\"align\": \"left\"}, \"hovermode\": \"closest\", \"mapbox\": {\"style\": \"light\"}, \"paper_bgcolor\": \"white\", \"plot_bgcolor\": \"#E5ECF6\", \"polar\": {\"angularaxis\": {\"gridcolor\": \"white\", \"linecolor\": \"white\", \"ticks\": \"\"}, \"bgcolor\": \"#E5ECF6\", \"radialaxis\": {\"gridcolor\": \"white\", \"linecolor\": \"white\", \"ticks\": \"\"}}, \"scene\": {\"xaxis\": {\"backgroundcolor\": \"#E5ECF6\", \"gridcolor\": \"white\", \"gridwidth\": 2, \"linecolor\": \"white\", \"showbackground\": true, \"ticks\": \"\", \"zerolinecolor\": \"white\"}, \"yaxis\": {\"backgroundcolor\": \"#E5ECF6\", \"gridcolor\": \"white\", \"gridwidth\": 2, \"linecolor\": \"white\", \"showbackground\": true, \"ticks\": \"\", \"zerolinecolor\": \"white\"}, \"zaxis\": {\"backgroundcolor\": \"#E5ECF6\", \"gridcolor\": \"white\", \"gridwidth\": 2, \"linecolor\": \"white\", \"showbackground\": true, \"ticks\": \"\", \"zerolinecolor\": \"white\"}}, \"shapedefaults\": {\"line\": {\"color\": \"#2a3f5f\"}}, \"ternary\": {\"aaxis\": {\"gridcolor\": \"white\", \"linecolor\": \"white\", \"ticks\": \"\"}, \"baxis\": {\"gridcolor\": \"white\", \"linecolor\": \"white\", \"ticks\": \"\"}, \"bgcolor\": \"#E5ECF6\", \"caxis\": {\"gridcolor\": \"white\", \"linecolor\": \"white\", \"ticks\": \"\"}}, \"title\": {\"x\": 0.05}, \"xaxis\": {\"automargin\": true, \"gridcolor\": \"white\", \"linecolor\": \"white\", \"ticks\": \"\", \"title\": {\"standoff\": 15}, \"zerolinecolor\": \"white\", \"zerolinewidth\": 2}, \"yaxis\": {\"automargin\": true, \"gridcolor\": \"white\", \"linecolor\": \"white\", \"ticks\": \"\", \"title\": {\"standoff\": 15}, \"zerolinecolor\": \"white\", \"zerolinewidth\": 2}}}},\n",
       "                        {\"responsive\": true}\n",
       "                    )\n",
       "                };\n",
       "                \n",
       "            </script>\n",
       "        </div>\n",
       "</body>\n",
       "</html>"
      ],
      "text/plain": [
       "<IPython.core.display.HTML object>"
      ]
     },
     "execution_count": 13,
     "metadata": {},
     "output_type": "execute_result"
    }
   ],
   "source": [
    "#collapse\n",
    "plot_map(covid_global_percountry, 'Confirmed', 'matter')\n",
    "HTML(fig.to_html(include_plotlyjs='cdn'))"
   ]
  },
  {
   "cell_type": "markdown",
   "metadata": {},
   "source": [
    "## Treemap total confirmed cases "
   ]
  },
  {
   "cell_type": "code",
   "execution_count": 14,
   "metadata": {
    "ExecuteTime": {
     "end_time": "2020-10-13T07:28:17.628530Z",
     "start_time": "2020-10-13T07:28:17.615531Z"
    },
    "code_folding": []
   },
   "outputs": [],
   "source": [
    "#collapse\n",
    "def plot_treemap(df,col):\n",
    "    fig = px.treemap(df, path=[\"Country/Region\"], values=col, height=700,\n",
    "                 title=col, color_discrete_sequence = px.colors.qualitative.Dark2)\n",
    "    fig.data[0].textinfo = 'label+text+value'\n",
    "    "
   ]
  },
  {
   "cell_type": "code",
   "execution_count": 15,
   "metadata": {
    "ExecuteTime": {
     "end_time": "2020-10-13T07:28:17.675849Z",
     "start_time": "2020-10-13T07:28:17.630523Z"
    }
   },
   "outputs": [
    {
     "data": {
      "text/html": [
       "<html>\n",
       "<head><meta charset=\"utf-8\" /></head>\n",
       "<body>\n",
       "    <div>\n",
       "        \n",
       "                <script type=\"text/javascript\">window.PlotlyConfig = {MathJaxConfig: 'local'};</script>\n",
       "        <script src=\"https://cdn.plot.ly/plotly-latest.min.js\"></script>    \n",
       "            <div id=\"521c3aad-e0f1-4889-90eb-575388896205\" class=\"plotly-graph-div\" style=\"height:225px; width:100%;\"></div>\n",
       "            <script type=\"text/javascript\">\n",
       "                \n",
       "                    window.PLOTLYENV=window.PLOTLYENV || {};\n",
       "                    \n",
       "                if (document.getElementById(\"521c3aad-e0f1-4889-90eb-575388896205\")) {\n",
       "                    Plotly.newPlot(\n",
       "                        '521c3aad-e0f1-4889-90eb-575388896205',\n",
       "                        [{\"branchvalues\": \"total\", \"domain\": {\"x\": [0.0, 1.0], \"y\": [0.0, 1.0]}, \"hovertemplate\": \"labels=%{label}<br>value=%{value}<br>parent=%{parent}<br>id=%{id}<extra></extra>\", \"ids\": [\"Active\", \"Deaths\", \"Recovered\"], \"labels\": [\"Active\", \"Deaths\", \"Recovered\"], \"name\": \"\", \"parents\": [\"\", \"\", \"\"], \"textinfo\": \"label+text+value\", \"type\": \"treemap\", \"values\": [9224575.0, 997143.0, 26108249.0]}],\n",
       "                        {\"height\": 225, \"legend\": {\"tracegroupgap\": 0}, \"margin\": {\"t\": 60}, \"template\": {\"data\": {\"bar\": [{\"error_x\": {\"color\": \"#2a3f5f\"}, \"error_y\": {\"color\": \"#2a3f5f\"}, \"marker\": {\"line\": {\"color\": \"#E5ECF6\", \"width\": 0.5}}, \"type\": \"bar\"}], \"barpolar\": [{\"marker\": {\"line\": {\"color\": \"#E5ECF6\", \"width\": 0.5}}, \"type\": \"barpolar\"}], \"carpet\": [{\"aaxis\": {\"endlinecolor\": \"#2a3f5f\", \"gridcolor\": \"white\", \"linecolor\": \"white\", \"minorgridcolor\": \"white\", \"startlinecolor\": \"#2a3f5f\"}, \"baxis\": {\"endlinecolor\": \"#2a3f5f\", \"gridcolor\": \"white\", \"linecolor\": \"white\", \"minorgridcolor\": \"white\", \"startlinecolor\": \"#2a3f5f\"}, \"type\": \"carpet\"}], \"choropleth\": [{\"colorbar\": {\"outlinewidth\": 0, \"ticks\": \"\"}, \"type\": \"choropleth\"}], \"contour\": [{\"colorbar\": {\"outlinewidth\": 0, \"ticks\": \"\"}, \"colorscale\": [[0.0, \"#0d0887\"], [0.1111111111111111, \"#46039f\"], [0.2222222222222222, \"#7201a8\"], [0.3333333333333333, \"#9c179e\"], [0.4444444444444444, \"#bd3786\"], [0.5555555555555556, \"#d8576b\"], [0.6666666666666666, \"#ed7953\"], [0.7777777777777778, \"#fb9f3a\"], [0.8888888888888888, \"#fdca26\"], [1.0, \"#f0f921\"]], \"type\": \"contour\"}], \"contourcarpet\": [{\"colorbar\": {\"outlinewidth\": 0, \"ticks\": \"\"}, \"type\": \"contourcarpet\"}], \"heatmap\": [{\"colorbar\": {\"outlinewidth\": 0, \"ticks\": \"\"}, \"colorscale\": [[0.0, \"#0d0887\"], [0.1111111111111111, \"#46039f\"], [0.2222222222222222, \"#7201a8\"], [0.3333333333333333, \"#9c179e\"], [0.4444444444444444, \"#bd3786\"], [0.5555555555555556, \"#d8576b\"], [0.6666666666666666, \"#ed7953\"], [0.7777777777777778, \"#fb9f3a\"], [0.8888888888888888, \"#fdca26\"], [1.0, \"#f0f921\"]], \"type\": \"heatmap\"}], \"heatmapgl\": [{\"colorbar\": {\"outlinewidth\": 0, \"ticks\": \"\"}, \"colorscale\": [[0.0, \"#0d0887\"], [0.1111111111111111, \"#46039f\"], [0.2222222222222222, \"#7201a8\"], [0.3333333333333333, \"#9c179e\"], [0.4444444444444444, \"#bd3786\"], [0.5555555555555556, \"#d8576b\"], [0.6666666666666666, \"#ed7953\"], [0.7777777777777778, \"#fb9f3a\"], [0.8888888888888888, \"#fdca26\"], [1.0, \"#f0f921\"]], \"type\": \"heatmapgl\"}], \"histogram\": [{\"marker\": {\"colorbar\": {\"outlinewidth\": 0, \"ticks\": \"\"}}, \"type\": \"histogram\"}], \"histogram2d\": [{\"colorbar\": {\"outlinewidth\": 0, \"ticks\": \"\"}, \"colorscale\": [[0.0, \"#0d0887\"], [0.1111111111111111, \"#46039f\"], [0.2222222222222222, \"#7201a8\"], [0.3333333333333333, \"#9c179e\"], [0.4444444444444444, \"#bd3786\"], [0.5555555555555556, \"#d8576b\"], [0.6666666666666666, \"#ed7953\"], [0.7777777777777778, \"#fb9f3a\"], [0.8888888888888888, \"#fdca26\"], [1.0, \"#f0f921\"]], \"type\": \"histogram2d\"}], \"histogram2dcontour\": [{\"colorbar\": {\"outlinewidth\": 0, \"ticks\": \"\"}, \"colorscale\": [[0.0, \"#0d0887\"], [0.1111111111111111, \"#46039f\"], [0.2222222222222222, \"#7201a8\"], [0.3333333333333333, \"#9c179e\"], [0.4444444444444444, \"#bd3786\"], [0.5555555555555556, \"#d8576b\"], [0.6666666666666666, \"#ed7953\"], [0.7777777777777778, \"#fb9f3a\"], [0.8888888888888888, \"#fdca26\"], [1.0, \"#f0f921\"]], \"type\": \"histogram2dcontour\"}], \"mesh3d\": [{\"colorbar\": {\"outlinewidth\": 0, \"ticks\": \"\"}, \"type\": \"mesh3d\"}], \"parcoords\": [{\"line\": {\"colorbar\": {\"outlinewidth\": 0, \"ticks\": \"\"}}, \"type\": \"parcoords\"}], \"pie\": [{\"automargin\": true, \"type\": \"pie\"}], \"scatter\": [{\"marker\": {\"colorbar\": {\"outlinewidth\": 0, \"ticks\": \"\"}}, \"type\": \"scatter\"}], \"scatter3d\": [{\"line\": {\"colorbar\": {\"outlinewidth\": 0, \"ticks\": \"\"}}, \"marker\": {\"colorbar\": {\"outlinewidth\": 0, \"ticks\": \"\"}}, \"type\": \"scatter3d\"}], \"scattercarpet\": [{\"marker\": {\"colorbar\": {\"outlinewidth\": 0, \"ticks\": \"\"}}, \"type\": \"scattercarpet\"}], \"scattergeo\": [{\"marker\": {\"colorbar\": {\"outlinewidth\": 0, \"ticks\": \"\"}}, \"type\": \"scattergeo\"}], \"scattergl\": [{\"marker\": {\"colorbar\": {\"outlinewidth\": 0, \"ticks\": \"\"}}, \"type\": \"scattergl\"}], \"scattermapbox\": [{\"marker\": {\"colorbar\": {\"outlinewidth\": 0, \"ticks\": \"\"}}, \"type\": \"scattermapbox\"}], \"scatterpolar\": [{\"marker\": {\"colorbar\": {\"outlinewidth\": 0, \"ticks\": \"\"}}, \"type\": \"scatterpolar\"}], \"scatterpolargl\": [{\"marker\": {\"colorbar\": {\"outlinewidth\": 0, \"ticks\": \"\"}}, \"type\": \"scatterpolargl\"}], \"scatterternary\": [{\"marker\": {\"colorbar\": {\"outlinewidth\": 0, \"ticks\": \"\"}}, \"type\": \"scatterternary\"}], \"surface\": [{\"colorbar\": {\"outlinewidth\": 0, \"ticks\": \"\"}, \"colorscale\": [[0.0, \"#0d0887\"], [0.1111111111111111, \"#46039f\"], [0.2222222222222222, \"#7201a8\"], [0.3333333333333333, \"#9c179e\"], [0.4444444444444444, \"#bd3786\"], [0.5555555555555556, \"#d8576b\"], [0.6666666666666666, \"#ed7953\"], [0.7777777777777778, \"#fb9f3a\"], [0.8888888888888888, \"#fdca26\"], [1.0, \"#f0f921\"]], \"type\": \"surface\"}], \"table\": [{\"cells\": {\"fill\": {\"color\": \"#EBF0F8\"}, \"line\": {\"color\": \"white\"}}, \"header\": {\"fill\": {\"color\": \"#C8D4E3\"}, \"line\": {\"color\": \"white\"}}, \"type\": \"table\"}]}, \"layout\": {\"annotationdefaults\": {\"arrowcolor\": \"#2a3f5f\", \"arrowhead\": 0, \"arrowwidth\": 1}, \"coloraxis\": {\"colorbar\": {\"outlinewidth\": 0, \"ticks\": \"\"}}, \"colorscale\": {\"diverging\": [[0, \"#8e0152\"], [0.1, \"#c51b7d\"], [0.2, \"#de77ae\"], [0.3, \"#f1b6da\"], [0.4, \"#fde0ef\"], [0.5, \"#f7f7f7\"], [0.6, \"#e6f5d0\"], [0.7, \"#b8e186\"], [0.8, \"#7fbc41\"], [0.9, \"#4d9221\"], [1, \"#276419\"]], \"sequential\": [[0.0, \"#0d0887\"], [0.1111111111111111, \"#46039f\"], [0.2222222222222222, \"#7201a8\"], [0.3333333333333333, \"#9c179e\"], [0.4444444444444444, \"#bd3786\"], [0.5555555555555556, \"#d8576b\"], [0.6666666666666666, \"#ed7953\"], [0.7777777777777778, \"#fb9f3a\"], [0.8888888888888888, \"#fdca26\"], [1.0, \"#f0f921\"]], \"sequentialminus\": [[0.0, \"#0d0887\"], [0.1111111111111111, \"#46039f\"], [0.2222222222222222, \"#7201a8\"], [0.3333333333333333, \"#9c179e\"], [0.4444444444444444, \"#bd3786\"], [0.5555555555555556, \"#d8576b\"], [0.6666666666666666, \"#ed7953\"], [0.7777777777777778, \"#fb9f3a\"], [0.8888888888888888, \"#fdca26\"], [1.0, \"#f0f921\"]]}, \"colorway\": [\"#636efa\", \"#EF553B\", \"#00cc96\", \"#ab63fa\", \"#FFA15A\", \"#19d3f3\", \"#FF6692\", \"#B6E880\", \"#FF97FF\", \"#FECB52\"], \"font\": {\"color\": \"#2a3f5f\"}, \"geo\": {\"bgcolor\": \"white\", \"lakecolor\": \"white\", \"landcolor\": \"#E5ECF6\", \"showlakes\": true, \"showland\": true, \"subunitcolor\": \"white\"}, \"hoverlabel\": {\"align\": \"left\"}, \"hovermode\": \"closest\", \"mapbox\": {\"style\": \"light\"}, \"paper_bgcolor\": \"white\", \"plot_bgcolor\": \"#E5ECF6\", \"polar\": {\"angularaxis\": {\"gridcolor\": \"white\", \"linecolor\": \"white\", \"ticks\": \"\"}, \"bgcolor\": \"#E5ECF6\", \"radialaxis\": {\"gridcolor\": \"white\", \"linecolor\": \"white\", \"ticks\": \"\"}}, \"scene\": {\"xaxis\": {\"backgroundcolor\": \"#E5ECF6\", \"gridcolor\": \"white\", \"gridwidth\": 2, \"linecolor\": \"white\", \"showbackground\": true, \"ticks\": \"\", \"zerolinecolor\": \"white\"}, \"yaxis\": {\"backgroundcolor\": \"#E5ECF6\", \"gridcolor\": \"white\", \"gridwidth\": 2, \"linecolor\": \"white\", \"showbackground\": true, \"ticks\": \"\", \"zerolinecolor\": \"white\"}, \"zaxis\": {\"backgroundcolor\": \"#E5ECF6\", \"gridcolor\": \"white\", \"gridwidth\": 2, \"linecolor\": \"white\", \"showbackground\": true, \"ticks\": \"\", \"zerolinecolor\": \"white\"}}, \"shapedefaults\": {\"line\": {\"color\": \"#2a3f5f\"}}, \"ternary\": {\"aaxis\": {\"gridcolor\": \"white\", \"linecolor\": \"white\", \"ticks\": \"\"}, \"baxis\": {\"gridcolor\": \"white\", \"linecolor\": \"white\", \"ticks\": \"\"}, \"bgcolor\": \"#E5ECF6\", \"caxis\": {\"gridcolor\": \"white\", \"linecolor\": \"white\", \"ticks\": \"\"}}, \"title\": {\"x\": 0.05}, \"xaxis\": {\"automargin\": true, \"gridcolor\": \"white\", \"linecolor\": \"white\", \"ticks\": \"\", \"title\": {\"standoff\": 15}, \"zerolinecolor\": \"white\", \"zerolinewidth\": 2}, \"yaxis\": {\"automargin\": true, \"gridcolor\": \"white\", \"linecolor\": \"white\", \"ticks\": \"\", \"title\": {\"standoff\": 15}, \"zerolinecolor\": \"white\", \"zerolinewidth\": 2}}}},\n",
       "                        {\"responsive\": true}\n",
       "                    )\n",
       "                };\n",
       "                \n",
       "            </script>\n",
       "        </div>\n",
       "</body>\n",
       "</html>"
      ],
      "text/plain": [
       "<IPython.core.display.HTML object>"
      ]
     },
     "execution_count": 15,
     "metadata": {},
     "output_type": "execute_result"
    }
   ],
   "source": [
    "#collapse\n",
    "plot_treemap(covid_global_percountry,'Confirmed')\n",
    "HTML(fig.to_html(include_plotlyjs='cdn'))"
   ]
  },
  {
   "cell_type": "markdown",
   "metadata": {},
   "source": [
    "## Death vs confirmed"
   ]
  },
  {
   "cell_type": "code",
   "execution_count": 16,
   "metadata": {
    "ExecuteTime": {
     "end_time": "2020-10-13T07:28:17.691849Z",
     "start_time": "2020-10-13T07:28:17.676847Z"
    },
    "code_folding": [
     0
    ]
   },
   "outputs": [],
   "source": [
    "#collapse\n",
    "def human_format(num):\n",
    "    magnitude = 0\n",
    "    while abs(num) >= 1000:\n",
    "        magnitude += 1\n",
    "        num /= 1000.0\n",
    "    # add more suffixes if you need them\n",
    "    return '%.2f%s' % (num, ['', 'K', 'M', 'G', 'T', 'P'][magnitude])"
   ]
  },
  {
   "cell_type": "code",
   "execution_count": 17,
   "metadata": {
    "ExecuteTime": {
     "end_time": "2020-10-13T07:28:17.892270Z",
     "start_time": "2020-10-13T07:28:17.693801Z"
    },
    "code_folding": []
   },
   "outputs": [
    {
     "data": {
      "text/html": [
       "<html>\n",
       "<head><meta charset=\"utf-8\" /></head>\n",
       "<body>\n",
       "    <div>\n",
       "        \n",
       "                <script type=\"text/javascript\">window.PlotlyConfig = {MathJaxConfig: 'local'};</script>\n",
       "        <script src=\"https://cdn.plot.ly/plotly-latest.min.js\"></script>    \n",
       "            <div id=\"446a65a5-4673-4372-83f0-14fdf231205f\" class=\"plotly-graph-div\" style=\"height:700px; width:100%;\"></div>\n",
       "            <script type=\"text/javascript\">\n",
       "                \n",
       "                    window.PLOTLYENV=window.PLOTLYENV || {};\n",
       "                    \n",
       "                if (document.getElementById(\"446a65a5-4673-4372-83f0-14fdf231205f\")) {\n",
       "                    Plotly.newPlot(\n",
       "                        '446a65a5-4673-4372-83f0-14fdf231205f',\n",
       "                        [{\"customdata\": [[\"US\", 7804199, 215085.0]], \"hovertemplate\": \"Country/Region=%{customdata[0]}<br>Confirmed=%{customdata[1]:,}<br>Deaths=%{customdata[2]:,}<extra></extra>\", \"legendgroup\": \"US\", \"marker\": {\"color\": \"#636efa\", \"size\": [7804199], \"sizemode\": \"area\", \"sizeref\": 19510.4975, \"symbol\": \"circle\"}, \"mode\": \"markers+text\", \"name\": \"US\", \"orientation\": \"v\", \"showlegend\": true, \"text\": [\"US\"], \"textposition\": \"top center\", \"type\": \"scatter\", \"x\": [7804199], \"xaxis\": \"x\", \"y\": [215085.0], \"yaxis\": \"y\"}, {\"customdata\": [[\"Brazil\", 5103408, 150689.0]], \"hovertemplate\": \"Country/Region=%{customdata[0]}<br>Confirmed=%{customdata[1]:,}<br>Deaths=%{customdata[2]:,}<extra></extra>\", \"legendgroup\": \"Brazil\", \"marker\": {\"color\": \"#EF553B\", \"size\": [5103408], \"sizemode\": \"area\", \"sizeref\": 19510.4975, \"symbol\": \"circle\"}, \"mode\": \"markers+text\", \"name\": \"Brazil\", \"orientation\": \"v\", \"showlegend\": true, \"text\": [\"Brazil\"], \"textposition\": \"top center\", \"type\": \"scatter\", \"x\": [5103408], \"xaxis\": \"x\", \"y\": [150689.0], \"yaxis\": \"y\"}, {\"customdata\": [[\"India\", 7175880, 109856.0]], \"hovertemplate\": \"Country/Region=%{customdata[0]}<br>Confirmed=%{customdata[1]:,}<br>Deaths=%{customdata[2]:,}<extra></extra>\", \"legendgroup\": \"India\", \"marker\": {\"color\": \"#00cc96\", \"size\": [7175880], \"sizemode\": \"area\", \"sizeref\": 19510.4975, \"symbol\": \"circle\"}, \"mode\": \"markers+text\", \"name\": \"India\", \"orientation\": \"v\", \"showlegend\": true, \"text\": [\"India\"], \"textposition\": \"top center\", \"type\": \"scatter\", \"x\": [7175880], \"xaxis\": \"x\", \"y\": [109856.0], \"yaxis\": \"y\"}, {\"customdata\": [[\"Mexico\", 821045, 83945.0]], \"hovertemplate\": \"Country/Region=%{customdata[0]}<br>Confirmed=%{customdata[1]:,}<br>Deaths=%{customdata[2]:,}<extra></extra>\", \"legendgroup\": \"Mexico\", \"marker\": {\"color\": \"#ab63fa\", \"size\": [821045], \"sizemode\": \"area\", \"sizeref\": 19510.4975, \"symbol\": \"circle\"}, \"mode\": \"markers+text\", \"name\": \"Mexico\", \"orientation\": \"v\", \"showlegend\": true, \"text\": [\"Mexico\"], \"textposition\": \"top center\", \"type\": \"scatter\", \"x\": [821045], \"xaxis\": \"x\", \"y\": [83945.0], \"yaxis\": \"y\"}, {\"customdata\": [[\"United Kingdom\", 620458, 42964.0]], \"hovertemplate\": \"Country/Region=%{customdata[0]}<br>Confirmed=%{customdata[1]:,}<br>Deaths=%{customdata[2]:,}<extra></extra>\", \"legendgroup\": \"United Kingdom\", \"marker\": {\"color\": \"#FFA15A\", \"size\": [620458], \"sizemode\": \"area\", \"sizeref\": 19510.4975, \"symbol\": \"circle\"}, \"mode\": \"markers+text\", \"name\": \"United Kingdom\", \"orientation\": \"v\", \"showlegend\": true, \"text\": [\"United Kingdom\"], \"textposition\": \"top center\", \"type\": \"scatter\", \"x\": [620458], \"xaxis\": \"x\", \"y\": [42964.0], \"yaxis\": \"y\"}, {\"customdata\": [[\"Italy\", 359569, 36205.0]], \"hovertemplate\": \"Country/Region=%{customdata[0]}<br>Confirmed=%{customdata[1]:,}<br>Deaths=%{customdata[2]:,}<extra></extra>\", \"legendgroup\": \"Italy\", \"marker\": {\"color\": \"#19d3f3\", \"size\": [359569], \"sizemode\": \"area\", \"sizeref\": 19510.4975, \"symbol\": \"circle\"}, \"mode\": \"markers+text\", \"name\": \"Italy\", \"orientation\": \"v\", \"showlegend\": true, \"text\": [\"Italy\"], \"textposition\": \"top center\", \"type\": \"scatter\", \"x\": [359569], \"xaxis\": \"x\", \"y\": [36205.0], \"yaxis\": \"y\"}, {\"customdata\": [[\"Peru\", 851171, 33357.0]], \"hovertemplate\": \"Country/Region=%{customdata[0]}<br>Confirmed=%{customdata[1]:,}<br>Deaths=%{customdata[2]:,}<extra></extra>\", \"legendgroup\": \"Peru\", \"marker\": {\"color\": \"#FF6692\", \"size\": [851171], \"sizemode\": \"area\", \"sizeref\": 19510.4975, \"symbol\": \"circle\"}, \"mode\": \"markers+text\", \"name\": \"Peru\", \"orientation\": \"v\", \"showlegend\": true, \"text\": [\"Peru\"], \"textposition\": \"top center\", \"type\": \"scatter\", \"x\": [851171], \"xaxis\": \"x\", \"y\": [33357.0], \"yaxis\": \"y\"}, {\"customdata\": [[\"France\", 776097, 32703.0]], \"hovertemplate\": \"Country/Region=%{customdata[0]}<br>Confirmed=%{customdata[1]:,}<br>Deaths=%{customdata[2]:,}<extra></extra>\", \"legendgroup\": \"France\", \"marker\": {\"color\": \"#B6E880\", \"size\": [776097], \"sizemode\": \"area\", \"sizeref\": 19510.4975, \"symbol\": \"circle\"}, \"mode\": \"markers+text\", \"name\": \"France\", \"orientation\": \"v\", \"showlegend\": true, \"text\": [\"France\"], \"textposition\": \"top center\", \"type\": \"scatter\", \"x\": [776097], \"xaxis\": \"x\", \"y\": [32703.0], \"yaxis\": \"y\"}, {\"customdata\": [[\"Iran\", 504281, 28816.0]], \"hovertemplate\": \"Country/Region=%{customdata[0]}<br>Confirmed=%{customdata[1]:,}<br>Deaths=%{customdata[2]:,}<extra></extra>\", \"legendgroup\": \"Iran\", \"marker\": {\"color\": \"#FF97FF\", \"size\": [504281], \"sizemode\": \"area\", \"sizeref\": 19510.4975, \"symbol\": \"circle\"}, \"mode\": \"markers+text\", \"name\": \"Iran\", \"orientation\": \"v\", \"showlegend\": true, \"text\": [\"Iran\"], \"textposition\": \"top center\", \"type\": \"scatter\", \"x\": [504281], \"xaxis\": \"x\", \"y\": [28816.0], \"yaxis\": \"y\"}, {\"customdata\": [[\"Colombia\", 919084, 27985.0]], \"hovertemplate\": \"Country/Region=%{customdata[0]}<br>Confirmed=%{customdata[1]:,}<br>Deaths=%{customdata[2]:,}<extra></extra>\", \"legendgroup\": \"Colombia\", \"marker\": {\"color\": \"#FECB52\", \"size\": [919084], \"sizemode\": \"area\", \"sizeref\": 19510.4975, \"symbol\": \"circle\"}, \"mode\": \"markers+text\", \"name\": \"Colombia\", \"orientation\": \"v\", \"showlegend\": true, \"text\": [\"Colombia\"], \"textposition\": \"top center\", \"type\": \"scatter\", \"x\": [919084], \"xaxis\": \"x\", \"y\": [27985.0], \"yaxis\": \"y\"}, {\"customdata\": [[\"Argentina\", 903730, 24186.0]], \"hovertemplate\": \"Country/Region=%{customdata[0]}<br>Confirmed=%{customdata[1]:,}<br>Deaths=%{customdata[2]:,}<extra></extra>\", \"legendgroup\": \"Argentina\", \"marker\": {\"color\": \"#636efa\", \"size\": [903730], \"sizemode\": \"area\", \"sizeref\": 19510.4975, \"symbol\": \"circle\"}, \"mode\": \"markers+text\", \"name\": \"Argentina\", \"orientation\": \"v\", \"showlegend\": true, \"text\": [\"Argentina\"], \"textposition\": \"top center\", \"type\": \"scatter\", \"x\": [903730], \"xaxis\": \"x\", \"y\": [24186.0], \"yaxis\": \"y\"}, {\"customdata\": [[\"South Africa\", 693359, 17863.0]], \"hovertemplate\": \"Country/Region=%{customdata[0]}<br>Confirmed=%{customdata[1]:,}<br>Deaths=%{customdata[2]:,}<extra></extra>\", \"legendgroup\": \"South Africa\", \"marker\": {\"color\": \"#EF553B\", \"size\": [693359], \"sizemode\": \"area\", \"sizeref\": 19510.4975, \"symbol\": \"circle\"}, \"mode\": \"markers+text\", \"name\": \"South Africa\", \"orientation\": \"v\", \"showlegend\": true, \"text\": [\"South Africa\"], \"textposition\": \"top center\", \"type\": \"scatter\", \"x\": [693359], \"xaxis\": \"x\", \"y\": [17863.0], \"yaxis\": \"y\"}, {\"customdata\": [[\"Chile\", 482832, 13376.0]], \"hovertemplate\": \"Country/Region=%{customdata[0]}<br>Confirmed=%{customdata[1]:,}<br>Deaths=%{customdata[2]:,}<extra></extra>\", \"legendgroup\": \"Chile\", \"marker\": {\"color\": \"#00cc96\", \"size\": [482832], \"sizemode\": \"area\", \"sizeref\": 19510.4975, \"symbol\": \"circle\"}, \"mode\": \"markers+text\", \"name\": \"Chile\", \"orientation\": \"v\", \"showlegend\": true, \"text\": [\"Chile\"], \"textposition\": \"top center\", \"type\": \"scatter\", \"x\": [482832], \"xaxis\": \"x\", \"y\": [13376.0], \"yaxis\": \"y\"}, {\"customdata\": [[\"Ecuador\", 147315, 12218.0]], \"hovertemplate\": \"Country/Region=%{customdata[0]}<br>Confirmed=%{customdata[1]:,}<br>Deaths=%{customdata[2]:,}<extra></extra>\", \"legendgroup\": \"Ecuador\", \"marker\": {\"color\": \"#ab63fa\", \"size\": [147315], \"sizemode\": \"area\", \"sizeref\": 19510.4975, \"symbol\": \"circle\"}, \"mode\": \"markers+text\", \"name\": \"Ecuador\", \"orientation\": \"v\", \"showlegend\": true, \"text\": [\"Ecuador\"], \"textposition\": \"top center\", \"type\": \"scatter\", \"x\": [147315], \"xaxis\": \"x\", \"y\": [12218.0], \"yaxis\": \"y\"}, {\"customdata\": [[\"Indonesia\", 336716, 11935.0]], \"hovertemplate\": \"Country/Region=%{customdata[0]}<br>Confirmed=%{customdata[1]:,}<br>Deaths=%{customdata[2]:,}<extra></extra>\", \"legendgroup\": \"Indonesia\", \"marker\": {\"color\": \"#FFA15A\", \"size\": [336716], \"sizemode\": \"area\", \"sizeref\": 19510.4975, \"symbol\": \"circle\"}, \"mode\": \"markers+text\", \"name\": \"Indonesia\", \"orientation\": \"v\", \"showlegend\": true, \"text\": [\"Indonesia\"], \"textposition\": \"top center\", \"type\": \"scatter\", \"x\": [336716], \"xaxis\": \"x\", \"y\": [11935.0], \"yaxis\": \"y\"}, {\"customdata\": [[\"Belgium\", 165880, 10211.0]], \"hovertemplate\": \"Country/Region=%{customdata[0]}<br>Confirmed=%{customdata[1]:,}<br>Deaths=%{customdata[2]:,}<extra></extra>\", \"legendgroup\": \"Belgium\", \"marker\": {\"color\": \"#19d3f3\", \"size\": [165880], \"sizemode\": \"area\", \"sizeref\": 19510.4975, \"symbol\": \"circle\"}, \"mode\": \"markers+text\", \"name\": \"Belgium\", \"orientation\": \"v\", \"showlegend\": true, \"text\": [\"Belgium\"], \"textposition\": \"top center\", \"type\": \"scatter\", \"x\": [165880], \"xaxis\": \"x\", \"y\": [10211.0], \"yaxis\": \"y\"}, {\"customdata\": [[\"Iraq\", 405437, 9912.0]], \"hovertemplate\": \"Country/Region=%{customdata[0]}<br>Confirmed=%{customdata[1]:,}<br>Deaths=%{customdata[2]:,}<extra></extra>\", \"legendgroup\": \"Iraq\", \"marker\": {\"color\": \"#FF6692\", \"size\": [405437], \"sizemode\": \"area\", \"sizeref\": 19510.4975, \"symbol\": \"circle\"}, \"mode\": \"markers+text\", \"name\": \"Iraq\", \"orientation\": \"v\", \"showlegend\": true, \"text\": [\"Iraq\"], \"textposition\": \"top center\", \"type\": \"scatter\", \"x\": [405437], \"xaxis\": \"x\", \"y\": [9912.0], \"yaxis\": \"y\"}, {\"customdata\": [[\"Canada\", 185378, 9615.0]], \"hovertemplate\": \"Country/Region=%{customdata[0]}<br>Confirmed=%{customdata[1]:,}<br>Deaths=%{customdata[2]:,}<extra></extra>\", \"legendgroup\": \"Canada\", \"marker\": {\"color\": \"#B6E880\", \"size\": [185378], \"sizemode\": \"area\", \"sizeref\": 19510.4975, \"symbol\": \"circle\"}, \"mode\": \"markers+text\", \"name\": \"Canada\", \"orientation\": \"v\", \"showlegend\": true, \"text\": [\"Canada\"], \"textposition\": \"top center\", \"type\": \"scatter\", \"x\": [185378], \"xaxis\": \"x\", \"y\": [9615.0], \"yaxis\": \"y\"}, {\"customdata\": [[\"Turkey\", 337147, 8895.0]], \"hovertemplate\": \"Country/Region=%{customdata[0]}<br>Confirmed=%{customdata[1]:,}<br>Deaths=%{customdata[2]:,}<extra></extra>\", \"legendgroup\": \"Turkey\", \"marker\": {\"color\": \"#FF97FF\", \"size\": [337147], \"sizemode\": \"area\", \"sizeref\": 19510.4975, \"symbol\": \"circle\"}, \"mode\": \"markers+text\", \"name\": \"Turkey\", \"orientation\": \"v\", \"showlegend\": true, \"text\": [\"Turkey\"], \"textposition\": \"top center\", \"type\": \"scatter\", \"x\": [337147], \"xaxis\": \"x\", \"y\": [8895.0], \"yaxis\": \"y\"}, {\"customdata\": [[\"Bolivia\", 138695, 8326.0]], \"hovertemplate\": \"Country/Region=%{customdata[0]}<br>Confirmed=%{customdata[1]:,}<br>Deaths=%{customdata[2]:,}<extra></extra>\", \"legendgroup\": \"Bolivia\", \"marker\": {\"color\": \"#FECB52\", \"size\": [138695], \"sizemode\": \"area\", \"sizeref\": 19510.4975, \"symbol\": \"circle\"}, \"mode\": \"markers+text\", \"name\": \"Bolivia\", \"orientation\": \"v\", \"showlegend\": true, \"text\": [\"Bolivia\"], \"textposition\": \"top center\", \"type\": \"scatter\", \"x\": [138695], \"xaxis\": \"x\", \"y\": [8326.0], \"yaxis\": \"y\"}, {\"customdata\": [[\"Netherlands\", 187138, 6654.0]], \"hovertemplate\": \"Country/Region=%{customdata[0]}<br>Confirmed=%{customdata[1]:,}<br>Deaths=%{customdata[2]:,}<extra></extra>\", \"legendgroup\": \"Netherlands\", \"marker\": {\"color\": \"#636efa\", \"size\": [187138], \"sizemode\": \"area\", \"sizeref\": 19510.4975, \"symbol\": \"circle\"}, \"mode\": \"markers+text\", \"name\": \"Netherlands\", \"orientation\": \"v\", \"showlegend\": true, \"text\": [\"Netherlands\"], \"textposition\": \"top center\", \"type\": \"scatter\", \"x\": [187138], \"xaxis\": \"x\", \"y\": [6654.0], \"yaxis\": \"y\"}, {\"customdata\": [[\"Pakistan\", 319848, 6588.0]], \"hovertemplate\": \"Country/Region=%{customdata[0]}<br>Confirmed=%{customdata[1]:,}<br>Deaths=%{customdata[2]:,}<extra></extra>\", \"legendgroup\": \"Pakistan\", \"marker\": {\"color\": \"#EF553B\", \"size\": [319848], \"sizemode\": \"area\", \"sizeref\": 19510.4975, \"symbol\": \"circle\"}, \"mode\": \"markers+text\", \"name\": \"Pakistan\", \"orientation\": \"v\", \"showlegend\": true, \"text\": [\"Pakistan\"], \"textposition\": \"top center\", \"type\": \"scatter\", \"x\": [319848], \"xaxis\": \"x\", \"y\": [6588.0], \"yaxis\": \"y\"}, {\"customdata\": [[\"Sweden\", 98451, 5894.0]], \"hovertemplate\": \"Country/Region=%{customdata[0]}<br>Confirmed=%{customdata[1]:,}<br>Deaths=%{customdata[2]:,}<extra></extra>\", \"legendgroup\": \"Sweden\", \"marker\": {\"color\": \"#00cc96\", \"size\": [98451], \"sizemode\": \"area\", \"sizeref\": 19510.4975, \"symbol\": \"circle\"}, \"mode\": \"markers+text\", \"name\": \"Sweden\", \"orientation\": \"v\", \"showlegend\": true, \"text\": [\"Sweden\"], \"textposition\": \"top center\", \"type\": \"scatter\", \"x\": [98451], \"xaxis\": \"x\", \"y\": [5894.0], \"yaxis\": \"y\"}, {\"customdata\": [[\"Bangladesh\", 379738, 5555.0]], \"hovertemplate\": \"Country/Region=%{customdata[0]}<br>Confirmed=%{customdata[1]:,}<br>Deaths=%{customdata[2]:,}<extra></extra>\", \"legendgroup\": \"Bangladesh\", \"marker\": {\"color\": \"#ab63fa\", \"size\": [379738], \"sizemode\": \"area\", \"sizeref\": 19510.4975, \"symbol\": \"circle\"}, \"mode\": \"markers+text\", \"name\": \"Bangladesh\", \"orientation\": \"v\", \"showlegend\": true, \"text\": [\"Bangladesh\"], \"textposition\": \"top center\", \"type\": \"scatter\", \"x\": [379738], \"xaxis\": \"x\", \"y\": [5555.0], \"yaxis\": \"y\"}, {\"customdata\": [[\"Romania\", 157352, 5467.0]], \"hovertemplate\": \"Country/Region=%{customdata[0]}<br>Confirmed=%{customdata[1]:,}<br>Deaths=%{customdata[2]:,}<extra></extra>\", \"legendgroup\": \"Romania\", \"marker\": {\"color\": \"#FFA15A\", \"size\": [157352], \"sizemode\": \"area\", \"sizeref\": 19510.4975, \"symbol\": \"circle\"}, \"mode\": \"markers+text\", \"name\": \"Romania\", \"orientation\": \"v\", \"showlegend\": true, \"text\": [\"Romania\"], \"textposition\": \"top center\", \"type\": \"scatter\", \"x\": [157352], \"xaxis\": \"x\", \"y\": [5467.0], \"yaxis\": \"y\"}, {\"customdata\": [[\"Ukraine\", 272671, 5143.0]], \"hovertemplate\": \"Country/Region=%{customdata[0]}<br>Confirmed=%{customdata[1]:,}<br>Deaths=%{customdata[2]:,}<extra></extra>\", \"legendgroup\": \"Ukraine\", \"marker\": {\"color\": \"#19d3f3\", \"size\": [272671], \"sizemode\": \"area\", \"sizeref\": 19510.4975, \"symbol\": \"circle\"}, \"mode\": \"markers+text\", \"name\": \"Ukraine\", \"orientation\": \"v\", \"showlegend\": true, \"text\": [\"Ukraine\"], \"textposition\": \"top center\", \"type\": \"scatter\", \"x\": [272671], \"xaxis\": \"x\", \"y\": [5143.0], \"yaxis\": \"y\"}, {\"customdata\": [[\"Saudi Arabia\", 339615, 5068.0]], \"hovertemplate\": \"Country/Region=%{customdata[0]}<br>Confirmed=%{customdata[1]:,}<br>Deaths=%{customdata[2]:,}<extra></extra>\", \"legendgroup\": \"Saudi Arabia\", \"marker\": {\"color\": \"#FF6692\", \"size\": [339615], \"sizemode\": \"area\", \"sizeref\": 19510.4975, \"symbol\": \"circle\"}, \"mode\": \"markers+text\", \"name\": \"Saudi Arabia\", \"orientation\": \"v\", \"showlegend\": true, \"text\": [\"Saudi Arabia\"], \"textposition\": \"top center\", \"type\": \"scatter\", \"x\": [339615], \"xaxis\": \"x\", \"y\": [5068.0], \"yaxis\": \"y\"}, {\"customdata\": [[\"China\", 90830, 4717.0]], \"hovertemplate\": \"Country/Region=%{customdata[0]}<br>Confirmed=%{customdata[1]:,}<br>Deaths=%{customdata[2]:,}<extra></extra>\", \"legendgroup\": \"China\", \"marker\": {\"color\": \"#B6E880\", \"size\": [90830], \"sizemode\": \"area\", \"sizeref\": 19510.4975, \"symbol\": \"circle\"}, \"mode\": \"markers+text\", \"name\": \"China\", \"orientation\": \"v\", \"showlegend\": true, \"text\": [\"China\"], \"textposition\": \"top center\", \"type\": \"scatter\", \"x\": [90830], \"xaxis\": \"x\", \"y\": [4717.0], \"yaxis\": \"y\"}, {\"customdata\": [[\"Guatemala\", 97826, 3387.0]], \"hovertemplate\": \"Country/Region=%{customdata[0]}<br>Confirmed=%{customdata[1]:,}<br>Deaths=%{customdata[2]:,}<extra></extra>\", \"legendgroup\": \"Guatemala\", \"marker\": {\"color\": \"#FF97FF\", \"size\": [97826], \"sizemode\": \"area\", \"sizeref\": 19510.4975, \"symbol\": \"circle\"}, \"mode\": \"markers+text\", \"name\": \"Guatemala\", \"orientation\": \"v\", \"showlegend\": true, \"text\": [\"Guatemala\"], \"textposition\": \"top center\", \"type\": \"scatter\", \"x\": [97826], \"xaxis\": \"x\", \"y\": [3387.0], \"yaxis\": \"y\"}, {\"customdata\": [[\"Poland\", 130210, 3039.0]], \"hovertemplate\": \"Country/Region=%{customdata[0]}<br>Confirmed=%{customdata[1]:,}<br>Deaths=%{customdata[2]:,}<extra></extra>\", \"legendgroup\": \"Poland\", \"marker\": {\"color\": \"#FECB52\", \"size\": [130210], \"sizemode\": \"area\", \"sizeref\": 19510.4975, \"symbol\": \"circle\"}, \"mode\": \"markers+text\", \"name\": \"Poland\", \"orientation\": \"v\", \"showlegend\": true, \"text\": [\"Poland\"], \"textposition\": \"top center\", \"type\": \"scatter\", \"x\": [130210], \"xaxis\": \"x\", \"y\": [3039.0], \"yaxis\": \"y\"}, {\"customdata\": [[\"Morocco\", 153761, 2636.0]], \"hovertemplate\": \"Country/Region=%{customdata[0]}<br>Confirmed=%{customdata[1]:,}<br>Deaths=%{customdata[2]:,}<extra></extra>\", \"legendgroup\": \"Morocco\", \"marker\": {\"color\": \"#636efa\", \"size\": [153761], \"sizemode\": \"area\", \"sizeref\": 19510.4975, \"symbol\": \"circle\"}, \"mode\": \"markers+text\", \"name\": \"Morocco\", \"orientation\": \"v\", \"showlegend\": true, \"text\": [\"Morocco\"], \"textposition\": \"top center\", \"type\": \"scatter\", \"x\": [153761], \"xaxis\": \"x\", \"y\": [2636.0], \"yaxis\": \"y\"}, {\"customdata\": [[\"Honduras\", 84413, 2521.0]], \"hovertemplate\": \"Country/Region=%{customdata[0]}<br>Confirmed=%{customdata[1]:,}<br>Deaths=%{customdata[2]:,}<extra></extra>\", \"legendgroup\": \"Honduras\", \"marker\": {\"color\": \"#EF553B\", \"size\": [84413], \"sizemode\": \"area\", \"sizeref\": 19510.4975, \"symbol\": \"circle\"}, \"mode\": \"markers+text\", \"name\": \"Honduras\", \"orientation\": \"v\", \"showlegend\": true, \"text\": [\"Honduras\"], \"textposition\": \"top center\", \"type\": \"scatter\", \"x\": [84413], \"xaxis\": \"x\", \"y\": [2521.0], \"yaxis\": \"y\"}, {\"customdata\": [[\"Panama\", 120802, 2502.0]], \"hovertemplate\": \"Country/Region=%{customdata[0]}<br>Confirmed=%{customdata[1]:,}<br>Deaths=%{customdata[2]:,}<extra></extra>\", \"legendgroup\": \"Panama\", \"marker\": {\"color\": \"#00cc96\", \"size\": [120802], \"sizemode\": \"area\", \"sizeref\": 19510.4975, \"symbol\": \"circle\"}, \"mode\": \"markers+text\", \"name\": \"Panama\", \"orientation\": \"v\", \"showlegend\": true, \"text\": [\"Panama\"], \"textposition\": \"top center\", \"type\": \"scatter\", \"x\": [120802], \"xaxis\": \"x\", \"y\": [2502.0], \"yaxis\": \"y\"}, {\"customdata\": [[\"Dominican Republic\", 118843, 2179.0]], \"hovertemplate\": \"Country/Region=%{customdata[0]}<br>Confirmed=%{customdata[1]:,}<br>Deaths=%{customdata[2]:,}<extra></extra>\", \"legendgroup\": \"Dominican Republic\", \"marker\": {\"color\": \"#ab63fa\", \"size\": [118843], \"sizemode\": \"area\", \"sizeref\": 19510.4975, \"symbol\": \"circle\"}, \"mode\": \"markers+text\", \"name\": \"Dominican Republic\", \"orientation\": \"v\", \"showlegend\": true, \"text\": [\"Dominican Republic\"], \"textposition\": \"top center\", \"type\": \"scatter\", \"x\": [118843], \"xaxis\": \"x\", \"y\": [2179.0], \"yaxis\": \"y\"}, {\"customdata\": [[\"Switzerland\", 64436, 2096.0]], \"hovertemplate\": \"Country/Region=%{customdata[0]}<br>Confirmed=%{customdata[1]:,}<br>Deaths=%{customdata[2]:,}<extra></extra>\", \"legendgroup\": \"Switzerland\", \"marker\": {\"color\": \"#FFA15A\", \"size\": [64436], \"sizemode\": \"area\", \"sizeref\": 19510.4975, \"symbol\": \"circle\"}, \"mode\": \"markers+text\", \"name\": \"Switzerland\", \"orientation\": \"v\", \"showlegend\": true, \"text\": [\"Switzerland\"], \"textposition\": \"top center\", \"type\": \"scatter\", \"x\": [64436], \"xaxis\": \"x\", \"y\": [2096.0], \"yaxis\": \"y\"}, {\"customdata\": [[\"Portugal\", 87913, 2094.0]], \"hovertemplate\": \"Country/Region=%{customdata[0]}<br>Confirmed=%{customdata[1]:,}<br>Deaths=%{customdata[2]:,}<extra></extra>\", \"legendgroup\": \"Portugal\", \"marker\": {\"color\": \"#19d3f3\", \"size\": [87913], \"sizemode\": \"area\", \"sizeref\": 19510.4975, \"symbol\": \"circle\"}, \"mode\": \"markers+text\", \"name\": \"Portugal\", \"orientation\": \"v\", \"showlegend\": true, \"text\": [\"Portugal\"], \"textposition\": \"top center\", \"type\": \"scatter\", \"x\": [87913], \"xaxis\": \"x\", \"y\": [2094.0], \"yaxis\": \"y\"}, {\"customdata\": [[\"Ireland\", 43351, 1827.0]], \"hovertemplate\": \"Country/Region=%{customdata[0]}<br>Confirmed=%{customdata[1]:,}<br>Deaths=%{customdata[2]:,}<extra></extra>\", \"legendgroup\": \"Ireland\", \"marker\": {\"color\": \"#FF6692\", \"size\": [43351], \"sizemode\": \"area\", \"sizeref\": 19510.4975, \"symbol\": \"circle\"}, \"mode\": \"markers+text\", \"name\": \"Ireland\", \"orientation\": \"v\", \"showlegend\": true, \"text\": [\"Ireland\"], \"textposition\": \"top center\", \"type\": \"scatter\", \"x\": [43351], \"xaxis\": \"x\", \"y\": [1827.0], \"yaxis\": \"y\"}, {\"customdata\": [[\"Algeria\", 53325, 1809.0]], \"hovertemplate\": \"Country/Region=%{customdata[0]}<br>Confirmed=%{customdata[1]:,}<br>Deaths=%{customdata[2]:,}<extra></extra>\", \"legendgroup\": \"Algeria\", \"marker\": {\"color\": \"#B6E880\", \"size\": [53325], \"sizemode\": \"area\", \"sizeref\": 19510.4975, \"symbol\": \"circle\"}, \"mode\": \"markers+text\", \"name\": \"Algeria\", \"orientation\": \"v\", \"showlegend\": true, \"text\": [\"Algeria\"], \"textposition\": \"top center\", \"type\": \"scatter\", \"x\": [53325], \"xaxis\": \"x\", \"y\": [1809.0], \"yaxis\": \"y\"}, {\"customdata\": [[\"Kazakhstan\", 108901, 1746.0]], \"hovertemplate\": \"Country/Region=%{customdata[0]}<br>Confirmed=%{customdata[1]:,}<br>Deaths=%{customdata[2]:,}<extra></extra>\", \"legendgroup\": \"Kazakhstan\", \"marker\": {\"color\": \"#FF97FF\", \"size\": [108901], \"sizemode\": \"area\", \"sizeref\": 19510.4975, \"symbol\": \"circle\"}, \"mode\": \"markers+text\", \"name\": \"Kazakhstan\", \"orientation\": \"v\", \"showlegend\": true, \"text\": [\"Kazakhstan\"], \"textposition\": \"top center\", \"type\": \"scatter\", \"x\": [108901], \"xaxis\": \"x\", \"y\": [1746.0], \"yaxis\": \"y\"}, {\"customdata\": [[\"Japan\", 89652, 1631.0]], \"hovertemplate\": \"Country/Region=%{customdata[0]}<br>Confirmed=%{customdata[1]:,}<br>Deaths=%{customdata[2]:,}<extra></extra>\", \"legendgroup\": \"Japan\", \"marker\": {\"color\": \"#FECB52\", \"size\": [89652], \"sizemode\": \"area\", \"sizeref\": 19510.4975, \"symbol\": \"circle\"}, \"mode\": \"markers+text\", \"name\": \"Japan\", \"orientation\": \"v\", \"showlegend\": true, \"text\": [\"Japan\"], \"textposition\": \"top center\", \"type\": \"scatter\", \"x\": [89652], \"xaxis\": \"x\", \"y\": [1631.0], \"yaxis\": \"y\"}, {\"customdata\": [[\"Afghanistan\", 39870, 1479.0]], \"hovertemplate\": \"Country/Region=%{customdata[0]}<br>Confirmed=%{customdata[1]:,}<br>Deaths=%{customdata[2]:,}<extra></extra>\", \"legendgroup\": \"Afghanistan\", \"marker\": {\"color\": \"#636efa\", \"size\": [39870], \"sizemode\": \"area\", \"sizeref\": 19510.4975, \"symbol\": \"circle\"}, \"mode\": \"markers+text\", \"name\": \"Afghanistan\", \"orientation\": \"v\", \"showlegend\": true, \"text\": [\"Afghanistan\"], \"textposition\": \"top center\", \"type\": \"scatter\", \"x\": [39870], \"xaxis\": \"x\", \"y\": [1479.0], \"yaxis\": \"y\"}, {\"customdata\": [[\"Moldova\", 62618, 1478.0]], \"hovertemplate\": \"Country/Region=%{customdata[0]}<br>Confirmed=%{customdata[1]:,}<br>Deaths=%{customdata[2]:,}<extra></extra>\", \"legendgroup\": \"Moldova\", \"marker\": {\"color\": \"#EF553B\", \"size\": [62618], \"sizemode\": \"area\", \"sizeref\": 19510.4975, \"symbol\": \"circle\"}, \"mode\": \"markers+text\", \"name\": \"Moldova\", \"orientation\": \"v\", \"showlegend\": true, \"text\": [\"Moldova\"], \"textposition\": \"top center\", \"type\": \"scatter\", \"x\": [62618], \"xaxis\": \"x\", \"y\": [1478.0], \"yaxis\": \"y\"}, {\"customdata\": [[\"Ethiopia\", 85136, 1301.0]], \"hovertemplate\": \"Country/Region=%{customdata[0]}<br>Confirmed=%{customdata[1]:,}<br>Deaths=%{customdata[2]:,}<extra></extra>\", \"legendgroup\": \"Ethiopia\", \"marker\": {\"color\": \"#00cc96\", \"size\": [85136], \"sizemode\": \"area\", \"sizeref\": 19510.4975, \"symbol\": \"circle\"}, \"mode\": \"markers+text\", \"name\": \"Ethiopia\", \"orientation\": \"v\", \"showlegend\": true, \"text\": [\"Ethiopia\"], \"textposition\": \"top center\", \"type\": \"scatter\", \"x\": [85136], \"xaxis\": \"x\", \"y\": [1301.0], \"yaxis\": \"y\"}, {\"customdata\": [[\"Nigeria\", 60430, 1115.0]], \"hovertemplate\": \"Country/Region=%{customdata[0]}<br>Confirmed=%{customdata[1]:,}<br>Deaths=%{customdata[2]:,}<extra></extra>\", \"legendgroup\": \"Nigeria\", \"marker\": {\"color\": \"#ab63fa\", \"size\": [60430], \"sizemode\": \"area\", \"sizeref\": 19510.4975, \"symbol\": \"circle\"}, \"mode\": \"markers+text\", \"name\": \"Nigeria\", \"orientation\": \"v\", \"showlegend\": true, \"text\": [\"Nigeria\"], \"textposition\": \"top center\", \"type\": \"scatter\", \"x\": [60430], \"xaxis\": \"x\", \"y\": [1115.0], \"yaxis\": \"y\"}, {\"customdata\": [[\"Costa Rica\", 89223, 1108.0]], \"hovertemplate\": \"Country/Region=%{customdata[0]}<br>Confirmed=%{customdata[1]:,}<br>Deaths=%{customdata[2]:,}<extra></extra>\", \"legendgroup\": \"Costa Rica\", \"marker\": {\"color\": \"#FFA15A\", \"size\": [89223], \"sizemode\": \"area\", \"sizeref\": 19510.4975, \"symbol\": \"circle\"}, \"mode\": \"markers+text\", \"name\": \"Costa Rica\", \"orientation\": \"v\", \"showlegend\": true, \"text\": [\"Costa Rica\"], \"textposition\": \"top center\", \"type\": \"scatter\", \"x\": [89223], \"xaxis\": \"x\", \"y\": [1108.0], \"yaxis\": \"y\"}, {\"customdata\": [[\"Paraguay\", 50344, 1096.0]], \"hovertemplate\": \"Country/Region=%{customdata[0]}<br>Confirmed=%{customdata[1]:,}<br>Deaths=%{customdata[2]:,}<extra></extra>\", \"legendgroup\": \"Paraguay\", \"marker\": {\"color\": \"#19d3f3\", \"size\": [50344], \"sizemode\": \"area\", \"sizeref\": 19510.4975, \"symbol\": \"circle\"}, \"mode\": \"markers+text\", \"name\": \"Paraguay\", \"orientation\": \"v\", \"showlegend\": true, \"text\": [\"Paraguay\"], \"textposition\": \"top center\", \"type\": \"scatter\", \"x\": [50344], \"xaxis\": \"x\", \"y\": [1096.0], \"yaxis\": \"y\"}, {\"customdata\": [[\"Kyrgyzstan\", 49528, 1090.0]], \"hovertemplate\": \"Country/Region=%{customdata[0]}<br>Confirmed=%{customdata[1]:,}<br>Deaths=%{customdata[2]:,}<extra></extra>\", \"legendgroup\": \"Kyrgyzstan\", \"marker\": {\"color\": \"#FF6692\", \"size\": [49528], \"sizemode\": \"area\", \"sizeref\": 19510.4975, \"symbol\": \"circle\"}, \"mode\": \"markers+text\", \"name\": \"Kyrgyzstan\", \"orientation\": \"v\", \"showlegend\": true, \"text\": [\"Kyrgyzstan\"], \"textposition\": \"top center\", \"type\": \"scatter\", \"x\": [49528], \"xaxis\": \"x\", \"y\": [1090.0], \"yaxis\": \"y\"}, {\"customdata\": [[\"Oman\", 106575, 1046.0]], \"hovertemplate\": \"Country/Region=%{customdata[0]}<br>Confirmed=%{customdata[1]:,}<br>Deaths=%{customdata[2]:,}<extra></extra>\", \"legendgroup\": \"Oman\", \"marker\": {\"color\": \"#B6E880\", \"size\": [106575], \"sizemode\": \"area\", \"sizeref\": 19510.4975, \"symbol\": \"circle\"}, \"mode\": \"markers+text\", \"name\": \"Oman\", \"orientation\": \"v\", \"showlegend\": true, \"text\": [\"Oman\"], \"textposition\": \"top center\", \"type\": \"scatter\", \"x\": [106575], \"xaxis\": \"x\", \"y\": [1046.0], \"yaxis\": \"y\"}, {\"customdata\": [[\"Armenia\", 56821, 1026.0]], \"hovertemplate\": \"Country/Region=%{customdata[0]}<br>Confirmed=%{customdata[1]:,}<br>Deaths=%{customdata[2]:,}<extra></extra>\", \"legendgroup\": \"Armenia\", \"marker\": {\"color\": \"#FF97FF\", \"size\": [56821], \"sizemode\": \"area\", \"sizeref\": 19510.4975, \"symbol\": \"circle\"}, \"mode\": \"markers+text\", \"name\": \"Armenia\", \"orientation\": \"v\", \"showlegend\": true, \"text\": [\"Armenia\"], \"textposition\": \"top center\", \"type\": \"scatter\", \"x\": [56821], \"xaxis\": \"x\", \"y\": [1026.0], \"yaxis\": \"y\"}, {\"customdata\": [[\"Hungary\", 38837, 968.0]], \"hovertemplate\": \"Country/Region=%{customdata[0]}<br>Confirmed=%{customdata[1]:,}<br>Deaths=%{customdata[2]:,}<extra></extra>\", \"legendgroup\": \"Hungary\", \"marker\": {\"color\": \"#FECB52\", \"size\": [38837], \"sizemode\": \"area\", \"sizeref\": 19510.4975, \"symbol\": \"circle\"}, \"mode\": \"markers+text\", \"name\": \"Hungary\", \"orientation\": \"v\", \"showlegend\": true, \"text\": [\"Hungary\"], \"textposition\": \"top center\", \"type\": \"scatter\", \"x\": [38837], \"xaxis\": \"x\", \"y\": [968.0], \"yaxis\": \"y\"}],\n",
       "                        {\"height\": 700, \"legend\": {\"itemsizing\": \"constant\", \"title\": {\"text\": \"Country/Region\"}, \"tracegroupgap\": 0}, \"showlegend\": false, \"template\": {\"data\": {\"bar\": [{\"error_x\": {\"color\": \"#2a3f5f\"}, \"error_y\": {\"color\": \"#2a3f5f\"}, \"marker\": {\"line\": {\"color\": \"#E5ECF6\", \"width\": 0.5}}, \"type\": \"bar\"}], \"barpolar\": [{\"marker\": {\"line\": {\"color\": \"#E5ECF6\", \"width\": 0.5}}, \"type\": \"barpolar\"}], \"carpet\": [{\"aaxis\": {\"endlinecolor\": \"#2a3f5f\", \"gridcolor\": \"white\", \"linecolor\": \"white\", \"minorgridcolor\": \"white\", \"startlinecolor\": \"#2a3f5f\"}, \"baxis\": {\"endlinecolor\": \"#2a3f5f\", \"gridcolor\": \"white\", \"linecolor\": \"white\", \"minorgridcolor\": \"white\", \"startlinecolor\": \"#2a3f5f\"}, \"type\": \"carpet\"}], \"choropleth\": [{\"colorbar\": {\"outlinewidth\": 0, \"ticks\": \"\"}, \"type\": \"choropleth\"}], \"contour\": [{\"colorbar\": {\"outlinewidth\": 0, \"ticks\": \"\"}, \"colorscale\": [[0.0, \"#0d0887\"], [0.1111111111111111, \"#46039f\"], [0.2222222222222222, \"#7201a8\"], [0.3333333333333333, \"#9c179e\"], [0.4444444444444444, \"#bd3786\"], [0.5555555555555556, \"#d8576b\"], [0.6666666666666666, \"#ed7953\"], [0.7777777777777778, \"#fb9f3a\"], [0.8888888888888888, \"#fdca26\"], [1.0, \"#f0f921\"]], \"type\": \"contour\"}], \"contourcarpet\": [{\"colorbar\": {\"outlinewidth\": 0, \"ticks\": \"\"}, \"type\": \"contourcarpet\"}], \"heatmap\": [{\"colorbar\": {\"outlinewidth\": 0, \"ticks\": \"\"}, \"colorscale\": [[0.0, \"#0d0887\"], [0.1111111111111111, \"#46039f\"], [0.2222222222222222, \"#7201a8\"], [0.3333333333333333, \"#9c179e\"], [0.4444444444444444, \"#bd3786\"], [0.5555555555555556, \"#d8576b\"], [0.6666666666666666, \"#ed7953\"], [0.7777777777777778, \"#fb9f3a\"], [0.8888888888888888, \"#fdca26\"], [1.0, \"#f0f921\"]], \"type\": \"heatmap\"}], \"heatmapgl\": [{\"colorbar\": {\"outlinewidth\": 0, \"ticks\": \"\"}, \"colorscale\": [[0.0, \"#0d0887\"], [0.1111111111111111, \"#46039f\"], [0.2222222222222222, \"#7201a8\"], [0.3333333333333333, \"#9c179e\"], [0.4444444444444444, \"#bd3786\"], [0.5555555555555556, \"#d8576b\"], [0.6666666666666666, \"#ed7953\"], [0.7777777777777778, \"#fb9f3a\"], [0.8888888888888888, \"#fdca26\"], [1.0, \"#f0f921\"]], \"type\": \"heatmapgl\"}], \"histogram\": [{\"marker\": {\"colorbar\": {\"outlinewidth\": 0, \"ticks\": \"\"}}, \"type\": \"histogram\"}], \"histogram2d\": [{\"colorbar\": {\"outlinewidth\": 0, \"ticks\": \"\"}, \"colorscale\": [[0.0, \"#0d0887\"], [0.1111111111111111, \"#46039f\"], [0.2222222222222222, \"#7201a8\"], [0.3333333333333333, \"#9c179e\"], [0.4444444444444444, \"#bd3786\"], [0.5555555555555556, \"#d8576b\"], [0.6666666666666666, \"#ed7953\"], [0.7777777777777778, \"#fb9f3a\"], [0.8888888888888888, \"#fdca26\"], [1.0, \"#f0f921\"]], \"type\": \"histogram2d\"}], \"histogram2dcontour\": [{\"colorbar\": {\"outlinewidth\": 0, \"ticks\": \"\"}, \"colorscale\": [[0.0, \"#0d0887\"], [0.1111111111111111, \"#46039f\"], [0.2222222222222222, \"#7201a8\"], [0.3333333333333333, \"#9c179e\"], [0.4444444444444444, \"#bd3786\"], [0.5555555555555556, \"#d8576b\"], [0.6666666666666666, \"#ed7953\"], [0.7777777777777778, \"#fb9f3a\"], [0.8888888888888888, \"#fdca26\"], [1.0, \"#f0f921\"]], \"type\": \"histogram2dcontour\"}], \"mesh3d\": [{\"colorbar\": {\"outlinewidth\": 0, \"ticks\": \"\"}, \"type\": \"mesh3d\"}], \"parcoords\": [{\"line\": {\"colorbar\": {\"outlinewidth\": 0, \"ticks\": \"\"}}, \"type\": \"parcoords\"}], \"pie\": [{\"automargin\": true, \"type\": \"pie\"}], \"scatter\": [{\"marker\": {\"colorbar\": {\"outlinewidth\": 0, \"ticks\": \"\"}}, \"type\": \"scatter\"}], \"scatter3d\": [{\"line\": {\"colorbar\": {\"outlinewidth\": 0, \"ticks\": \"\"}}, \"marker\": {\"colorbar\": {\"outlinewidth\": 0, \"ticks\": \"\"}}, \"type\": \"scatter3d\"}], \"scattercarpet\": [{\"marker\": {\"colorbar\": {\"outlinewidth\": 0, \"ticks\": \"\"}}, \"type\": \"scattercarpet\"}], \"scattergeo\": [{\"marker\": {\"colorbar\": {\"outlinewidth\": 0, \"ticks\": \"\"}}, \"type\": \"scattergeo\"}], \"scattergl\": [{\"marker\": {\"colorbar\": {\"outlinewidth\": 0, \"ticks\": \"\"}}, \"type\": \"scattergl\"}], \"scattermapbox\": [{\"marker\": {\"colorbar\": {\"outlinewidth\": 0, \"ticks\": \"\"}}, \"type\": \"scattermapbox\"}], \"scatterpolar\": [{\"marker\": {\"colorbar\": {\"outlinewidth\": 0, \"ticks\": \"\"}}, \"type\": \"scatterpolar\"}], \"scatterpolargl\": [{\"marker\": {\"colorbar\": {\"outlinewidth\": 0, \"ticks\": \"\"}}, \"type\": \"scatterpolargl\"}], \"scatterternary\": [{\"marker\": {\"colorbar\": {\"outlinewidth\": 0, \"ticks\": \"\"}}, \"type\": \"scatterternary\"}], \"surface\": [{\"colorbar\": {\"outlinewidth\": 0, \"ticks\": \"\"}, \"colorscale\": [[0.0, \"#0d0887\"], [0.1111111111111111, \"#46039f\"], [0.2222222222222222, \"#7201a8\"], [0.3333333333333333, \"#9c179e\"], [0.4444444444444444, \"#bd3786\"], [0.5555555555555556, \"#d8576b\"], [0.6666666666666666, \"#ed7953\"], [0.7777777777777778, \"#fb9f3a\"], [0.8888888888888888, \"#fdca26\"], [1.0, \"#f0f921\"]], \"type\": \"surface\"}], \"table\": [{\"cells\": {\"fill\": {\"color\": \"#EBF0F8\"}, \"line\": {\"color\": \"white\"}}, \"header\": {\"fill\": {\"color\": \"#C8D4E3\"}, \"line\": {\"color\": \"white\"}}, \"type\": \"table\"}]}, \"layout\": {\"annotationdefaults\": {\"arrowcolor\": \"#2a3f5f\", \"arrowhead\": 0, \"arrowwidth\": 1}, \"coloraxis\": {\"colorbar\": {\"outlinewidth\": 0, \"ticks\": \"\"}}, \"colorscale\": {\"diverging\": [[0, \"#8e0152\"], [0.1, \"#c51b7d\"], [0.2, \"#de77ae\"], [0.3, \"#f1b6da\"], [0.4, \"#fde0ef\"], [0.5, \"#f7f7f7\"], [0.6, \"#e6f5d0\"], [0.7, \"#b8e186\"], [0.8, \"#7fbc41\"], [0.9, \"#4d9221\"], [1, \"#276419\"]], \"sequential\": [[0.0, \"#0d0887\"], [0.1111111111111111, \"#46039f\"], [0.2222222222222222, \"#7201a8\"], [0.3333333333333333, \"#9c179e\"], [0.4444444444444444, \"#bd3786\"], [0.5555555555555556, \"#d8576b\"], [0.6666666666666666, \"#ed7953\"], [0.7777777777777778, \"#fb9f3a\"], [0.8888888888888888, \"#fdca26\"], [1.0, \"#f0f921\"]], \"sequentialminus\": [[0.0, \"#0d0887\"], [0.1111111111111111, \"#46039f\"], [0.2222222222222222, \"#7201a8\"], [0.3333333333333333, \"#9c179e\"], [0.4444444444444444, \"#bd3786\"], [0.5555555555555556, \"#d8576b\"], [0.6666666666666666, \"#ed7953\"], [0.7777777777777778, \"#fb9f3a\"], [0.8888888888888888, \"#fdca26\"], [1.0, \"#f0f921\"]]}, \"colorway\": [\"#636efa\", \"#EF553B\", \"#00cc96\", \"#ab63fa\", \"#FFA15A\", \"#19d3f3\", \"#FF6692\", \"#B6E880\", \"#FF97FF\", \"#FECB52\"], \"font\": {\"color\": \"#2a3f5f\"}, \"geo\": {\"bgcolor\": \"white\", \"lakecolor\": \"white\", \"landcolor\": \"#E5ECF6\", \"showlakes\": true, \"showland\": true, \"subunitcolor\": \"white\"}, \"hoverlabel\": {\"align\": \"left\"}, \"hovermode\": \"closest\", \"mapbox\": {\"style\": \"light\"}, \"paper_bgcolor\": \"white\", \"plot_bgcolor\": \"#E5ECF6\", \"polar\": {\"angularaxis\": {\"gridcolor\": \"white\", \"linecolor\": \"white\", \"ticks\": \"\"}, \"bgcolor\": \"#E5ECF6\", \"radialaxis\": {\"gridcolor\": \"white\", \"linecolor\": \"white\", \"ticks\": \"\"}}, \"scene\": {\"xaxis\": {\"backgroundcolor\": \"#E5ECF6\", \"gridcolor\": \"white\", \"gridwidth\": 2, \"linecolor\": \"white\", \"showbackground\": true, \"ticks\": \"\", \"zerolinecolor\": \"white\"}, \"yaxis\": {\"backgroundcolor\": \"#E5ECF6\", \"gridcolor\": \"white\", \"gridwidth\": 2, \"linecolor\": \"white\", \"showbackground\": true, \"ticks\": \"\", \"zerolinecolor\": \"white\"}, \"zaxis\": {\"backgroundcolor\": \"#E5ECF6\", \"gridcolor\": \"white\", \"gridwidth\": 2, \"linecolor\": \"white\", \"showbackground\": true, \"ticks\": \"\", \"zerolinecolor\": \"white\"}}, \"shapedefaults\": {\"line\": {\"color\": \"#2a3f5f\"}}, \"ternary\": {\"aaxis\": {\"gridcolor\": \"white\", \"linecolor\": \"white\", \"ticks\": \"\"}, \"baxis\": {\"gridcolor\": \"white\", \"linecolor\": \"white\", \"ticks\": \"\"}, \"bgcolor\": \"#E5ECF6\", \"caxis\": {\"gridcolor\": \"white\", \"linecolor\": \"white\", \"ticks\": \"\"}}, \"title\": {\"x\": 0.05}, \"xaxis\": {\"automargin\": true, \"gridcolor\": \"white\", \"linecolor\": \"white\", \"ticks\": \"\", \"title\": {\"standoff\": 15}, \"zerolinecolor\": \"white\", \"zerolinewidth\": 2}, \"yaxis\": {\"automargin\": true, \"gridcolor\": \"white\", \"linecolor\": \"white\", \"ticks\": \"\", \"title\": {\"standoff\": 15}, \"zerolinecolor\": \"white\", \"zerolinewidth\": 2}}}, \"title\": {\"text\": \"Deaths vs Confirmed (Scale is in log10)\"}, \"xaxis\": {\"anchor\": \"y\", \"domain\": [0.0, 1.0], \"title\": {\"text\": \"Confirmed\"}, \"type\": \"log\"}, \"yaxis\": {\"anchor\": \"x\", \"domain\": [0.0, 1.0], \"title\": {\"text\": \"Deaths\"}, \"type\": \"log\"}},\n",
       "                        {\"responsive\": true}\n",
       "                    )\n",
       "                };\n",
       "                \n",
       "            </script>\n",
       "        </div>\n",
       "</body>\n",
       "</html>"
      ],
      "text/plain": [
       "<IPython.core.display.HTML object>"
      ]
     },
     "execution_count": 17,
     "metadata": {},
     "output_type": "execute_result"
    }
   ],
   "source": [
    "#collapse\n",
    "# plot\n",
    "fig = px.scatter(covid_global_percountry.sort_values('Deaths', ascending=False).iloc[:50, :], \n",
    "                 x='Confirmed', y='Deaths', color='Country/Region', size='Confirmed', \n",
    "                 height=700, text='Country/Region', log_x=True, log_y=True, \n",
    "                 title='Deaths vs Confirmed (Scale is in log10)',\n",
    "                hover_data={'Country/Region':True,'Confirmed':':,','Deaths':':,'})\n",
    "fig.update_traces(textposition='top center')\n",
    "fig.update_layout(showlegend=False)\n",
    "HTML(fig.to_html(include_plotlyjs='cdn'))"
   ]
  },
  {
   "cell_type": "markdown",
   "metadata": {},
   "source": [
    "# Indonesia"
   ]
  },
  {
   "cell_type": "code",
   "execution_count": null,
   "metadata": {},
   "outputs": [],
   "source": []
  },
  {
   "cell_type": "code",
   "execution_count": null,
   "metadata": {},
   "outputs": [],
   "source": []
  },
  {
   "cell_type": "code",
   "execution_count": null,
   "metadata": {},
   "outputs": [],
   "source": []
  },
  {
   "cell_type": "code",
   "execution_count": null,
   "metadata": {},
   "outputs": [],
   "source": []
  },
  {
   "cell_type": "code",
   "execution_count": null,
   "metadata": {},
   "outputs": [],
   "source": []
  },
  {
   "cell_type": "code",
   "execution_count": null,
   "metadata": {},
   "outputs": [],
   "source": []
  },
  {
   "cell_type": "code",
   "execution_count": null,
   "metadata": {},
   "outputs": [],
   "source": []
  },
  {
   "cell_type": "code",
   "execution_count": null,
   "metadata": {},
   "outputs": [],
   "source": []
  },
  {
   "cell_type": "code",
   "execution_count": null,
   "metadata": {},
   "outputs": [],
   "source": []
  },
  {
   "cell_type": "code",
   "execution_count": null,
   "metadata": {},
   "outputs": [],
   "source": []
  },
  {
   "cell_type": "code",
   "execution_count": null,
   "metadata": {},
   "outputs": [],
   "source": []
  },
  {
   "cell_type": "code",
   "execution_count": null,
   "metadata": {},
   "outputs": [],
   "source": []
  },
  {
   "cell_type": "code",
   "execution_count": null,
   "metadata": {},
   "outputs": [],
   "source": []
  },
  {
   "cell_type": "code",
   "execution_count": null,
   "metadata": {},
   "outputs": [],
   "source": []
  },
  {
   "cell_type": "code",
   "execution_count": null,
   "metadata": {},
   "outputs": [],
   "source": []
  },
  {
   "cell_type": "code",
   "execution_count": null,
   "metadata": {},
   "outputs": [],
   "source": []
  },
  {
   "cell_type": "code",
   "execution_count": null,
   "metadata": {},
   "outputs": [],
   "source": []
  },
  {
   "cell_type": "code",
   "execution_count": null,
   "metadata": {},
   "outputs": [],
   "source": []
  },
  {
   "cell_type": "code",
   "execution_count": null,
   "metadata": {},
   "outputs": [],
   "source": []
  },
  {
   "cell_type": "code",
   "execution_count": null,
   "metadata": {},
   "outputs": [],
   "source": []
  },
  {
   "cell_type": "code",
   "execution_count": null,
   "metadata": {},
   "outputs": [],
   "source": []
  },
  {
   "cell_type": "code",
   "execution_count": null,
   "metadata": {},
   "outputs": [],
   "source": []
  },
  {
   "cell_type": "code",
   "execution_count": null,
   "metadata": {},
   "outputs": [],
   "source": []
  },
  {
   "cell_type": "code",
   "execution_count": null,
   "metadata": {},
   "outputs": [],
   "source": []
  }
 ],
 "metadata": {
  "kernelspec": {
   "display_name": "Python 3",
   "language": "python",
   "name": "python3"
  },
  "language_info": {
   "codemirror_mode": {
    "name": "ipython",
    "version": 3
   },
   "file_extension": ".py",
   "mimetype": "text/x-python",
   "name": "python",
   "nbconvert_exporter": "python",
   "pygments_lexer": "ipython3",
   "version": "3.7.4"
  },
  "toc": {
   "base_numbering": 1,
   "nav_menu": {},
   "number_sections": true,
   "sideBar": true,
   "skip_h1_title": false,
   "title_cell": "Table of Contents",
   "title_sidebar": "Contents",
   "toc_cell": false,
   "toc_position": {},
   "toc_section_display": true,
   "toc_window_display": false
  }
 },
 "nbformat": 4,
 "nbformat_minor": 2
}

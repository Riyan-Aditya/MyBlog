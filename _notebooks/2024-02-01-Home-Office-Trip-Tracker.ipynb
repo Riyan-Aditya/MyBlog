{
 "cells": [
  {
   "cell_type": "markdown",
   "metadata": {
    "ExecuteTime": {
     "end_time": "2024-01-30T08:35:41.856666Z",
     "start_time": "2024-01-30T08:35:41.837572Z"
    }
   },
   "source": [
    "# \"Seven months commuting to the office\"\n",
    "> \"Data Analysis - trip to and from the office\"\n",
    "\n",
    "- toc: True\n",
    "- branch: master\n",
    "- badges: true\n",
    "- categories: ['Data Analysis','Data Viz']\n",
    "- hide: false\n",
    "- search_exclude: true\n",
    "- metadata_key1: metadata_value1\n",
    "- metadata_key2: metadata_value2"
   ]
  },
  {
   "cell_type": "markdown",
   "metadata": {},
   "source": [
    "Objective of this notebook:\n",
    "- Plot data taken from AppFibr App\n",
    "- Analyse are there optimum time to leave home or office\n",
    "- Analyse if there are differences of travel time in different days\n",
    "- Analyse if there are differences of travel to the office vs from the office\n",
    "- Analyse if there are significant differences between two rideshare providers\n",
    "- Analyse if there are optimum time to leave home or office"
   ]
  },
  {
   "cell_type": "markdown",
   "metadata": {},
   "source": [
    "# Import python module"
   ]
  },
  {
   "cell_type": "code",
   "execution_count": 1,
   "metadata": {
    "ExecuteTime": {
     "end_time": "2024-02-01T06:35:58.260270Z",
     "start_time": "2024-02-01T06:35:57.434540Z"
    },
    "code_folding": [
     0
    ]
   },
   "outputs": [],
   "source": [
    "# import module\n",
    "import pandas as pd\n",
    "import numpy as np\n",
    "\n",
    "import matplotlib.pyplot as plt\n",
    "%matplotlib inline\n",
    "import seaborn as sns"
   ]
  },
  {
   "cell_type": "markdown",
   "metadata": {},
   "source": [
    "# Import data from Gsheet & Data Cleaning"
   ]
  },
  {
   "cell_type": "code",
   "execution_count": 2,
   "metadata": {
    "ExecuteTime": {
     "end_time": "2024-02-01T06:35:58.276022Z",
     "start_time": "2024-02-01T06:35:58.262235Z"
    }
   },
   "outputs": [],
   "source": [
    "df = pd.read_csv('trip_tracker_cleaned.csv')"
   ]
  },
  {
   "cell_type": "code",
   "execution_count": 3,
   "metadata": {
    "ExecuteTime": {
     "end_time": "2024-02-01T06:35:58.306668Z",
     "start_time": "2024-02-01T06:35:58.277836Z"
    },
    "code_folding": [
     0
    ]
   },
   "outputs": [],
   "source": [
    "# Data Cleaning\n",
    "df = df.loc[:, ~df.columns.str.contains('^Unnamed')]\n",
    "\n",
    "# convert the datetime to the right format\n",
    "df['Date'] = pd.to_datetime(df.Date)\n",
    "df['From_time'] = pd.to_datetime(df.From_time)\n",
    "df['To_time'] = pd.to_datetime(df.To_time)\n",
    "\n",
    "# convert fare to the right format\n",
    "df['Fare'] = df['Fare'].str.replace(',', '').apply(pd.to_numeric)\n",
    "\n"
   ]
  },
  {
   "cell_type": "markdown",
   "metadata": {},
   "source": [
    "Create boolean column to flag only for travel time during peak traffic hour (7-9AM & 4-7PM). Outside these time, the data shall be filtered. Also create additional column to describe which day of the week. "
   ]
  },
  {
   "cell_type": "code",
   "execution_count": 4,
   "metadata": {
    "ExecuteTime": {
     "end_time": "2024-02-01T06:35:58.321991Z",
     "start_time": "2024-02-01T06:35:58.307464Z"
    },
    "code_folding": [
     0
    ]
   },
   "outputs": [],
   "source": [
    "# create boolean column to consider data only for peak traffic hour (7-9AM & 4-7PM)\n",
    "df['peak_hour'] = df['From_time'].dt.hour.between(7, 9, inclusive=True) | df['From_time'].dt.hour.between(16, 18, inclusive=True)\n",
    "\n",
    "# create column of day of the week\n",
    "df['day_of_week'] = df['Date'].dt.day_name()"
   ]
  },
  {
   "cell_type": "code",
   "execution_count": 5,
   "metadata": {
    "ExecuteTime": {
     "end_time": "2024-02-01T06:35:58.353327Z",
     "start_time": "2024-02-01T06:35:58.323161Z"
    },
    "code_folding": [
     0
    ]
   },
   "outputs": [
    {
     "data": {
      "text/html": [
       "<div>\n",
       "<style scoped>\n",
       "    .dataframe tbody tr th:only-of-type {\n",
       "        vertical-align: middle;\n",
       "    }\n",
       "\n",
       "    .dataframe tbody tr th {\n",
       "        vertical-align: top;\n",
       "    }\n",
       "\n",
       "    .dataframe thead th {\n",
       "        text-align: right;\n",
       "    }\n",
       "</style>\n",
       "<table border=\"1\" class=\"dataframe\">\n",
       "  <thead>\n",
       "    <tr style=\"text-align: right;\">\n",
       "      <th></th>\n",
       "      <th>Date</th>\n",
       "      <th>Provider</th>\n",
       "      <th>From</th>\n",
       "      <th>From_time</th>\n",
       "      <th>To</th>\n",
       "      <th>To_time</th>\n",
       "      <th>Fare</th>\n",
       "      <th>Duration</th>\n",
       "      <th>from_home</th>\n",
       "      <th>peak_hour</th>\n",
       "      <th>day_of_week</th>\n",
       "    </tr>\n",
       "  </thead>\n",
       "  <tbody>\n",
       "    <tr>\n",
       "      <td>0</td>\n",
       "      <td>2024-01-16</td>\n",
       "      <td>Provider1</td>\n",
       "      <td>Home</td>\n",
       "      <td>2024-01-16 07:48:00</td>\n",
       "      <td>Office</td>\n",
       "      <td>2024-01-16 08:32:00</td>\n",
       "      <td>46500</td>\n",
       "      <td>44</td>\n",
       "      <td>1</td>\n",
       "      <td>True</td>\n",
       "      <td>Tuesday</td>\n",
       "    </tr>\n",
       "    <tr>\n",
       "      <td>1</td>\n",
       "      <td>2024-01-15</td>\n",
       "      <td>Provider1</td>\n",
       "      <td>Office</td>\n",
       "      <td>2024-01-15 17:27:00</td>\n",
       "      <td>Home</td>\n",
       "      <td>2024-01-15 18:24:00</td>\n",
       "      <td>44000</td>\n",
       "      <td>57</td>\n",
       "      <td>0</td>\n",
       "      <td>True</td>\n",
       "      <td>Monday</td>\n",
       "    </tr>\n",
       "    <tr>\n",
       "      <td>2</td>\n",
       "      <td>2024-01-15</td>\n",
       "      <td>Provider2</td>\n",
       "      <td>Home</td>\n",
       "      <td>2024-01-15 07:55:00</td>\n",
       "      <td>Office</td>\n",
       "      <td>2024-01-15 08:26:00</td>\n",
       "      <td>61500</td>\n",
       "      <td>31</td>\n",
       "      <td>1</td>\n",
       "      <td>True</td>\n",
       "      <td>Monday</td>\n",
       "    </tr>\n",
       "    <tr>\n",
       "      <td>3</td>\n",
       "      <td>2024-01-12</td>\n",
       "      <td>Provider1</td>\n",
       "      <td>Home</td>\n",
       "      <td>2024-01-12 08:05:00</td>\n",
       "      <td>Office</td>\n",
       "      <td>2024-01-12 08:43:00</td>\n",
       "      <td>53500</td>\n",
       "      <td>38</td>\n",
       "      <td>1</td>\n",
       "      <td>True</td>\n",
       "      <td>Friday</td>\n",
       "    </tr>\n",
       "    <tr>\n",
       "      <td>4</td>\n",
       "      <td>2024-01-11</td>\n",
       "      <td>Provider1</td>\n",
       "      <td>Home</td>\n",
       "      <td>2024-01-11 08:01:00</td>\n",
       "      <td>Office</td>\n",
       "      <td>2024-01-11 08:46:00</td>\n",
       "      <td>40500</td>\n",
       "      <td>45</td>\n",
       "      <td>1</td>\n",
       "      <td>True</td>\n",
       "      <td>Thursday</td>\n",
       "    </tr>\n",
       "    <tr>\n",
       "      <td>...</td>\n",
       "      <td>...</td>\n",
       "      <td>...</td>\n",
       "      <td>...</td>\n",
       "      <td>...</td>\n",
       "      <td>...</td>\n",
       "      <td>...</td>\n",
       "      <td>...</td>\n",
       "      <td>...</td>\n",
       "      <td>...</td>\n",
       "      <td>...</td>\n",
       "      <td>...</td>\n",
       "    </tr>\n",
       "    <tr>\n",
       "      <td>80</td>\n",
       "      <td>2023-10-19</td>\n",
       "      <td>Provider1</td>\n",
       "      <td>Office</td>\n",
       "      <td>2023-10-19 16:31:00</td>\n",
       "      <td>Home</td>\n",
       "      <td>2023-10-19 17:23:00</td>\n",
       "      <td>49500</td>\n",
       "      <td>52</td>\n",
       "      <td>0</td>\n",
       "      <td>True</td>\n",
       "      <td>Thursday</td>\n",
       "    </tr>\n",
       "    <tr>\n",
       "      <td>81</td>\n",
       "      <td>2023-12-19</td>\n",
       "      <td>Provider2</td>\n",
       "      <td>Home</td>\n",
       "      <td>2023-12-19 07:48:00</td>\n",
       "      <td>Office</td>\n",
       "      <td>2023-12-19 08:33:00</td>\n",
       "      <td>51000</td>\n",
       "      <td>45</td>\n",
       "      <td>1</td>\n",
       "      <td>True</td>\n",
       "      <td>Tuesday</td>\n",
       "    </tr>\n",
       "    <tr>\n",
       "      <td>82</td>\n",
       "      <td>2023-09-25</td>\n",
       "      <td>Provider1</td>\n",
       "      <td>Home</td>\n",
       "      <td>2023-09-25 07:56:00</td>\n",
       "      <td>Office</td>\n",
       "      <td>2023-09-29 08:38:00</td>\n",
       "      <td>56000</td>\n",
       "      <td>42</td>\n",
       "      <td>1</td>\n",
       "      <td>True</td>\n",
       "      <td>Monday</td>\n",
       "    </tr>\n",
       "    <tr>\n",
       "      <td>83</td>\n",
       "      <td>2023-08-10</td>\n",
       "      <td>Provider1</td>\n",
       "      <td>Home</td>\n",
       "      <td>2023-08-10 07:39:00</td>\n",
       "      <td>Office</td>\n",
       "      <td>2023-08-10 08:28:00</td>\n",
       "      <td>50500</td>\n",
       "      <td>49</td>\n",
       "      <td>1</td>\n",
       "      <td>True</td>\n",
       "      <td>Thursday</td>\n",
       "    </tr>\n",
       "    <tr>\n",
       "      <td>84</td>\n",
       "      <td>2023-10-30</td>\n",
       "      <td>Provider2</td>\n",
       "      <td>Home</td>\n",
       "      <td>2023-10-30 07:16:00</td>\n",
       "      <td>Office</td>\n",
       "      <td>2023-10-30 08:10:00</td>\n",
       "      <td>71500</td>\n",
       "      <td>54</td>\n",
       "      <td>1</td>\n",
       "      <td>True</td>\n",
       "      <td>Monday</td>\n",
       "    </tr>\n",
       "  </tbody>\n",
       "</table>\n",
       "<p>85 rows × 11 columns</p>\n",
       "</div>"
      ],
      "text/plain": [
       "         Date   Provider    From           From_time      To  \\\n",
       "0  2024-01-16  Provider1    Home 2024-01-16 07:48:00  Office   \n",
       "1  2024-01-15  Provider1  Office 2024-01-15 17:27:00    Home   \n",
       "2  2024-01-15  Provider2    Home 2024-01-15 07:55:00  Office   \n",
       "3  2024-01-12  Provider1    Home 2024-01-12 08:05:00  Office   \n",
       "4  2024-01-11  Provider1    Home 2024-01-11 08:01:00  Office   \n",
       "..        ...        ...     ...                 ...     ...   \n",
       "80 2023-10-19  Provider1  Office 2023-10-19 16:31:00    Home   \n",
       "81 2023-12-19  Provider2    Home 2023-12-19 07:48:00  Office   \n",
       "82 2023-09-25  Provider1    Home 2023-09-25 07:56:00  Office   \n",
       "83 2023-08-10  Provider1    Home 2023-08-10 07:39:00  Office   \n",
       "84 2023-10-30  Provider2    Home 2023-10-30 07:16:00  Office   \n",
       "\n",
       "               To_time   Fare  Duration  from_home  peak_hour day_of_week  \n",
       "0  2024-01-16 08:32:00  46500        44          1       True     Tuesday  \n",
       "1  2024-01-15 18:24:00  44000        57          0       True      Monday  \n",
       "2  2024-01-15 08:26:00  61500        31          1       True      Monday  \n",
       "3  2024-01-12 08:43:00  53500        38          1       True      Friday  \n",
       "4  2024-01-11 08:46:00  40500        45          1       True    Thursday  \n",
       "..                 ...    ...       ...        ...        ...         ...  \n",
       "80 2023-10-19 17:23:00  49500        52          0       True    Thursday  \n",
       "81 2023-12-19 08:33:00  51000        45          1       True     Tuesday  \n",
       "82 2023-09-29 08:38:00  56000        42          1       True      Monday  \n",
       "83 2023-08-10 08:28:00  50500        49          1       True    Thursday  \n",
       "84 2023-10-30 08:10:00  71500        54          1       True      Monday  \n",
       "\n",
       "[85 rows x 11 columns]"
      ]
     },
     "execution_count": 5,
     "metadata": {},
     "output_type": "execute_result"
    }
   ],
   "source": [
    "# filter for only peak traffic hour\n",
    "df = df.loc[df.peak_hour]\n",
    "df = df.reset_index(drop=True)\n",
    "df "
   ]
  },
  {
   "cell_type": "code",
   "execution_count": 6,
   "metadata": {
    "ExecuteTime": {
     "end_time": "2024-02-01T06:35:58.368667Z",
     "start_time": "2024-02-01T06:35:58.354303Z"
    }
   },
   "outputs": [
    {
     "data": {
      "text/plain": [
       "Date           datetime64[ns]\n",
       "Provider               object\n",
       "From                   object\n",
       "From_time      datetime64[ns]\n",
       "To                     object\n",
       "To_time        datetime64[ns]\n",
       "Fare                    int64\n",
       "Duration                int64\n",
       "from_home               int64\n",
       "peak_hour                bool\n",
       "day_of_week            object\n",
       "dtype: object"
      ]
     },
     "execution_count": 6,
     "metadata": {},
     "output_type": "execute_result"
    }
   ],
   "source": [
    "df.dtypes"
   ]
  },
  {
   "cell_type": "code",
   "execution_count": 7,
   "metadata": {
    "ExecuteTime": {
     "end_time": "2024-02-01T06:35:58.399593Z",
     "start_time": "2024-02-01T06:35:58.371325Z"
    }
   },
   "outputs": [
    {
     "data": {
      "text/html": [
       "<div>\n",
       "<style scoped>\n",
       "    .dataframe tbody tr th:only-of-type {\n",
       "        vertical-align: middle;\n",
       "    }\n",
       "\n",
       "    .dataframe tbody tr th {\n",
       "        vertical-align: top;\n",
       "    }\n",
       "\n",
       "    .dataframe thead th {\n",
       "        text-align: right;\n",
       "    }\n",
       "</style>\n",
       "<table border=\"1\" class=\"dataframe\">\n",
       "  <thead>\n",
       "    <tr style=\"text-align: right;\">\n",
       "      <th></th>\n",
       "      <th>Fare</th>\n",
       "      <th>Duration</th>\n",
       "      <th>from_home</th>\n",
       "    </tr>\n",
       "  </thead>\n",
       "  <tbody>\n",
       "    <tr>\n",
       "      <td>count</td>\n",
       "      <td>85.000000</td>\n",
       "      <td>85.000000</td>\n",
       "      <td>85.000000</td>\n",
       "    </tr>\n",
       "    <tr>\n",
       "      <td>mean</td>\n",
       "      <td>51735.294118</td>\n",
       "      <td>48.905882</td>\n",
       "      <td>0.529412</td>\n",
       "    </tr>\n",
       "    <tr>\n",
       "      <td>std</td>\n",
       "      <td>8709.459907</td>\n",
       "      <td>11.107294</td>\n",
       "      <td>0.502096</td>\n",
       "    </tr>\n",
       "    <tr>\n",
       "      <td>min</td>\n",
       "      <td>38000.000000</td>\n",
       "      <td>29.000000</td>\n",
       "      <td>0.000000</td>\n",
       "    </tr>\n",
       "    <tr>\n",
       "      <td>25%</td>\n",
       "      <td>45500.000000</td>\n",
       "      <td>40.000000</td>\n",
       "      <td>0.000000</td>\n",
       "    </tr>\n",
       "    <tr>\n",
       "      <td>50%</td>\n",
       "      <td>50000.000000</td>\n",
       "      <td>48.000000</td>\n",
       "      <td>1.000000</td>\n",
       "    </tr>\n",
       "    <tr>\n",
       "      <td>75%</td>\n",
       "      <td>56000.000000</td>\n",
       "      <td>55.000000</td>\n",
       "      <td>1.000000</td>\n",
       "    </tr>\n",
       "    <tr>\n",
       "      <td>max</td>\n",
       "      <td>75000.000000</td>\n",
       "      <td>83.000000</td>\n",
       "      <td>1.000000</td>\n",
       "    </tr>\n",
       "  </tbody>\n",
       "</table>\n",
       "</div>"
      ],
      "text/plain": [
       "               Fare   Duration  from_home\n",
       "count     85.000000  85.000000  85.000000\n",
       "mean   51735.294118  48.905882   0.529412\n",
       "std     8709.459907  11.107294   0.502096\n",
       "min    38000.000000  29.000000   0.000000\n",
       "25%    45500.000000  40.000000   0.000000\n",
       "50%    50000.000000  48.000000   1.000000\n",
       "75%    56000.000000  55.000000   1.000000\n",
       "max    75000.000000  83.000000   1.000000"
      ]
     },
     "execution_count": 7,
     "metadata": {},
     "output_type": "execute_result"
    }
   ],
   "source": [
    "df.describe()"
   ]
  },
  {
   "cell_type": "markdown",
   "metadata": {},
   "source": [
    "# Data Analysis"
   ]
  },
  {
   "cell_type": "markdown",
   "metadata": {},
   "source": [
    "## Duration and Fare comparison based on travel origination"
   ]
  },
  {
   "cell_type": "markdown",
   "metadata": {},
   "source": [
    "Once filtering for travels outside peak hours, we are left with 85 trips with some interesting observations:\n",
    "- I took significantly more trips with Provider1 than Provider2. No, I did not realised that.\n",
    "- The data matched my expectation, where I suspected that trips from home were faster and generally more expensive.\n",
    "- On average Provider1 was cheaper than Provider2, including the minimum fare ever offered to me.This could be an interesting finding on their pricing model, but take this with a grain of salt due to the small sample size especially for trips conducted via Provider2.\n",
    "- Even though fare differences between the 2 providers were somewhat expected, but I did not expect that the average travel time frome Home by Provider1 (42 mins) is significantly lower than Provider2 (48 mins). Route differences may play a factor here."
   ]
  },
  {
   "cell_type": "markdown",
   "metadata": {},
   "source": [
    "### Duration (in minutes)"
   ]
  },
  {
   "cell_type": "code",
   "execution_count": 8,
   "metadata": {
    "ExecuteTime": {
     "end_time": "2024-02-01T06:35:58.430580Z",
     "start_time": "2024-02-01T06:35:58.401509Z"
    },
    "code_folding": [
     0
    ]
   },
   "outputs": [
    {
     "data": {
      "text/html": [
       "<div>\n",
       "<style scoped>\n",
       "    .dataframe tbody tr th:only-of-type {\n",
       "        vertical-align: middle;\n",
       "    }\n",
       "\n",
       "    .dataframe tbody tr th {\n",
       "        vertical-align: top;\n",
       "    }\n",
       "\n",
       "    .dataframe thead th {\n",
       "        text-align: right;\n",
       "    }\n",
       "</style>\n",
       "<table border=\"1\" class=\"dataframe\">\n",
       "  <thead>\n",
       "    <tr style=\"text-align: right;\">\n",
       "      <th></th>\n",
       "      <th></th>\n",
       "      <th>count</th>\n",
       "      <th>mean</th>\n",
       "      <th>min</th>\n",
       "      <th>max</th>\n",
       "    </tr>\n",
       "    <tr>\n",
       "      <th>From</th>\n",
       "      <th>Provider</th>\n",
       "      <th></th>\n",
       "      <th></th>\n",
       "      <th></th>\n",
       "      <th></th>\n",
       "    </tr>\n",
       "  </thead>\n",
       "  <tbody>\n",
       "    <tr>\n",
       "      <td rowspan=\"2\" valign=\"top\">Home</td>\n",
       "      <td>Provider1</td>\n",
       "      <td>27</td>\n",
       "      <td>42</td>\n",
       "      <td>29</td>\n",
       "      <td>67</td>\n",
       "    </tr>\n",
       "    <tr>\n",
       "      <td>Provider2</td>\n",
       "      <td>18</td>\n",
       "      <td>48</td>\n",
       "      <td>31</td>\n",
       "      <td>69</td>\n",
       "    </tr>\n",
       "    <tr>\n",
       "      <td rowspan=\"2\" valign=\"top\">Office</td>\n",
       "      <td>Provider1</td>\n",
       "      <td>22</td>\n",
       "      <td>54</td>\n",
       "      <td>33</td>\n",
       "      <td>73</td>\n",
       "    </tr>\n",
       "    <tr>\n",
       "      <td>Provider2</td>\n",
       "      <td>18</td>\n",
       "      <td>53</td>\n",
       "      <td>29</td>\n",
       "      <td>83</td>\n",
       "    </tr>\n",
       "  </tbody>\n",
       "</table>\n",
       "</div>"
      ],
      "text/plain": [
       "                  count  mean  min  max\n",
       "From   Provider                        \n",
       "Home   Provider1     27    42   29   67\n",
       "       Provider2     18    48   31   69\n",
       "Office Provider1     22    54   33   73\n",
       "       Provider2     18    53   29   83"
      ]
     },
     "execution_count": 8,
     "metadata": {},
     "output_type": "execute_result"
    }
   ],
   "source": [
    "# Describe Duration (in minutes)\n",
    "df.groupby([\"From\", \"Provider\"])['Duration'].describe().loc[:,['count','mean','min','max']].round().astype(int)"
   ]
  },
  {
   "cell_type": "code",
   "execution_count": 9,
   "metadata": {
    "ExecuteTime": {
     "end_time": "2024-02-01T06:35:58.620350Z",
     "start_time": "2024-02-01T06:35:58.432318Z"
    },
    "code_folding": [
     0
    ]
   },
   "outputs": [
    {
     "data": {
      "image/png": "[encoded data removed]",
      "text/plain": [
       "<Figure size 720x576 with 1 Axes>"
      ]
     },
     "metadata": {
      "needs_background": "light"
     },
     "output_type": "display_data"
    }
   ],
   "source": [
    "# Boxplot for travel duration data distribution\n",
    "fig, ax = plt.subplots(figsize=(10, 8))\n",
    "\n",
    "# Creating plot\n",
    "bp = df.boxplot(\"Duration\", by=[\"From\", \"Provider\"], ax=ax)\n",
    "plt.suptitle('')\n",
    "\n",
    "# Setting title to graph\n",
    "ax.set_title('Boxplot of trip duration based on Provider and Trip Origination')\n",
    "\n",
    "# Label x-axis and y-axis\n",
    "ax.set_ylabel('Duration (mins)')\n",
    "ax.set_xlabel('')\n",
    "\n",
    "# Remove grid\n",
    "ax.grid(False)\n",
    "\n",
    "# Add median value text annotation\n",
    "for i, box in enumerate(ax.get_xticks()):\n",
    "    # Calculate median value for each box\n",
    "    median_val = df.groupby([\"From\", \"Provider\"]).median().iloc[i][\"Duration\"].astype(int)\n",
    "    \n",
    "    # Add text annotation at the median position\n",
    "    ax.text(box, median_val, f'Median: \\n {median_val} mins', verticalalignment='bottom', horizontalalignment='center', color='black')\n",
    "\n",
    "# Show plot\n",
    "plt.show()"
   ]
  },
  {
   "cell_type": "markdown",
   "metadata": {},
   "source": [
    "### Fare (in IDR)"
   ]
  },
  {
   "cell_type": "code",
   "execution_count": 10,
   "metadata": {
    "ExecuteTime": {
     "end_time": "2024-02-01T06:35:58.651704Z",
     "start_time": "2024-02-01T06:35:58.621152Z"
    },
    "code_folding": [
     0
    ]
   },
   "outputs": [
    {
     "data": {
      "text/html": [
       "<div>\n",
       "<style scoped>\n",
       "    .dataframe tbody tr th:only-of-type {\n",
       "        vertical-align: middle;\n",
       "    }\n",
       "\n",
       "    .dataframe tbody tr th {\n",
       "        vertical-align: top;\n",
       "    }\n",
       "\n",
       "    .dataframe thead th {\n",
       "        text-align: right;\n",
       "    }\n",
       "</style>\n",
       "<table border=\"1\" class=\"dataframe\">\n",
       "  <thead>\n",
       "    <tr style=\"text-align: right;\">\n",
       "      <th></th>\n",
       "      <th></th>\n",
       "      <th>count</th>\n",
       "      <th>mean</th>\n",
       "      <th>min</th>\n",
       "      <th>max</th>\n",
       "    </tr>\n",
       "    <tr>\n",
       "      <th>From</th>\n",
       "      <th>Provider</th>\n",
       "      <th></th>\n",
       "      <th></th>\n",
       "      <th></th>\n",
       "      <th></th>\n",
       "    </tr>\n",
       "  </thead>\n",
       "  <tbody>\n",
       "    <tr>\n",
       "      <td rowspan=\"2\" valign=\"top\">Home</td>\n",
       "      <td>Provider1</td>\n",
       "      <td>27</td>\n",
       "      <td>53630</td>\n",
       "      <td>40500</td>\n",
       "      <td>71000</td>\n",
       "    </tr>\n",
       "    <tr>\n",
       "      <td>Provider2</td>\n",
       "      <td>18</td>\n",
       "      <td>57472</td>\n",
       "      <td>48000</td>\n",
       "      <td>75000</td>\n",
       "    </tr>\n",
       "    <tr>\n",
       "      <td rowspan=\"2\" valign=\"top\">Office</td>\n",
       "      <td>Provider1</td>\n",
       "      <td>22</td>\n",
       "      <td>47227</td>\n",
       "      <td>38000</td>\n",
       "      <td>69500</td>\n",
       "    </tr>\n",
       "    <tr>\n",
       "      <td>Provider2</td>\n",
       "      <td>18</td>\n",
       "      <td>48667</td>\n",
       "      <td>44500</td>\n",
       "      <td>63500</td>\n",
       "    </tr>\n",
       "  </tbody>\n",
       "</table>\n",
       "</div>"
      ],
      "text/plain": [
       "                  count   mean    min    max\n",
       "From   Provider                             \n",
       "Home   Provider1     27  53630  40500  71000\n",
       "       Provider2     18  57472  48000  75000\n",
       "Office Provider1     22  47227  38000  69500\n",
       "       Provider2     18  48667  44500  63500"
      ]
     },
     "execution_count": 10,
     "metadata": {},
     "output_type": "execute_result"
    }
   ],
   "source": [
    "# Describe Fare (in IDR)\n",
    "df.groupby([\"From\", \"Provider\"])['Fare'].describe().loc[:,['count','mean','min','max']].round(0).astype(int)"
   ]
  },
  {
   "cell_type": "code",
   "execution_count": 11,
   "metadata": {
    "ExecuteTime": {
     "end_time": "2024-02-01T06:35:58.824260Z",
     "start_time": "2024-02-01T06:35:58.653725Z"
    },
    "code_folding": [
     0
    ]
   },
   "outputs": [
    {
     "data": {
      "image/png": "[encoded data removed]",
      "text/plain": [
       "<Figure size 720x576 with 1 Axes>"
      ]
     },
     "metadata": {
      "needs_background": "light"
     },
     "output_type": "display_data"
    }
   ],
   "source": [
    "# Boxplot for travel duration data distribution\n",
    "fig, ax = plt.subplots(figsize=(10, 8))\n",
    "\n",
    "# Creating plot\n",
    "bp = df.boxplot(\"Fare\", by=[\"From\", \"Provider\"], ax=ax)\n",
    "plt.suptitle('')\n",
    "\n",
    "# Setting title to graph\n",
    "ax.set_title('Boxplot of trip fare based on Provider and Trip Origination')\n",
    "\n",
    "# Label x-axis and y-axis\n",
    "ax.set_ylabel('Fare (IDR)')\n",
    "ax.set_xlabel('')\n",
    "\n",
    "# Remove grid\n",
    "ax.grid(False)\n",
    "\n",
    "# Add median value text annotation\n",
    "for i, box in enumerate(ax.get_xticks()):\n",
    "    # Calculate median value for each box\n",
    "    median_val = df.groupby([\"From\", \"Provider\"]).median().iloc[i][\"Fare\"].astype(int)\n",
    "    \n",
    "    # Add text annotation at the median position\n",
    "    ax.text(box, median_val, f'Median: \\n {median_val} IDR', verticalalignment='bottom', horizontalalignment='center', color='black')\n",
    "\n",
    "# Show plot\n",
    "plt.show()"
   ]
  },
  {
   "cell_type": "markdown",
   "metadata": {},
   "source": [
    "Overall this high level summary suggests that we should deep dive the data even more to answer some of these questions that I would like to explore:\n",
    "- Are there travel time variability for different days? I somewhat believe that traffic is generally worse on Monday mornings.\n",
    "- Are there correlation between fare and travel duration? I find it weird that for similar travel distance, the travel fare from the office is significantly cheaper than from home, especially given that it was common knowledge that the evening traffic around TB Simatupang Road is extremly bad. Even Google Map presents the traffic in dark red!\n",
    "- Are there statistically different travel fare and duration between trips provided by Provider1 and Provider2? If any, which providers maybe cheaper.\n",
    "- Are there optimum time to leave home or office based on the data collected?"
   ]
  },
  {
   "cell_type": "markdown",
   "metadata": {},
   "source": [
    "## Travel time for different days"
   ]
  },
  {
   "cell_type": "code",
   "execution_count": 12,
   "metadata": {
    "ExecuteTime": {
     "end_time": "2024-02-01T06:35:58.871449Z",
     "start_time": "2024-02-01T06:35:58.825261Z"
    },
    "code_folding": [
     0
    ]
   },
   "outputs": [
    {
     "data": {
      "text/html": [
       "<div>\n",
       "<style scoped>\n",
       "    .dataframe tbody tr th:only-of-type {\n",
       "        vertical-align: middle;\n",
       "    }\n",
       "\n",
       "    .dataframe tbody tr th {\n",
       "        vertical-align: top;\n",
       "    }\n",
       "\n",
       "    .dataframe thead th {\n",
       "        text-align: right;\n",
       "    }\n",
       "</style>\n",
       "<table border=\"1\" class=\"dataframe\">\n",
       "  <thead>\n",
       "    <tr style=\"text-align: right;\">\n",
       "      <th></th>\n",
       "      <th></th>\n",
       "      <th>count</th>\n",
       "      <th>mean</th>\n",
       "      <th>min</th>\n",
       "      <th>max</th>\n",
       "    </tr>\n",
       "    <tr>\n",
       "      <th>From</th>\n",
       "      <th>day_of_week</th>\n",
       "      <th></th>\n",
       "      <th></th>\n",
       "      <th></th>\n",
       "      <th></th>\n",
       "    </tr>\n",
       "  </thead>\n",
       "  <tbody>\n",
       "    <tr>\n",
       "      <td rowspan=\"5\" valign=\"top\">Home</td>\n",
       "      <td>Friday</td>\n",
       "      <td>4</td>\n",
       "      <td>44</td>\n",
       "      <td>38</td>\n",
       "      <td>50</td>\n",
       "    </tr>\n",
       "    <tr>\n",
       "      <td>Monday</td>\n",
       "      <td>19</td>\n",
       "      <td>45</td>\n",
       "      <td>31</td>\n",
       "      <td>67</td>\n",
       "    </tr>\n",
       "    <tr>\n",
       "      <td>Thursday</td>\n",
       "      <td>7</td>\n",
       "      <td>44</td>\n",
       "      <td>36</td>\n",
       "      <td>49</td>\n",
       "    </tr>\n",
       "    <tr>\n",
       "      <td>Tuesday</td>\n",
       "      <td>7</td>\n",
       "      <td>45</td>\n",
       "      <td>29</td>\n",
       "      <td>69</td>\n",
       "    </tr>\n",
       "    <tr>\n",
       "      <td>Wednesday</td>\n",
       "      <td>8</td>\n",
       "      <td>45</td>\n",
       "      <td>37</td>\n",
       "      <td>56</td>\n",
       "    </tr>\n",
       "    <tr>\n",
       "      <td rowspan=\"5\" valign=\"top\">Office</td>\n",
       "      <td>Friday</td>\n",
       "      <td>5</td>\n",
       "      <td>59</td>\n",
       "      <td>54</td>\n",
       "      <td>66</td>\n",
       "    </tr>\n",
       "    <tr>\n",
       "      <td>Monday</td>\n",
       "      <td>14</td>\n",
       "      <td>47</td>\n",
       "      <td>32</td>\n",
       "      <td>59</td>\n",
       "    </tr>\n",
       "    <tr>\n",
       "      <td>Thursday</td>\n",
       "      <td>7</td>\n",
       "      <td>61</td>\n",
       "      <td>51</td>\n",
       "      <td>73</td>\n",
       "    </tr>\n",
       "    <tr>\n",
       "      <td>Tuesday</td>\n",
       "      <td>5</td>\n",
       "      <td>45</td>\n",
       "      <td>30</td>\n",
       "      <td>65</td>\n",
       "    </tr>\n",
       "    <tr>\n",
       "      <td>Wednesday</td>\n",
       "      <td>9</td>\n",
       "      <td>59</td>\n",
       "      <td>29</td>\n",
       "      <td>83</td>\n",
       "    </tr>\n",
       "  </tbody>\n",
       "</table>\n",
       "</div>"
      ],
      "text/plain": [
       "                    count  mean  min  max\n",
       "From   day_of_week                       \n",
       "Home   Friday           4    44   38   50\n",
       "       Monday          19    45   31   67\n",
       "       Thursday         7    44   36   49\n",
       "       Tuesday          7    45   29   69\n",
       "       Wednesday        8    45   37   56\n",
       "Office Friday           5    59   54   66\n",
       "       Monday          14    47   32   59\n",
       "       Thursday         7    61   51   73\n",
       "       Tuesday          5    45   30   65\n",
       "       Wednesday        9    59   29   83"
      ]
     },
     "execution_count": 12,
     "metadata": {},
     "output_type": "execute_result"
    }
   ],
   "source": [
    "# Describe Duration (in minutes)\n",
    "df.groupby([\"From\", \"day_of_week\"])['Duration'].describe().loc[:,['count','mean','min','max']].round().astype(int)"
   ]
  },
  {
   "cell_type": "code",
   "execution_count": 13,
   "metadata": {
    "ExecuteTime": {
     "end_time": "2024-02-01T06:35:59.218016Z",
     "start_time": "2024-02-01T06:35:58.872511Z"
    },
    "code_folding": [
     0,
     17,
     32
    ]
   },
   "outputs": [
    {
     "data": {
      "image/png": "[encoded data removed]",
      "text/plain": [
       "<Figure size 720x720 with 2 Axes>"
      ]
     },
     "metadata": {
      "needs_background": "light"
     },
     "output_type": "display_data"
    }
   ],
   "source": [
    "# Define the order of days of the week\n",
    "day_order = ['Monday', 'Tuesday', 'Wednesday', 'Thursday', 'Friday']\n",
    "\n",
    "# Convert 'day_of_week' column to categorical with specified order\n",
    "df['day_of_week'] = pd.Categorical(df['day_of_week'], categories=day_order, ordered=True)\n",
    "\n",
    "# Boxplot for travel duration data distribution\n",
    "fig, (ax1, ax2) = plt.subplots(2, 1, figsize=(10, 10))\n",
    "\n",
    "# Creating top subplot\n",
    "bp1 = df[df['From']=='Home'].boxplot(\"Duration\", by=\"day_of_week\", ax=ax1)\n",
    "ax1.set_title('From Home')\n",
    "ax1.set_xlabel('')\n",
    "ax1.set_ylabel('Duration (mins)')\n",
    "ax1.grid(False)\n",
    "\n",
    "# Add median value text annotation\n",
    "for i, box in enumerate(ax1.get_xticks()):\n",
    "    # Calculate median value for each box\n",
    "    median_val = df[df['From']=='Home'].groupby(\"day_of_week\").median().iloc[i][\"Duration\"].astype(int)\n",
    "    \n",
    "    # Add text annotation at the median position\n",
    "    ax1.text(box, median_val, f'Median: \\n {median_val} mins', verticalalignment='bottom', horizontalalignment='center', color='black')\n",
    "\n",
    "\n",
    "# Creating bottom subplot\n",
    "bp2 = df[df['From']=='Office'].boxplot(\"Duration\", by=\"day_of_week\", ax=ax2)\n",
    "ax2.set_title('From Office')\n",
    "ax2.set_xlabel('')\n",
    "ax2.set_ylabel('Duration (mins)')\n",
    "\n",
    "# Add median value text annotation\n",
    "for i, box in enumerate(ax2.get_xticks()):\n",
    "    # Calculate median value for each box\n",
    "    median_val = df[df['From']=='Office'].groupby(\"day_of_week\").median().iloc[i][\"Duration\"].astype(int)\n",
    "    \n",
    "    # Add text annotation at the median position\n",
    "    ax2.text(box, median_val, f'Median: \\n {median_val} mins', verticalalignment='bottom', horizontalalignment='center', color='black')\n",
    "\n",
    "\n",
    "plt.suptitle('')\n",
    "\n",
    "# Remove grid for the second subplot\n",
    "ax2.grid(False)\n",
    "\n",
    "# Adjust layout for better spacing\n",
    "plt.tight_layout()\n",
    "\n",
    "# Show plot\n",
    "plt.show()"
   ]
  },
  {
   "cell_type": "markdown",
   "metadata": {},
   "source": [
    "It turns out the data does not show that there are significant travel time on Monday compared to other days. Perhaps it was simply psychological bias since I went to the office more frequently on Mondays for weekly report session with the management team. \n",
    "\n",
    "However, even with limited data on travel days other than Monday, it is interesting to see that travel from the office is significantly longer on Wednesdays to Fridays. Travels during later part of the week are often over 10 minutes longer compared to travels during Mondays and Tuesdays. I certainly did not realise that. "
   ]
  },
  {
   "cell_type": "markdown",
   "metadata": {},
   "source": [
    "## Correlation between fare and duration"
   ]
  },
  {
   "cell_type": "markdown",
   "metadata": {},
   "source": [
    "One usually assumes that rideshares' fare is correlated with travel duration (or distance). This is true even for traditional taxis where the meter primarily count the distance travelled. The meter even includes the time spent on travel even when its not moving, eg: in traffic. \n",
    "\n",
    "We have already seen from the data earlier that  the travel fares and durations could differ significantly even for the same travel distance. But, are there any correlation between travel fare and durations? I am especially curious for my travel originated from the office where it was well known that the traffic in TB Simatupang is exteremely bad in the evening. Furthermore it is not unreasonable to assume that the pricing model from the rideshare providers may account for potential delays during travel since similar model has been adopted by the taxis. Afterall they can get these potential delays data from Google Map route traffic, the same as how we as customers see potential time taken in Google Map.  "
   ]
  },
  {
   "cell_type": "code",
   "execution_count": 14,
   "metadata": {
    "ExecuteTime": {
     "end_time": "2024-02-01T06:35:59.233801Z",
     "start_time": "2024-02-01T06:35:59.219350Z"
    }
   },
   "outputs": [],
   "source": [
    "# Import stats module to calculate LBF\n",
    "import scipy.stats"
   ]
  },
  {
   "cell_type": "code",
   "execution_count": 26,
   "metadata": {
    "ExecuteTime": {
     "end_time": "2024-02-01T07:37:28.188253Z",
     "start_time": "2024-02-01T07:37:28.012286Z"
    },
    "code_folding": [
     0
    ]
   },
   "outputs": [
    {
     "data": {
      "image/png": "[encoded data removed]",
      "text/plain": [
       "<Figure size 720x576 with 1 Axes>"
      ]
     },
     "metadata": {
      "needs_background": "light"
     },
     "output_type": "display_data"
    }
   ],
   "source": [
    "# Scatter plot for Fare and Duration with color based on 'From'\n",
    "fig, ax = plt.subplots(figsize=(10, 8))\n",
    "\n",
    "# calculate LBF & the R2\n",
    "m1, b1, r_value1, p_value1, std_err1 = scipy.stats.linregress(df[df['From'] == 'Home'] ['Fare'],\n",
    "                                                                  df[df['From'] == 'Home'] ['Duration'])\n",
    "m2, b2, r_value2, p_value2, std_err2 = scipy.stats.linregress(df[df['From'] == 'Office'] ['Fare'],\n",
    "                                                                  df[df['From'] == 'Office'] ['Duration'])\n",
    "\n",
    "# Plot 2 scatter plot & their LBF & display the R^2\n",
    "scatter1 = ax.scatter(df[df['From'] == 'Home'] ['Fare'], df[df['From'] == 'Home'] ['Duration'],c='red',label='Home')\n",
    "ax.plot(df[df['From'] == 'Home'] ['Fare'], m1*df[df['From'] == 'Home'] ['Fare'] + b1,c='red')\n",
    "ax.annotate('R^2: ' + str(\"{:.2f}\".format(r_value1**2)), xy=(70000,51),c='red')\n",
    "\n",
    "scatter2 = ax.scatter(df[df['From'] == 'Office'] ['Fare'], df[df['From'] == 'Office'] ['Duration'],c='blue',label='Office')\n",
    "ax.plot(df[df['From'] == 'Office'] ['Fare'], m2*df[df['From'] == 'Office'] ['Fare'] + b2,c='blue')\n",
    "ax.annotate('R^2: ' + str(\"{:.2f}\".format(r_value2**2)), xy=(70000,60),c='blue')\n",
    "\n",
    "# Setting title to graph\n",
    "ax.set_title('Scatter Plot of Fare and Duration based on Travel origination')\n",
    "ax.set_xlabel('Fare (IDR)')\n",
    "ax.set_ylabel('Duration (mins)')\n",
    "\n",
    "# Add legend\n",
    "ax.legend()\n",
    "\n",
    "# Show plot\n",
    "plt.show()"
   ]
  },
  {
   "cell_type": "markdown",
   "metadata": {},
   "source": [
    "Looks like there is no strong correlation between travel fare and travel duration, as indicated by the low $R^{2}$\n",
    "\n",
    "One hypothesis could be that the demand for service is given higher weight in the rideshares' pricing model. Logically my morning trip from Mega Kuningan in the CBD should have higher demand from other prospective riders. In contrast, my evening trip from TB Simatupang simply has less demand around this area. "
   ]
  },
  {
   "cell_type": "code",
   "execution_count": null,
   "metadata": {},
   "outputs": [],
   "source": []
  },
  {
   "cell_type": "markdown",
   "metadata": {},
   "source": [
    "## Hypothesis testing"
   ]
  },
  {
   "cell_type": "markdown",
   "metadata": {},
   "source": [
    "In this section we will conduct hypothesis testing whether there are significant trip and fare differences between the two providers. If pvalue < 0.05 then we can considered that the samples are statistically different."
   ]
  },
  {
   "cell_type": "code",
   "execution_count": 16,
   "metadata": {
    "ExecuteTime": {
     "end_time": "2024-02-01T06:35:59.438098Z",
     "start_time": "2024-02-01T06:35:59.425017Z"
    },
    "code_folding": [
     0
    ]
   },
   "outputs": [],
   "source": [
    "# import stats module\n",
    "from scipy.stats import ttest_ind"
   ]
  },
  {
   "cell_type": "markdown",
   "metadata": {},
   "source": [
    "### Overall fare from home vs from office"
   ]
  },
  {
   "cell_type": "code",
   "execution_count": 17,
   "metadata": {
    "ExecuteTime": {
     "end_time": "2024-02-01T06:35:59.453221Z",
     "start_time": "2024-02-01T06:35:59.439011Z"
    },
    "code_folding": [
     0
    ]
   },
   "outputs": [
    {
     "data": {
      "text/plain": [
       "Ttest_indResult(statistic=4.220692123629692, pvalue=6.191721153034327e-05)"
      ]
     },
     "execution_count": 17,
     "metadata": {},
     "output_type": "execute_result"
    }
   ],
   "source": [
    "# ttest for fare of home vs office\n",
    "\n",
    "#define samples\n",
    "cat1 = df[df['From'] == 'Home'] ['Fare']\n",
    "cat2 = df[df['From'] == 'Office'] ['Fare']\n",
    "\n",
    "#perform Welch's t-test\n",
    "ttest_ind(cat1, cat2)"
   ]
  },
  {
   "cell_type": "markdown",
   "metadata": {},
   "source": [
    "Fare originated from home and office are statistically different"
   ]
  },
  {
   "cell_type": "markdown",
   "metadata": {},
   "source": [
    "### Fare from home for Provider1 vs Provider2"
   ]
  },
  {
   "cell_type": "code",
   "execution_count": 18,
   "metadata": {
    "ExecuteTime": {
     "end_time": "2024-02-01T06:35:59.468375Z",
     "start_time": "2024-02-01T06:35:59.454014Z"
    },
    "code_folding": [
     0
    ]
   },
   "outputs": [
    {
     "data": {
      "text/plain": [
       "Ttest_indResult(statistic=-1.4881017656220044, pvalue=0.14402157661902457)"
      ]
     },
     "execution_count": 18,
     "metadata": {},
     "output_type": "execute_result"
    }
   ],
   "source": [
    "# ttest for fare from home between provider 1 & 2\n",
    "\n",
    "#define samples\n",
    "cat1 = df[(df['From'] == 'Home') & (df['Provider'] == 'Provider1')] ['Fare']\n",
    "cat2 = df[(df['From'] == 'Home') & (df['Provider'] == 'Provider2')] ['Fare']\n",
    "\n",
    "#perform Welch's t-test\n",
    "ttest_ind(cat1, cat2)"
   ]
  },
  {
   "cell_type": "markdown",
   "metadata": {},
   "source": [
    "There is no significant difference between fare for trips originated from home for rides conducted via Provider1 and Provider2"
   ]
  },
  {
   "cell_type": "markdown",
   "metadata": {},
   "source": [
    "### Fare from office for Provider1 vs Provider2"
   ]
  },
  {
   "cell_type": "code",
   "execution_count": 19,
   "metadata": {
    "ExecuteTime": {
     "end_time": "2024-02-01T06:35:59.483677Z",
     "start_time": "2024-02-01T06:35:59.469253Z"
    },
    "code_folding": [
     0
    ]
   },
   "outputs": [
    {
     "data": {
      "text/plain": [
       "Ttest_indResult(statistic=-0.6291093039880321, pvalue=0.5330415051263946)"
      ]
     },
     "execution_count": 19,
     "metadata": {},
     "output_type": "execute_result"
    }
   ],
   "source": [
    "# ttest for fare from office between provider 1 & 2\n",
    "\n",
    "#define samples\n",
    "cat1 = df[(df['From'] == 'Office') & (df['Provider'] == 'Provider1')] ['Fare']\n",
    "cat2 = df[(df['From'] == 'Office') & (df['Provider'] == 'Provider2')] ['Fare']\n",
    "\n",
    "#perform Welch's t-test\n",
    "ttest_ind(cat1, cat2)"
   ]
  },
  {
   "cell_type": "markdown",
   "metadata": {},
   "source": [
    "There is no significant difference between fare for trips originated from office for rides conducted via Provider1 and Provider2"
   ]
  },
  {
   "cell_type": "markdown",
   "metadata": {},
   "source": [
    "### Overall duration from home vs from office"
   ]
  },
  {
   "cell_type": "code",
   "execution_count": 20,
   "metadata": {
    "ExecuteTime": {
     "end_time": "2024-02-01T06:35:59.499752Z",
     "start_time": "2024-02-01T06:35:59.484644Z"
    },
    "code_folding": [
     0
    ]
   },
   "outputs": [
    {
     "data": {
      "text/plain": [
       "Ttest_indResult(statistic=-3.985717654046981, pvalue=0.0001439696232272107)"
      ]
     },
     "execution_count": 20,
     "metadata": {},
     "output_type": "execute_result"
    }
   ],
   "source": [
    "# ttest for duration of home vs office\n",
    "\n",
    "#define samples\n",
    "cat1 = df[df['From'] == 'Home'] ['Duration']\n",
    "cat2 = df[df['From'] == 'Office'] ['Duration']\n",
    "\n",
    "#perform Welch's t-test\n",
    "ttest_ind(cat1, cat2)"
   ]
  },
  {
   "cell_type": "markdown",
   "metadata": {},
   "source": [
    "Trip duration originated from home and office are statistically different"
   ]
  },
  {
   "cell_type": "markdown",
   "metadata": {},
   "source": [
    "### Duration from home for Provider1 vs Provider2"
   ]
  },
  {
   "cell_type": "code",
   "execution_count": 21,
   "metadata": {
    "ExecuteTime": {
     "end_time": "2024-02-01T06:35:59.514819Z",
     "start_time": "2024-02-01T06:35:59.500645Z"
    },
    "code_folding": [
     0
    ]
   },
   "outputs": [
    {
     "data": {
      "text/plain": [
       "Ttest_indResult(statistic=-2.6960841168660505, pvalue=0.009974894309153371)"
      ]
     },
     "execution_count": 21,
     "metadata": {},
     "output_type": "execute_result"
    }
   ],
   "source": [
    "# ttest for fare from home between provider 1 & 2\n",
    "\n",
    "#define samples\n",
    "cat1 = df[(df['From'] == 'Home') & (df['Provider'] == 'Provider1')] ['Duration']\n",
    "cat2 = df[(df['From'] == 'Home') & (df['Provider'] == 'Provider2')] ['Duration']\n",
    "\n",
    "#perform Welch's t-test\n",
    "ttest_ind(cat1, cat2)"
   ]
  },
  {
   "cell_type": "markdown",
   "metadata": {
    "ExecuteTime": {
     "end_time": "2024-02-01T04:10:10.367259Z",
     "start_time": "2024-02-01T04:10:10.354704Z"
    }
   },
   "source": [
    "Trip duration from home is statistically different between Provider1 and Provider2"
   ]
  },
  {
   "cell_type": "markdown",
   "metadata": {},
   "source": [
    "### Duration from office for Provider1 vs Provider2"
   ]
  },
  {
   "cell_type": "code",
   "execution_count": 22,
   "metadata": {
    "ExecuteTime": {
     "end_time": "2024-02-01T06:35:59.530948Z",
     "start_time": "2024-02-01T06:35:59.517820Z"
    },
    "code_folding": [
     0
    ]
   },
   "outputs": [
    {
     "data": {
      "text/plain": [
       "Ttest_indResult(statistic=0.19722782722858406, pvalue=0.8447004284799403)"
      ]
     },
     "execution_count": 22,
     "metadata": {},
     "output_type": "execute_result"
    }
   ],
   "source": [
    "# ttest for fare from office between provider 1 & 2\n",
    "\n",
    "#define samples\n",
    "cat1 = df[(df['From'] == 'Office') & (df['Provider'] == 'Provider1')] ['Duration']\n",
    "cat2 = df[(df['From'] == 'Office') & (df['Provider'] == 'Provider2')] ['Duration']\n",
    "\n",
    "#perform Welch's t-test\n",
    "ttest_ind(cat1, cat2)"
   ]
  },
  {
   "cell_type": "markdown",
   "metadata": {},
   "source": [
    "There is no significant difference between trips duration originated from office if taken by Provider1 and Provider2"
   ]
  },
  {
   "cell_type": "markdown",
   "metadata": {},
   "source": [
    "## Optimum time to leave home or office"
   ]
  },
  {
   "cell_type": "markdown",
   "metadata": {},
   "source": [
    "This section shall explores my original goal of collecting these data. Are there optimum time to leave home or office to minimise the duration of being stuck in Jakarta's traffic.\n",
    "\n",
    "For simplicity, I will group by the travel start time in 5 minutes interval. Then we can see the average travel time for each of those 5 minutes group to see if an optimum time can be observed."
   ]
  },
  {
   "cell_type": "code",
   "execution_count": 27,
   "metadata": {
    "ExecuteTime": {
     "end_time": "2024-02-01T07:45:58.058566Z",
     "start_time": "2024-02-01T07:45:58.009978Z"
    },
    "code_folding": [
     0
    ]
   },
   "outputs": [
    {
     "data": {
      "text/html": [
       "<div>\n",
       "<style scoped>\n",
       "    .dataframe tbody tr th:only-of-type {\n",
       "        vertical-align: middle;\n",
       "    }\n",
       "\n",
       "    .dataframe tbody tr th {\n",
       "        vertical-align: top;\n",
       "    }\n",
       "\n",
       "    .dataframe thead th {\n",
       "        text-align: right;\n",
       "    }\n",
       "</style>\n",
       "<table border=\"1\" class=\"dataframe\">\n",
       "  <thead>\n",
       "    <tr style=\"text-align: right;\">\n",
       "      <th></th>\n",
       "      <th>interval</th>\n",
       "      <th>mean</th>\n",
       "      <th>count</th>\n",
       "    </tr>\n",
       "  </thead>\n",
       "  <tbody>\n",
       "    <tr>\n",
       "      <td>0</td>\n",
       "      <td>07:15</td>\n",
       "      <td>54.000000</td>\n",
       "      <td>1</td>\n",
       "    </tr>\n",
       "    <tr>\n",
       "      <td>1</td>\n",
       "      <td>07:30</td>\n",
       "      <td>46.000000</td>\n",
       "      <td>3</td>\n",
       "    </tr>\n",
       "    <tr>\n",
       "      <td>2</td>\n",
       "      <td>07:35</td>\n",
       "      <td>49.000000</td>\n",
       "      <td>7</td>\n",
       "    </tr>\n",
       "    <tr>\n",
       "      <td>3</td>\n",
       "      <td>07:40</td>\n",
       "      <td>42.636364</td>\n",
       "      <td>11</td>\n",
       "    </tr>\n",
       "    <tr>\n",
       "      <td>4</td>\n",
       "      <td>07:45</td>\n",
       "      <td>45.066667</td>\n",
       "      <td>15</td>\n",
       "    </tr>\n",
       "    <tr>\n",
       "      <td>5</td>\n",
       "      <td>07:50</td>\n",
       "      <td>44.250000</td>\n",
       "      <td>4</td>\n",
       "    </tr>\n",
       "    <tr>\n",
       "      <td>6</td>\n",
       "      <td>07:55</td>\n",
       "      <td>36.500000</td>\n",
       "      <td>2</td>\n",
       "    </tr>\n",
       "    <tr>\n",
       "      <td>7</td>\n",
       "      <td>08:00</td>\n",
       "      <td>45.000000</td>\n",
       "      <td>1</td>\n",
       "    </tr>\n",
       "    <tr>\n",
       "      <td>8</td>\n",
       "      <td>08:05</td>\n",
       "      <td>38.000000</td>\n",
       "      <td>1</td>\n",
       "    </tr>\n",
       "    <tr>\n",
       "      <td>9</td>\n",
       "      <td>16:20</td>\n",
       "      <td>63.000000</td>\n",
       "      <td>3</td>\n",
       "    </tr>\n",
       "    <tr>\n",
       "      <td>10</td>\n",
       "      <td>16:25</td>\n",
       "      <td>55.000000</td>\n",
       "      <td>2</td>\n",
       "    </tr>\n",
       "    <tr>\n",
       "      <td>11</td>\n",
       "      <td>16:30</td>\n",
       "      <td>51.500000</td>\n",
       "      <td>2</td>\n",
       "    </tr>\n",
       "    <tr>\n",
       "      <td>12</td>\n",
       "      <td>16:35</td>\n",
       "      <td>62.000000</td>\n",
       "      <td>1</td>\n",
       "    </tr>\n",
       "    <tr>\n",
       "      <td>13</td>\n",
       "      <td>16:40</td>\n",
       "      <td>66.000000</td>\n",
       "      <td>1</td>\n",
       "    </tr>\n",
       "    <tr>\n",
       "      <td>14</td>\n",
       "      <td>16:50</td>\n",
       "      <td>53.000000</td>\n",
       "      <td>2</td>\n",
       "    </tr>\n",
       "    <tr>\n",
       "      <td>15</td>\n",
       "      <td>16:55</td>\n",
       "      <td>57.750000</td>\n",
       "      <td>4</td>\n",
       "    </tr>\n",
       "    <tr>\n",
       "      <td>16</td>\n",
       "      <td>17:00</td>\n",
       "      <td>54.000000</td>\n",
       "      <td>1</td>\n",
       "    </tr>\n",
       "    <tr>\n",
       "      <td>17</td>\n",
       "      <td>17:05</td>\n",
       "      <td>58.000000</td>\n",
       "      <td>1</td>\n",
       "    </tr>\n",
       "    <tr>\n",
       "      <td>18</td>\n",
       "      <td>17:10</td>\n",
       "      <td>70.000000</td>\n",
       "      <td>1</td>\n",
       "    </tr>\n",
       "    <tr>\n",
       "      <td>19</td>\n",
       "      <td>17:25</td>\n",
       "      <td>58.000000</td>\n",
       "      <td>3</td>\n",
       "    </tr>\n",
       "    <tr>\n",
       "      <td>20</td>\n",
       "      <td>17:30</td>\n",
       "      <td>49.000000</td>\n",
       "      <td>2</td>\n",
       "    </tr>\n",
       "    <tr>\n",
       "      <td>21</td>\n",
       "      <td>17:35</td>\n",
       "      <td>55.500000</td>\n",
       "      <td>4</td>\n",
       "    </tr>\n",
       "    <tr>\n",
       "      <td>22</td>\n",
       "      <td>17:40</td>\n",
       "      <td>40.000000</td>\n",
       "      <td>1</td>\n",
       "    </tr>\n",
       "    <tr>\n",
       "      <td>23</td>\n",
       "      <td>17:50</td>\n",
       "      <td>49.000000</td>\n",
       "      <td>2</td>\n",
       "    </tr>\n",
       "    <tr>\n",
       "      <td>24</td>\n",
       "      <td>18:00</td>\n",
       "      <td>73.000000</td>\n",
       "      <td>1</td>\n",
       "    </tr>\n",
       "    <tr>\n",
       "      <td>25</td>\n",
       "      <td>18:05</td>\n",
       "      <td>56.500000</td>\n",
       "      <td>2</td>\n",
       "    </tr>\n",
       "    <tr>\n",
       "      <td>26</td>\n",
       "      <td>18:15</td>\n",
       "      <td>46.000000</td>\n",
       "      <td>2</td>\n",
       "    </tr>\n",
       "    <tr>\n",
       "      <td>27</td>\n",
       "      <td>18:35</td>\n",
       "      <td>32.500000</td>\n",
       "      <td>2</td>\n",
       "    </tr>\n",
       "    <tr>\n",
       "      <td>28</td>\n",
       "      <td>18:40</td>\n",
       "      <td>42.000000</td>\n",
       "      <td>2</td>\n",
       "    </tr>\n",
       "    <tr>\n",
       "      <td>29</td>\n",
       "      <td>18:55</td>\n",
       "      <td>36.000000</td>\n",
       "      <td>1</td>\n",
       "    </tr>\n",
       "  </tbody>\n",
       "</table>\n",
       "</div>"
      ],
      "text/plain": [
       "   interval       mean  count\n",
       "0     07:15  54.000000      1\n",
       "1     07:30  46.000000      3\n",
       "2     07:35  49.000000      7\n",
       "3     07:40  42.636364     11\n",
       "4     07:45  45.066667     15\n",
       "5     07:50  44.250000      4\n",
       "6     07:55  36.500000      2\n",
       "7     08:00  45.000000      1\n",
       "8     08:05  38.000000      1\n",
       "9     16:20  63.000000      3\n",
       "10    16:25  55.000000      2\n",
       "11    16:30  51.500000      2\n",
       "12    16:35  62.000000      1\n",
       "13    16:40  66.000000      1\n",
       "14    16:50  53.000000      2\n",
       "15    16:55  57.750000      4\n",
       "16    17:00  54.000000      1\n",
       "17    17:05  58.000000      1\n",
       "18    17:10  70.000000      1\n",
       "19    17:25  58.000000      3\n",
       "20    17:30  49.000000      2\n",
       "21    17:35  55.500000      4\n",
       "22    17:40  40.000000      1\n",
       "23    17:50  49.000000      2\n",
       "24    18:00  73.000000      1\n",
       "25    18:05  56.500000      2\n",
       "26    18:15  46.000000      2\n",
       "27    18:35  32.500000      2\n",
       "28    18:40  42.000000      2\n",
       "29    18:55  36.000000      1"
      ]
     },
     "execution_count": 27,
     "metadata": {},
     "output_type": "execute_result"
    }
   ],
   "source": [
    "# Extract only the time component\n",
    "\n",
    "# Group by every 5 minutes\n",
    "df['hour'] = pd.to_datetime(df['From_time']).dt.hour\n",
    "df['minute'] = pd.to_datetime(df['From_time']).dt.minute\n",
    "df['interval'] = df.apply(lambda row: f\"{row['hour']:02d}:{(row['minute'] // 5) * 5:02d}\", axis=1)\n",
    "\n",
    "\n",
    "# Group by the calculated intervals\n",
    "result = df.groupby('interval')['Duration'].agg( mean=( 'mean'), count=('count')).reset_index()\n",
    "\n",
    "result"
   ]
  },
  {
   "cell_type": "code",
   "execution_count": 24,
   "metadata": {
    "ExecuteTime": {
     "end_time": "2024-02-01T06:35:59.937373Z",
     "start_time": "2024-02-01T06:35:59.583753Z"
    },
    "code_folding": [
     0
    ]
   },
   "outputs": [
    {
     "data": {
      "image/png": "[encoded data removed]",
      "text/plain": [
       "<Figure size 864x360 with 2 Axes>"
      ]
     },
     "metadata": {
      "needs_background": "light"
     },
     "output_type": "display_data"
    }
   ],
   "source": [
    "# Create two subplots side by side\n",
    "fig, axs = plt.subplots(1, 2, figsize=(12, 5))\n",
    "\n",
    "result['hour'] = pd.to_datetime(result['interval']).dt.hour\n",
    "\n",
    "# Plot for data before midday\n",
    "axs[0].bar(result[result['hour'] < 12]['interval'], result[result['hour'] < 12]['mean'])\n",
    "axs[0].set_title('Trip from Home')\n",
    "axs[0].set_xlabel('')\n",
    "axs[0].set_ylabel('Duration (mins)')\n",
    "axs[0].tick_params(axis='x', rotation=45)\n",
    "\n",
    "# Plot for data after midday\n",
    "axs[1].bar(result[result['hour'] >= 12]['interval'], result[result['hour'] >= 12]['mean'])\n",
    "axs[1].set_title('Trip from Office')\n",
    "axs[1].set_xlabel('')\n",
    "axs[1].set_ylabel('Duration (mins)')\n",
    "axs[1].tick_params(axis='x', rotation=45)\n",
    "\n",
    "# Adjust layout for better spacing\n",
    "plt.tight_layout()\n",
    "\n",
    "# Show plot\n",
    "plt.show()"
   ]
  },
  {
   "cell_type": "markdown",
   "metadata": {},
   "source": [
    "There is no indication of an optimum time to leave home or office. Though there are a slight indication that leaving home later resulting in less traffic to the office. \n",
    "\n",
    "Another minor observation is that I was significantly more consistent to leave at home around the 7:40-7:50 window, where this 10 minutes window represents 58% of my travel start time in the morning. In contrast, my start time leaving the office is way more distributed, which could be contributed by more variety of workloads at the office. "
   ]
  },
  {
   "cell_type": "code",
   "execution_count": null,
   "metadata": {},
   "outputs": [],
   "source": []
  },
  {
   "cell_type": "code",
   "execution_count": null,
   "metadata": {},
   "outputs": [],
   "source": []
  },
  {
   "cell_type": "code",
   "execution_count": null,
   "metadata": {},
   "outputs": [],
   "source": []
  },
  {
   "cell_type": "code",
   "execution_count": null,
   "metadata": {},
   "outputs": [],
   "source": []
  },
  {
   "cell_type": "code",
   "execution_count": null,
   "metadata": {},
   "outputs": [],
   "source": []
  }
 ],
 "metadata": {
  "kernelspec": {
   "display_name": "Python 3",
   "language": "python",
   "name": "python3"
  },
  "language_info": {
   "codemirror_mode": {
    "name": "ipython",
    "version": 3
   },
   "file_extension": ".py",
   "mimetype": "text/x-python",
   "name": "python",
   "nbconvert_exporter": "python",
   "pygments_lexer": "ipython3",
   "version": "3.7.4"
  },
  "toc": {
   "base_numbering": 1,
   "nav_menu": {},
   "number_sections": true,
   "sideBar": true,
   "skip_h1_title": false,
   "title_cell": "Table of Contents",
   "title_sidebar": "Contents",
   "toc_cell": false,
   "toc_position": {
    "height": "calc(100% - 180px)",
    "left": "10px",
    "top": "150px",
    "width": "384px"
   },
   "toc_section_display": true,
   "toc_window_display": true
  }
 },
 "nbformat": 4,
 "nbformat_minor": 4
}

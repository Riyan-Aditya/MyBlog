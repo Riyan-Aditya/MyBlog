{
 "cells": [
  {
   "cell_type": "markdown",
   "metadata": {},
   "source": [
    "This is based from a tutorial video by Keith Galli:\n",
    "https://www.youtube.com/watch?v=M9Itm95JzL0"
   ]
  },
  {
   "cell_type": "markdown",
   "metadata": {},
   "source": [
    "Keith has taken the data from (http://jmcauley.ucsd.edu/data/amazon/) and cleaned the review only for books and the year 2014. He then took 1000 random samples from those subset \n",
    "\n",
    "\n",
    "Keith's data are provided in his Github: https://github.com/keithgalli/sklearn"
   ]
  },
  {
   "cell_type": "markdown",
   "metadata": {},
   "source": [
    "# Load data"
   ]
  },
  {
   "cell_type": "code",
   "execution_count": 89,
   "metadata": {
    "ExecuteTime": {
     "end_time": "2020-11-03T07:47:59.834271Z",
     "start_time": "2020-11-03T07:47:59.816738Z"
    }
   },
   "outputs": [],
   "source": [
    "import json\n",
    "import random"
   ]
  },
  {
   "cell_type": "code",
   "execution_count": 101,
   "metadata": {
    "ExecuteTime": {
     "end_time": "2020-11-03T07:54:53.279219Z",
     "start_time": "2020-11-03T07:54:53.263818Z"
    }
   },
   "outputs": [],
   "source": [
    "# create basic class to be neat\n",
    "class Sentiment:\n",
    "    NEGATIVE = \"NEGATIVE\"\n",
    "    NEUTRAL = \"NEUTRAL\"\n",
    "    POSITIVE = \"POSITIVE\"\n",
    "\n",
    "class Review:\n",
    "    def __init__(self, text, score):\n",
    "        self.text = text\n",
    "        self.score = score\n",
    "        self.sentiment = self.get_sentiment()\n",
    "    \n",
    "    def get_sentiment(self):\n",
    "        # assume score 1 and 2 are negative, 3 is neutral, 4 and 5 are positive (amazon review out of 5)\n",
    "        if self.score <= 2:\n",
    "            return Sentiment.NEGATIVE\n",
    "        elif self.score == 3:\n",
    "            return Sentiment.NEUTRAL\n",
    "        else:\n",
    "            return Sentiment.POSITIVE\n",
    "    \n",
    "class ReviewContainer:\n",
    "    def __init__(self, reviews):\n",
    "        self.reviews = reviews\n",
    "    \n",
    "    def get_text(self):\n",
    "        return [x.text for x in self.reviews]\n",
    "    \n",
    "    def get_sentiment(self):\n",
    "        return [x.sentiment for x in self.reviews]\n",
    "    \n",
    "    \n",
    "    def evenly_distribute(self):\n",
    "        negative = list(filter(lambda x: x.sentiment == Sentiment.NEGATIVE, self.reviews))\n",
    "        positive = list(filter(lambda x: x.sentiment == Sentiment.POSITIVE, self.reviews))\n",
    "        positive_shrunk = positive[:len(negative)]\n",
    "        self.reviews = negative + positive_shrunk\n",
    "        random.shuffle(self.reviews)\n",
    "        "
   ]
  },
  {
   "cell_type": "code",
   "execution_count": 72,
   "metadata": {
    "ExecuteTime": {
     "end_time": "2020-11-03T07:41:19.315080Z",
     "start_time": "2020-11-03T07:41:19.210794Z"
    }
   },
   "outputs": [],
   "source": [
    "# read the file\n",
    "file_name = \"C:/Users/Riyan Aditya/Desktop/ML_learning/project8_explore/Books_small_10000.json\"\n",
    "\n",
    "reviews = []\n",
    "\n",
    "with open(file_name) as f:\n",
    "    for line in f:\n",
    "        review = json.loads(line)\n",
    "        \n",
    "        reviews.append(Review(review['reviewText'],review['overall']))\n",
    "        "
   ]
  },
  {
   "cell_type": "code",
   "execution_count": 73,
   "metadata": {
    "ExecuteTime": {
     "end_time": "2020-11-03T07:41:21.886663Z",
     "start_time": "2020-11-03T07:41:21.880678Z"
    }
   },
   "outputs": [
    {
     "data": {
      "text/plain": [
       "'I hoped for Mia to have some peace in this book, but her story is so real and raw.  Broken World was so touching and emotional because you go from Mia\\'s trauma to her trying to cope.  I love the way the story displays how there is no \"just bouncing back\" from being sexually assaulted.  Mia showed us how those demons come for you every day and how sometimes they best you. I was so in the moment with Broken World and hurt with Mia because she was surrounded by people but so alone and I understood her feelings.  I found myself wishing I could give her some of my courage and strength or even just to be there for her.  Thank you Lizzy for putting a great character\\'s voice on a strong subject and making it so that other peoples story may be heard through Mia\\'s.'"
      ]
     },
     "execution_count": 73,
     "metadata": {},
     "output_type": "execute_result"
    }
   ],
   "source": [
    "reviews[5].text"
   ]
  },
  {
   "cell_type": "markdown",
   "metadata": {},
   "source": [
    "# Prep data"
   ]
  },
  {
   "cell_type": "code",
   "execution_count": 74,
   "metadata": {
    "ExecuteTime": {
     "end_time": "2020-11-03T07:41:39.774990Z",
     "start_time": "2020-11-03T07:41:39.759520Z"
    }
   },
   "outputs": [
    {
     "data": {
      "text/plain": [
       "10000"
      ]
     },
     "execution_count": 74,
     "metadata": {},
     "output_type": "execute_result"
    }
   ],
   "source": [
    "len(reviews)"
   ]
  },
  {
   "cell_type": "code",
   "execution_count": 75,
   "metadata": {
    "ExecuteTime": {
     "end_time": "2020-11-03T07:41:39.976096Z",
     "start_time": "2020-11-03T07:41:39.960163Z"
    }
   },
   "outputs": [],
   "source": [
    "from sklearn.model_selection import train_test_split"
   ]
  },
  {
   "cell_type": "code",
   "execution_count": 102,
   "metadata": {
    "ExecuteTime": {
     "end_time": "2020-11-03T07:54:57.968645Z",
     "start_time": "2020-11-03T07:54:57.954717Z"
    }
   },
   "outputs": [],
   "source": [
    "training, test = train_test_split(reviews,test_size = 0.33, random_state=42)\n",
    "\n",
    "train_container = ReviewContainer(training)\n",
    "test_container = ReviewContainer(test)\n"
   ]
  },
  {
   "cell_type": "code",
   "execution_count": 128,
   "metadata": {
    "ExecuteTime": {
     "end_time": "2020-11-03T08:12:32.597035Z",
     "start_time": "2020-11-03T08:12:32.587061Z"
    }
   },
   "outputs": [
    {
     "name": "stdout",
     "output_type": "stream",
     "text": [
      "436\n",
      "436\n"
     ]
    }
   ],
   "source": [
    "train_container.evenly_distribute()\n",
    "train_x = train_container.get_text()\n",
    "train_y = train_container.get_sentiment()\n",
    "\n",
    "test_container.evenly_distribute()\n",
    "test_x = test_container.get_text()\n",
    "test_y = test_container.get_sentiment()\n",
    "\n",
    "print(train_y.count(Sentiment.POSITIVE))\n",
    "print(train_y.count(Sentiment.NEGATIVE))\n"
   ]
  },
  {
   "cell_type": "markdown",
   "metadata": {},
   "source": [
    "## Bag of words vectorisation"
   ]
  },
  {
   "cell_type": "code",
   "execution_count": 159,
   "metadata": {
    "ExecuteTime": {
     "end_time": "2020-11-03T08:18:29.298697Z",
     "start_time": "2020-11-03T08:18:29.289055Z"
    }
   },
   "outputs": [],
   "source": [
    "from sklearn.feature_extraction.text import CountVectorizer, TfidfVectorizer"
   ]
  },
  {
   "cell_type": "code",
   "execution_count": 160,
   "metadata": {
    "ExecuteTime": {
     "end_time": "2020-11-03T08:19:27.745578Z",
     "start_time": "2020-11-03T08:19:27.641527Z"
    }
   },
   "outputs": [],
   "source": [
    "# apply bag of words vectorisation\n",
    "vectorizer = TfidfVectorizer()\n",
    "train_x_vectors = vectorizer.fit_transform(train_x)\n",
    "test_x_vectors = vectorizer.transform(test_x)"
   ]
  },
  {
   "cell_type": "code",
   "execution_count": 161,
   "metadata": {
    "ExecuteTime": {
     "end_time": "2020-11-03T08:19:30.172000Z",
     "start_time": "2020-11-03T08:19:30.161064Z"
    }
   },
   "outputs": [
    {
     "name": "stdout",
     "output_type": "stream",
     "text": [
      "Right into the second chapter, I was extremely confused. Once I got to chapter four, I was slightly upset and even more confused than before. This last book, this supposed culmination of a trilogy, was basically a different book altogether. I honestly felt like Divergent and Insurgent were the true beginning and end to a story, and Allegiant was fan fiction the author couldn't help but throw in.We get a completely different plot that ends up overshadowing the main plot of the first two books, our Mary Sue character apparently becomes a bit too perfect for the author to handle, and a character who is clearly emotionally unstable and extremely codependent on the main character suddenly becomes the main character himself.I adore Toby. He is like that hurt puppy you want to cuddle all day long. But we just spent two books cheering on the extremely perfect Tris. I don't mean perfect as in she can do no wrong, but I do mean that in the end she always fights for the greater good and we are all fans of the greater good. And now you're giving us the boy who spends all three books still in fear of his father, and honestly never getting over the abuse he felt growing up. He latches on to this inherently strong individual who offers him love and support in a way that no one else could. He is honestly weak, as shown throughout the the book and at the end. He doesn't give us any true character development. I'm supposed to just be okay with this because he is obviously the authors favorite character considering she gives him a voice here and some side stories? Or is she just bowing to the masses of little girl Toby-lovers and giving them what they want, which no author should ever do because it's not the fans' story to write? This is why fan fiction exists, so that creative folks don't have to worry about their work being manipulated by the audience.Ranting aside, the switch between characters was often confusing due to a lack in distinct character voices for both main characters, the ending was just random in a way that did not at all flow with the rest of the books, and everyone who is a fan could do without reading Allegiant altogether. It's just not worth it. I won't say I hate it because I do appreciate that we were given some kind of closure and while the random!plot was thrown in, it was an interesting theory to postulate.\n",
      "  (0, 6024)\t0.06394759104608384\n",
      "  (0, 7949)\t0.05142423532832169\n",
      "  (0, 4190)\t0.029166545018346285\n",
      "  (0, 416)\t0.02177700893112229\n",
      "  (0, 8011)\t0.050360219709120024\n",
      "  (0, 8693)\t0.03236122007742708\n",
      "  (0, 1508)\t0.057685913187202766\n",
      "  (0, 4472)\t0.03979015686890953\n",
      "  (0, 3394)\t0.03979015686890953\n",
      "  (0, 502)\t0.04854742253423062\n",
      "  (0, 3659)\t0.0451625574694406\n",
      "  (0, 6880)\t0.03278146755165109\n",
      "  (0, 8778)\t0.03644431429069247\n",
      "  (0, 8817)\t0.03862289793630816\n",
      "  (0, 6399)\t0.025697978704642396\n",
      "  (0, 8763)\t0.03644431429069247\n",
      "  (0, 2793)\t0.039483900706491264\n",
      "  (0, 6617)\t0.04361011524790346\n",
      "  (0, 3138)\t0.05142423532832169\n",
      "  (0, 2229)\t0.02742391279109992\n",
      "  (0, 6356)\t0.11537182637440553\n",
      "  (0, 2662)\t0.03666200413984391\n",
      "  (0, 1016)\t0.03582105396744989\n",
      "  (0, 8552)\t0.06028474430704248\n",
      "  (0, 2338)\t0.06028474430704248\n",
      "  :\t:\n",
      "  (0, 5478)\t0.09199365960584664\n",
      "  (0, 1906)\t0.06028474430704248\n",
      "  (0, 7678)\t0.0940766149075134\n",
      "  (0, 991)\t0.0398200585184527\n",
      "  (0, 4555)\t0.036024066816468456\n",
      "  (0, 7976)\t0.06055303683839282\n",
      "  (0, 808)\t0.03337405317107519\n",
      "  (0, 7919)\t0.029970069175138933\n",
      "  (0, 5185)\t0.02203513196560102\n",
      "  (0, 2781)\t0.028340556600505086\n",
      "  (0, 423)\t0.17136793395789615\n",
      "  (0, 8416)\t0.052630516747496005\n",
      "  (0, 7234)\t0.05142423532832169\n",
      "  (0, 3225)\t0.04636883888861493\n",
      "  (0, 8052)\t0.12914097445320916\n",
      "  (0, 3452)\t0.03157518613247677\n",
      "  (0, 5513)\t0.03711378285583424\n",
      "  (0, 1657)\t0.10284847065664338\n",
      "  (0, 2901)\t0.13910651666584478\n",
      "  (0, 8608)\t0.12480444167945098\n",
      "  (0, 1354)\t0.07837537511933015\n",
      "  (0, 6942)\t0.03758935010853259\n",
      "  (0, 7929)\t0.2807862469508092\n",
      "  (0, 4212)\t0.02589652936952743\n",
      "  (0, 6690)\t0.03562250330256485\n"
     ]
    }
   ],
   "source": [
    "print(train_x[0])\n",
    "print(train_x_vectors[0])"
   ]
  },
  {
   "cell_type": "markdown",
   "metadata": {},
   "source": [
    "# classification"
   ]
  },
  {
   "cell_type": "markdown",
   "metadata": {},
   "source": [
    "## Linear SVM"
   ]
  },
  {
   "cell_type": "code",
   "execution_count": 162,
   "metadata": {
    "ExecuteTime": {
     "end_time": "2020-11-03T08:19:31.376967Z",
     "start_time": "2020-11-03T08:19:31.097604Z"
    }
   },
   "outputs": [
    {
     "data": {
      "text/plain": [
       "SVC(kernel='linear')"
      ]
     },
     "execution_count": 162,
     "metadata": {},
     "output_type": "execute_result"
    }
   ],
   "source": [
    "from sklearn import svm\n",
    "\n",
    "clf_svm = svm.SVC(kernel='linear')\n",
    "clf_svm.fit(train_x_vectors, train_y)"
   ]
  },
  {
   "cell_type": "code",
   "execution_count": 163,
   "metadata": {
    "ExecuteTime": {
     "end_time": "2020-11-03T08:19:31.392958Z",
     "start_time": "2020-11-03T08:19:31.377964Z"
    }
   },
   "outputs": [
    {
     "data": {
      "text/plain": [
       "'1st let me say I love this series!  Gray and Promise is a wonderful love story.  Things started out so terrible for Promise, but along came Grayson .  The story is different from any mc book I have read.  I enjoyed each character in the series.  Cannot wait for the next book!!!'"
      ]
     },
     "execution_count": 163,
     "metadata": {},
     "output_type": "execute_result"
    }
   ],
   "source": [
    "test_x[0]"
   ]
  },
  {
   "cell_type": "code",
   "execution_count": 164,
   "metadata": {
    "ExecuteTime": {
     "end_time": "2020-11-03T08:19:31.531379Z",
     "start_time": "2020-11-03T08:19:31.521406Z"
    }
   },
   "outputs": [
    {
     "data": {
      "text/plain": [
       "<1x8906 sparse matrix of type '<class 'numpy.float64'>'\n",
       "\twith 38 stored elements in Compressed Sparse Row format>"
      ]
     },
     "execution_count": 164,
     "metadata": {},
     "output_type": "execute_result"
    }
   ],
   "source": [
    "test_x_vectors[0]"
   ]
  },
  {
   "cell_type": "code",
   "execution_count": 165,
   "metadata": {
    "ExecuteTime": {
     "end_time": "2020-11-03T08:19:31.764566Z",
     "start_time": "2020-11-03T08:19:31.750097Z"
    }
   },
   "outputs": [
    {
     "data": {
      "text/plain": [
       "array(['POSITIVE'], dtype='<U8')"
      ]
     },
     "execution_count": 165,
     "metadata": {},
     "output_type": "execute_result"
    }
   ],
   "source": [
    "clf_svm.predict(test_x_vectors[0])"
   ]
  },
  {
   "cell_type": "markdown",
   "metadata": {},
   "source": [
    "## Decision Tree"
   ]
  },
  {
   "cell_type": "code",
   "execution_count": 166,
   "metadata": {
    "ExecuteTime": {
     "end_time": "2020-11-03T08:19:32.276179Z",
     "start_time": "2020-11-03T08:19:32.165930Z"
    }
   },
   "outputs": [
    {
     "data": {
      "text/plain": [
       "DecisionTreeClassifier()"
      ]
     },
     "execution_count": 166,
     "metadata": {},
     "output_type": "execute_result"
    }
   ],
   "source": [
    "from sklearn.tree import DecisionTreeClassifier\n",
    "\n",
    "clf_dec = DecisionTreeClassifier()\n",
    "clf_dec.fit(train_x_vectors, train_y)"
   ]
  },
  {
   "cell_type": "code",
   "execution_count": 167,
   "metadata": {
    "ExecuteTime": {
     "end_time": "2020-11-03T08:19:32.370216Z",
     "start_time": "2020-11-03T08:19:32.361206Z"
    }
   },
   "outputs": [
    {
     "data": {
      "text/plain": [
       "array(['POSITIVE'], dtype='<U8')"
      ]
     },
     "execution_count": 167,
     "metadata": {},
     "output_type": "execute_result"
    }
   ],
   "source": [
    "clf_dec.predict(test_x_vectors[0])"
   ]
  },
  {
   "cell_type": "markdown",
   "metadata": {},
   "source": [
    "## Naive Bayes"
   ]
  },
  {
   "cell_type": "code",
   "execution_count": 168,
   "metadata": {
    "ExecuteTime": {
     "end_time": "2020-11-03T08:19:32.886129Z",
     "start_time": "2020-11-03T08:19:32.751938Z"
    }
   },
   "outputs": [
    {
     "data": {
      "text/plain": [
       "GaussianNB()"
      ]
     },
     "execution_count": 168,
     "metadata": {},
     "output_type": "execute_result"
    }
   ],
   "source": [
    "from sklearn.naive_bayes import GaussianNB\n",
    "\n",
    "clf_gnb = GaussianNB()\n",
    "clf_gnb.fit(train_x_vectors.toarray(), train_y)"
   ]
  },
  {
   "cell_type": "code",
   "execution_count": 169,
   "metadata": {
    "ExecuteTime": {
     "end_time": "2020-11-03T08:19:32.965885Z",
     "start_time": "2020-11-03T08:19:32.946936Z"
    }
   },
   "outputs": [
    {
     "data": {
      "text/plain": [
       "array(['NEGATIVE'], dtype='<U8')"
      ]
     },
     "execution_count": 169,
     "metadata": {},
     "output_type": "execute_result"
    }
   ],
   "source": [
    "clf_gnb.predict(test_x_vectors[0].toarray())"
   ]
  },
  {
   "cell_type": "markdown",
   "metadata": {},
   "source": [
    "## Logistic Regression"
   ]
  },
  {
   "cell_type": "code",
   "execution_count": 170,
   "metadata": {
    "ExecuteTime": {
     "end_time": "2020-11-03T08:19:33.654358Z",
     "start_time": "2020-11-03T08:19:33.342712Z"
    }
   },
   "outputs": [
    {
     "data": {
      "text/plain": [
       "LogisticRegression()"
      ]
     },
     "execution_count": 170,
     "metadata": {},
     "output_type": "execute_result"
    }
   ],
   "source": [
    "from sklearn.linear_model import LogisticRegression\n",
    "\n",
    "clf_log = LogisticRegression()\n",
    "clf_log.fit(train_x_vectors.toarray(), train_y)"
   ]
  },
  {
   "cell_type": "code",
   "execution_count": 171,
   "metadata": {
    "ExecuteTime": {
     "end_time": "2020-11-03T08:19:33.669316Z",
     "start_time": "2020-11-03T08:19:33.656351Z"
    }
   },
   "outputs": [
    {
     "data": {
      "text/plain": [
       "array(['POSITIVE'], dtype='<U8')"
      ]
     },
     "execution_count": 171,
     "metadata": {},
     "output_type": "execute_result"
    }
   ],
   "source": [
    "clf_log.predict(test_x_vectors[0].toarray())"
   ]
  },
  {
   "cell_type": "markdown",
   "metadata": {},
   "source": [
    "# Evaluation"
   ]
  },
  {
   "cell_type": "markdown",
   "metadata": {},
   "source": [
    "## mean accuracy"
   ]
  },
  {
   "cell_type": "code",
   "execution_count": 172,
   "metadata": {
    "ExecuteTime": {
     "end_time": "2020-11-03T08:19:34.282620Z",
     "start_time": "2020-11-03T08:19:34.133439Z"
    }
   },
   "outputs": [
    {
     "data": {
      "text/plain": [
       "0.8076923076923077"
      ]
     },
     "execution_count": 172,
     "metadata": {},
     "output_type": "execute_result"
    }
   ],
   "source": [
    "clf_svm.score(test_x_vectors, test_y)"
   ]
  },
  {
   "cell_type": "code",
   "execution_count": 173,
   "metadata": {
    "ExecuteTime": {
     "end_time": "2020-11-03T08:19:34.344859Z",
     "start_time": "2020-11-03T08:19:34.329898Z"
    }
   },
   "outputs": [
    {
     "data": {
      "text/plain": [
       "0.6538461538461539"
      ]
     },
     "execution_count": 173,
     "metadata": {},
     "output_type": "execute_result"
    }
   ],
   "source": [
    "clf_dec.score(test_x_vectors, test_y)"
   ]
  },
  {
   "cell_type": "code",
   "execution_count": 174,
   "metadata": {
    "ExecuteTime": {
     "end_time": "2020-11-03T08:19:34.592866Z",
     "start_time": "2020-11-03T08:19:34.516071Z"
    }
   },
   "outputs": [
    {
     "data": {
      "text/plain": [
       "0.6610576923076923"
      ]
     },
     "execution_count": 174,
     "metadata": {},
     "output_type": "execute_result"
    }
   ],
   "source": [
    "clf_gnb.score(test_x_vectors.toarray(), test_y)"
   ]
  },
  {
   "cell_type": "code",
   "execution_count": 175,
   "metadata": {
    "ExecuteTime": {
     "end_time": "2020-11-03T08:19:35.062254Z",
     "start_time": "2020-11-03T08:19:35.050250Z"
    }
   },
   "outputs": [
    {
     "data": {
      "text/plain": [
       "0.8052884615384616"
      ]
     },
     "execution_count": 175,
     "metadata": {},
     "output_type": "execute_result"
    }
   ],
   "source": [
    "clf_log.score(test_x_vectors, test_y)"
   ]
  },
  {
   "cell_type": "markdown",
   "metadata": {},
   "source": [
    "## f1 score"
   ]
  },
  {
   "cell_type": "code",
   "execution_count": 176,
   "metadata": {
    "ExecuteTime": {
     "end_time": "2020-11-03T08:19:36.353660Z",
     "start_time": "2020-11-03T08:19:36.344716Z"
    }
   },
   "outputs": [],
   "source": [
    "from sklearn.metrics import f1_score"
   ]
  },
  {
   "cell_type": "code",
   "execution_count": 177,
   "metadata": {
    "ExecuteTime": {
     "end_time": "2020-11-03T08:19:37.628197Z",
     "start_time": "2020-11-03T08:19:37.490018Z"
    }
   },
   "outputs": [
    {
     "data": {
      "text/plain": [
       "array([0.80582524, 0.80952381])"
      ]
     },
     "execution_count": 177,
     "metadata": {},
     "output_type": "execute_result"
    }
   ],
   "source": [
    "f1_score(test_y, clf_svm.predict(test_x_vectors), average = None, labels=[Sentiment.POSITIVE, Sentiment.NEGATIVE])"
   ]
  },
  {
   "cell_type": "markdown",
   "metadata": {},
   "source": [
    "This means the model is good for positive, but bad for neutral and negative"
   ]
  },
  {
   "cell_type": "code",
   "execution_count": 178,
   "metadata": {
    "ExecuteTime": {
     "end_time": "2020-11-03T08:20:24.583919Z",
     "start_time": "2020-11-03T08:20:24.567997Z"
    }
   },
   "outputs": [
    {
     "data": {
      "text/plain": [
       "array([0.65048544, 0.65714286])"
      ]
     },
     "execution_count": 178,
     "metadata": {},
     "output_type": "execute_result"
    }
   ],
   "source": [
    "f1_score(test_y, clf_dec.predict(test_x_vectors), average = None, labels=[Sentiment.POSITIVE, Sentiment.NEGATIVE])"
   ]
  },
  {
   "cell_type": "code",
   "execution_count": 179,
   "metadata": {
    "ExecuteTime": {
     "end_time": "2020-11-03T08:20:24.895524Z",
     "start_time": "2020-11-03T08:20:24.817225Z"
    }
   },
   "outputs": [
    {
     "data": {
      "text/plain": [
       "array([0.65693431, 0.66508314])"
      ]
     },
     "execution_count": 179,
     "metadata": {},
     "output_type": "execute_result"
    }
   ],
   "source": [
    "f1_score(test_y, clf_gnb.predict(test_x_vectors.toarray()), average = None, labels=[Sentiment.POSITIVE, Sentiment.NEGATIVE])"
   ]
  },
  {
   "cell_type": "code",
   "execution_count": 180,
   "metadata": {
    "ExecuteTime": {
     "end_time": "2020-11-03T08:20:26.189280Z",
     "start_time": "2020-11-03T08:20:26.180337Z"
    }
   },
   "outputs": [
    {
     "data": {
      "text/plain": [
       "array([0.80291971, 0.80760095])"
      ]
     },
     "execution_count": 180,
     "metadata": {},
     "output_type": "execute_result"
    }
   ],
   "source": [
    "f1_score(test_y, clf_log.predict(test_x_vectors), average = None, labels=[Sentiment.POSITIVE, Sentiment.NEGATIVE])"
   ]
  },
  {
   "cell_type": "markdown",
   "metadata": {},
   "source": [
    "All the model pretty much only good for positive reviews"
   ]
  },
  {
   "cell_type": "markdown",
   "metadata": {},
   "source": [
    "## Lets investigate"
   ]
  },
  {
   "cell_type": "code",
   "execution_count": 126,
   "metadata": {
    "ExecuteTime": {
     "end_time": "2020-11-03T08:10:31.041222Z",
     "start_time": "2020-11-03T08:10:31.030285Z"
    }
   },
   "outputs": [
    {
     "data": {
      "text/plain": [
       "2767"
      ]
     },
     "execution_count": 126,
     "metadata": {},
     "output_type": "execute_result"
    }
   ],
   "source": [
    "test_y.count(Sentiment.POSITIVE)"
   ]
  },
  {
   "cell_type": "markdown",
   "metadata": {},
   "source": [
    "This suggests our model are bias for those positive label"
   ]
  },
  {
   "cell_type": "code",
   "execution_count": 127,
   "metadata": {
    "ExecuteTime": {
     "end_time": "2020-11-03T08:10:35.245527Z",
     "start_time": "2020-11-03T08:10:35.229085Z"
    }
   },
   "outputs": [
    {
     "data": {
      "text/plain": [
       "208"
      ]
     },
     "execution_count": 127,
     "metadata": {},
     "output_type": "execute_result"
    }
   ],
   "source": [
    "test_y.count(Sentiment.NEGATIVE)"
   ]
  },
  {
   "cell_type": "markdown",
   "metadata": {},
   "source": [
    "Lets use bigger dataset. 10000 random sample. Reload the data with the 10,000 samples"
   ]
  },
  {
   "cell_type": "markdown",
   "metadata": {},
   "source": [
    "Model slightly better after we use bigger training test and make it equal to 50-50 between positive and negative"
   ]
  },
  {
   "cell_type": "markdown",
   "metadata": {},
   "source": [
    "Then we notice that the test set is not evenly distributed. Lets make it the same"
   ]
  },
  {
   "cell_type": "markdown",
   "metadata": {},
   "source": [
    "Ok thats better now after we make the test set 50-50 too"
   ]
  },
  {
   "cell_type": "code",
   "execution_count": 181,
   "metadata": {
    "ExecuteTime": {
     "end_time": "2020-11-03T08:20:39.135746Z",
     "start_time": "2020-11-03T08:20:39.117235Z"
    }
   },
   "outputs": [
    {
     "data": {
      "text/plain": [
       "array(['POSITIVE', 'NEGATIVE', 'NEGATIVE'], dtype='<U8')"
      ]
     },
     "execution_count": 181,
     "metadata": {},
     "output_type": "execute_result"
    }
   ],
   "source": [
    "test_set = ['very brilliant', \"bad book do not buy\", \"horrible waste of time\"]\n",
    "new_test = vectorizer.transform(test_set)\n",
    "\n",
    "clf_svm.predict(new_test)"
   ]
  },
  {
   "cell_type": "markdown",
   "metadata": {},
   "source": [
    "Probably did not know what brilliant is"
   ]
  },
  {
   "cell_type": "markdown",
   "metadata": {},
   "source": [
    "## Use Gridsearch"
   ]
  },
  {
   "cell_type": "code",
   "execution_count": 182,
   "metadata": {
    "ExecuteTime": {
     "end_time": "2020-11-03T08:21:03.911943Z",
     "start_time": "2020-11-03T08:21:03.904968Z"
    }
   },
   "outputs": [],
   "source": [
    "from sklearn.model_selection import GridSearchCV"
   ]
  },
  {
   "cell_type": "code",
   "execution_count": 183,
   "metadata": {
    "ExecuteTime": {
     "end_time": "2020-11-03T08:26:04.068919Z",
     "start_time": "2020-11-03T08:25:52.176887Z"
    }
   },
   "outputs": [
    {
     "data": {
      "text/plain": [
       "GridSearchCV(cv=5, estimator=SVC(),\n",
       "             param_grid={'C': (1, 4, 8, 16, 32), 'kernel': ('linear', 'rbf')})"
      ]
     },
     "execution_count": 183,
     "metadata": {},
     "output_type": "execute_result"
    }
   ],
   "source": [
    "parameters ={'kernel':('linear','rbf'), 'C': (1,4,8,16,32)}\n",
    "\n",
    "svc = svm.SVC()\n",
    "clf = GridSearchCV(svc, parameters, cv = 5)\n",
    "clf.fit(train_x_vectors, train_y)"
   ]
  },
  {
   "cell_type": "code",
   "execution_count": 184,
   "metadata": {
    "ExecuteTime": {
     "end_time": "2020-11-03T08:28:35.877319Z",
     "start_time": "2020-11-03T08:28:35.862920Z"
    }
   },
   "outputs": [
    {
     "data": {
      "text/plain": [
       "{'C': 1, 'kernel': 'linear'}"
      ]
     },
     "execution_count": 184,
     "metadata": {},
     "output_type": "execute_result"
    }
   ],
   "source": [
    "clf.best_params_"
   ]
  },
  {
   "cell_type": "markdown",
   "metadata": {},
   "source": [
    "the best param already the one we started with anyway"
   ]
  },
  {
   "cell_type": "markdown",
   "metadata": {},
   "source": [
    "# saving model"
   ]
  },
  {
   "cell_type": "code",
   "execution_count": 186,
   "metadata": {
    "ExecuteTime": {
     "end_time": "2020-11-03T08:32:32.349131Z",
     "start_time": "2020-11-03T08:32:32.328189Z"
    }
   },
   "outputs": [],
   "source": [
    "import pickle\n",
    "\n",
    "with open('sentiment_classifier.pkl','wb') as f:\n",
    "    pickle.dump(clf, f)"
   ]
  },
  {
   "cell_type": "code",
   "execution_count": 187,
   "metadata": {
    "ExecuteTime": {
     "end_time": "2020-11-03T08:34:02.767133Z",
     "start_time": "2020-11-03T08:34:02.760176Z"
    }
   },
   "outputs": [],
   "source": [
    "# to load\n",
    "\n",
    "with open('sentiment_classifier.pkl','rb') as f:\n",
    "    loaded_clf = pickle.load(f)"
   ]
  },
  {
   "cell_type": "code",
   "execution_count": 188,
   "metadata": {
    "ExecuteTime": {
     "end_time": "2020-11-03T08:34:22.976180Z",
     "start_time": "2020-11-03T08:34:22.953245Z"
    }
   },
   "outputs": [
    {
     "data": {
      "text/plain": [
       "array(['POSITIVE'], dtype='<U8')"
      ]
     },
     "execution_count": 188,
     "metadata": {},
     "output_type": "execute_result"
    }
   ],
   "source": [
    "loaded_clf.predict(test_x_vectors[0])"
   ]
  },
  {
   "cell_type": "code",
   "execution_count": null,
   "metadata": {},
   "outputs": [],
   "source": []
  },
  {
   "cell_type": "code",
   "execution_count": null,
   "metadata": {},
   "outputs": [],
   "source": []
  },
  {
   "cell_type": "code",
   "execution_count": null,
   "metadata": {},
   "outputs": [],
   "source": []
  }
 ],
 "metadata": {
  "kernelspec": {
   "display_name": "Python 3",
   "language": "python",
   "name": "python3"
  },
  "language_info": {
   "codemirror_mode": {
    "name": "ipython",
    "version": 3
   },
   "file_extension": ".py",
   "mimetype": "text/x-python",
   "name": "python",
   "nbconvert_exporter": "python",
   "pygments_lexer": "ipython3",
   "version": "3.7.4"
  },
  "toc": {
   "base_numbering": 1,
   "nav_menu": {},
   "number_sections": true,
   "sideBar": true,
   "skip_h1_title": false,
   "title_cell": "Table of Contents",
   "title_sidebar": "Contents",
   "toc_cell": false,
   "toc_position": {
    "height": "calc(100% - 180px)",
    "left": "10px",
    "top": "150px",
    "width": "307.2px"
   },
   "toc_section_display": true,
   "toc_window_display": true
  }
 },
 "nbformat": 4,
 "nbformat_minor": 2
}

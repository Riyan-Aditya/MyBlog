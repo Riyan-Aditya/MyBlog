{
 "cells": [
  {
   "cell_type": "markdown",
   "metadata": {},
   "source": [
    "Video from: https://www.youtube.com/watch?v=RUQWPJ1T6Zc"
   ]
  },
  {
   "cell_type": "markdown",
   "metadata": {},
   "source": [
    "# Exercises"
   ]
  },
  {
   "cell_type": "code",
   "execution_count": 1,
   "metadata": {
    "ExecuteTime": {
     "end_time": "2020-11-02T06:19:29.563725Z",
     "start_time": "2020-11-02T06:19:29.548760Z"
    }
   },
   "outputs": [],
   "source": [
    "workshop_html = \"\"\"\n",
    "<html>\n",
    "\n",
    "<body>\n",
    "  <h1>Today's Workshop</h1>\n",
    "  <div id='agenda' style=\"background-color: aliceblue\">\n",
    "    <h2>Agenda</h2>\n",
    "    <p>Today's workshop is comprised of three main sections:</p>\n",
    "    <ol>\n",
    "      <li>HTML Basics</li>\n",
    "      <li>Scraping Basics</li>\n",
    "      <li>Scraping Pipeline</li>\n",
    "    </ol>\n",
    "  </div>\n",
    "  \n",
    "  <div id='tools' style='background-color: honeydew'>\n",
    "    <h2>Tools</h2>\n",
    "    <p>You will be learning about two primary Python libraries:</p>  \n",
    "    <ol>\n",
    "      <li>BeautifulSoup</li>\n",
    "      <li>requests</li>\n",
    "    </ol>\n",
    "  </div>\n",
    "</body>\n",
    "\n",
    "</html>\n",
    "\"\"\""
   ]
  },
  {
   "cell_type": "code",
   "execution_count": 2,
   "metadata": {
    "ExecuteTime": {
     "end_time": "2020-11-02T06:19:36.354623Z",
     "start_time": "2020-11-02T06:19:36.334682Z"
    }
   },
   "outputs": [
    {
     "data": {
      "text/html": [
       "\n",
       "<html>\n",
       "\n",
       "<body>\n",
       "  <h1>Today's Workshop</h1>\n",
       "  <div id='agenda' style=\"background-color: aliceblue\">\n",
       "    <h2>Agenda</h2>\n",
       "    <p>Today's workshop is comprised of three main sections:</p>\n",
       "    <ol>\n",
       "      <li>HTML Basics</li>\n",
       "      <li>Scraping Basics</li>\n",
       "      <li>Scraping Pipeline</li>\n",
       "    </ol>\n",
       "  </div>\n",
       "  \n",
       "  <div id='tools' style='background-color: honeydew'>\n",
       "    <h2>Tools</h2>\n",
       "    <p>You will be learning about two primary Python libraries:</p>  \n",
       "    <ol>\n",
       "      <li>BeautifulSoup</li>\n",
       "      <li>requests</li>\n",
       "    </ol>\n",
       "  </div>\n",
       "</body>\n",
       "\n",
       "</html>\n"
      ],
      "text/plain": [
       "<IPython.core.display.HTML object>"
      ]
     },
     "metadata": {},
     "output_type": "display_data"
    }
   ],
   "source": [
    "from IPython.core.display import display, HTML\n",
    "display(HTML(workshop_html))"
   ]
  },
  {
   "cell_type": "markdown",
   "metadata": {},
   "source": [
    "**Exercise 1** - Finding the header (Solutions to all exercises provide at bottom of notebook.)\n",
    "\n",
    "Parse workshop_html with BeautifulSoup. Find the main header text (h1) and save it in a variable. Verify that you have the text by checking the type of your variable."
   ]
  },
  {
   "cell_type": "code",
   "execution_count": 3,
   "metadata": {
    "ExecuteTime": {
     "end_time": "2020-11-02T06:20:45.912582Z",
     "start_time": "2020-11-02T06:20:45.769652Z"
    }
   },
   "outputs": [],
   "source": [
    "from bs4 import BeautifulSoup as bs\n",
    "soup = bs(workshop_html)"
   ]
  },
  {
   "cell_type": "code",
   "execution_count": 8,
   "metadata": {
    "ExecuteTime": {
     "end_time": "2020-11-02T06:21:51.167127Z",
     "start_time": "2020-11-02T06:21:51.156185Z"
    }
   },
   "outputs": [
    {
     "data": {
      "text/plain": [
       "\"Today's Workshop\""
      ]
     },
     "execution_count": 8,
     "metadata": {},
     "output_type": "execute_result"
    }
   ],
   "source": [
    "header1 = soup.find(\"h1\").text\n",
    "header1"
   ]
  },
  {
   "cell_type": "code",
   "execution_count": 9,
   "metadata": {
    "ExecuteTime": {
     "end_time": "2020-11-02T06:22:25.368849Z",
     "start_time": "2020-11-02T06:22:25.352893Z"
    }
   },
   "outputs": [
    {
     "data": {
      "text/plain": [
       "str"
      ]
     },
     "execution_count": 9,
     "metadata": {},
     "output_type": "execute_result"
    }
   ],
   "source": [
    "type(header1)"
   ]
  },
  {
   "cell_type": "markdown",
   "metadata": {},
   "source": [
    "**Exercise 2** - Finding the paragraphs\n",
    "\n",
    "Now find all the paragraphs in workshop_html and print out the text that you find."
   ]
  },
  {
   "cell_type": "code",
   "execution_count": 13,
   "metadata": {
    "ExecuteTime": {
     "end_time": "2020-11-02T06:23:21.472368Z",
     "start_time": "2020-11-02T06:23:21.459369Z"
    }
   },
   "outputs": [
    {
     "data": {
      "text/plain": [
       "[\"Today's workshop is comprised of three main sections:\",\n",
       " 'You will be learning about two primary Python libraries:']"
      ]
     },
     "execution_count": 13,
     "metadata": {},
     "output_type": "execute_result"
    }
   ],
   "source": [
    "paragraphs = [paragraph.text for paragraph in soup.find_all(\"p\")]\n",
    "paragraphs"
   ]
  },
  {
   "cell_type": "markdown",
   "metadata": {},
   "source": [
    "**BONUS: Exercise 3** - Finding the agenda items\n",
    "\n",
    "Create a list of all of the agenda items for today's workshop. Be sure to store only the TEXT for the AGENDA items!"
   ]
  },
  {
   "cell_type": "code",
   "execution_count": 58,
   "metadata": {
    "ExecuteTime": {
     "end_time": "2020-11-02T06:43:27.103785Z",
     "start_time": "2020-11-02T06:43:27.085833Z"
    }
   },
   "outputs": [
    {
     "data": {
      "text/plain": [
       "['HTML Basics', 'Scraping Basics', 'Scraping Pipeline']"
      ]
     },
     "execution_count": 58,
     "metadata": {},
     "output_type": "execute_result"
    }
   ],
   "source": [
    "agenda_div = soup.find_all(\"div\", id='agenda')\n",
    "agenda_lists = agenda_div[0].find_all(\"li\")\n",
    "agendas = [agenda.text for agenda in agenda_lists]\n",
    "agendas"
   ]
  },
  {
   "cell_type": "markdown",
   "metadata": {},
   "source": [
    "# Scrape test webpage"
   ]
  },
  {
   "cell_type": "code",
   "execution_count": 70,
   "metadata": {
    "ExecuteTime": {
     "end_time": "2020-11-02T06:51:52.251816Z",
     "start_time": "2020-11-02T06:51:51.803068Z"
    }
   },
   "outputs": [],
   "source": [
    "import urllib.request\n",
    "url = 'https://raw.github.com/kimfetti/Conferences/master/PyCon_2020/pycon_info.html'\n",
    "filename = 'pycon.html'\n",
    "pycon_html = urllib.request.urlretrieve(url, filename)\n",
    "\n",
    "#pycon_html = open('pycon_info.html').read()"
   ]
  },
  {
   "cell_type": "code",
   "execution_count": 74,
   "metadata": {
    "ExecuteTime": {
     "end_time": "2020-11-02T06:52:50.360902Z",
     "start_time": "2020-11-02T06:52:50.342951Z"
    }
   },
   "outputs": [],
   "source": [
    "pycon_html = open('pycon.html').read()\n",
    "soup = bs(pycon_html)"
   ]
  },
  {
   "cell_type": "code",
   "execution_count": 77,
   "metadata": {
    "ExecuteTime": {
     "end_time": "2020-11-02T06:53:14.885493Z",
     "start_time": "2020-11-02T06:53:14.871530Z"
    }
   },
   "outputs": [
    {
     "data": {
      "text/plain": [
       "[<a href=\"https://us.pycon.org/2020/about/\">WHAT IS PYCON?</a>,\n",
       " <a href=\"https://us.pycon.org/2020/schedule/tutorials/\">TUTORIAL SCHEDULE</a>,\n",
       " <a href=\"https://us.pycon.org/2020/speaking/\">SPEAKING AT PYCON</a>,\n",
       " <a href=\"https://us.pycon.org/2020/psf/\">PYTHON SOFTWARE FOUNDATION</a>,\n",
       " <a href=\"https://us.pycon.org/2020/schedule/presentation/50/\">Foundations of Numerical Computing in Python</a>,\n",
       " <a href=\"https://us.pycon.org/2020/schedule/presentation/72/\">It's Officially Legal so Let's Scrape the Web</a>,\n",
       " <a href=\"https://us.pycon.org/2020/schedule/presentation/54/\">A Beginner's Guide to Befriending Python</a>,\n",
       " <a href=\"https://us.pycon.org/2020/schedule/presentation/55/\">Scalable Computing with Dask</a>,\n",
       " <a href=\"https://us.pycon.org/2020/schedule/presentation/63/\">Creating a Great Python Package</a>,\n",
       " <a href=\"https://us.pycon.org/2020/schedule/presentation/45/\">Minimum Viable Documentation</a>,\n",
       " <a href=\"https://us.pycon.org/2020/schedule/presentation/74/\">Effective Data Visualization</a>]"
      ]
     },
     "execution_count": 77,
     "metadata": {},
     "output_type": "execute_result"
    }
   ],
   "source": [
    "soup.find_all('a')"
   ]
  },
  {
   "cell_type": "code",
   "execution_count": 83,
   "metadata": {
    "ExecuteTime": {
     "end_time": "2020-11-02T06:57:43.375565Z",
     "start_time": "2020-11-02T06:57:43.357652Z"
    }
   },
   "outputs": [
    {
     "data": {
      "text/plain": [
       "<div class=\"events\" id=\"today\">\n",
       "<h2>A Selection of Today's Events</h2>\n",
       "<p> Room 309, 9:00 am - <a href=\"https://us.pycon.org/2020/schedule/presentation/50/\">Foundations of Numerical Computing in Python</a></p>\n",
       "<p> Room 315, 9:00 am - <a href=\"https://us.pycon.org/2020/schedule/presentation/72/\">It's Officially Legal so Let's Scrape the Web</a></p>\n",
       "<p> Room 317, 1:20 pm - <a href=\"https://us.pycon.org/2020/schedule/presentation/54/\">A Beginner's Guide to Befriending Python</a></p>\n",
       "<p> Room 318, 1:20 pm -<a href=\"https://us.pycon.org/2020/schedule/presentation/55/\">Scalable Computing with Dask</a></p>\n",
       "</div>"
      ]
     },
     "execution_count": 83,
     "metadata": {},
     "output_type": "execute_result"
    }
   ],
   "source": [
    "today_div = soup.find(id='today')\n",
    "today_div"
   ]
  },
  {
   "cell_type": "code",
   "execution_count": 84,
   "metadata": {
    "ExecuteTime": {
     "end_time": "2020-11-02T06:57:44.200930Z",
     "start_time": "2020-11-02T06:57:44.185133Z"
    }
   },
   "outputs": [
    {
     "data": {
      "text/plain": [
       "bs4.element.Tag"
      ]
     },
     "execution_count": 84,
     "metadata": {},
     "output_type": "execute_result"
    }
   ],
   "source": [
    "type(today_div)"
   ]
  },
  {
   "cell_type": "markdown",
   "metadata": {},
   "source": [
    "Then we can continue to search within this BS object \"today_div\""
   ]
  },
  {
   "cell_type": "code",
   "execution_count": 85,
   "metadata": {
    "ExecuteTime": {
     "end_time": "2020-11-02T06:57:47.002963Z",
     "start_time": "2020-11-02T06:57:46.991008Z"
    }
   },
   "outputs": [
    {
     "data": {
      "text/plain": [
       "[<a href=\"https://us.pycon.org/2020/schedule/presentation/50/\">Foundations of Numerical Computing in Python</a>,\n",
       " <a href=\"https://us.pycon.org/2020/schedule/presentation/72/\">It's Officially Legal so Let's Scrape the Web</a>,\n",
       " <a href=\"https://us.pycon.org/2020/schedule/presentation/54/\">A Beginner's Guide to Befriending Python</a>,\n",
       " <a href=\"https://us.pycon.org/2020/schedule/presentation/55/\">Scalable Computing with Dask</a>]"
      ]
     },
     "execution_count": 85,
     "metadata": {},
     "output_type": "execute_result"
    }
   ],
   "source": [
    "today_div.find_all(\"a\")"
   ]
  },
  {
   "cell_type": "code",
   "execution_count": 87,
   "metadata": {
    "ExecuteTime": {
     "end_time": "2020-11-02T07:00:50.837436Z",
     "start_time": "2020-11-02T07:00:50.823503Z"
    }
   },
   "outputs": [
    {
     "data": {
      "text/plain": [
       "[<div class=\"events\" id=\"tomorrow\">\n",
       " <h2>Coming Up Tomorrow</h2>\n",
       " <p> Room 316, 9:00 am - <a href=\"https://us.pycon.org/2020/schedule/presentation/63/\">Creating a Great Python Package</a></p>\n",
       " <p> Room 319, 9:00 am - <a href=\"https://us.pycon.org/2020/schedule/presentation/45/\">Minimum Viable Documentation</a></p>\n",
       " <p> Room 309, 1:20 pm - <a href=\"https://us.pycon.org/2020/schedule/presentation/74/\">Effective Data Visualization</a>\n",
       " </p></div>]"
      ]
     },
     "execution_count": 87,
     "metadata": {},
     "output_type": "execute_result"
    }
   ],
   "source": [
    "soup.find_all(attrs={'class':'events','id':'tomorrow'})"
   ]
  },
  {
   "cell_type": "code",
   "execution_count": 92,
   "metadata": {
    "ExecuteTime": {
     "end_time": "2020-11-02T07:02:04.241847Z",
     "start_time": "2020-11-02T07:02:04.220903Z"
    }
   },
   "outputs": [
    {
     "data": {
      "text/plain": [
       "['https://us.pycon.org/2020/schedule/presentation/50/',\n",
       " 'https://us.pycon.org/2020/schedule/presentation/72/',\n",
       " 'https://us.pycon.org/2020/schedule/presentation/54/',\n",
       " 'https://us.pycon.org/2020/schedule/presentation/55/']"
      ]
     },
     "execution_count": 92,
     "metadata": {},
     "output_type": "execute_result"
    }
   ],
   "source": [
    "today_links = [link['href'] for link in today_div.find_all('a')]\n",
    "today_links"
   ]
  },
  {
   "cell_type": "markdown",
   "metadata": {},
   "source": [
    "**Exercise 4** - Tomorrow's event tuples\n",
    "\n",
    "Create a list of tuples for each of tomorrow's events. The first element in your tuples will be the event title and the second will be the event link."
   ]
  },
  {
   "cell_type": "code",
   "execution_count": 116,
   "metadata": {
    "ExecuteTime": {
     "end_time": "2020-11-02T07:17:08.608610Z",
     "start_time": "2020-11-02T07:17:08.591655Z"
    }
   },
   "outputs": [
    {
     "data": {
      "text/plain": [
       "[<a href=\"https://us.pycon.org/2020/schedule/presentation/63/\">Creating a Great Python Package</a>,\n",
       " <a href=\"https://us.pycon.org/2020/schedule/presentation/45/\">Minimum Viable Documentation</a>,\n",
       " <a href=\"https://us.pycon.org/2020/schedule/presentation/74/\">Effective Data Visualization</a>]"
      ]
     },
     "execution_count": 116,
     "metadata": {},
     "output_type": "execute_result"
    }
   ],
   "source": [
    "tmrw_event = soup.find(attrs={'class':'events','id':'tomorrow'})\n",
    "tmrw_event.find_all('a')"
   ]
  },
  {
   "cell_type": "code",
   "execution_count": 106,
   "metadata": {
    "ExecuteTime": {
     "end_time": "2020-11-02T07:10:36.218046Z",
     "start_time": "2020-11-02T07:10:36.209071Z"
    }
   },
   "outputs": [
    {
     "data": {
      "text/plain": [
       "[' Room 316, 9:00 am - Creating a Great Python Package',\n",
       " ' Room 319, 9:00 am - Minimum Viable Documentation',\n",
       " ' Room 309, 1:20 pm - Effective Data Visualization\\n']"
      ]
     },
     "execution_count": 106,
     "metadata": {},
     "output_type": "execute_result"
    }
   ],
   "source": [
    "tmrw_event_t = [event.text for event in tmrw_event[0].find_all('p')]\n",
    "tmrw_event_t"
   ]
  },
  {
   "cell_type": "code",
   "execution_count": 98,
   "metadata": {
    "ExecuteTime": {
     "end_time": "2020-11-02T07:08:55.249453Z",
     "start_time": "2020-11-02T07:08:55.239448Z"
    }
   },
   "outputs": [
    {
     "data": {
      "text/plain": [
       "['https://us.pycon.org/2020/schedule/presentation/63/',\n",
       " 'https://us.pycon.org/2020/schedule/presentation/45/',\n",
       " 'https://us.pycon.org/2020/schedule/presentation/74/']"
      ]
     },
     "execution_count": 98,
     "metadata": {},
     "output_type": "execute_result"
    }
   ],
   "source": [
    "tmrw_event_l = [link['href'] for link in tmrw_event[0].find_all('a') ]\n",
    "tmrw_event_l"
   ]
  },
  {
   "cell_type": "code",
   "execution_count": 107,
   "metadata": {
    "ExecuteTime": {
     "end_time": "2020-11-02T07:11:29.817530Z",
     "start_time": "2020-11-02T07:11:29.809552Z"
    }
   },
   "outputs": [
    {
     "data": {
      "text/plain": [
       "[(' Room 316, 9:00 am - Creating a Great Python Package',\n",
       "  ' Room 319, 9:00 am - Minimum Viable Documentation',\n",
       "  ' Room 309, 1:20 pm - Effective Data Visualization\\n'),\n",
       " ('https://us.pycon.org/2020/schedule/presentation/63/',\n",
       "  'https://us.pycon.org/2020/schedule/presentation/45/',\n",
       "  'https://us.pycon.org/2020/schedule/presentation/74/')]"
      ]
     },
     "execution_count": 107,
     "metadata": {},
     "output_type": "execute_result"
    }
   ],
   "source": [
    "tmrw_sch = [tuple(tmrw_event_t), tuple(tmrw_event_l)]\n",
    "tmrw_sch"
   ]
  },
  {
   "cell_type": "markdown",
   "metadata": {},
   "source": [
    "## Better solution"
   ]
  },
  {
   "cell_type": "code",
   "execution_count": 119,
   "metadata": {
    "ExecuteTime": {
     "end_time": "2020-11-02T07:17:39.371539Z",
     "start_time": "2020-11-02T07:17:39.361567Z"
    }
   },
   "outputs": [
    {
     "data": {
      "text/plain": [
       "[('Creating a Great Python Package',\n",
       "  'https://us.pycon.org/2020/schedule/presentation/63/'),\n",
       " ('Minimum Viable Documentation',\n",
       "  'https://us.pycon.org/2020/schedule/presentation/45/'),\n",
       " ('Effective Data Visualization',\n",
       "  'https://us.pycon.org/2020/schedule/presentation/74/')]"
      ]
     },
     "execution_count": 119,
     "metadata": {},
     "output_type": "execute_result"
    }
   ],
   "source": [
    "tomorrow_tuples = [(link.text, link['href']) for link in tmrw_event.find_all('a')]\n",
    "tomorrow_tuples"
   ]
  },
  {
   "cell_type": "code",
   "execution_count": null,
   "metadata": {},
   "outputs": [],
   "source": []
  },
  {
   "cell_type": "markdown",
   "metadata": {},
   "source": [
    "**Exercise 5** - Finding the event headers\n",
    "\n",
    "Using pycon_html find the header text for today's and tomorrow's events by referencing the events class."
   ]
  },
  {
   "cell_type": "code",
   "execution_count": 112,
   "metadata": {
    "ExecuteTime": {
     "end_time": "2020-11-02T07:13:28.720687Z",
     "start_time": "2020-11-02T07:13:28.708720Z"
    }
   },
   "outputs": [
    {
     "data": {
      "text/plain": [
       "'Coming Up Tomorrow'"
      ]
     },
     "execution_count": 112,
     "metadata": {},
     "output_type": "execute_result"
    }
   ],
   "source": [
    "tmrw_event = soup.find_all(attrs={'class':'events','id':'tomorrow'})\n",
    "tmrw_event[0].h2.text"
   ]
  },
  {
   "cell_type": "code",
   "execution_count": 113,
   "metadata": {
    "ExecuteTime": {
     "end_time": "2020-11-02T07:13:47.904295Z",
     "start_time": "2020-11-02T07:13:47.895319Z"
    }
   },
   "outputs": [
    {
     "data": {
      "text/plain": [
       "\"A Selection of Today's Events\""
      ]
     },
     "execution_count": 113,
     "metadata": {},
     "output_type": "execute_result"
    }
   ],
   "source": [
    "tdy_event = soup.find_all(attrs={'class':'events','id':'today'})\n",
    "tdy_event[0].h2.text"
   ]
  },
  {
   "cell_type": "code",
   "execution_count": 122,
   "metadata": {
    "ExecuteTime": {
     "end_time": "2020-11-02T07:20:30.458832Z",
     "start_time": "2020-11-02T07:20:30.441325Z"
    }
   },
   "outputs": [
    {
     "data": {
      "text/plain": [
       "[\"A Selection of Today's Events\", 'Coming Up Tomorrow']"
      ]
     },
     "execution_count": 122,
     "metadata": {},
     "output_type": "execute_result"
    }
   ],
   "source": [
    "event_days = soup.find_all(class_ = 'events')\n",
    "header_tags = [day.find('h2').text for day in event_days]\n",
    "header_tags"
   ]
  },
  {
   "cell_type": "code",
   "execution_count": null,
   "metadata": {},
   "outputs": [],
   "source": []
  }
 ],
 "metadata": {
  "kernelspec": {
   "display_name": "Python 3",
   "language": "python",
   "name": "python3"
  },
  "language_info": {
   "codemirror_mode": {
    "name": "ipython",
    "version": 3
   },
   "file_extension": ".py",
   "mimetype": "text/x-python",
   "name": "python",
   "nbconvert_exporter": "python",
   "pygments_lexer": "ipython3",
   "version": "3.7.4"
  },
  "toc": {
   "base_numbering": 1,
   "nav_menu": {},
   "number_sections": true,
   "sideBar": true,
   "skip_h1_title": false,
   "title_cell": "Table of Contents",
   "title_sidebar": "Contents",
   "toc_cell": false,
   "toc_position": {},
   "toc_section_display": true,
   "toc_window_display": false
  }
 },
 "nbformat": 4,
 "nbformat_minor": 2
}

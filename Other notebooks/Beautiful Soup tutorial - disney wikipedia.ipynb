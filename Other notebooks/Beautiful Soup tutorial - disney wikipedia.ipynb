{
 "cells": [
  {
   "cell_type": "markdown",
   "metadata": {},
   "source": [
    "Trying to follow a tutorial from:\n",
    "https://www.youtube.com/watch?v=Ewgy-G9cmbg\n",
    "\n",
    "Gonna attempt to do the tasks myself first before watching the video"
   ]
  },
  {
   "cell_type": "markdown",
   "metadata": {
    "ExecuteTime": {
     "end_time": "2020-10-27T08:19:44.649460Z",
     "start_time": "2020-10-27T08:19:44.646435Z"
    }
   },
   "source": [
    "# Import python library"
   ]
  },
  {
   "cell_type": "code",
   "execution_count": 1,
   "metadata": {
    "ExecuteTime": {
     "end_time": "2020-10-30T05:29:59.919462Z",
     "start_time": "2020-10-30T05:29:56.024113Z"
    }
   },
   "outputs": [],
   "source": [
    "import pandas as pd\n",
    "import requests\n",
    "from bs4 import BeautifulSoup as bs"
   ]
  },
  {
   "cell_type": "markdown",
   "metadata": {},
   "source": [
    "# Task1: Scrape Toy story 3 summary table to a dictionary"
   ]
  },
  {
   "cell_type": "markdown",
   "metadata": {},
   "source": [
    "Let's start from Toy story 3"
   ]
  },
  {
   "cell_type": "code",
   "execution_count": 2,
   "metadata": {
    "ExecuteTime": {
     "end_time": "2020-10-30T05:30:00.461382Z",
     "start_time": "2020-10-30T05:29:59.923328Z"
    }
   },
   "outputs": [],
   "source": [
    "# define the link\n",
    "my_url = 'https://en.wikipedia.org/wiki/Toy_Story_3'\n",
    "r = requests.get(my_url)\n",
    "\n",
    "# call the soup function to make the html readable\n",
    "page_soup = bs(r.content)\n",
    "info_box = page_soup.find(\"table\",{\"class\":\"infobox vevent\"})"
   ]
  },
  {
   "cell_type": "code",
   "execution_count": 3,
   "metadata": {
    "ExecuteTime": {
     "end_time": "2020-10-30T05:30:00.491337Z",
     "start_time": "2020-10-30T05:30:00.463411Z"
    }
   },
   "outputs": [
    {
     "data": {
      "text/plain": [
       "{'title': 'Toy Story 3',\n",
       " 'Directed by': 'Lee Unkrich',\n",
       " 'Produced by': 'Darla K. Anderson',\n",
       " 'Screenplay by': 'Michael Arndt',\n",
       " 'Story by': ['John Lasseter', 'Andrew Stanton', 'Lee Unkrich'],\n",
       " 'Starring': ['Tom Hanks',\n",
       "  'Tim Allen',\n",
       "  'Joan Cusack',\n",
       "  'Don Rickles',\n",
       "  'Wallace Shawn',\n",
       "  'John Ratzenberger',\n",
       "  'Estelle Harris',\n",
       "  'Blake Clark',\n",
       "  'Jeff Pidgeon',\n",
       "  'Ned Beatty',\n",
       "  'Michael Keaton',\n",
       "  'Jodi Benson',\n",
       "  'John Morris'],\n",
       " 'Music by': 'Randy Newman',\n",
       " 'Cinematography': ['Jeremy Lasky', 'Kim White'],\n",
       " 'Edited by': 'Ken Schretzmann',\n",
       " 'Production company': ['Walt Disney Pictures', 'Pixar Animation Studios'],\n",
       " 'Distributed by': 'Walt Disney Studios Motion Pictures',\n",
       " 'Release date': ['June 12, 2010 ( 2010-06-12 ) ( Taormina Film Fest )',\n",
       "  'June 18, 2010 ( 2010-06-18 ) (United States)'],\n",
       " 'Running time': '103 minutes [1]',\n",
       " 'Country': 'United States',\n",
       " 'Language': 'English',\n",
       " 'Budget': '$200 million [1]',\n",
       " 'Box office': '$1.067 billion [1]'}"
      ]
     },
     "execution_count": 3,
     "metadata": {},
     "output_type": "execute_result"
    }
   ],
   "source": [
    "info_rows = info_box.find_all(\"tr\")\n",
    "\n",
    "def get_content_value(row_data):\n",
    "    if row_data.find(\"li\"):\n",
    "        return [li.get_text(\" \", strip=True).replace(\"\\xa0\", \" \") for li in row_data.find_all(\"li\")]\n",
    "    else:\n",
    "        return row_data.get_text(\" \", strip=True).replace(\"\\xa0\", \" \")\n",
    "\n",
    "movie_info = {}\n",
    "    \n",
    "for index, row in enumerate(info_rows):\n",
    "\n",
    "    # For title row, movie info is in the title\n",
    "    if index == 0:\n",
    "        movie_info['title'] = row.find('th').get_text()\n",
    "    elif index == 1:   # can skip this second row since this is the picture of the movie\n",
    "        continue\n",
    "    else:\n",
    "        content_key = row.find(\"th\").get_text(\" \", strip=True)\n",
    "        content_value = get_content_value(row.find(\"td\"))\n",
    "    \n",
    "        movie_info[content_key] = content_value\n",
    "\n",
    "\n",
    "\n",
    "        \n",
    "movie_info\n",
    "        "
   ]
  },
  {
   "cell_type": "code",
   "execution_count": 4,
   "metadata": {
    "ExecuteTime": {
     "end_time": "2020-10-30T05:30:00.507294Z",
     "start_time": "2020-10-30T05:30:00.493331Z"
    }
   },
   "outputs": [
    {
     "data": {
      "text/plain": [
       "'Toy Story 3'"
      ]
     },
     "execution_count": 4,
     "metadata": {},
     "output_type": "execute_result"
    }
   ],
   "source": [
    "movie_info['title']"
   ]
  },
  {
   "cell_type": "markdown",
   "metadata": {},
   "source": [
    "# Task2: get info box for all movies"
   ]
  },
  {
   "cell_type": "code",
   "execution_count": 5,
   "metadata": {
    "ExecuteTime": {
     "end_time": "2020-10-30T05:30:00.538214Z",
     "start_time": "2020-10-30T05:30:00.509289Z"
    },
    "code_folding": []
   },
   "outputs": [],
   "source": [
    "def get_content_value(row_data):\n",
    "    if row_data.find(\"li\"):\n",
    "        return [li.get_text(\" \", strip=True).replace(\"\\xa0\", \" \") for li in row_data.find_all(\"li\")]\n",
    "    elif row_data.find(\"br\"):\n",
    "        return [text for text in row_data.stripped_strings]\n",
    "    else:\n",
    "        return row_data.get_text(\" \", strip=True).replace(\"\\xa0\", \" \")\n",
    "\n",
    "def clean_tags(soup):\n",
    "    for tag in soup.find_all([\"sup\",\"span\"]):\n",
    "        tag.decompose()\n",
    "        \n",
    "def get_info_box(url):\n",
    "\n",
    "    r = requests.get(url)\n",
    "    soup = bs(r.content)\n",
    "    \n",
    "    info_box = soup.find(\"table\",{\"class\":\"infobox vevent\"})\n",
    "    info_rows = info_box.find_all(\"tr\")\n",
    "    \n",
    "    clean_tags(soup)\n",
    "    \n",
    "    movie_info = {}\n",
    "\n",
    "    for index, row in enumerate(info_rows):\n",
    "\n",
    "        # For title row, movie info is in the title\n",
    "        if index == 0:\n",
    "            movie_info['title'] = row.find('th').get_text()\n",
    "        else:\n",
    "            header = row.find(\"th\")\n",
    "            if header:\n",
    "                content_key = row.find(\"th\").get_text(\" \", strip=True)\n",
    "                content_value = get_content_value(row.find(\"td\"))\n",
    "\n",
    "                movie_info[content_key] = content_value\n",
    "    \n",
    "    return movie_info\n"
   ]
  },
  {
   "cell_type": "code",
   "execution_count": 6,
   "metadata": {
    "ExecuteTime": {
     "end_time": "2020-10-30T05:30:00.692973Z",
     "start_time": "2020-10-30T05:30:00.541204Z"
    }
   },
   "outputs": [
    {
     "data": {
      "text/plain": [
       "{'title': 'One Little Indian',\n",
       " 'Directed by': 'Bernard McEveety',\n",
       " 'Produced by': 'Winston Hibler',\n",
       " 'Written by': 'Harry Spalding',\n",
       " 'Starring': ['James Garner',\n",
       "  'Vera Miles',\n",
       "  'Pat Hingle',\n",
       "  'Morgan Woodward',\n",
       "  'Jodie Foster'],\n",
       " 'Music by': 'Jerry Goldsmith',\n",
       " 'Cinematography': 'Charles F. Wheeler',\n",
       " 'Edited by': 'Robert Stafford',\n",
       " 'Production company': 'Walt Disney Productions',\n",
       " 'Distributed by': 'Buena Vista Distribution',\n",
       " 'Release date': ['June 20, 1973'],\n",
       " 'Running time': '90 Minutes',\n",
       " 'Country': 'United States',\n",
       " 'Language': 'English',\n",
       " 'Box office': '$2 million'}"
      ]
     },
     "execution_count": 6,
     "metadata": {},
     "output_type": "execute_result"
    }
   ],
   "source": [
    "get_info_box(\"https://en.wikipedia.org/wiki/One_Little_Indian_(film)\")"
   ]
  },
  {
   "cell_type": "code",
   "execution_count": 7,
   "metadata": {
    "ExecuteTime": {
     "end_time": "2020-10-30T05:30:01.045364Z",
     "start_time": "2020-10-30T05:30:00.694940Z"
    }
   },
   "outputs": [],
   "source": [
    "# define the link\n",
    "my_url = 'https://en.wikipedia.org/wiki/List_of_Walt_Disney_Pictures_films'\n",
    "r = requests.get(my_url)\n",
    "\n",
    "# call the soup function to make the html readable\n",
    "page_soup = bs(r.content)"
   ]
  },
  {
   "cell_type": "markdown",
   "metadata": {},
   "source": [
    "Notice that all the movie names in italic. Lets try to grab just the italic inside the table"
   ]
  },
  {
   "cell_type": "code",
   "execution_count": 8,
   "metadata": {
    "ExecuteTime": {
     "end_time": "2020-10-30T05:30:01.186035Z",
     "start_time": "2020-10-30T05:30:01.048393Z"
    }
   },
   "outputs": [
    {
     "data": {
      "text/plain": [
       "[<a href=\"/wiki/Academy_Award_Review_of_Walt_Disney_Cartoons\" title=\"Academy Award Review of Walt Disney Cartoons\">Academy Award Review of Walt Disney Cartoons</a>,\n",
       " <a href=\"/wiki/Snow_White_and_the_Seven_Dwarfs_(1937_film)\" title=\"Snow White and the Seven Dwarfs (1937 film)\">Snow White and the Seven Dwarfs</a>,\n",
       " <a href=\"/wiki/Pinocchio_(1940_film)\" title=\"Pinocchio (1940 film)\">Pinocchio</a>,\n",
       " <a href=\"/wiki/Fantasia_(1940_film)\" title=\"Fantasia (1940 film)\">Fantasia</a>,\n",
       " <a href=\"/wiki/The_Reluctant_Dragon_(1941_film)\" title=\"The Reluctant Dragon (1941 film)\">The Reluctant Dragon</a>,\n",
       " <a href=\"/wiki/Dumbo\" title=\"Dumbo\">Dumbo</a>,\n",
       " <a href=\"/wiki/Bambi\" title=\"Bambi\">Bambi</a>,\n",
       " <a href=\"/wiki/Saludos_Amigos\" title=\"Saludos Amigos\">Saludos Amigos</a>,\n",
       " <a href=\"/wiki/Victory_Through_Air_Power_(film)\" title=\"Victory Through Air Power (film)\">Victory Through Air Power</a>,\n",
       " <a href=\"/wiki/The_Three_Caballeros\" title=\"The Three Caballeros\">The Three Caballeros</a>]"
      ]
     },
     "execution_count": 8,
     "metadata": {},
     "output_type": "execute_result"
    }
   ],
   "source": [
    "movies = page_soup.select('.wikitable.sortable i a')\n",
    "movies[0:10]"
   ]
  },
  {
   "cell_type": "code",
   "execution_count": 9,
   "metadata": {
    "ExecuteTime": {
     "end_time": "2020-10-30T05:32:22.231368Z",
     "start_time": "2020-10-30T05:30:01.189025Z"
    },
    "code_folding": [],
    "scrolled": true
   },
   "outputs": [
    {
     "name": "stdout",
     "output_type": "stream",
     "text": [
      "439\n",
      "0\n",
      "10\n",
      "20\n",
      "30\n",
      "40\n",
      "Zorro the Avenger\n",
      "'NoneType' object has no attribute 'find'\n",
      "The Sign of Zorro\n",
      "'NoneType' object has no attribute 'find'\n",
      "50\n",
      "60\n",
      "70\n",
      "80\n",
      "90\n",
      "100\n",
      "110\n",
      "120\n",
      "True-Life Adventures\n",
      "'NoneType' object has no attribute 'find_all'\n",
      "130\n",
      "140\n",
      "150\n",
      "160\n",
      "170\n",
      "180\n",
      "190\n",
      "200\n",
      "210\n",
      "220\n",
      "230\n",
      "240\n",
      "250\n",
      "260\n",
      "270\n",
      "280\n",
      "290\n",
      "300\n",
      "310\n",
      "320\n",
      "330\n",
      "340\n",
      "350\n",
      "360\n",
      "370\n",
      "380\n",
      "390\n",
      "400\n",
      "410\n",
      "420\n",
      "430\n"
     ]
    }
   ],
   "source": [
    "print(len(movies))\n",
    "movie_info_list = []\n",
    "base_path = 'https://en.wikipedia.org/'\n",
    "\n",
    "for index, movie in enumerate(movies):\n",
    "    if index % 10 ==0:\n",
    "        print(index)\n",
    "    try:\n",
    "        relative_path = movie['href']\n",
    "        full_path = base_path + relative_path\n",
    "        title = movie['title']\n",
    "        \n",
    "        movie_info_list.append(get_info_box(full_path))\n",
    "    \n",
    "    except Exception as e:\n",
    "        print(movie.get_text())\n",
    "        print(e)"
   ]
  },
  {
   "cell_type": "markdown",
   "metadata": {},
   "source": [
    "## Save and reload data"
   ]
  },
  {
   "cell_type": "code",
   "execution_count": 10,
   "metadata": {
    "ExecuteTime": {
     "end_time": "2020-10-30T05:32:22.247464Z",
     "start_time": "2020-10-30T05:32:22.232331Z"
    }
   },
   "outputs": [],
   "source": [
    "import json\n",
    "\n",
    "def save_data(title,data):\n",
    "    with open(title, 'w', encoding ='utf-8') as f:\n",
    "        json.dump(data, f, ensure_ascii=False, indent = 2)"
   ]
  },
  {
   "cell_type": "code",
   "execution_count": 11,
   "metadata": {
    "ExecuteTime": {
     "end_time": "2020-10-30T05:32:22.262591Z",
     "start_time": "2020-10-30T05:32:22.248462Z"
    }
   },
   "outputs": [],
   "source": [
    "import json\n",
    "\n",
    "def load_data(title):\n",
    "    with open(title, encoding ='utf-8') as f:\n",
    "        return json.load(f)"
   ]
  },
  {
   "cell_type": "code",
   "execution_count": 12,
   "metadata": {
    "ExecuteTime": {
     "end_time": "2020-10-30T05:32:22.292763Z",
     "start_time": "2020-10-30T05:32:22.263527Z"
    }
   },
   "outputs": [],
   "source": [
    "save_data(\"disney_data_cleaned.json\",movie_info_list)"
   ]
  },
  {
   "cell_type": "markdown",
   "metadata": {},
   "source": [
    "# Task3: Clean data"
   ]
  },
  {
   "cell_type": "code",
   "execution_count": 13,
   "metadata": {
    "ExecuteTime": {
     "end_time": "2020-10-30T05:32:22.308151Z",
     "start_time": "2020-10-30T05:32:22.293448Z"
    }
   },
   "outputs": [],
   "source": [
    "movie_info_list = load_data(\"disney_data_cleaned.json\")"
   ]
  },
  {
   "cell_type": "markdown",
   "metadata": {},
   "source": [
    "Subtasks:\n",
    "* Clean up references [1]\n",
    "* convert running time into an integer\n",
    "* convert dates into datetime boject\n",
    "* split up long strings\n",
    "* convert budget and box office to numbers"
   ]
  },
  {
   "cell_type": "markdown",
   "metadata": {},
   "source": [
    "Clean up references and split up long strings already done above"
   ]
  },
  {
   "cell_type": "markdown",
   "metadata": {},
   "source": [
    "## Convert running time"
   ]
  },
  {
   "cell_type": "code",
   "execution_count": 14,
   "metadata": {
    "ExecuteTime": {
     "end_time": "2020-10-30T05:32:22.323333Z",
     "start_time": "2020-10-30T05:32:22.309141Z"
    }
   },
   "outputs": [],
   "source": [
    "# for movie in movie_info_list[0:20]:\n",
    "#     movie['Running time'] = movie['Running time'].split(\"min\", 1)[0]\n"
   ]
  },
  {
   "cell_type": "markdown",
   "metadata": {},
   "source": [
    "### Solution"
   ]
  },
  {
   "cell_type": "code",
   "execution_count": 15,
   "metadata": {
    "ExecuteTime": {
     "end_time": "2020-10-30T05:32:22.338293Z",
     "start_time": "2020-10-30T05:32:22.324329Z"
    }
   },
   "outputs": [
    {
     "data": {
      "text/plain": [
       "['41 minutes (74 minutes 1966 release)',\n",
       " '83 minutes',\n",
       " '88 minutes',\n",
       " '126 minutes',\n",
       " '74 minutes',\n",
       " '64 minutes',\n",
       " '70 minutes',\n",
       " '42 minutes',\n",
       " '65 min.',\n",
       " '71 minutes',\n",
       " '75 minutes',\n",
       " '94 minutes',\n",
       " '73 minutes',\n",
       " '75 minutes',\n",
       " '82 minutes',\n",
       " '68 minutes',\n",
       " '74 minutes',\n",
       " '96 minutes',\n",
       " '75 minutes',\n",
       " '84 minutes',\n",
       " '77 minutes',\n",
       " '92 minutes',\n",
       " '69 minutes',\n",
       " '81 minutes',\n",
       " ['60 minutes (VHS version)', '71 minutes (original)'],\n",
       " '127 minutes',\n",
       " '92 minutes',\n",
       " '76 minutes',\n",
       " '75 minutes',\n",
       " '73 minutes',\n",
       " '85 minutes',\n",
       " '81 minutes',\n",
       " '70 minutes',\n",
       " '90 min.',\n",
       " '80 minutes',\n",
       " '75 minutes',\n",
       " '83 minutes',\n",
       " '83 minutes',\n",
       " '72 minutes',\n",
       " '97 minutes',\n",
       " '75 minutes',\n",
       " '104 minutes',\n",
       " '93 minutes',\n",
       " '105 minutes',\n",
       " '95 minutes',\n",
       " '97 minutes',\n",
       " '134 minutes',\n",
       " '69 minutes',\n",
       " '92 minutes',\n",
       " '126 minutes',\n",
       " '79 minutes',\n",
       " '97 minutes',\n",
       " '128 minutes',\n",
       " '74 minutes',\n",
       " '91 minutes',\n",
       " '105 minutes',\n",
       " '98 minutes',\n",
       " '130 minutes',\n",
       " '89 min.',\n",
       " '93 minutes',\n",
       " '67 minutes',\n",
       " '98 minutes',\n",
       " '100 minutes',\n",
       " '118 minutes',\n",
       " '103 Minutes',\n",
       " '110 minutes',\n",
       " '80 min.',\n",
       " '79 minutes',\n",
       " '91 minutes',\n",
       " '91 minutes',\n",
       " '97 minutes',\n",
       " '118 minutes',\n",
       " '139 minutes',\n",
       " '92 minutes',\n",
       " '131 mins.',\n",
       " '87 minutes',\n",
       " '116 minutes',\n",
       " '93 minutes',\n",
       " '110 min.',\n",
       " '110 min.',\n",
       " '131 minutes',\n",
       " '101 minutes',\n",
       " '108 minutes',\n",
       " '84 minutes',\n",
       " '78 minutes',\n",
       " '75 minutes',\n",
       " ['164 minutes',\n",
       "  '(',\n",
       "  'Los Angeles',\n",
       "  'premiere)',\n",
       "  '144 minutes',\n",
       "  '(',\n",
       "  'New York City',\n",
       "  'premiere)',\n",
       "  '118 minutes',\n",
       "  '(General release)',\n",
       "  '172 minutes',\n",
       "  '(',\n",
       "  \"Director's Cut\",\n",
       "  ')'],\n",
       " '106 minutes',\n",
       " '110 min.',\n",
       " '99 minutes',\n",
       " '113 mins.',\n",
       " '108 minutes',\n",
       " '112 minutes',\n",
       " '93 minutes',\n",
       " '91 minutes',\n",
       " '93 minutes',\n",
       " '100 minutes',\n",
       " '100 minutes',\n",
       " '79 minutes',\n",
       " '96 minutes',\n",
       " '113 minutes',\n",
       " '89 minutes',\n",
       " ['118 minutes (1971 original version)',\n",
       "  '139 minutes (1996 reconstruction version)'],\n",
       " '92 minutes',\n",
       " '88 minutes',\n",
       " '92 minutes',\n",
       " '87 minutes',\n",
       " '93 minutes',\n",
       " '93 min.',\n",
       " '93 minutes',\n",
       " '90 Minutes',\n",
       " '83 minutes',\n",
       " '96 minutes',\n",
       " '88 minutes',\n",
       " '89 minutes',\n",
       " '91 minutes',\n",
       " '93 mins',\n",
       " '92 minutes',\n",
       " '97 min.',\n",
       " '100 minutes',\n",
       " '100 minutes',\n",
       " '89 minutes',\n",
       " '91 minutes',\n",
       " '112 minutes',\n",
       " '115 minutes',\n",
       " '95 minutes',\n",
       " '91 min.',\n",
       " '95 minutes',\n",
       " '104 minutes',\n",
       " '74 minutes',\n",
       " '48 minutes',\n",
       " '77 minutes',\n",
       " '104 minutes',\n",
       " '128 minutes',\n",
       " '101 minutes',\n",
       " '94 minutes',\n",
       " '104 minutes',\n",
       " '90 minutes',\n",
       " '100 minutes',\n",
       " '88 minutes',\n",
       " '93 minutes',\n",
       " '98 minutes',\n",
       " '100 minutes',\n",
       " '112 minutes',\n",
       " '84 minutes',\n",
       " '98 minutes',\n",
       " '97 minutes',\n",
       " '114 minutes',\n",
       " '96 minutes',\n",
       " '100 minutes',\n",
       " '109 minutes',\n",
       " '83 minutes',\n",
       " '90 minutes',\n",
       " '107 minutes',\n",
       " '96 minutes',\n",
       " '103 minutes',\n",
       " '91 min',\n",
       " '95 minutes',\n",
       " '105 minutes',\n",
       " '113 minutes',\n",
       " '80 minutes',\n",
       " '101 minutes',\n",
       " '89 minutes',\n",
       " '74 minutes',\n",
       " '90 minutes',\n",
       " '89 minutes',\n",
       " '110 minutes',\n",
       " '74 minutes',\n",
       " '93 minutes',\n",
       " '84 minutes',\n",
       " '83 minutes',\n",
       " '69 minutes',\n",
       " '77 minutes',\n",
       " '107 minutes',\n",
       " '93 minutes',\n",
       " '88 minutes',\n",
       " '108 minutes',\n",
       " '84 minutes',\n",
       " '121 minutes',\n",
       " '89 minutes',\n",
       " '104 minutes',\n",
       " '90 minutes',\n",
       " '86 minutes',\n",
       " '84 minutes',\n",
       " '108 minutes',\n",
       " '107 minutes',\n",
       " '96 minutes',\n",
       " '98 minutes',\n",
       " '105 minutes',\n",
       " '108 minutes',\n",
       " '94 minutes',\n",
       " '106 minutes',\n",
       " '102 minutes',\n",
       " '88 minutes',\n",
       " '102 minutes',\n",
       " '102 minutes',\n",
       " '97 minutes',\n",
       " '111 minutes',\n",
       " '100 minutes',\n",
       " '96 minutes',\n",
       " '98 minutes',\n",
       " '78 minutes',\n",
       " '81 minutes',\n",
       " '108 minutes',\n",
       " '89 minutes',\n",
       " '99 minutes',\n",
       " '89 minutes',\n",
       " '81 minutes',\n",
       " '92 minutes',\n",
       " '100 minutes',\n",
       " '89 minutes',\n",
       " '79 minutes',\n",
       " '91 minutes',\n",
       " '101 minutes',\n",
       " '104 minutes',\n",
       " '103 minutes',\n",
       " '86 minutes',\n",
       " '105 minutes',\n",
       " '93 minutes',\n",
       " '92 minutes',\n",
       " '98 minutes',\n",
       " '95 minutes',\n",
       " '93 minutes',\n",
       " '87 minutes',\n",
       " '93 minutes',\n",
       " '87 minutes',\n",
       " '128 minutes',\n",
       " '86 minutes',\n",
       " '95 minutes',\n",
       " '114 minutes',\n",
       " '93 minutes',\n",
       " '83 minutes',\n",
       " '83 minutes',\n",
       " '88 minutes',\n",
       " '78 minutes',\n",
       " '112 minutes',\n",
       " '92 minutes',\n",
       " '74 minutes',\n",
       " '77 minutes',\n",
       " '82 minutes',\n",
       " '104 minutes',\n",
       " '113 minutes',\n",
       " '100 minutes',\n",
       " '78 minutes',\n",
       " '83 minutes',\n",
       " '96 minutes',\n",
       " '115 minutes',\n",
       " '86 minutes',\n",
       " '92 minutes',\n",
       " '99 minutes',\n",
       " '73 minutes',\n",
       " '128 minutes',\n",
       " '85 minutes',\n",
       " '88 minutes',\n",
       " '125 minutes',\n",
       " '96 minutes',\n",
       " '104 minutes',\n",
       " '95 minutes',\n",
       " '72 minutes',\n",
       " '75 minutes',\n",
       " '61 minutes',\n",
       " '117 minutes',\n",
       " '94 minutes',\n",
       " '100 minutes',\n",
       " '143 minutes',\n",
       " '97 minutes',\n",
       " '85 minutes',\n",
       " '86 minutes',\n",
       " '50 minutes',\n",
       " '74 minutes',\n",
       " '136 minutes',\n",
       " '89 minutes',\n",
       " '76 minutes',\n",
       " '40 minutes',\n",
       " '120 minutes',\n",
       " '84 minutes',\n",
       " '113 minutes',\n",
       " '115 minutes',\n",
       " '131 minutes',\n",
       " '100 minutes',\n",
       " '68 minutes',\n",
       " '95 minutes',\n",
       " '97 minutes',\n",
       " '101 minutes',\n",
       " '119 minutes',\n",
       " '100 minutes',\n",
       " '76 minutes',\n",
       " '120 minutes',\n",
       " '81 minutes',\n",
       " '143 minutes',\n",
       " '106 minutes',\n",
       " '40 minutes',\n",
       " '120 minutes',\n",
       " '99 minutes',\n",
       " '82 minutes',\n",
       " '117 minutes',\n",
       " '151 minutes',\n",
       " '104 minutes',\n",
       " '76 minutes',\n",
       " '92 minutes',\n",
       " '95 minutes',\n",
       " '94 minutes',\n",
       " '168 minutes',\n",
       " '111 minutes',\n",
       " '82 minutes',\n",
       " '87 minutes',\n",
       " '110 minutes',\n",
       " '107 minutes',\n",
       " '124 minutes',\n",
       " '74 minutes',\n",
       " '83 minutes',\n",
       " '150 minutes',\n",
       " '97 minutes',\n",
       " '91 minutes',\n",
       " '100 minutes',\n",
       " ['111 minutes (theatrical)', '120 minutes (extended/Disney+)'],\n",
       " '96 minutes',\n",
       " '99 minutes',\n",
       " ['76 minutes', '85 minutes'],\n",
       " '98 minutes',\n",
       " '97 minutes',\n",
       " ['99 minutes (UK)', '90 minutes (U.S.)'],\n",
       " '96 minutes',\n",
       " 'N/A',\n",
       " '90 minutes',\n",
       " '101 minutes',\n",
       " 'N/A',\n",
       " '101 minutes',\n",
       " '96 minutes',\n",
       " '88 minutes',\n",
       " '97 minutes',\n",
       " '108 minutes',\n",
       " ['104 minutes (Original cut)', '84 minutes (Disney cut)'],\n",
       " '116 minutes',\n",
       " '103 minutes',\n",
       " '109 minutes',\n",
       " '115 minutes',\n",
       " '74 minutes',\n",
       " '123 minutes',\n",
       " '108 minutes',\n",
       " '100 minutes',\n",
       " '101 minutes',\n",
       " '125 minutes',\n",
       " 'N/A',\n",
       " '90 minutes',\n",
       " '88 minutes',\n",
       " '109 minutes',\n",
       " '89 minutes',\n",
       " '104 minutes',\n",
       " '137 minutes',\n",
       " '106 minutes',\n",
       " '69 minutes',\n",
       " '103 minutes',\n",
       " '95 minutes',\n",
       " '132 minutes',\n",
       " '77 minutes',\n",
       " '96 minutes',\n",
       " '93 minutes',\n",
       " '104 minutes',\n",
       " '87 minutes',\n",
       " '101 minutes',\n",
       " '130 minutes',\n",
       " '77 minutes',\n",
       " '104 minutes',\n",
       " '149 minutes',\n",
       " '92 minutes',\n",
       " '102 minutes',\n",
       " '125 minutes',\n",
       " '107 minutes',\n",
       " '77 minutes',\n",
       " '124 minutes',\n",
       " '97 minutes',\n",
       " '84 minutes',\n",
       " '127 minutes',\n",
       " '81 minutes',\n",
       " '102 minutes',\n",
       " '124 minutes',\n",
       " '129 minutes',\n",
       " '106 minutes',\n",
       " '82 minutes',\n",
       " '130 minutes',\n",
       " '94 minutes',\n",
       " '154 minutes',\n",
       " '94 minutes',\n",
       " '117 minutes',\n",
       " '108 minutes',\n",
       " '106 minutes',\n",
       " '98 minutes',\n",
       " '114 minutes',\n",
       " '97 minutes',\n",
       " '117 minutes',\n",
       " '103 minutes',\n",
       " '124 minutes',\n",
       " '107 minutes',\n",
       " '161 minutes',\n",
       " '80 minutes',\n",
       " '129 minutes',\n",
       " '76 minutes',\n",
       " '129 minutes',\n",
       " '102 minutes',\n",
       " 'N/A',\n",
       " '162 minutes',\n",
       " '105 minutes',\n",
       " '109 minutes',\n",
       " '118 minutes',\n",
       " '104 minutes',\n",
       " '99 minutes',\n",
       " '112 minutes',\n",
       " '131 minutes',\n",
       " '112 minutes',\n",
       " '76 minutes',\n",
       " '128 minutes',\n",
       " '100 minutes',\n",
       " '118 minutes',\n",
       " '119 minutes',\n",
       " '104 minutes',\n",
       " '100 minutes',\n",
       " '103 minutes',\n",
       " '114 minutes',\n",
       " '99 minutes',\n",
       " '102 minutes',\n",
       " '107 minutes',\n",
       " '78 minutes',\n",
       " '89 minutes',\n",
       " '95 minutes',\n",
       " '160 minutes',\n",
       " '85 minutes',\n",
       " '100 minutes',\n",
       " '95 minutes',\n",
       " '115 minutes',\n",
       " 'N/A',\n",
       " '100 minutes',\n",
       " 'N/A',\n",
       " 'N/A',\n",
       " 'N/A',\n",
       " 'N/A']"
      ]
     },
     "execution_count": 15,
     "metadata": {},
     "output_type": "execute_result"
    }
   ],
   "source": [
    "[movie.get('Running time', 'N/A') for movie in movie_info_list]"
   ]
  },
  {
   "cell_type": "code",
   "execution_count": 16,
   "metadata": {
    "ExecuteTime": {
     "end_time": "2020-10-30T05:32:22.354276Z",
     "start_time": "2020-10-30T05:32:22.339289Z"
    }
   },
   "outputs": [
    {
     "name": "stdout",
     "output_type": "stream",
     "text": [
      "85\n"
     ]
    }
   ],
   "source": [
    "\"85 minutes\"\n",
    "\n",
    "def minute_to_integer(running_time):\n",
    "    if running_time == 'N/A':\n",
    "        return None\n",
    "    if isinstance(running_time, list):\n",
    "        entry = running_time[0]\n",
    "        return int(entry.split(\" \")[0])\n",
    "    else:\n",
    "        return int(running_time.split(\" \")[0])\n",
    "    \n",
    "print(minute_to_integer([\"85 minutes\", \"90 minutes\"]))"
   ]
  },
  {
   "cell_type": "code",
   "execution_count": 17,
   "metadata": {
    "ExecuteTime": {
     "end_time": "2020-10-30T05:32:22.369209Z",
     "start_time": "2020-10-30T05:32:22.355282Z"
    }
   },
   "outputs": [],
   "source": [
    "for movie in movie_info_list:\n",
    "    movie['Running time (int)'] = minute_to_integer(movie.get('Running time', \"N/A\"))"
   ]
  },
  {
   "cell_type": "code",
   "execution_count": 18,
   "metadata": {
    "ExecuteTime": {
     "end_time": "2020-10-30T05:32:22.384169Z",
     "start_time": "2020-10-30T05:32:22.370207Z"
    }
   },
   "outputs": [
    {
     "data": {
      "text/plain": [
       "{'title': 'Black Is King',\n",
       " 'Directed by': ['Beyoncé Knowles-Carter',\n",
       "  'Kwasi Fordjour',\n",
       "  'Emmanuel Adjei',\n",
       "  'Blitz Bazawule',\n",
       "  'Ibra Ake',\n",
       "  'Jenn Nkiru',\n",
       "  'Jake Nava',\n",
       "  'Pierre Debusschere',\n",
       "  'Dikayl Rimmasch'],\n",
       " 'Produced by': ['Jeremy Sullivan',\n",
       "  'Jimi Adesanya',\n",
       "  'Blitz Bazawule',\n",
       "  'Ben Cooper',\n",
       "  'Astrid Edwards',\n",
       "  'Durwin Julies',\n",
       "  'Yoli Mes',\n",
       "  'Dafe Oboro',\n",
       "  'Akin Omotoso',\n",
       "  'Will Whitney',\n",
       "  'Lauren Baker',\n",
       "  'Jason Baum',\n",
       "  'Alex Chamberlain',\n",
       "  'Robert Day',\n",
       "  'Christophe Faubert',\n",
       "  'Brien Justiniano',\n",
       "  'Rethabile Molatela Mothobi',\n",
       "  'Sylvia Zakhary',\n",
       "  'Nathan Scherrer',\n",
       "  'Erinn Williams'],\n",
       " 'Written by': ['Beyoncé Knowles-Carter',\n",
       "  'Yrsa Daley-Ward',\n",
       "  'Clover Hope',\n",
       "  'Andrew Morrow'],\n",
       " 'Based on': ['The Lion King: The Gift'],\n",
       " 'Starring': ['Beyoncé',\n",
       "  'Folajomi Akinmurele',\n",
       "  'Connie Chiume',\n",
       "  'Nyaniso Ntsikelelo Dzedze',\n",
       "  'Nandi Madida',\n",
       "  'Warren Masemola',\n",
       "  'Sibusiso Mbeje',\n",
       "  'Fumi Odede',\n",
       "  'Stephen Ojo',\n",
       "  'Mary Twala'],\n",
       " 'Music by': ['James William Blades', 'MeLo-X', 'Derek Dixie'],\n",
       " 'Cinematography': ['Ryan Marie Helfant',\n",
       "  'Santiago Gonzalez',\n",
       "  'Muhammad Atta Ahmed',\n",
       "  'David Boanuh',\n",
       "  'Michael Fernandez',\n",
       "  'Erik Henriksson',\n",
       "  'Danny Hiele',\n",
       "  'Laura Merians',\n",
       "  'Nicolai Niermann',\n",
       "  'Kenechukwu Obiajulu',\n",
       "  'Malik Sayeed',\n",
       "  'Benoit Soler'],\n",
       " 'Edited by': ['Andrew Morrow',\n",
       "  'Maria-Celeste Garrahan',\n",
       "  'Haines Hall',\n",
       "  'Tom Watson'],\n",
       " 'Production company': ['Parkwood Entertainment', 'Walt Disney Pictures'],\n",
       " 'Distributed by': 'Disney+',\n",
       " 'Release date': ['July 31, 2020'],\n",
       " 'Running time': '85 minutes',\n",
       " 'Country': 'United States',\n",
       " 'Language': 'English',\n",
       " 'Running time (int)': 85}"
      ]
     },
     "execution_count": 18,
     "metadata": {},
     "output_type": "execute_result"
    }
   ],
   "source": [
    "movie_info_list[-10]"
   ]
  },
  {
   "cell_type": "markdown",
   "metadata": {},
   "source": [
    "## Convert budget and box movies to numbers"
   ]
  },
  {
   "cell_type": "code",
   "execution_count": 19,
   "metadata": {
    "ExecuteTime": {
     "end_time": "2020-10-30T05:32:22.400127Z",
     "start_time": "2020-10-30T05:32:22.386163Z"
    }
   },
   "outputs": [
    {
     "data": {
      "text/plain": [
       "{'title': 'The Jungle Book',\n",
       " 'Directed by': 'Jon Favreau',\n",
       " 'Produced by': ['Jon Favreau', 'Brigham Taylor'],\n",
       " 'Written by': 'Justin Marks',\n",
       " 'Based on': ['The Jungle Book', 'by', 'Rudyard Kipling'],\n",
       " 'Starring': ['Bill Murray',\n",
       "  'Ben Kingsley',\n",
       "  'Idris Elba',\n",
       "  \"Lupita Nyong'o\",\n",
       "  'Scarlett Johansson',\n",
       "  'Giancarlo Esposito',\n",
       "  'Christopher Walken',\n",
       "  'Neel Sethi'],\n",
       " 'Music by': 'John Debney',\n",
       " 'Cinematography': 'Bill Pope',\n",
       " 'Edited by': 'Mark Livolsi',\n",
       " 'Production company': ['Walt Disney Pictures', 'Fairview Entertainment'],\n",
       " 'Distributed by': ['Walt Disney Studios', 'Motion Pictures'],\n",
       " 'Release date': ['April 4, 2016 ( El Capitan Theatre )',\n",
       "  'April 15, 2016 (United States)'],\n",
       " 'Running time': '106 minutes',\n",
       " 'Country': 'United States',\n",
       " 'Language': 'English',\n",
       " 'Budget': '$175–177 million',\n",
       " 'Box office': '$966.6 million',\n",
       " 'Running time (int)': 106}"
      ]
     },
     "execution_count": 19,
     "metadata": {},
     "output_type": "execute_result"
    }
   ],
   "source": [
    "movie_info_list[-50]"
   ]
  },
  {
   "cell_type": "code",
   "execution_count": 20,
   "metadata": {
    "ExecuteTime": {
     "end_time": "2020-10-30T05:32:22.415121Z",
     "start_time": "2020-10-30T05:32:22.401125Z"
    }
   },
   "outputs": [
    {
     "data": {
      "text/plain": [
       "['N/A',\n",
       " '$1.49 million',\n",
       " '$2.6 million',\n",
       " '$2.28 million',\n",
       " '$600,000',\n",
       " '$950,000',\n",
       " '$858,000',\n",
       " 'N/A',\n",
       " '$788,000',\n",
       " 'N/A',\n",
       " '$1.35 million',\n",
       " '$2.125 million',\n",
       " 'N/A',\n",
       " '$1.5 million',\n",
       " '$1.5 million',\n",
       " 'N/A',\n",
       " '$2.9 million',\n",
       " '$1,800,000',\n",
       " '$3 million',\n",
       " 'N/A',\n",
       " '$4 million',\n",
       " '$2 million',\n",
       " '$300,000',\n",
       " '$1.8 million',\n",
       " 'N/A',\n",
       " '$5 million',\n",
       " 'N/A',\n",
       " '$4 million',\n",
       " 'N/A',\n",
       " 'N/A',\n",
       " 'N/A',\n",
       " 'N/A',\n",
       " 'N/A',\n",
       " 'N/A',\n",
       " '$700,000',\n",
       " 'N/A',\n",
       " 'N/A',\n",
       " 'N/A',\n",
       " 'N/A',\n",
       " 'N/A',\n",
       " '$6 million',\n",
       " 'under $1 million or $1,250,000',\n",
       " 'N/A',\n",
       " '$2 million',\n",
       " 'N/A',\n",
       " 'N/A',\n",
       " '$2.5 million',\n",
       " 'N/A',\n",
       " 'N/A',\n",
       " '$4 million',\n",
       " '$3.6 million',\n",
       " 'N/A',\n",
       " 'N/A',\n",
       " 'N/A',\n",
       " 'N/A',\n",
       " '$3 million',\n",
       " 'N/A',\n",
       " '$3 million',\n",
       " 'N/A',\n",
       " 'N/A',\n",
       " 'N/A',\n",
       " 'N/A',\n",
       " 'N/A',\n",
       " 'N/A',\n",
       " 'N/A',\n",
       " 'N/A',\n",
       " 'N/A',\n",
       " '$3 million',\n",
       " 'N/A',\n",
       " 'N/A',\n",
       " 'N/A',\n",
       " 'N/A',\n",
       " '$4.4–6 million',\n",
       " 'N/A',\n",
       " 'N/A',\n",
       " 'N/A',\n",
       " 'N/A',\n",
       " 'N/A',\n",
       " 'N/A',\n",
       " 'N/A',\n",
       " 'N/A',\n",
       " 'N/A',\n",
       " 'N/A',\n",
       " 'N/A',\n",
       " '$4 million',\n",
       " 'N/A',\n",
       " '$5 million',\n",
       " 'N/A',\n",
       " 'N/A',\n",
       " 'N/A',\n",
       " 'N/A',\n",
       " '$5 million',\n",
       " 'N/A',\n",
       " 'N/A',\n",
       " 'N/A',\n",
       " 'N/A',\n",
       " 'N/A',\n",
       " 'N/A',\n",
       " '$4 million',\n",
       " 'N/A',\n",
       " 'N/A',\n",
       " 'N/A',\n",
       " '$6.3 million',\n",
       " 'N/A',\n",
       " 'N/A',\n",
       " 'N/A',\n",
       " 'N/A',\n",
       " 'N/A',\n",
       " 'N/A',\n",
       " 'N/A',\n",
       " 'N/A',\n",
       " '$5 million',\n",
       " 'N/A',\n",
       " 'N/A',\n",
       " 'N/A',\n",
       " 'N/A',\n",
       " '$8 million',\n",
       " 'N/A',\n",
       " 'N/A',\n",
       " 'N/A',\n",
       " 'N/A',\n",
       " 'N/A',\n",
       " 'AU$1 million',\n",
       " 'N/A',\n",
       " 'N/A',\n",
       " 'N/A',\n",
       " 'N/A',\n",
       " '$5 million',\n",
       " 'N/A',\n",
       " 'N/A',\n",
       " 'N/A',\n",
       " '$7.5 million',\n",
       " 'N/A',\n",
       " '$10 million',\n",
       " 'N/A',\n",
       " 'N/A',\n",
       " '$3.5 to 4 million',\n",
       " 'N/A',\n",
       " 'N/A',\n",
       " 'N/A',\n",
       " '$5.25 million',\n",
       " '$20 million',\n",
       " 'N/A',\n",
       " 'N/A',\n",
       " '$9 million',\n",
       " 'N/A',\n",
       " '$6-8 million',\n",
       " '$20 million',\n",
       " 'N/A',\n",
       " 'N/A',\n",
       " '$18 million',\n",
       " '$12 million',\n",
       " '$14 million',\n",
       " 'N/A',\n",
       " '',\n",
       " '$5 million',\n",
       " 'unknown',\n",
       " '$20 million',\n",
       " '$11 million',\n",
       " '$28 million',\n",
       " '$44 million',\n",
       " 'N/A',\n",
       " 'N/A',\n",
       " '$14 million',\n",
       " '$9 million',\n",
       " 'N/A',\n",
       " 'A$8.7 million',\n",
       " '$31 million',\n",
       " '$18 million',\n",
       " '$5 million',\n",
       " '$40 million',\n",
       " '$20 million',\n",
       " 'N/A',\n",
       " '$14 million',\n",
       " '60 million Norwegian Kroner (around $8.7 million in 1989)',\n",
       " 'N/A',\n",
       " '$35-40 million',\n",
       " '$25 million',\n",
       " '$15 million',\n",
       " '$40 million',\n",
       " '$14 million',\n",
       " '$28 million',\n",
       " '$12 million',\n",
       " 'N/A',\n",
       " 'N/A',\n",
       " '$6.5 million',\n",
       " '$28 million',\n",
       " '$17 million',\n",
       " '$30 million',\n",
       " 'N/A',\n",
       " '$13 million',\n",
       " 'N/A',\n",
       " 'N/A',\n",
       " '$45 million',\n",
       " '$31 million',\n",
       " 'N/A',\n",
       " '$22 million',\n",
       " '$30 million',\n",
       " 'N/A',\n",
       " '$22 million',\n",
       " ['$32 million', '(estimated)'],\n",
       " 'N/A',\n",
       " '$55 million',\n",
       " '$24 million',\n",
       " '$15 million',\n",
       " '$12 million',\n",
       " 'N/A',\n",
       " '$30 million',\n",
       " 'N/A',\n",
       " '$31 million',\n",
       " 'N/A',\n",
       " '$38 million',\n",
       " '$100 million',\n",
       " '$15 million',\n",
       " 'N/A',\n",
       " '$75 million',\n",
       " 'N/A',\n",
       " '$32 million',\n",
       " '$85 million',\n",
       " '$55 million',\n",
       " '$3 million',\n",
       " '$16 million',\n",
       " '$80 million',\n",
       " '$30 million',\n",
       " '$24 million',\n",
       " '$90 million',\n",
       " '$15 million',\n",
       " '$30 million',\n",
       " '$120 million',\n",
       " '$90 million',\n",
       " '$65 million',\n",
       " '$5 million',\n",
       " 'N/A',\n",
       " '$130 million',\n",
       " '$90 million',\n",
       " '$10 million',\n",
       " '$90 million',\n",
       " '$80–$85 million',\n",
       " '$15 million –$30 million',\n",
       " '$127.5 million',\n",
       " '$65 million',\n",
       " '$30 million',\n",
       " '$85 million',\n",
       " '$100 million',\n",
       " '$23 million',\n",
       " '$90–120 million',\n",
       " '$26 million',\n",
       " '$25 million',\n",
       " '$115 million',\n",
       " '$33 million',\n",
       " '$20 million',\n",
       " '$22 million',\n",
       " '$80 million',\n",
       " '$35 million',\n",
       " ['($15–19.2 million)'],\n",
       " '$15 million',\n",
       " '$65 million',\n",
       " '$140 million',\n",
       " '$20 million',\n",
       " '$46 million',\n",
       " '$13 million',\n",
       " '$20 million',\n",
       " '$17 million',\n",
       " '$94 million',\n",
       " '$140 million',\n",
       " '$26 million',\n",
       " '$46 million',\n",
       " '$90 million',\n",
       " 'N/A',\n",
       " '$10 million',\n",
       " '$28 million',\n",
       " '$15 million',\n",
       " '$110 million',\n",
       " 'N/A',\n",
       " '$110 million',\n",
       " 'N/A',\n",
       " '$45 million',\n",
       " '$92 million',\n",
       " '$100 million',\n",
       " 'N/A',\n",
       " '$20 million',\n",
       " '$56 million',\n",
       " '$25 million',\n",
       " '$50 million',\n",
       " ['¥', '2.4 billion', 'US$24 million'],\n",
       " '$35 million',\n",
       " '$35 million',\n",
       " '$25 million',\n",
       " '$150 million',\n",
       " '$180 million',\n",
       " '$30 million',\n",
       " '$1 million',\n",
       " '$40 million',\n",
       " '$50 million',\n",
       " '$80 million',\n",
       " '$120 million',\n",
       " '$225 million',\n",
       " '$30 million',\n",
       " '$18 million',\n",
       " '$12 million',\n",
       " '$20–25 million',\n",
       " 'N/A',\n",
       " '$300 million',\n",
       " '$150 million',\n",
       " '$25 million',\n",
       " 'N/A',\n",
       " '$22 million',\n",
       " '$85 million',\n",
       " '$130 million',\n",
       " '$7 million',\n",
       " '$25 million',\n",
       " '$225 million',\n",
       " '$180 million',\n",
       " '$20 million',\n",
       " 'N/A',\n",
       " '$11 million',\n",
       " '$150 million',\n",
       " '$80 million',\n",
       " 'N/A',\n",
       " '$50 million',\n",
       " '$30 million',\n",
       " '$47 million',\n",
       " '$175 million',\n",
       " 'N/A',\n",
       " '$150 million',\n",
       " ['¥', '3.4 billion', '(', 'US$', '34 million)'],\n",
       " 'N/A',\n",
       " '$8 million ( ₽ 350 million)',\n",
       " '$175-200 million',\n",
       " '$35 million',\n",
       " '$105 million',\n",
       " '$150 –$200 million',\n",
       " '$80 million',\n",
       " '$150  million',\n",
       " '$200 million',\n",
       " '$150 million',\n",
       " '$22 million',\n",
       " 'N/A',\n",
       " '$35 million',\n",
       " 'N/A',\n",
       " '$260 million',\n",
       " 'N/A',\n",
       " '$170-200 million',\n",
       " '(US$3.8 million)',\n",
       " 'N/A',\n",
       " '$150 million',\n",
       " 'N/A',\n",
       " '$5 million',\n",
       " '$8 million',\n",
       " ['$410.6 million (gross)', '$378.5 million (net)'],\n",
       " '$200 million',\n",
       " '$30 million',\n",
       " '$45 million',\n",
       " '$23 million',\n",
       " ['$306.6 million (gross)', '$263.7 million (net)'],\n",
       " '$5 million',\n",
       " 'N/A',\n",
       " '$185 million',\n",
       " '$25 million',\n",
       " '$39 million',\n",
       " '$165 million',\n",
       " '$200–215 million',\n",
       " 'N/A',\n",
       " '$200 million',\n",
       " '$225–250 million',\n",
       " '$50 million',\n",
       " '$150 million',\n",
       " '$35 million',\n",
       " '$51 million',\n",
       " '$5 million',\n",
       " '$25 million',\n",
       " '$180–263 million',\n",
       " '$50 million',\n",
       " '(US$3.2 million)',\n",
       " '$28 million',\n",
       " '$165 million',\n",
       " '$50 million',\n",
       " '$25 million',\n",
       " '$95–100 million',\n",
       " '$5–10 million',\n",
       " '$180–190 million',\n",
       " '$175 million',\n",
       " '',\n",
       " '$175 million',\n",
       " '$70–80 million',\n",
       " '$150 million',\n",
       " '$175–177 million',\n",
       " 'N/A',\n",
       " '$170 million',\n",
       " '$175–200 million',\n",
       " '$140 million',\n",
       " '$65 million',\n",
       " '$15 million',\n",
       " '$150–175 million',\n",
       " '70 crore',\n",
       " '$8 million',\n",
       " '$160–255 million',\n",
       " '$5–10 million',\n",
       " '$230–320 million',\n",
       " '$175 million',\n",
       " 'N/A',\n",
       " ['1.31\\xa0billion'],\n",
       " '$175 million',\n",
       " '$100–130 million',\n",
       " '$200 million',\n",
       " '$75 million',\n",
       " '$120–133 million',\n",
       " '$175 million',\n",
       " '$130 million',\n",
       " '$170 million',\n",
       " 'N/A',\n",
       " '$183 million',\n",
       " '$200 million',\n",
       " '$250–260 million',\n",
       " '$185 million',\n",
       " '$60 million',\n",
       " 'N/A',\n",
       " '$150 million',\n",
       " '$40 million',\n",
       " '$42 million',\n",
       " '$175–200 million',\n",
       " 'N/A',\n",
       " 'N/A',\n",
       " 'N/A',\n",
       " '$125 million',\n",
       " '$12.5 million (stage production)',\n",
       " 'N/A',\n",
       " '$24 million',\n",
       " 'N/A',\n",
       " '$200 million',\n",
       " 'N/A',\n",
       " '$150 million+',\n",
       " 'N/A',\n",
       " 'N/A',\n",
       " 'N/A',\n",
       " 'N/A']"
      ]
     },
     "execution_count": 20,
     "metadata": {},
     "output_type": "execute_result"
    }
   ],
   "source": [
    "[movie.get('Budget', 'N/A') for movie in movie_info_list]"
   ]
  },
  {
   "cell_type": "code",
   "execution_count": 21,
   "metadata": {
    "ExecuteTime": {
     "end_time": "2020-10-30T05:32:22.430048Z",
     "start_time": "2020-10-30T05:32:22.417114Z"
    },
    "code_folding": [
     9,
     13,
     20,
     25
    ]
   },
   "outputs": [],
   "source": [
    "import re\n",
    "\n",
    "# this is the regex syntax. important to learn\n",
    "amounts = r\"thousand|million|billion\"\n",
    "number = r\"\\d+(,\\d{3})*\\.*\\d*\"\n",
    "\n",
    "word_re = rf\"\\${number}(-|\\sto\\s|–)?({number})?\\s({amounts})\"\n",
    "value_re = rf\"\\${number}\"\n",
    "\n",
    "def word_to_value(word):\n",
    "    value_dict ={\"thousand\":1000, \"million\":1000000, \"billion\":1000000000}\n",
    "    return value_dict[word]\n",
    "\n",
    "def parse_word_syntax(string):\n",
    "    value_string = re.search(number,string).group()\n",
    "    value = float(value_string.replace(\",\", \"\"))\n",
    "    word = re.search(amounts, string, flags = re.I).group().lower()\n",
    "    word_value = word_to_value(word)\n",
    "    return value * word_value\n",
    "    \n",
    "def parse_value_syntax(string):\n",
    "    value_string = re.search(number, string).group()\n",
    "    value = float(value_string.replace(\",\", \"\"))\n",
    "    return value\n",
    "\n",
    "def money_conversion(money):\n",
    "    \n",
    "    if money == \"N/A\":\n",
    "        return None\n",
    "    \n",
    "    if isinstance(money,list):\n",
    "        money = money[0]\n",
    "\n",
    "    word_syntax = re.search(word_re,money, flags = re.I)\n",
    "    value_syntax = re.search(value_re,money)\n",
    "    \n",
    "    if word_syntax:\n",
    "        return parse_word_syntax(word_syntax.group()) \n",
    "        \n",
    "    elif value_syntax:\n",
    "        return parse_value_syntax(value_syntax.group())\n",
    "    \n",
    "    else:\n",
    "        return None\n",
    "        "
   ]
  },
  {
   "cell_type": "code",
   "execution_count": 22,
   "metadata": {
    "ExecuteTime": {
     "end_time": "2020-10-30T05:32:22.446004Z",
     "start_time": "2020-10-30T05:32:22.432041Z"
    }
   },
   "outputs": [],
   "source": [
    "for movie in movie_info_list:\n",
    "    movie['Budget (float)'] = money_conversion(movie.get('Budget', \"N/A\"))\n",
    "    movie['Box office (float)'] = money_conversion(movie.get('Box office', \"N/A\"))"
   ]
  },
  {
   "cell_type": "code",
   "execution_count": null,
   "metadata": {},
   "outputs": [],
   "source": []
  },
  {
   "cell_type": "markdown",
   "metadata": {},
   "source": [
    "# Task4: Convert dates into datetime object"
   ]
  },
  {
   "cell_type": "code",
   "execution_count": null,
   "metadata": {},
   "outputs": [],
   "source": [
    "# June 28, 1950"
   ]
  },
  {
   "cell_type": "code",
   "execution_count": 25,
   "metadata": {
    "ExecuteTime": {
     "end_time": "2020-10-30T05:46:39.216187Z",
     "start_time": "2020-10-30T05:46:39.198235Z"
    }
   },
   "outputs": [],
   "source": [
    "from datetime import datetime"
   ]
  },
  {
   "cell_type": "code",
   "execution_count": 30,
   "metadata": {
    "ExecuteTime": {
     "end_time": "2020-10-30T05:56:37.250372Z",
     "start_time": "2020-10-30T05:56:37.224476Z"
    },
    "code_folding": [
     5
    ]
   },
   "outputs": [],
   "source": [
    "dates = [movie.get('Release date','N/A') for movie in movie_info_list ]\n",
    "\n",
    "def clean_date(date):\n",
    "    return date.split(\"(\")[0].strip()\n",
    "\n",
    "def date_conversion(date):\n",
    "    if isinstance(date, list):\n",
    "        date = date[0]\n",
    "    \n",
    "    if date == \"N/A\":\n",
    "        return None\n",
    "    \n",
    "    date_str = clean_date(date)\n",
    "    \n",
    "    fmts = [\"%B %d, %Y\", \"%d %B %Y\" ]\n",
    "    for fmt in fmts:\n",
    "        try:\n",
    "            return datetime.strptime(date_str,fmt)\n",
    "        except:\n",
    "            pass\n",
    "    \n",
    "    return None\n",
    "\n",
    "for movie in movie_info_list:\n",
    "    movie['Release date (datetime)'] = date_conversion(movie.get('Release date','N/A'))"
   ]
  },
  {
   "cell_type": "code",
   "execution_count": 31,
   "metadata": {
    "ExecuteTime": {
     "end_time": "2020-10-30T05:56:46.492987Z",
     "start_time": "2020-10-30T05:56:46.474085Z"
    }
   },
   "outputs": [
    {
     "data": {
      "text/plain": [
       "{'title': 'Beauty and the Beast',\n",
       " 'Directed by': 'Bill Condon',\n",
       " 'Produced by': ['David Hoberman', 'Todd Lieberman'],\n",
       " 'Screenplay by': ['Stephen Chbosky', 'Evan Spiliotopoulos'],\n",
       " 'Based on': [\"Disney 's Beauty and the Beast by Linda Woolverton\",\n",
       "  'Beauty and the Beast by Jeanne-Marie Leprince de Beaumont'],\n",
       " 'Starring': ['Emma Watson',\n",
       "  'Dan Stevens',\n",
       "  'Luke Evans',\n",
       "  'Kevin Kline',\n",
       "  'Josh Gad',\n",
       "  'Ewan McGregor',\n",
       "  'Stanley Tucci',\n",
       "  'Audra McDonald',\n",
       "  'Gugu Mbatha-Raw',\n",
       "  'Ian McKellen',\n",
       "  'Emma Thompson'],\n",
       " 'Music by': 'Alan Menken',\n",
       " 'Cinematography': 'Tobias A. Schliessler',\n",
       " 'Edited by': 'Virginia Katz',\n",
       " 'Production company': ['Walt Disney Pictures', 'Mandeville Films'],\n",
       " 'Distributed by': ['Walt Disney Studios', 'Motion Pictures'],\n",
       " 'Release date': ['February 23, 2017 ( Spencer House )',\n",
       "  'March 17, 2017 (United States)'],\n",
       " 'Running time': '129 minutes',\n",
       " 'Country': 'United States',\n",
       " 'Language': 'English',\n",
       " 'Budget': '$160–255 million',\n",
       " 'Box office': '$1.264 billion',\n",
       " 'Running time (int)': 129,\n",
       " 'Budget (float)': 160000000.0,\n",
       " 'Box office (float)': 1264000000.0,\n",
       " 'Release date (datetime)': datetime.datetime(2017, 2, 23, 0, 0)}"
      ]
     },
     "execution_count": 31,
     "metadata": {},
     "output_type": "execute_result"
    }
   ],
   "source": [
    "movie_info_list[-40]"
   ]
  },
  {
   "cell_type": "markdown",
   "metadata": {},
   "source": [
    "# Task 5 saving again"
   ]
  },
  {
   "cell_type": "code",
   "execution_count": 35,
   "metadata": {
    "ExecuteTime": {
     "end_time": "2020-10-30T06:02:16.033329Z",
     "start_time": "2020-10-30T06:02:16.028341Z"
    }
   },
   "outputs": [],
   "source": [
    "import pickle\n",
    "\n",
    "def save_data_pickle(name, data):\n",
    "    with open(name,'wb') as f:\n",
    "        pickle.dump(data, f)\n"
   ]
  },
  {
   "cell_type": "code",
   "execution_count": 36,
   "metadata": {
    "ExecuteTime": {
     "end_time": "2020-10-30T06:02:16.464422Z",
     "start_time": "2020-10-30T06:02:16.455439Z"
    }
   },
   "outputs": [],
   "source": [
    "import pickle\n",
    "\n",
    "def load_data_pickle(name):\n",
    "    with open(name,'rb') as f:\n",
    "        return pickle.load(f)"
   ]
  },
  {
   "cell_type": "code",
   "execution_count": 37,
   "metadata": {
    "ExecuteTime": {
     "end_time": "2020-10-30T06:02:16.838364Z",
     "start_time": "2020-10-30T06:02:16.814221Z"
    }
   },
   "outputs": [],
   "source": [
    "save_data_pickle(\"disney_movie_data_cleaned_more.pickle\", movie_info_list)"
   ]
  },
  {
   "cell_type": "code",
   "execution_count": 38,
   "metadata": {
    "ExecuteTime": {
     "end_time": "2020-10-30T06:02:40.730867Z",
     "start_time": "2020-10-30T06:02:40.720894Z"
    }
   },
   "outputs": [],
   "source": [
    "a = load_data_pickle(\"disney_movie_data_cleaned_more.pickle\")"
   ]
  },
  {
   "cell_type": "code",
   "execution_count": 39,
   "metadata": {
    "ExecuteTime": {
     "end_time": "2020-10-30T06:02:44.487038Z",
     "start_time": "2020-10-30T06:02:44.471081Z"
    }
   },
   "outputs": [
    {
     "data": {
      "text/plain": [
       "{'title': 'Dumbo',\n",
       " 'Directed by': ['Supervising director:',\n",
       "  'Ben Sharpsteen',\n",
       "  'Sequence directors:',\n",
       "  'Norman Ferguson',\n",
       "  'Wilfred Jackson',\n",
       "  'Bill Roberts',\n",
       "  'Jack Kinney',\n",
       "  'Samuel Armstrong'],\n",
       " 'Produced by': 'Walt Disney',\n",
       " 'Story by': ['Otto Englander', 'Joe Grant', 'Dick Huemer'],\n",
       " 'Based on': ['Dumbo, the Flying Elephant',\n",
       "  'by',\n",
       "  'Helen Aberson',\n",
       "  'Harold Pearl'],\n",
       " 'Starring': ['Edward Brophy',\n",
       "  'Herman Bing',\n",
       "  'Margaret Wright',\n",
       "  'Sterling Holloway',\n",
       "  'Verna Felton',\n",
       "  'Cliff Edwards',\n",
       "  'James Baskett',\n",
       "  'Nick Stewart',\n",
       "  'Hall Johnson',\n",
       "  'Jim Carmichael'],\n",
       " 'Narrated by': 'John McLeish',\n",
       " 'Music by': ['Frank Churchill', 'Oliver Wallace'],\n",
       " 'Production company': 'Walt Disney Productions',\n",
       " 'Distributed by': 'RKO Radio Pictures',\n",
       " 'Release date': ['October 23, 1941 (New York City)',\n",
       "  'October 31, 1941 (U.S.)'],\n",
       " 'Running time': '64 minutes',\n",
       " 'Country': 'United States',\n",
       " 'Language': 'English',\n",
       " 'Budget': '$950,000',\n",
       " 'Box office': '$1.3 million (est. United States/Canada rentals, 1941)',\n",
       " 'Running time (int)': 64,\n",
       " 'Budget (float)': 950000.0,\n",
       " 'Box office (float)': 1300000.0,\n",
       " 'Release date (datetime)': datetime.datetime(1941, 10, 23, 0, 0)}"
      ]
     },
     "execution_count": 39,
     "metadata": {},
     "output_type": "execute_result"
    }
   ],
   "source": [
    "a[5]"
   ]
  },
  {
   "cell_type": "code",
   "execution_count": null,
   "metadata": {},
   "outputs": [],
   "source": []
  },
  {
   "cell_type": "markdown",
   "metadata": {},
   "source": [
    "# Task 6 attach IMDB/Rotten tomatoes socre"
   ]
  },
  {
   "cell_type": "code",
   "execution_count": 40,
   "metadata": {
    "ExecuteTime": {
     "end_time": "2020-10-30T06:04:10.393993Z",
     "start_time": "2020-10-30T06:04:10.380460Z"
    }
   },
   "outputs": [],
   "source": [
    "movie_info_list = load_data_pickle(\"disney_movie_data_cleaned_more.pickle\")"
   ]
  },
  {
   "cell_type": "code",
   "execution_count": 42,
   "metadata": {
    "ExecuteTime": {
     "end_time": "2020-10-30T06:12:09.223385Z",
     "start_time": "2020-10-30T06:12:09.211417Z"
    }
   },
   "outputs": [],
   "source": [
    "yourkey = '86268b8b'"
   ]
  },
  {
   "cell_type": "code",
   "execution_count": null,
   "metadata": {},
   "outputs": [],
   "source": [
    "/?apikey=[yourkey]&"
   ]
  },
  {
   "cell_type": "code",
   "execution_count": 58,
   "metadata": {
    "ExecuteTime": {
     "end_time": "2020-10-30T07:39:56.426180Z",
     "start_time": "2020-10-30T07:39:56.412185Z"
    }
   },
   "outputs": [],
   "source": [
    "import requests\n",
    "import urllib\n",
    "import os\n",
    "\n",
    "def get_omdb_info(title):\n",
    "    base_url = \"http://www.omdbapi.com/?\"\n",
    "    parameters = {\"apikey\": yourkey, 't':title}\n",
    "    params_encoded = urllib.parse.urlencode(parameters)\n",
    "    full_url = base_url + params_encoded\n",
    "    #print(full_url)\n",
    "    return requests.get(full_url).json()\n",
    "\n",
    "def get_rotten_tomato_score(omdb_info):\n",
    "    ratings = omdb_info.get('Ratings', [])\n",
    "    for rating in ratings:\n",
    "        if rating['Source'] == 'Rotten Tomatoes':\n",
    "            return rating['Value']\n",
    "    return None\n",
    "\n",
    "\n",
    "\n",
    "        "
   ]
  },
  {
   "cell_type": "code",
   "execution_count": 59,
   "metadata": {
    "ExecuteTime": {
     "end_time": "2020-10-30T07:43:31.704349Z",
     "start_time": "2020-10-30T07:39:57.050829Z"
    }
   },
   "outputs": [],
   "source": [
    "for movie in movie_info_list:\n",
    "    title = movie['title']\n",
    "    omdb_info = get_omdb_info(title)\n",
    "    movie['imdb'] = omdb_info.get('imdbRating',None)\n",
    "    movie['metascore'] = omdb_info.get('Metascore',None)\n",
    "    movie['rotten_tomatoes'] = get_rotten_tomato_score(omdb_info)"
   ]
  },
  {
   "cell_type": "code",
   "execution_count": 60,
   "metadata": {
    "ExecuteTime": {
     "end_time": "2020-10-30T07:43:31.720131Z",
     "start_time": "2020-10-30T07:43:31.708197Z"
    }
   },
   "outputs": [
    {
     "data": {
      "text/plain": [
       "{'title': 'The North Avenue Irregulars',\n",
       " 'Directed by': 'Bruce Bilson',\n",
       " 'Produced by': 'Ron Miller',\n",
       " 'Written by': 'Don Tait',\n",
       " 'Starring': ['Edward Herrmann',\n",
       "  'Barbara Harris',\n",
       "  'Susan Clark',\n",
       "  'Karen Valentine',\n",
       "  'Michael Constantine',\n",
       "  'Cloris Leachman',\n",
       "  'Steve Franken',\n",
       "  'Patsy Kelly',\n",
       "  'Douglas Fowley',\n",
       "  'Virginia Capers',\n",
       "  'Melora Hardin',\n",
       "  'Alan Hale, Jr.',\n",
       "  'Ruth Buzzi'],\n",
       " 'Music by': ['Richard Bowden', 'Robert F. Brunner'],\n",
       " 'Cinematography': 'Leonard J. South',\n",
       " 'Edited by': 'Gordon D. Brenner',\n",
       " 'Production company': 'Walt Disney Productions',\n",
       " 'Distributed by': 'Buena Vista Distribution',\n",
       " 'Release date': 'February 9, 1979',\n",
       " 'Running time': '100 minutes',\n",
       " 'Country': 'United States',\n",
       " 'Language': 'English',\n",
       " 'Running time (int)': 100,\n",
       " 'Budget (float)': None,\n",
       " 'Box office (float)': None,\n",
       " 'Release date (datetime)': datetime.datetime(1979, 2, 9, 0, 0),\n",
       " 'imdb': '6.8',\n",
       " 'metascore': 'N/A',\n",
       " 'rotten_tomatoes': '78%'}"
      ]
     },
     "execution_count": 60,
     "metadata": {},
     "output_type": "execute_result"
    }
   ],
   "source": [
    "movie_info_list[138]"
   ]
  },
  {
   "cell_type": "markdown",
   "metadata": {},
   "source": [
    "# Save"
   ]
  },
  {
   "cell_type": "code",
   "execution_count": 61,
   "metadata": {
    "ExecuteTime": {
     "end_time": "2020-10-30T07:44:22.504623Z",
     "start_time": "2020-10-30T07:44:22.492659Z"
    }
   },
   "outputs": [],
   "source": [
    "save_data_pickle('disney_movie_data_final_pickle', movie_info_list)"
   ]
  },
  {
   "cell_type": "code",
   "execution_count": 62,
   "metadata": {
    "ExecuteTime": {
     "end_time": "2020-10-30T07:46:51.156899Z",
     "start_time": "2020-10-30T07:46:51.151938Z"
    }
   },
   "outputs": [],
   "source": [
    "movie_info_copy = [movie.copy() for movie in movie_info_list]"
   ]
  },
  {
   "cell_type": "code",
   "execution_count": 63,
   "metadata": {
    "ExecuteTime": {
     "end_time": "2020-10-30T07:48:34.926154Z",
     "start_time": "2020-10-30T07:48:34.916175Z"
    }
   },
   "outputs": [],
   "source": [
    "for movie in movie_info_copy:\n",
    "    current_date = movie['Release date (datetime)']\n",
    "    if current_date:\n",
    "        movie['Release date (datetime)'] = current_date.strftime(\"%B %d, %Y\")\n",
    "    else:\n",
    "        movie['Release date (datetime)'] = None"
   ]
  },
  {
   "cell_type": "code",
   "execution_count": 64,
   "metadata": {
    "ExecuteTime": {
     "end_time": "2020-10-30T07:49:27.760677Z",
     "start_time": "2020-10-30T07:49:27.714820Z"
    }
   },
   "outputs": [],
   "source": [
    "save_data('disney_data_final.json', movie_info_copy)"
   ]
  },
  {
   "cell_type": "code",
   "execution_count": 65,
   "metadata": {
    "ExecuteTime": {
     "end_time": "2020-10-30T07:50:55.008168Z",
     "start_time": "2020-10-30T07:50:54.994206Z"
    }
   },
   "outputs": [],
   "source": [
    "import pandas as pd\n",
    "df = pd.DataFrame(movie_info_list)\n"
   ]
  },
  {
   "cell_type": "code",
   "execution_count": 66,
   "metadata": {
    "ExecuteTime": {
     "end_time": "2020-10-30T07:50:59.027816Z",
     "start_time": "2020-10-30T07:50:58.997392Z"
    }
   },
   "outputs": [
    {
     "data": {
      "text/html": [
       "<div>\n",
       "<style scoped>\n",
       "    .dataframe tbody tr th:only-of-type {\n",
       "        vertical-align: middle;\n",
       "    }\n",
       "\n",
       "    .dataframe tbody tr th {\n",
       "        vertical-align: top;\n",
       "    }\n",
       "\n",
       "    .dataframe thead th {\n",
       "        text-align: right;\n",
       "    }\n",
       "</style>\n",
       "<table border=\"1\" class=\"dataframe\">\n",
       "  <thead>\n",
       "    <tr style=\"text-align: right;\">\n",
       "      <th></th>\n",
       "      <th>title</th>\n",
       "      <th>Production company</th>\n",
       "      <th>Release date</th>\n",
       "      <th>Running time</th>\n",
       "      <th>Country</th>\n",
       "      <th>Language</th>\n",
       "      <th>Box office</th>\n",
       "      <th>Running time (int)</th>\n",
       "      <th>Budget (float)</th>\n",
       "      <th>Box office (float)</th>\n",
       "      <th>...</th>\n",
       "      <th>Cinematography</th>\n",
       "      <th>Edited by</th>\n",
       "      <th>Screenplay by</th>\n",
       "      <th>Production companies</th>\n",
       "      <th>Japanese</th>\n",
       "      <th>Hepburn</th>\n",
       "      <th>Adaptation by</th>\n",
       "      <th>Animation by</th>\n",
       "      <th>Traditional</th>\n",
       "      <th>Simplified</th>\n",
       "    </tr>\n",
       "  </thead>\n",
       "  <tbody>\n",
       "    <tr>\n",
       "      <td>0</td>\n",
       "      <td>Academy Award Review of</td>\n",
       "      <td>Walt Disney Productions</td>\n",
       "      <td>[May 19, 1937]</td>\n",
       "      <td>41 minutes (74 minutes 1966 release)</td>\n",
       "      <td>United States</td>\n",
       "      <td>English</td>\n",
       "      <td>$45.472</td>\n",
       "      <td>41.0</td>\n",
       "      <td>NaN</td>\n",
       "      <td>4.547200e+01</td>\n",
       "      <td>...</td>\n",
       "      <td>NaN</td>\n",
       "      <td>NaN</td>\n",
       "      <td>NaN</td>\n",
       "      <td>NaN</td>\n",
       "      <td>NaN</td>\n",
       "      <td>NaN</td>\n",
       "      <td>NaN</td>\n",
       "      <td>NaN</td>\n",
       "      <td>NaN</td>\n",
       "      <td>NaN</td>\n",
       "    </tr>\n",
       "    <tr>\n",
       "      <td>1</td>\n",
       "      <td>Snow White and the Seven Dwarfs</td>\n",
       "      <td>Walt Disney Productions</td>\n",
       "      <td>[December 21, 1937 ( Carthay Circle Theatre , ...</td>\n",
       "      <td>83 minutes</td>\n",
       "      <td>United States</td>\n",
       "      <td>English</td>\n",
       "      <td>$418 million</td>\n",
       "      <td>83.0</td>\n",
       "      <td>1490000.0</td>\n",
       "      <td>4.180000e+08</td>\n",
       "      <td>...</td>\n",
       "      <td>NaN</td>\n",
       "      <td>NaN</td>\n",
       "      <td>NaN</td>\n",
       "      <td>NaN</td>\n",
       "      <td>NaN</td>\n",
       "      <td>NaN</td>\n",
       "      <td>NaN</td>\n",
       "      <td>NaN</td>\n",
       "      <td>NaN</td>\n",
       "      <td>NaN</td>\n",
       "    </tr>\n",
       "    <tr>\n",
       "      <td>2</td>\n",
       "      <td>Pinocchio</td>\n",
       "      <td>Walt Disney Productions</td>\n",
       "      <td>[February 7, 1940 ( Center Theatre ), February...</td>\n",
       "      <td>88 minutes</td>\n",
       "      <td>United States</td>\n",
       "      <td>English</td>\n",
       "      <td>$164 million</td>\n",
       "      <td>88.0</td>\n",
       "      <td>2600000.0</td>\n",
       "      <td>1.640000e+08</td>\n",
       "      <td>...</td>\n",
       "      <td>NaN</td>\n",
       "      <td>NaN</td>\n",
       "      <td>NaN</td>\n",
       "      <td>NaN</td>\n",
       "      <td>NaN</td>\n",
       "      <td>NaN</td>\n",
       "      <td>NaN</td>\n",
       "      <td>NaN</td>\n",
       "      <td>NaN</td>\n",
       "      <td>NaN</td>\n",
       "    </tr>\n",
       "    <tr>\n",
       "      <td>3</td>\n",
       "      <td>Fantasia</td>\n",
       "      <td>Walt Disney Productions</td>\n",
       "      <td>[November 13, 1940]</td>\n",
       "      <td>126 minutes</td>\n",
       "      <td>United States</td>\n",
       "      <td>English</td>\n",
       "      <td>$76.4–$83.3 million</td>\n",
       "      <td>126.0</td>\n",
       "      <td>2280000.0</td>\n",
       "      <td>8.330000e+07</td>\n",
       "      <td>...</td>\n",
       "      <td>James Wong Howe</td>\n",
       "      <td>NaN</td>\n",
       "      <td>NaN</td>\n",
       "      <td>NaN</td>\n",
       "      <td>NaN</td>\n",
       "      <td>NaN</td>\n",
       "      <td>NaN</td>\n",
       "      <td>NaN</td>\n",
       "      <td>NaN</td>\n",
       "      <td>NaN</td>\n",
       "    </tr>\n",
       "    <tr>\n",
       "      <td>4</td>\n",
       "      <td>The Reluctant Dragon</td>\n",
       "      <td>Walt Disney Productions</td>\n",
       "      <td>[June 20, 1941]</td>\n",
       "      <td>74 minutes</td>\n",
       "      <td>United States</td>\n",
       "      <td>English</td>\n",
       "      <td>$960,000 (worldwide rentals)</td>\n",
       "      <td>74.0</td>\n",
       "      <td>600000.0</td>\n",
       "      <td>9.600000e+05</td>\n",
       "      <td>...</td>\n",
       "      <td>Bert Giennon</td>\n",
       "      <td>Paul Weatherwax</td>\n",
       "      <td>NaN</td>\n",
       "      <td>NaN</td>\n",
       "      <td>NaN</td>\n",
       "      <td>NaN</td>\n",
       "      <td>NaN</td>\n",
       "      <td>NaN</td>\n",
       "      <td>NaN</td>\n",
       "      <td>NaN</td>\n",
       "    </tr>\n",
       "  </tbody>\n",
       "</table>\n",
       "<p>5 rows × 34 columns</p>\n",
       "</div>"
      ],
      "text/plain": [
       "                             title       Production company  \\\n",
       "0         Academy Award Review of   Walt Disney Productions   \n",
       "1  Snow White and the Seven Dwarfs  Walt Disney Productions   \n",
       "2                        Pinocchio  Walt Disney Productions   \n",
       "3                         Fantasia  Walt Disney Productions   \n",
       "4             The Reluctant Dragon  Walt Disney Productions   \n",
       "\n",
       "                                        Release date  \\\n",
       "0                                     [May 19, 1937]   \n",
       "1  [December 21, 1937 ( Carthay Circle Theatre , ...   \n",
       "2  [February 7, 1940 ( Center Theatre ), February...   \n",
       "3                                [November 13, 1940]   \n",
       "4                                    [June 20, 1941]   \n",
       "\n",
       "                           Running time        Country Language  \\\n",
       "0  41 minutes (74 minutes 1966 release)  United States  English   \n",
       "1                            83 minutes  United States  English   \n",
       "2                            88 minutes  United States  English   \n",
       "3                           126 minutes  United States  English   \n",
       "4                            74 minutes  United States  English   \n",
       "\n",
       "                     Box office  Running time (int)  Budget (float)  \\\n",
       "0                       $45.472                41.0             NaN   \n",
       "1                  $418 million                83.0       1490000.0   \n",
       "2                  $164 million                88.0       2600000.0   \n",
       "3           $76.4–$83.3 million               126.0       2280000.0   \n",
       "4  $960,000 (worldwide rentals)                74.0        600000.0   \n",
       "\n",
       "   Box office (float)  ...   Cinematography        Edited by Screenplay by  \\\n",
       "0        4.547200e+01  ...              NaN              NaN           NaN   \n",
       "1        4.180000e+08  ...              NaN              NaN           NaN   \n",
       "2        1.640000e+08  ...              NaN              NaN           NaN   \n",
       "3        8.330000e+07  ...  James Wong Howe              NaN           NaN   \n",
       "4        9.600000e+05  ...     Bert Giennon  Paul Weatherwax           NaN   \n",
       "\n",
       "  Production companies Japanese Hepburn Adaptation by Animation by  \\\n",
       "0                  NaN      NaN     NaN           NaN          NaN   \n",
       "1                  NaN      NaN     NaN           NaN          NaN   \n",
       "2                  NaN      NaN     NaN           NaN          NaN   \n",
       "3                  NaN      NaN     NaN           NaN          NaN   \n",
       "4                  NaN      NaN     NaN           NaN          NaN   \n",
       "\n",
       "  Traditional Simplified  \n",
       "0         NaN        NaN  \n",
       "1         NaN        NaN  \n",
       "2         NaN        NaN  \n",
       "3         NaN        NaN  \n",
       "4         NaN        NaN  \n",
       "\n",
       "[5 rows x 34 columns]"
      ]
     },
     "execution_count": 66,
     "metadata": {},
     "output_type": "execute_result"
    }
   ],
   "source": [
    "df.head()"
   ]
  },
  {
   "cell_type": "code",
   "execution_count": 67,
   "metadata": {
    "ExecuteTime": {
     "end_time": "2020-10-30T07:51:38.374698Z",
     "start_time": "2020-10-30T07:51:38.350773Z"
    }
   },
   "outputs": [],
   "source": [
    "df.to_csv('disney_movie_data_final.csv')"
   ]
  },
  {
   "cell_type": "code",
   "execution_count": null,
   "metadata": {},
   "outputs": [],
   "source": []
  },
  {
   "cell_type": "code",
   "execution_count": null,
   "metadata": {},
   "outputs": [],
   "source": []
  }
 ],
 "metadata": {
  "kernelspec": {
   "display_name": "Python 3",
   "language": "python",
   "name": "python3"
  },
  "language_info": {
   "codemirror_mode": {
    "name": "ipython",
    "version": 3
   },
   "file_extension": ".py",
   "mimetype": "text/x-python",
   "name": "python",
   "nbconvert_exporter": "python",
   "pygments_lexer": "ipython3",
   "version": "3.7.4"
  },
  "toc": {
   "base_numbering": 1,
   "nav_menu": {},
   "number_sections": true,
   "sideBar": true,
   "skip_h1_title": false,
   "title_cell": "Table of Contents",
   "title_sidebar": "Contents",
   "toc_cell": false,
   "toc_position": {
    "height": "calc(100% - 180px)",
    "left": "10px",
    "top": "150px",
    "width": "307.2px"
   },
   "toc_section_display": true,
   "toc_window_display": true
  }
 },
 "nbformat": 4,
 "nbformat_minor": 2
}
